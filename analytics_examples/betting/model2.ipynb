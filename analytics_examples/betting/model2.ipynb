{
 "cells": [
  {
   "cell_type": "code",
   "execution_count": 1,
   "metadata": {},
   "outputs": [],
   "source": [
    "import sys\n",
    "sys.path.insert(0, '../..')\n",
    "\n",
    "from IPython.display import clear_output\n",
    "import numpy as np\n",
    "import pandas as pd\n",
    "import ScraperFC as sfc\n",
    "from sklearn.model_selection import train_test_split\n",
    "import traceback\n",
    "from xgboost.sklearn import XGBRegressor, XGBClassifier"
   ]
  },
  {
   "cell_type": "code",
   "execution_count": 2,
   "metadata": {},
   "outputs": [
    {
     "name": "stdout",
     "output_type": "stream",
     "text": [
      "FiveThirtyEight DF: (380, 23)\n",
      "Oddsportal DF: (380, 1524)\n",
      "Merged DF: (380, 1547)\n",
      "Final DF: (380, 1616)\n"
     ]
    }
   ],
   "source": [
    "# Load fivethirtyeight data\n",
    "scraper = sfc.FiveThirtyEight()\n",
    "try:\n",
    "    fte_df = pd.DataFrame()\n",
    "    years = [2022,]\n",
    "    for year in years:\n",
    "        temp = scraper.scrape_matches(year, 'EPL')\n",
    "        fte_df = pd.concat([fte_df, temp], axis=0, ignore_index=True)\n",
    "    clear_output()\n",
    "except:\n",
    "    traceback.print_exc()\n",
    "finally:\n",
    "    scraper.close()\n",
    "print('FiveThirtyEight DF:', fte_df.shape)\n",
    "\n",
    "# Load pre-scraped Oddsportal data\n",
    "odds_df = pd.DataFrame()\n",
    "filenames = ['epl_2022_odds.pkl']\n",
    "for filename in filenames:\n",
    "    t = pd.read_pickle(filename)\n",
    "    odds_df = pd.concat([odds_df, t], axis=0, ignore_index=True)\n",
    "print('Oddsportal DF:', odds_df.shape)\n",
    "\n",
    "# Convert date column to datetime objects\n",
    "fte_df['date'] = pd.to_datetime(fte_df['date'], format='%Y-%m-%d')\n",
    "\n",
    "# Drop kickoff times from Oddsportal date\n",
    "odds_df['Date'] = pd.DatetimeIndex(odds_df['Date']).normalize()\n",
    "\n",
    "# Remap FTE team names to match Oddsportal team names\n",
    "fte_to_odds_names = {\n",
    "    'Leicester City': 'Leicester',\n",
    "    'Brighton and Hove Albion': 'Brighton',\n",
    "    'Leeds United': 'Leeds',\n",
    "    'Manchester United': 'Manchester Utd',\n",
    "    'Norwich City': 'Norwich',\n",
    "    'Tottenham Hotspur': 'Tottenham',\n",
    "    'West Ham United': 'West Ham',\n",
    "    'Wolverhampton': 'Wolves',\n",
    "}\n",
    "fte_df = fte_df.replace({'team1': fte_to_odds_names, 'team2': fte_to_odds_names})\n",
    "assert np.all(np.sort(fte_df['team1'].unique()) == np.sort(odds_df['Team1'].unique()))\n",
    "\n",
    "# Merge dataframes\n",
    "df = pd.merge(fte_df, odds_df, left_on=['date','team1','team2'], right_on=['Date','Team1','Team2'])\n",
    "assert df.shape[0] == odds_df.shape[0]\n",
    "assert df.shape[0] == fte_df.shape[0]\n",
    "print('Merged DF:', df.shape)\n",
    "\n",
    "# De-fragment dataframe\n",
    "df = df.copy()\n",
    "\n",
    "# Input cols\n",
    "fte_input_cols = [\n",
    "    'prob1', 'prob2', 'probtie', # FTE probas\n",
    "    'proj_score1', 'proj_score2', # FTE projected scores\n",
    "    'spi1', 'spi2', # FTE SPI index\n",
    "    'importance1', 'importance2', # FTE match importance values\n",
    "]\n",
    "moneyline_odds_cols = [c for c in odds_df.columns if c.endswith(' 1') or c.endswith(' X') or c.endswith(' 2')]\n",
    "ou_odds_cols = [c for c in odds_df.columns if c.endswith(' over') or c.endswith(' under')]\n",
    "odds_input_cols = moneyline_odds_cols + ou_odds_cols\n",
    "input_cols = fte_input_cols + odds_input_cols\n",
    "\n",
    "# Target cols\n",
    "df['1'] = df['score1'] > df['score2']\n",
    "df['X'] = df['score1'] == df['score2']\n",
    "df['2'] = df['score2'] > df['score1']\n",
    "ou_goals = [c.split('+')[1].split(' ')[0] for c in odds_df.columns if c.endswith(' over') or c.endswith(' under')]\n",
    "ou_goals = np.unique(ou_goals)\n",
    "for ou in ou_goals:\n",
    "    df[f'+{ou} over'] = (df['score1']+df['score2']) > float(ou)\n",
    "    df[f'+{ou} under'] = (df['score1']+df['score2']) < float(ou)\n",
    "target_cols = ['1', 'X', '2'] + [f'+{ou} over' for ou in ou_goals] + [f'+{ou} under' for ou in ou_goals]\n",
    "df[target_cols] = df[target_cols].astype(int)\n",
    "print('Final DF:', df.shape)"
   ]
  },
  {
   "cell_type": "code",
   "execution_count": 3,
   "metadata": {},
   "outputs": [
    {
     "name": "stdout",
     "output_type": "stream",
     "text": [
      "Training (265, 1616)\n",
      "Validation (58, 1616)\n",
      "Test (57, 1616)\n"
     ]
    }
   ],
   "source": [
    "# Train-validation-test split\n",
    "random_state = 18\n",
    "train, valid, test = 0.7, 0.15, 0.15\n",
    "assert (train + valid + test) == 1\n",
    "train_valid_df, test_df = train_test_split(df, test_size=test, random_state=random_state)\n",
    "train_df, valid_df = train_test_split(train_valid_df, test_size=valid/(train+valid), random_state=random_state)\n",
    "print('Training', train_df.shape)\n",
    "print('Validation', valid_df.shape)\n",
    "print('Test', test_df.shape)"
   ]
  },
  {
   "cell_type": "code",
   "execution_count": 4,
   "metadata": {},
   "outputs": [],
   "source": [
    "# Train\n",
    "X = train_df[input_cols]\n",
    "y = train_df[target_cols]\n",
    "# xgb = XGBRegressor(tree_method='gpu_hist')\n",
    "xgb = XGBClassifier(tree_method='gpu_hist')\n",
    "xgb = xgb.fit(X, y)"
   ]
  },
  {
   "cell_type": "code",
   "execution_count": 5,
   "metadata": {},
   "outputs": [
    {
     "name": "stdout",
     "output_type": "stream",
     "text": [
      "1900 bets placed.\n",
      "1496 bets won.\n",
      "404 bets lost.\n"
     ]
    }
   ],
   "source": [
    "bet_thresh = 0.5\n",
    "\n",
    "if type(xgb) is XGBClassifier:\n",
    "    yhat = xgb.predict_proba(valid_df[input_cols])\n",
    "elif type(xgb) is XGBRegressor:\n",
    "    yhat = xgb.predict(valid_df[input_cols])\n",
    "yhat_df = pd.DataFrame(data=yhat, columns=target_cols)\n",
    "\n",
    "# Flags for bets placed\n",
    "bets_placed = (yhat_df > bet_thresh).astype(float).reset_index(drop=True)\n",
    "# Flags for outcomes occurring\n",
    "actual_outcomes = valid_df[target_cols].reset_index(drop=True)\n",
    "not_actual_outcomes = (~(actual_outcomes.astype(bool))).astype(float)\n",
    "# AND of bets placed and outcomes occurred\n",
    "wins_mask = bets_placed * actual_outcomes\n",
    "loss_mask = bets_placed * not_actual_outcomes\n",
    "\n",
    "print(f'{int(bets_placed.values.sum())} bets placed.')\n",
    "print(f'{int(wins_mask.values.sum())} bets won.')\n",
    "print(f'{int(loss_mask.values.sum())} bets lost.')"
   ]
  },
  {
   "cell_type": "code",
   "execution_count": 6,
   "metadata": {},
   "outputs": [
    {
     "name": "stdout",
     "output_type": "stream",
     "text": [
      "Payouts if betting with the following bookies:\n",
      "10x10bet: $4945.11\n",
      "1xBet: $7567.97\n",
      "Curebet: $4243.49\n",
      "GGBET: $5595.88\n",
      "Interwetten: $3185.57\n",
      "Lasbet: $4470.22\n",
      "Marathonbet: $4539.05\n",
      "Marsbet: $1784.12\n",
      "Pinnacle: $29.85\n",
      "Unibet: $5545.14\n",
      "VOBET: $-198.08\n",
      "William Hill: $4051.31\n",
      "bet-at-home: $5451.09\n",
      "bet365: $7187.38\n",
      "bwin: $6035.63\n"
     ]
    }
   ],
   "source": [
    "def american_to_decimal(american):\n",
    "    decimal = np.zeros(american.shape)\n",
    "    decimal[american<0] = 1 - (100 / american[american<0]) # Negative american odds\n",
    "    decimal[american>0] = (american[american>0] / 100) + 1 # Positive american odds\n",
    "    decimal[np.isnan(american)] = np.nan # NaN american odds\n",
    "    return decimal\n",
    "\n",
    "# Compute payouts\n",
    "dec_odds_df = pd.DataFrame(\n",
    "    data=american_to_decimal(valid_df[odds_input_cols].values),\n",
    "    columns=odds_input_cols\n",
    ")\n",
    "bookies = list(np.unique([\n",
    "    ' '.join(c.split(' ')[:-1]) for c in odds_input_cols \n",
    "    if (c.__contains__('1') or c.__contains__('X') or c.__contains__('2')) and ('over' not in c and 'under' not in c)\n",
    "]))\n",
    "bookies.remove('Average')\n",
    "bookies.remove('Highest')\n",
    "print('Payouts if betting with the following bookies:')\n",
    "for bookie in bookies:\n",
    "    bookie_net = 0\n",
    "    for tcol in target_cols:\n",
    "        # Check if the bookie even offers odds on the bet\n",
    "        bookie_odds_col = f'{bookie} {tcol}'\n",
    "        if bookie_odds_col not in dec_odds_df.columns:\n",
    "            continue\n",
    "\n",
    "        # Determine bets actually placed with bookie\n",
    "        # Don't bet on NaN bets from bookie\n",
    "        bets = ~dec_odds_df[bookie_odds_col].isna() * bets_placed[tcol]\n",
    "\n",
    "        # Payout = payout for each win\n",
    "        wins_mask = bets_placed[tcol] * actual_outcomes[tcol]\n",
    "        payouts = dec_odds_df[bookie_odds_col] * wins_mask\n",
    "        total_payout = np.nansum(payouts.values)\n",
    "\n",
    "        # Debt = bet placed for each loss\n",
    "        loss_mask = bets_placed[tcol] * not_actual_outcomes[tcol]\n",
    "        debts = bets_placed[tcol] * loss_mask\n",
    "        total_debt = np.nansum(debts.values)\n",
    "\n",
    "\n",
    "        if np.isnan(total_payout) or np.isnan(total_debt):\n",
    "            print(bookie_odds_col)\n",
    "\n",
    "        bookie_net = bookie_net + total_payout - total_debt\n",
    "    print(f'{bookie}: ${round(bookie_net, 2)}')"
   ]
  },
  {
   "cell_type": "code",
   "execution_count": 7,
   "metadata": {},
   "outputs": [],
   "source": [
    "# tcol = '1'\n",
    "# bookie = 'William Hill'\n",
    "# bookie_odds_col = f'{bookie} {tcol}'\n",
    "\n",
    "# # Determine bets actually placed with bookie\n",
    "# # Don't bet on NaN bets from bookie\n",
    "# bets = ~dec_odds_df[bookie_odds_col].isna() * bets_placed[tcol]\n",
    "\n",
    "# # Payout = payout for each win\n",
    "# wins_mask = bets_placed[tcol] * actual_outcomes[tcol]\n",
    "# payouts = dec_odds_df[bookie_odds_col] * wins_mask\n",
    "# total_payout = np.nansum(payouts.values).round(2)\n",
    "\n",
    "# # Debt = bet placed for each loss\n",
    "# loss_mask = bets_placed[tcol] * not_actual_outcomes[tcol]\n",
    "# debts = bets_placed[tcol] * loss_mask\n",
    "# total_debt = np.nansum(debts.values).round(2)\n",
    "\n",
    "# print(f'{bets.values.sum()} bets placed')\n",
    "# print(f'{wins_mask.values.sum()} bets won')\n",
    "# print(f'${total_payout} paid out')\n",
    "# print(f'${total_debt} lost')\n",
    "\n",
    "# temp = pd.concat(\n",
    "#     [\n",
    "#         valid_df[['Date', 'Team1', 'Team2', bookie_odds_col]].reset_index(drop=True),\n",
    "#         pd.DataFrame(data=actual_outcomes['1'].values, columns=['Actual']),\n",
    "#         pd.DataFrame(data=yhat_df['1'].values, columns=['yhat']),\n",
    "#         pd.DataFrame(data=bets.astype(int), columns=['Bet?']),\n",
    "#         pd.DataFrame(data=wins_mask.values, columns=['1 Wins'], dtype=int),\n",
    "#         pd.DataFrame(data=dec_odds_df[bookie_odds_col].values, columns=['Dec. odds']),\n",
    "#         pd.DataFrame(data=payouts.round(2), columns=['Payout'])\n",
    "#     ],\n",
    "#     axis=1,\n",
    "# )\n",
    "# temp[temp['Bet?']==1]"
   ]
  },
  {
   "cell_type": "code",
   "execution_count": null,
   "metadata": {},
   "outputs": [],
   "source": []
  }
 ],
 "metadata": {
  "kernelspec": {
   "display_name": "Python 3.8.13",
   "language": "python",
   "name": "python3"
  },
  "language_info": {
   "codemirror_mode": {
    "name": "ipython",
    "version": 3
   },
   "file_extension": ".py",
   "mimetype": "text/x-python",
   "name": "python",
   "nbconvert_exporter": "python",
   "pygments_lexer": "ipython3",
   "version": "3.8.13"
  },
  "orig_nbformat": 4,
  "vscode": {
   "interpreter": {
    "hash": "585a938ec471c889bf0cce0aed741a99eaf47ca09c0fa8393793bc5bfe77ba11"
   }
  }
 },
 "nbformat": 4,
 "nbformat_minor": 2
}
