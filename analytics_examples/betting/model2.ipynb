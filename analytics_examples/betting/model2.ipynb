{
 "cells": [
  {
   "cell_type": "code",
   "execution_count": 9,
   "metadata": {},
   "outputs": [],
   "source": [
    "import sys\n",
    "sys.path.insert(0, '../..')\n",
    "\n",
    "from IPython.display import clear_output\n",
    "import numpy as np\n",
    "import pandas as pd\n",
    "import ScraperFC as sfc\n",
    "from sklearn.model_selection import train_test_split\n",
    "import traceback\n",
    "from xgboost.sklearn import XGBRegressor, XGBClassifier"
   ]
  },
  {
   "cell_type": "code",
   "execution_count": 10,
   "metadata": {},
   "outputs": [
    {
     "name": "stdout",
     "output_type": "stream",
     "text": [
      "FTE DF: (380, 23)\n",
      "Odds DF: (380, 1524)\n",
      "DF: (380, 1547)\n"
     ]
    }
   ],
   "source": [
    "# Load fivethirtyeight data\n",
    "scraper = sfc.FiveThirtyEight()\n",
    "try:\n",
    "    fte_df = pd.DataFrame()\n",
    "    years = [2022,]\n",
    "    for year in years:\n",
    "        temp = scraper.scrape_matches(year, 'EPL')\n",
    "        fte_df = pd.concat([fte_df, temp], axis=0, ignore_index=True)\n",
    "    clear_output()\n",
    "except:\n",
    "    traceback.print_exc()\n",
    "finally:\n",
    "    scraper.close()\n",
    "print('FTE DF:', fte_df.shape)\n",
    "\n",
    "# Load pre-scraped Oddsportal data\n",
    "odds_df = pd.DataFrame()\n",
    "filenames = ['epl_2022_odds.pkl']\n",
    "for filename in filenames:\n",
    "    t = pd.read_pickle(filename)\n",
    "    odds_df = pd.concat([odds_df, t], axis=0, ignore_index=True)\n",
    "print('Odds DF:', odds_df.shape)\n",
    "\n",
    "# Convert date column to datetime objects\n",
    "fte_df['date'] = pd.to_datetime(fte_df['date'], format='%Y-%m-%d')\n",
    "\n",
    "# Drop kickoff times from Oddsportal date\n",
    "odds_df['Date'] = pd.DatetimeIndex(odds_df['Date']).normalize()\n",
    "\n",
    "# Remap FTE team names to match Oddsportal team names\n",
    "fte_to_odds_names = {\n",
    "    'Leicester City': 'Leicester',\n",
    "    'Brighton and Hove Albion': 'Brighton',\n",
    "    'Leeds United': 'Leeds',\n",
    "    'Manchester United': 'Manchester Utd',\n",
    "    'Norwich City': 'Norwich',\n",
    "    'Tottenham Hotspur': 'Tottenham',\n",
    "    'West Ham United': 'West Ham',\n",
    "    'Wolverhampton': 'Wolves',\n",
    "}\n",
    "fte_df = fte_df.replace({'team1': fte_to_odds_names, 'team2': fte_to_odds_names})\n",
    "assert np.all(np.sort(fte_df['team1'].unique()) == np.sort(odds_df['Team1'].unique()))\n",
    "\n",
    "# Merge dataframes\n",
    "df = pd.merge(fte_df, odds_df, left_on=['date','team1','team2'], right_on=['Date','Team1','Team2'])\n",
    "assert df.shape[0] == odds_df.shape[0]\n",
    "assert df.shape[0] == fte_df.shape[0]\n",
    "print('DF:', df.shape)\n",
    "\n",
    "# De-fragment dataframe\n",
    "df = df.copy()\n",
    "\n",
    "# Input cols\n",
    "fte_input_cols = [\n",
    "    'prob1', 'prob2', 'probtie', # FTE probas\n",
    "    'proj_score1', 'proj_score2', # FTE projected scores\n",
    "    'spi1', 'spi2', # FTE SPI index\n",
    "    'importance1', 'importance2', # FTE match importance values\n",
    "]\n",
    "odds_input_cols = (\n",
    "    [c for c in odds_df.columns if c.endswith(' 1') or c.endswith(' X') or c.endswith(' 2')] + \n",
    "    [c for c in odds_df.columns if c.endswith(' over') or c.endswith(' under')]\n",
    ")\n",
    "input_cols = fte_input_cols + odds_input_cols\n",
    "\n",
    "# Target cols\n",
    "df['1'] = df['score1'] > df['score2']\n",
    "df['X'] = df['score1'] == df['score2']\n",
    "df['2'] = df['score2'] > df['score1']\n",
    "ou_goals = [c.split('+')[1].split(' ')[0] for c in odds_df.columns if c.endswith(' over') or c.endswith(' under')]\n",
    "ou_goals = np.unique(ou_goals)\n",
    "for ou in ou_goals:\n",
    "    df[f'+{ou} over'] = (df['score1']+df['score2']) > float(ou)\n",
    "    df[f'+{ou} under'] = (df['score1']+df['score2']) < float(ou)\n",
    "target_cols = ['1', 'X', '2'] + [f'+{ou} over' for ou in ou_goals] + [f'+{ou} under' for ou in ou_goals]\n",
    "df[target_cols] = df[target_cols].astype(int)"
   ]
  },
  {
   "cell_type": "code",
   "execution_count": 11,
   "metadata": {},
   "outputs": [
    {
     "name": "stdout",
     "output_type": "stream",
     "text": [
      "Training (265, 1616)\n",
      "Validation (58, 1616)\n",
      "Test (57, 1616)\n"
     ]
    }
   ],
   "source": [
    "# Train-validation-test split\n",
    "random_state = 18\n",
    "train, valid, test = 0.7, 0.15, 0.15\n",
    "assert (train + valid + test) == 1\n",
    "train_valid_df, test_df = train_test_split(df, test_size=test, random_state=random_state)\n",
    "train_df, valid_df = train_test_split(train_valid_df, test_size=valid/(train+valid), random_state=random_state)\n",
    "print('Training', train_df.shape)\n",
    "print('Validation', valid_df.shape)\n",
    "print('Test', test_df.shape)"
   ]
  },
  {
   "cell_type": "code",
   "execution_count": 12,
   "metadata": {},
   "outputs": [
    {
     "data": {
      "text/plain": [
       "XGBClassifier(base_score=None, booster=None, callbacks=None,\n",
       "              colsample_bylevel=None, colsample_bynode=None,\n",
       "              colsample_bytree=None, early_stopping_rounds=None,\n",
       "              enable_categorical=False, eval_metric=None, feature_types=None,\n",
       "              gamma=None, gpu_id=None, grow_policy=None, importance_type=None,\n",
       "              interaction_constraints=None, learning_rate=None, max_bin=None,\n",
       "              max_cat_threshold=None, max_cat_to_onehot=None,\n",
       "              max_delta_step=None, max_depth=None, max_leaves=None,\n",
       "              min_child_weight=None, missing=nan, monotone_constraints=None,\n",
       "              n_estimators=100, n_jobs=None, num_parallel_tree=None,\n",
       "              predictor=None, random_state=None, ...)"
      ]
     },
     "execution_count": 12,
     "metadata": {},
     "output_type": "execute_result"
    }
   ],
   "source": [
    "# Train\n",
    "X = train_df[input_cols]\n",
    "y = train_df[target_cols]\n",
    "# xgb = XGBRegressor(tree_method='gpu_hist')\n",
    "xgb = XGBClassifier(tree_method='gpu_hist')\n",
    "xgb.fit(X, y)"
   ]
  },
  {
   "cell_type": "code",
   "execution_count": 13,
   "metadata": {},
   "outputs": [
    {
     "name": "stdout",
     "output_type": "stream",
     "text": [
      "1909 bets placed.\n",
      "1512 bets won.\n",
      "397 bets lost.\n"
     ]
    }
   ],
   "source": [
    "bet_thresh = 0.5\n",
    "\n",
    "if type(xgb) is XGBClassifier:\n",
    "    yhat = xgb.predict_proba(valid_df[input_cols])\n",
    "elif type(xgb) is XGBRegressor:\n",
    "    yhat = xgb.predict(valid_df[input_cols])\n",
    "yhat_df = pd.DataFrame(data=yhat, columns=target_cols)\n",
    "\n",
    "# Flags for bets placed\n",
    "bets_placed = (yhat_df > bet_thresh).astype(float).reset_index(drop=True)\n",
    "# Flags for outcomes occurring\n",
    "actual_outcomes = valid_df[target_cols].reset_index(drop=True)\n",
    "not_actual_outcomes = (~(actual_outcomes.astype(bool))).astype(float)\n",
    "# AND of bets placed and outcomes occurred\n",
    "won = bets_placed * actual_outcomes\n",
    "lost = bets_placed * not_actual_outcomes\n",
    "\n",
    "print(f'{int(bets_placed.values.sum())} bets placed.')\n",
    "print(f'{int(won.values.sum())} bets won.')\n",
    "print(f'{int(lost.values.sum())} bets lost.')"
   ]
  },
  {
   "cell_type": "code",
   "execution_count": 15,
   "metadata": {},
   "outputs": [
    {
     "name": "stdout",
     "output_type": "stream",
     "text": [
      "Payouts if betting with the following bookies:\n"
     ]
    },
    {
     "ename": "KeyError",
     "evalue": "'10x10bet +6.75 over'",
     "output_type": "error",
     "traceback": [
      "\u001b[1;31m---------------------------------------------------------------------------\u001b[0m",
      "\u001b[1;31mKeyError\u001b[0m                                  Traceback (most recent call last)",
      "File \u001b[1;32mc:\\Users\\oseymour\\Anaconda3\\lib\\site-packages\\pandas\\core\\indexes\\base.py:3803\u001b[0m, in \u001b[0;36mIndex.get_loc\u001b[1;34m(self, key, method, tolerance)\u001b[0m\n\u001b[0;32m   3802\u001b[0m \u001b[39mtry\u001b[39;00m:\n\u001b[1;32m-> 3803\u001b[0m     \u001b[39mreturn\u001b[39;00m \u001b[39mself\u001b[39;49m\u001b[39m.\u001b[39;49m_engine\u001b[39m.\u001b[39;49mget_loc(casted_key)\n\u001b[0;32m   3804\u001b[0m \u001b[39mexcept\u001b[39;00m \u001b[39mKeyError\u001b[39;00m \u001b[39mas\u001b[39;00m err:\n",
      "File \u001b[1;32mc:\\Users\\oseymour\\Anaconda3\\lib\\site-packages\\pandas\\_libs\\index.pyx:138\u001b[0m, in \u001b[0;36mpandas._libs.index.IndexEngine.get_loc\u001b[1;34m()\u001b[0m\n",
      "File \u001b[1;32mc:\\Users\\oseymour\\Anaconda3\\lib\\site-packages\\pandas\\_libs\\index.pyx:165\u001b[0m, in \u001b[0;36mpandas._libs.index.IndexEngine.get_loc\u001b[1;34m()\u001b[0m\n",
      "File \u001b[1;32mpandas\\_libs\\hashtable_class_helper.pxi:5745\u001b[0m, in \u001b[0;36mpandas._libs.hashtable.PyObjectHashTable.get_item\u001b[1;34m()\u001b[0m\n",
      "File \u001b[1;32mpandas\\_libs\\hashtable_class_helper.pxi:5753\u001b[0m, in \u001b[0;36mpandas._libs.hashtable.PyObjectHashTable.get_item\u001b[1;34m()\u001b[0m\n",
      "\u001b[1;31mKeyError\u001b[0m: '10x10bet +6.75 over'",
      "\nThe above exception was the direct cause of the following exception:\n",
      "\u001b[1;31mKeyError\u001b[0m                                  Traceback (most recent call last)",
      "Cell \u001b[1;32mIn [15], line 25\u001b[0m\n\u001b[0;32m     22\u001b[0m \u001b[39mfor\u001b[39;00m tcol \u001b[39min\u001b[39;00m target_cols:\n\u001b[0;32m     23\u001b[0m     \u001b[39m# Payout = payout for each win\u001b[39;00m\n\u001b[0;32m     24\u001b[0m     wins_mask \u001b[39m=\u001b[39m bets_placed[tcol] \u001b[39m*\u001b[39m actual_outcomes[tcol]\n\u001b[1;32m---> 25\u001b[0m     payouts \u001b[39m=\u001b[39m dec_odds_df[\u001b[39mf\u001b[39;49m\u001b[39m'\u001b[39;49m\u001b[39m{\u001b[39;49;00mbookie\u001b[39m}\u001b[39;49;00m\u001b[39m \u001b[39;49m\u001b[39m{\u001b[39;49;00mtcol\u001b[39m}\u001b[39;49;00m\u001b[39m'\u001b[39;49m] \u001b[39m*\u001b[39m wins_mask\n\u001b[0;32m     26\u001b[0m     total_payout \u001b[39m=\u001b[39m np\u001b[39m.\u001b[39msum(payouts)\n\u001b[0;32m     28\u001b[0m     \u001b[39m# Debt = bet placed for each loss\u001b[39;00m\n",
      "File \u001b[1;32mc:\\Users\\oseymour\\Anaconda3\\lib\\site-packages\\pandas\\core\\frame.py:3805\u001b[0m, in \u001b[0;36mDataFrame.__getitem__\u001b[1;34m(self, key)\u001b[0m\n\u001b[0;32m   3803\u001b[0m \u001b[39mif\u001b[39;00m \u001b[39mself\u001b[39m\u001b[39m.\u001b[39mcolumns\u001b[39m.\u001b[39mnlevels \u001b[39m>\u001b[39m \u001b[39m1\u001b[39m:\n\u001b[0;32m   3804\u001b[0m     \u001b[39mreturn\u001b[39;00m \u001b[39mself\u001b[39m\u001b[39m.\u001b[39m_getitem_multilevel(key)\n\u001b[1;32m-> 3805\u001b[0m indexer \u001b[39m=\u001b[39m \u001b[39mself\u001b[39;49m\u001b[39m.\u001b[39;49mcolumns\u001b[39m.\u001b[39;49mget_loc(key)\n\u001b[0;32m   3806\u001b[0m \u001b[39mif\u001b[39;00m is_integer(indexer):\n\u001b[0;32m   3807\u001b[0m     indexer \u001b[39m=\u001b[39m [indexer]\n",
      "File \u001b[1;32mc:\\Users\\oseymour\\Anaconda3\\lib\\site-packages\\pandas\\core\\indexes\\base.py:3805\u001b[0m, in \u001b[0;36mIndex.get_loc\u001b[1;34m(self, key, method, tolerance)\u001b[0m\n\u001b[0;32m   3803\u001b[0m     \u001b[39mreturn\u001b[39;00m \u001b[39mself\u001b[39m\u001b[39m.\u001b[39m_engine\u001b[39m.\u001b[39mget_loc(casted_key)\n\u001b[0;32m   3804\u001b[0m \u001b[39mexcept\u001b[39;00m \u001b[39mKeyError\u001b[39;00m \u001b[39mas\u001b[39;00m err:\n\u001b[1;32m-> 3805\u001b[0m     \u001b[39mraise\u001b[39;00m \u001b[39mKeyError\u001b[39;00m(key) \u001b[39mfrom\u001b[39;00m \u001b[39merr\u001b[39;00m\n\u001b[0;32m   3806\u001b[0m \u001b[39mexcept\u001b[39;00m \u001b[39mTypeError\u001b[39;00m:\n\u001b[0;32m   3807\u001b[0m     \u001b[39m# If we have a listlike key, _check_indexing_error will raise\u001b[39;00m\n\u001b[0;32m   3808\u001b[0m     \u001b[39m#  InvalidIndexError. Otherwise we fall through and re-raise\u001b[39;00m\n\u001b[0;32m   3809\u001b[0m     \u001b[39m#  the TypeError.\u001b[39;00m\n\u001b[0;32m   3810\u001b[0m     \u001b[39mself\u001b[39m\u001b[39m.\u001b[39m_check_indexing_error(key)\n",
      "\u001b[1;31mKeyError\u001b[0m: '10x10bet +6.75 over'"
     ]
    }
   ],
   "source": [
    "def american_to_decimal(american):\n",
    "    decimal = np.zeros(american.shape)\n",
    "    decimal[american<0] = 1 - (100 / -american[american<0]) # Negative american odds\n",
    "    decimal[american>0] = (american[american>0] / 100) + 1 # Positive american odds\n",
    "    decimal[np.isnan(american)] = np.nan # NaN american odds\n",
    "    return decimal\n",
    "\n",
    "# Compute payouts\n",
    "dec_odds_df = pd.DataFrame(\n",
    "    data=american_to_decimal(valid_df[odds_input_cols].values),\n",
    "    columns=odds_input_cols\n",
    ")\n",
    "bookies = list(np.unique([\n",
    "    ' '.join(c.split(' ')[:-1]) for c in odds_input_cols \n",
    "    if (c.__contains__('1') or c.__contains__('X') or c.__contains__('2')) and ('over' not in c and 'under' not in c)\n",
    "]))\n",
    "bookies.remove('Average')\n",
    "bookies.remove('Highest')\n",
    "print('Payouts if betting with the following bookies:')\n",
    "for bookie in bookies:\n",
    "    bookie_net = 0\n",
    "    for tcol in target_cols:\n",
    "        # Payout = payout for each win\n",
    "        wins_mask = bets_placed[tcol] * actual_outcomes[tcol]\n",
    "        payouts = dec_odds_df[f'{bookie} {tcol}'] * wins_mask\n",
    "        total_payout = np.sum(payouts)\n",
    "\n",
    "        # Debt = bet placed for each loss\n",
    "        loss_mask = bets_placed[tcol] * not_actual_outcomes[tcol]\n",
    "        debts = bets_placed[tcol] * loss_mask\n",
    "        total_debt = np.sum(bets_placed)\n",
    "\n",
    "        bookie_net = bookie_net + total_payout - total_debt\n",
    "    print(f'{bookie}: {round(bookie_net, 2)}')"
   ]
  }
 ],
 "metadata": {
  "kernelspec": {
   "display_name": "base",
   "language": "python",
   "name": "python3"
  },
  "language_info": {
   "codemirror_mode": {
    "name": "ipython",
    "version": 3
   },
   "file_extension": ".py",
   "mimetype": "text/x-python",
   "name": "python",
   "nbconvert_exporter": "python",
   "pygments_lexer": "ipython3",
   "version": "3.9.15"
  },
  "orig_nbformat": 4,
  "vscode": {
   "interpreter": {
    "hash": "cc273e64c6c48e9881aab795f8d0e622d86c0ebe91aa99d17d2821087e5340fb"
   }
  }
 },
 "nbformat": 4,
 "nbformat_minor": 2
}
