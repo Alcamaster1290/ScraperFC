{
 "cells": [
  {
   "cell_type": "code",
   "execution_count": 1,
   "id": "d2dcdf53-d4f4-43fe-87d7-a447b18469cd",
   "metadata": {},
   "outputs": [],
   "source": [
    "import matplotlib.pyplot as plt\n",
    "import numpy as np\n",
    "import pandas as pd\n",
    "import ScraperFC as sfc\n",
    "from   sklearn.decomposition import PCA\n",
    "import traceback"
   ]
  },
  {
   "cell_type": "markdown",
   "id": "a21766e1",
   "metadata": {},
   "source": [
    "Run this cell if it's your first time using this notebook. Otherwise leave it commented out."
   ]
  },
  {
   "cell_type": "code",
   "execution_count": 2,
   "id": "0170f2b6-0e4e-4a26-ae18-e68b6c728f19",
   "metadata": {},
   "outputs": [],
   "source": [
    "# scraper = sfc.FBRef()\n",
    "# try:\n",
    "#     per90, perc = scraper.scrape_complete_scouting_reports(year=2022, league='EPL')\n",
    "# except:\n",
    "#     traceback.print_exc()\n",
    "# finally:\n",
    "#     scraper.close()\n",
    "# per90.to_pickle('epl2022_reports_per90.pkl')\n",
    "# perc.to_pickle('epl2022_reports_perc.pkl')"
   ]
  },
  {
   "cell_type": "code",
   "execution_count": 3,
   "id": "fa29dfa8",
   "metadata": {},
   "outputs": [],
   "source": [
    "per90 = pd.read_pickle('epl2022_reports_per90.pkl')\n",
    "perc = pd.read_pickle('epl2022_reports_perc.pkl')"
   ]
  },
  {
   "cell_type": "markdown",
   "id": "f40605db",
   "metadata": {},
   "source": [
    "The function below will find the 5 most similar player to the chosen player. To find the players that are \"closest\" to the chosen player in the data space we will use the norm, which is a way to measure how long vectors are.\n",
    "\n",
    "The most common norm is the 2-norm, or the Euclidean norm. This is just the square root of the sum of the squares of every element in a vector. Think about calculating the length of the hypotenuse of a right triangle. You square the 2 side lengths opposite the hypotenuse, add them together, and take the square root of that. This is the 2-norm.\n",
    "\n",
    "Another common norm is the 1-norm, which is just the sum of the absolute values of all elements in a vector. This is just another way to measure distance in the data space.\n",
    "\n",
    "So, to calculate the distance between two players we subtract their 2 data vectors (or rows of stats in the dataframe), and then compute the norm of that resulting vector. Players with smaller norms are more similar to the player of interest.\n",
    "\n",
    "The plot that gets output isn't a perfect representation of the norms between all of the players and the player of interest. To display the graph, the player's stats had to be reduced to 2 dimensions (done using PCA). But it's a good way to approximately visualize the results."
   ]
  },
  {
   "cell_type": "code",
   "execution_count": 12,
   "id": "73117c2f",
   "metadata": {
    "scrolled": false
   },
   "outputs": [],
   "source": [
    "def similar_players(player_name, per90, same_position=True, norm=2):\n",
    "    \n",
    "    \n",
    "    df = per90.copy()\n",
    "    df.drop(columns=[col for col in df.columns if np.any(df[col].isna())], inplace=True) # drop columns with nans\n",
    "    \n",
    "    # Get the player's details\n",
    "    player_row = df[df['Player']==player_name]\n",
    "    player_index = player_row.index\n",
    "    pos = player_row['Position'].values[0]\n",
    "    \n",
    "    # Only players in same position\n",
    "    if same_position:\n",
    "        df = df[df['Position'] == pos]\n",
    "    \n",
    "    # Drop non-number columns, but save them to re-add later\n",
    "    dropped_col_names = ['Player','Position','Minutes']\n",
    "    dropped_cols = df[dropped_col_names]\n",
    "    df = df.drop(columns=dropped_col_names)\n",
    "    \n",
    "    # Save df for later\n",
    "    saved_df = df.copy()\n",
    "    \n",
    "    # Center about zero\n",
    "    df = df.subtract(df.mean(axis=0), axis=1)\n",
    "    \n",
    "    # PCA reduction\n",
    "    pca = PCA(n_components=2)\n",
    "    reduced_arr = pca.fit_transform(df)\n",
    "    df_reduced = pd.DataFrame(data=reduced_arr, columns=['PC1', 'PC2'])\n",
    "    df_reduced.index = df.index\n",
    "    \n",
    "    # Calculate distances between players\n",
    "    diff = df.subtract(df.loc[player_index,:].values, axis=1).values\n",
    "    distances = np.linalg.norm(diff, ord=norm, axis=1)\n",
    "    saved_df.insert(0, 'Distance', distances)\n",
    "    df.insert(0, 'Distance', distances)\n",
    "    \n",
    "    # Re-add dropped columns\n",
    "    for i, col_name in enumerate(dropped_col_names):\n",
    "        df_reduced.insert(i, col_name, dropped_cols[col_name])\n",
    "        df.insert(i, col_name, dropped_cols[col_name])\n",
    "        saved_df.insert(i, col_name, dropped_cols[col_name])\n",
    "        \n",
    "    # Find nearest players\n",
    "    sorted_df = df.sort_values(by='Distance')\n",
    "    top5_index = sorted_df.iloc[1:6, :].index\n",
    "    top5 = saved_df.loc[top5_index, :]\n",
    "    top5_reduced = df_reduced.loc[top5_index, :]\n",
    "    \n",
    "    \n",
    "    #### Plot ####\n",
    "    plt.figure(figsize=[8,8])\n",
    "    plt.scatter(df_reduced['PC1'], df_reduced['PC2'], color='white', edgecolor='black', alpha=0.5)\n",
    "    plt.scatter(df_reduced.loc[player_index, 'PC1'], df_reduced.loc[player_index, 'PC2'], color='red')\n",
    "    colors = pd.DataFrame(data=['blue', 'orange', 'yellow', 'salmon', 'green'], \n",
    "                          index=top5_reduced.index,\n",
    "                          columns=['color'])\n",
    "    for i in top5_reduced.index:\n",
    "        plt.scatter(top5_reduced.loc[i,'PC1'], \n",
    "                    top5_reduced.loc[i,'PC2'], \n",
    "                    color=colors.loc[i,'color'], \n",
    "                    label=top5_reduced.loc[i,'Player'])\n",
    "    plt.legend()\n",
    "    if same_position:\n",
    "        plt.suptitle(pos, y=0.93)\n",
    "    else:\n",
    "        plt.suptitle('All positions', y=0.93)\n",
    "    plt.title('Players most similar to {} (in red)'.format(player_name))\n",
    "    plt.xlabel('1st PC')\n",
    "    plt.ylabel('2nd PC')\n",
    "    plt.show()\n",
    "    \n",
    "#     return top5.reset_index(drop=True)\n",
    "    return saved_df.loc[player_index,:].append(top5).reset_index(drop=True)"
   ]
  },
  {
   "cell_type": "markdown",
   "id": "3132af2a",
   "metadata": {},
   "source": [
    "Now, lets use the function and see which attacking midfielders/wingers (same_position=True) are most similar to Bruno Fernandes. We'll use the 1-norm."
   ]
  },
  {
   "cell_type": "code",
   "execution_count": null,
   "id": "300e73ab",
   "metadata": {},
   "outputs": [],
   "source": [
    "top5 = similar_players('Bruno Fernandes', per90, same_position=True, norm=2)\n",
    "top5"
   ]
  },
  {
   "cell_type": "markdown",
   "id": "246c0641",
   "metadata": {},
   "source": [
    "What about across all positions?"
   ]
  },
  {
   "cell_type": "code",
   "execution_count": null,
   "id": "29b99b27",
   "metadata": {},
   "outputs": [],
   "source": [
    "top5 = similar_players('Bruno Fernandes', per90, same_position=False, norm=2)\n",
    "top5"
   ]
  },
  {
   "cell_type": "code",
   "execution_count": null,
   "id": "8263c13f",
   "metadata": {},
   "outputs": [],
   "source": [
    "top5 = similar_players('Abdoulaye Doucoure', per90, same_position=False, norm=1)\n",
    "top5"
   ]
  },
  {
   "cell_type": "code",
   "execution_count": null,
   "id": "05788ed2",
   "metadata": {},
   "outputs": [],
   "source": []
  }
 ],
 "metadata": {
  "kernelspec": {
   "display_name": "Python 3",
   "language": "python",
   "name": "python3"
  },
  "language_info": {
   "codemirror_mode": {
    "name": "ipython",
    "version": 3
   },
   "file_extension": ".py",
   "mimetype": "text/x-python",
   "name": "python",
   "nbconvert_exporter": "python",
   "pygments_lexer": "ipython3",
   "version": "3.8.8"
  }
 },
 "nbformat": 4,
 "nbformat_minor": 5
}
