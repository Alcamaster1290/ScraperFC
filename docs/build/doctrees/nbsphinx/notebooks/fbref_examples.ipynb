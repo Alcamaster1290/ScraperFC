{
 "cells": [
  {
   "cell_type": "markdown",
   "metadata": {},
   "source": [
    "# League table\n",
    "This example shows how to scrape the league table of the 2019-20 English Premier League season from FBRef."
   ]
  },
  {
   "cell_type": "code",
   "execution_count": 1,
   "metadata": {
    "execution": {
     "iopub.execute_input": "2022-10-25T01:26:46.446646Z",
     "iopub.status.busy": "2022-10-25T01:26:46.446646Z",
     "iopub.status.idle": "2022-10-25T01:26:47.168716Z",
     "shell.execute_reply": "2022-10-25T01:26:47.167717Z"
    }
   },
   "outputs": [
    {
     "ename": "ModuleNotFoundError",
     "evalue": "No module named 'ScraperFC'",
     "output_type": "error",
     "traceback": [
      "\u001b[1;31m---------------------------------------------------------------------------\u001b[0m",
      "\u001b[1;31mModuleNotFoundError\u001b[0m                       Traceback (most recent call last)",
      "Input \u001b[1;32mIn [1]\u001b[0m, in \u001b[0;36m<cell line: 1>\u001b[1;34m()\u001b[0m\n\u001b[1;32m----> 1\u001b[0m \u001b[38;5;28;01mimport\u001b[39;00m \u001b[38;5;21;01mScraperFC\u001b[39;00m \u001b[38;5;28;01mas\u001b[39;00m \u001b[38;5;21;01msfc\u001b[39;00m\n\u001b[0;32m      2\u001b[0m \u001b[38;5;28;01mimport\u001b[39;00m \u001b[38;5;21;01mtraceback\u001b[39;00m\n\u001b[0;32m      4\u001b[0m \u001b[38;5;66;03m# Initialize the FBRef scraper\u001b[39;00m\n",
      "\u001b[1;31mModuleNotFoundError\u001b[0m: No module named 'ScraperFC'"
     ]
    }
   ],
   "source": [
    "import ScraperFC as sfc\n",
    "import traceback\n",
    "    \n",
    "# Initialize the FBRef scraper\n",
    "scraper = sfc.FBRef() \n",
    "try:\n",
    "    # Scrape the table\n",
    "    lg_table = scraper.scrape_league_table(year=2020, league='EPL')\n",
    "except:\n",
    "    # Catch and print any exceptions. This allows us to still close the \n",
    "    # scraper below, even if an exception occurs.\n",
    "    traceback.print_exc()\n",
    "\n",
    "# It's important to close the scraper when you're done with it. Otherwise, \n",
    "# you'll have a bunch of webdrivers open and running in the background. \n",
    "scraper.close()"
   ]
  },
  {
   "cell_type": "markdown",
   "metadata": {},
   "source": [
    "# Match stats\n",
    "In this code block, we're scrpaing data from an FBRef match page. The example I've chosen is So'ton 2:5 Tottenham from 20 Sept, 2020."
   ]
  },
  {
   "cell_type": "code",
   "execution_count": 2,
   "metadata": {
    "execution": {
     "iopub.execute_input": "2022-10-25T01:26:47.209607Z",
     "iopub.status.busy": "2022-10-25T01:26:47.208619Z",
     "iopub.status.idle": "2022-10-25T01:26:47.260470Z",
     "shell.execute_reply": "2022-10-25T01:26:47.258474Z"
    }
   },
   "outputs": [
    {
     "ename": "ModuleNotFoundError",
     "evalue": "No module named 'ScraperFC'",
     "output_type": "error",
     "traceback": [
      "\u001b[1;31m---------------------------------------------------------------------------\u001b[0m",
      "\u001b[1;31mModuleNotFoundError\u001b[0m                       Traceback (most recent call last)",
      "Input \u001b[1;32mIn [2]\u001b[0m, in \u001b[0;36m<cell line: 1>\u001b[1;34m()\u001b[0m\n\u001b[1;32m----> 1\u001b[0m \u001b[38;5;28;01mimport\u001b[39;00m \u001b[38;5;21;01mScraperFC\u001b[39;00m \u001b[38;5;28;01mas\u001b[39;00m \u001b[38;5;21;01msfc\u001b[39;00m\n\u001b[0;32m      2\u001b[0m \u001b[38;5;28;01mimport\u001b[39;00m \u001b[38;5;21;01mtraceback\u001b[39;00m\n\u001b[0;32m      4\u001b[0m \u001b[38;5;66;03m# Initialize the FBRef scraper\u001b[39;00m\n",
      "\u001b[1;31mModuleNotFoundError\u001b[0m: No module named 'ScraperFC'"
     ]
    }
   ],
   "source": [
    "import ScraperFC as sfc\n",
    "import traceback\n",
    "\n",
    "# Initialize the FBRef scraper\n",
    "scraper = sfc.FBRef() \n",
    "try:\n",
    "    # Scrape the match using the FBRef match link\n",
    "    link = 'https://fbref.com/en/matches/967efd56/Southampton-Tottenham-Hotspur-September-20-2020-Premier-League'\n",
    "    lg_table = scraper.scrape_match(link=link)\n",
    "except:\n",
    "    # Catch and print any exceptions.\n",
    "    traceback.print_exc()\n",
    "\n",
    "# Again, make sure to close the scraper when you're done\n",
    "scraper.close()"
   ]
  }
 ],
 "metadata": {
  "kernelspec": {
   "display_name": "Python 3.8.13 64-bit ('anaconda3')",
   "language": "python",
   "name": "python3"
  },
  "language_info": {
   "codemirror_mode": {
    "name": "ipython",
    "version": 3
   },
   "file_extension": ".py",
   "mimetype": "text/x-python",
   "name": "python",
   "nbconvert_exporter": "python",
   "pygments_lexer": "ipython3",
   "version": "3.8.13"
  },
  "vscode": {
   "interpreter": {
    "hash": "585a938ec471c889bf0cce0aed741a99eaf47ca09c0fa8393793bc5bfe77ba11"
   }
  }
 },
 "nbformat": 4,
 "nbformat_minor": 2
}
