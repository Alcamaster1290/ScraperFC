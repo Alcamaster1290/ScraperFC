{
 "cells": [
  {
   "cell_type": "code",
   "execution_count": null,
   "id": "bb3715b3",
   "metadata": {},
   "outputs": [],
   "source": [
    "import ScraperFC as sfc\n",
    "import traceback\n",
    "import pandas as pd\n",
    "import numpy as np"
   ]
  },
  {
   "cell_type": "markdown",
   "id": "5a1185f5",
   "metadata": {},
   "source": [
    "# Test the table-scraping functions"
   ]
  },
  {
   "cell_type": "code",
   "execution_count": null,
   "id": "02cbbc6d",
   "metadata": {},
   "outputs": [],
   "source": [
    "scraper = sfc.FBRef()\n",
    "\n",
    "leagues = ['EPL', 'La Liga', 'Bundesliga', 'Serie A', 'Ligue 1', 'MLS']\n",
    "years = range(1988, 2023)\n",
    "\n",
    "broken = False\n",
    "for league in leagues:\n",
    "    for year in years:\n",
    "        try:\n",
    "            print(league, year)\n",
    "            out = scraper.scrape_season(year=year, league=league)\n",
    "        except:\n",
    "            traceback.print_exc()\n",
    "            broken = True\n",
    "            break\n",
    "        finally:\n",
    "            scraper.close()\n",
    "    if broken:\n",
    "        break"
   ]
  }
 ],
 "metadata": {
  "kernelspec": {
   "display_name": "Python 3",
   "language": "python",
   "name": "python3"
  },
  "language_info": {
   "codemirror_mode": {
    "name": "ipython",
    "version": 3
   },
   "file_extension": ".py",
   "mimetype": "text/x-python",
   "name": "python",
   "nbconvert_exporter": "python",
   "pygments_lexer": "ipython3",
   "version": "3.8.8"
  }
 },
 "nbformat": 4,
 "nbformat_minor": 5
}
