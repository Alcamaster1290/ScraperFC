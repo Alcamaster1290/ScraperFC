{
 "cells": [
  {
   "cell_type": "code",
   "execution_count": 1,
   "id": "84efcaf0",
   "metadata": {},
   "outputs": [],
   "source": [
    "import sys\n",
    "sys.path.append(\"..\")\n",
    "import ScraperFC as sfc # import local ScraperFC\n",
    "from ScraperFC.shared_functions import sources, InvalidYearException, UnavailableSeasonException\n",
    "\n",
    "import datetime\n",
    "import itertools\n",
    "from tqdm import tqdm\n",
    "import traceback"
   ]
  },
  {
   "cell_type": "code",
   "execution_count": 2,
   "id": "2bcd55f2",
   "metadata": {},
   "outputs": [
    {
     "name": "stderr",
     "output_type": "stream",
     "text": [
      "\n",
      "\n",
      "====== WebDriver manager ======\n",
      "Current google-chrome version is 107.0.5304\n",
      "Get LATEST chromedriver version for 107.0.5304 google-chrome\n",
      "Driver [C:\\Users\\oseymour\\.wdm\\drivers\\chromedriver\\win32\\107.0.5304.62\\chromedriver.exe] found in cache\n"
     ]
    },
    {
     "name": "stdout",
     "output_type": "stream",
     "text": [
      "Gathering match links.\n"
     ]
    }
   ],
   "source": [
    "year = 2019\n",
    "league = 'A-League Women'\n",
    "scraper = sfc.FBRef()\n",
    "try:\n",
    "    links = scraper.get_match_links(year, league)\n",
    "except:\n",
    "    traceback.print_exc()\n",
    "finally:\n",
    "    scraper.close()"
   ]
  },
  {
   "cell_type": "code",
   "execution_count": 4,
   "id": "4cf513a7",
   "metadata": {},
   "outputs": [
    {
     "data": {
      "text/plain": [
       "['https://fbref.com/en/matches/a2fff4c9/Western-Sydney-Wanderers-Sydney-FC-October-25-2018-W-League',\n",
       " 'https://fbref.com/en/matches/c06a6b57/Brisbane-Roar-Perth-Glory-October-28-2018-W-League',\n",
       " 'https://fbref.com/en/matches/d6e5a2f5/Canberra-United-Melbourne-City-October-28-2018-W-League',\n",
       " 'https://fbref.com/en/matches/22c5ba69/Melbourne-Victory-Adelaide-United-October-28-2018-W-League',\n",
       " 'https://fbref.com/en/matches/b522ac84/Melbourne-Victory-Newcastle-Jets-November-1-2018-W-League',\n",
       " 'https://fbref.com/en/matches/5768bf65/Melbourne-City-Sydney-FC-November-2-2018-W-League',\n",
       " 'https://fbref.com/en/matches/552ed089/Western-Sydney-Wanderers-Brisbane-Roar-November-4-2018-W-League',\n",
       " 'https://fbref.com/en/matches/6598e959/Canberra-United-Perth-Glory-November-4-2018-W-League',\n",
       " 'https://fbref.com/en/matches/b1fb1c98/Melbourne-City-Melbourne-Victory-November-16-2018-W-League',\n",
       " 'https://fbref.com/en/matches/e0a7a510/Perth-Glory-Western-Sydney-Wanderers-November-17-2018-W-League',\n",
       " 'https://fbref.com/en/matches/cd9344dd/Newcastle-Jets-Canberra-United-November-17-2018-W-League',\n",
       " 'https://fbref.com/en/matches/0fe7c1fb/Brisbane-Roar-Adelaide-United-November-18-2018-W-League',\n",
       " 'https://fbref.com/en/matches/b3cb789d/Adelaide-United-Canberra-United-November-22-2018-W-League',\n",
       " 'https://fbref.com/en/matches/15b6a78e/Western-Sydney-Wanderers-Newcastle-Jets-November-24-2018-W-League',\n",
       " 'https://fbref.com/en/matches/8a6b23c4/Sydney-FC-Melbourne-Victory-November-25-2018-W-League',\n",
       " 'https://fbref.com/en/matches/70c111f6/Perth-Glory-Melbourne-City-November-25-2018-W-League',\n",
       " 'https://fbref.com/en/matches/fc51a912/Newcastle-Jets-Brisbane-Roar-November-29-2018-W-League',\n",
       " 'https://fbref.com/en/matches/38a47ee4/Melbourne-City-Adelaide-United-December-1-2018-W-League',\n",
       " 'https://fbref.com/en/matches/cd7fcb43/Canberra-United-Sydney-FC-December-2-2018-W-League',\n",
       " 'https://fbref.com/en/matches/15509acc/Melbourne-Victory-Western-Sydney-Wanderers-December-2-2018-W-League',\n",
       " 'https://fbref.com/en/matches/a130ff1b/Adelaide-United-Perth-Glory-December-6-2018-W-League',\n",
       " 'https://fbref.com/en/matches/425a1ca1/Western-Sydney-Wanderers-Canberra-United-December-7-2018-W-League',\n",
       " 'https://fbref.com/en/matches/015c61d9/Newcastle-Jets-Melbourne-City-December-9-2018-W-League',\n",
       " 'https://fbref.com/en/matches/2fd56c82/Sydney-FC-Brisbane-Roar-December-9-2018-W-League',\n",
       " 'https://fbref.com/en/matches/882e6d7f/Sydney-FC-Adelaide-United-December-13-2018-W-League',\n",
       " 'https://fbref.com/en/matches/2df0e9c3/Perth-Glory-Newcastle-Jets-December-15-2018-W-League',\n",
       " 'https://fbref.com/en/matches/465a433e/Brisbane-Roar-Melbourne-Victory-December-16-2018-W-League',\n",
       " 'https://fbref.com/en/matches/2b3bf115/Brisbane-Roar-Western-Sydney-Wanderers-December-20-2018-W-League',\n",
       " 'https://fbref.com/en/matches/c0d19dab/Perth-Glory-Sydney-FC-December-21-2018-W-League',\n",
       " 'https://fbref.com/en/matches/f5628a19/Adelaide-United-Melbourne-Victory-December-21-2018-W-League',\n",
       " 'https://fbref.com/en/matches/7673ff91/Melbourne-City-Canberra-United-December-22-2018-W-League',\n",
       " 'https://fbref.com/en/matches/3389ca9e/Canberra-United-Brisbane-Roar-December-27-2018-W-League',\n",
       " 'https://fbref.com/en/matches/cd717193/Melbourne-Victory-Perth-Glory-December-28-2018-W-League',\n",
       " 'https://fbref.com/en/matches/7a570bcf/Newcastle-Jets-Adelaide-United-December-31-2018-W-League',\n",
       " 'https://fbref.com/en/matches/41734d6b/Western-Sydney-Wanderers-Melbourne-City-January-1-2019-W-League',\n",
       " 'https://fbref.com/en/matches/5b6e3959/Perth-Glory-Canberra-United-January-3-2019-W-League',\n",
       " 'https://fbref.com/en/matches/0c7c3b9e/Sydney-FC-Newcastle-Jets-January-4-2019-W-League',\n",
       " 'https://fbref.com/en/matches/b46aee96/Melbourne-Victory-Melbourne-City-January-5-2019-W-League',\n",
       " 'https://fbref.com/en/matches/5e456045/Sydney-FC-Western-Sydney-Wanderers-January-10-2019-W-League',\n",
       " 'https://fbref.com/en/matches/9552fda8/Melbourne-City-Brisbane-Roar-January-11-2019-W-League',\n",
       " 'https://fbref.com/en/matches/5178d896/Newcastle-Jets-Perth-Glory-January-12-2019-W-League',\n",
       " 'https://fbref.com/en/matches/4f46d04e/Canberra-United-Adelaide-United-January-13-2019-W-League',\n",
       " 'https://fbref.com/en/matches/f05d8de9/Adelaide-United-Western-Sydney-Wanderers-January-19-2019-W-League',\n",
       " 'https://fbref.com/en/matches/34b11e73/Brisbane-Roar-Sydney-FC-January-19-2019-W-League',\n",
       " 'https://fbref.com/en/matches/305705fb/Melbourne-City-Newcastle-Jets-January-20-2019-W-League',\n",
       " 'https://fbref.com/en/matches/30c17187/Western-Sydney-Wanderers-Perth-Glory-January-24-2019-W-League',\n",
       " 'https://fbref.com/en/matches/412bfcce/Brisbane-Roar-Canberra-United-January-25-2019-W-League',\n",
       " 'https://fbref.com/en/matches/4b1e17d5/Adelaide-United-Newcastle-Jets-January-25-2019-W-League',\n",
       " 'https://fbref.com/en/matches/be162923/Melbourne-Victory-Sydney-FC-January-27-2019-W-League',\n",
       " 'https://fbref.com/en/matches/f86d046d/Sydney-FC-Melbourne-City-January-31-2019-W-League',\n",
       " 'https://fbref.com/en/matches/966cbc7d/Perth-Glory-Melbourne-Victory-February-1-2019-W-League',\n",
       " 'https://fbref.com/en/matches/681f4f9c/Adelaide-United-Brisbane-Roar-February-1-2019-W-League',\n",
       " 'https://fbref.com/en/matches/831ad5f8/Newcastle-Jets-Western-Sydney-Wanderers-February-2-2019-W-League',\n",
       " 'https://fbref.com/en/matches/1c3b3c65/Canberra-United-Melbourne-Victory-February-5-2019-W-League',\n",
       " 'https://fbref.com/en/matches/86d76e5e/Melbourne-Victory-Perth-Glory-February-10-2019-W-League',\n",
       " 'https://fbref.com/en/matches/92b6bf72/Brisbane-Roar-Sydney-FC-February-10-2019-W-League',\n",
       " 'https://fbref.com/en/matches/0c251817/Sydney-FC-Perth-Glory-February-16-2019-W-League',\n",
       " 'https://fbref.com/en/matches/a2fff4c9/Western-Sydney-Wanderers-Sydney-FC-October-25-2018-W-League',\n",
       " 'https://fbref.com/en/matches/c06a6b57/Brisbane-Roar-Perth-Glory-October-28-2018-W-League',\n",
       " 'https://fbref.com/en/matches/d6e5a2f5/Canberra-United-Melbourne-City-October-28-2018-W-League',\n",
       " 'https://fbref.com/en/matches/22c5ba69/Melbourne-Victory-Adelaide-United-October-28-2018-W-League',\n",
       " 'https://fbref.com/en/matches/b522ac84/Melbourne-Victory-Newcastle-Jets-November-1-2018-W-League',\n",
       " 'https://fbref.com/en/matches/5768bf65/Melbourne-City-Sydney-FC-November-2-2018-W-League',\n",
       " 'https://fbref.com/en/matches/552ed089/Western-Sydney-Wanderers-Brisbane-Roar-November-4-2018-W-League',\n",
       " 'https://fbref.com/en/matches/6598e959/Canberra-United-Perth-Glory-November-4-2018-W-League',\n",
       " 'https://fbref.com/en/matches/b1fb1c98/Melbourne-City-Melbourne-Victory-November-16-2018-W-League',\n",
       " 'https://fbref.com/en/matches/e0a7a510/Perth-Glory-Western-Sydney-Wanderers-November-17-2018-W-League',\n",
       " 'https://fbref.com/en/matches/cd9344dd/Newcastle-Jets-Canberra-United-November-17-2018-W-League',\n",
       " 'https://fbref.com/en/matches/0fe7c1fb/Brisbane-Roar-Adelaide-United-November-18-2018-W-League',\n",
       " 'https://fbref.com/en/matches/b3cb789d/Adelaide-United-Canberra-United-November-22-2018-W-League',\n",
       " 'https://fbref.com/en/matches/15b6a78e/Western-Sydney-Wanderers-Newcastle-Jets-November-24-2018-W-League',\n",
       " 'https://fbref.com/en/matches/8a6b23c4/Sydney-FC-Melbourne-Victory-November-25-2018-W-League',\n",
       " 'https://fbref.com/en/matches/70c111f6/Perth-Glory-Melbourne-City-November-25-2018-W-League',\n",
       " 'https://fbref.com/en/matches/fc51a912/Newcastle-Jets-Brisbane-Roar-November-29-2018-W-League',\n",
       " 'https://fbref.com/en/matches/38a47ee4/Melbourne-City-Adelaide-United-December-1-2018-W-League',\n",
       " 'https://fbref.com/en/matches/cd7fcb43/Canberra-United-Sydney-FC-December-2-2018-W-League',\n",
       " 'https://fbref.com/en/matches/15509acc/Melbourne-Victory-Western-Sydney-Wanderers-December-2-2018-W-League',\n",
       " 'https://fbref.com/en/matches/a130ff1b/Adelaide-United-Perth-Glory-December-6-2018-W-League',\n",
       " 'https://fbref.com/en/matches/425a1ca1/Western-Sydney-Wanderers-Canberra-United-December-7-2018-W-League',\n",
       " 'https://fbref.com/en/matches/015c61d9/Newcastle-Jets-Melbourne-City-December-9-2018-W-League',\n",
       " 'https://fbref.com/en/matches/2fd56c82/Sydney-FC-Brisbane-Roar-December-9-2018-W-League',\n",
       " 'https://fbref.com/en/matches/882e6d7f/Sydney-FC-Adelaide-United-December-13-2018-W-League',\n",
       " 'https://fbref.com/en/matches/2df0e9c3/Perth-Glory-Newcastle-Jets-December-15-2018-W-League',\n",
       " 'https://fbref.com/en/matches/465a433e/Brisbane-Roar-Melbourne-Victory-December-16-2018-W-League',\n",
       " 'https://fbref.com/en/matches/2b3bf115/Brisbane-Roar-Western-Sydney-Wanderers-December-20-2018-W-League',\n",
       " 'https://fbref.com/en/matches/c0d19dab/Perth-Glory-Sydney-FC-December-21-2018-W-League',\n",
       " 'https://fbref.com/en/matches/f5628a19/Adelaide-United-Melbourne-Victory-December-21-2018-W-League',\n",
       " 'https://fbref.com/en/matches/7673ff91/Melbourne-City-Canberra-United-December-22-2018-W-League',\n",
       " 'https://fbref.com/en/matches/3389ca9e/Canberra-United-Brisbane-Roar-December-27-2018-W-League',\n",
       " 'https://fbref.com/en/matches/cd717193/Melbourne-Victory-Perth-Glory-December-28-2018-W-League',\n",
       " 'https://fbref.com/en/matches/7a570bcf/Newcastle-Jets-Adelaide-United-December-31-2018-W-League',\n",
       " 'https://fbref.com/en/matches/41734d6b/Western-Sydney-Wanderers-Melbourne-City-January-1-2019-W-League',\n",
       " 'https://fbref.com/en/matches/5b6e3959/Perth-Glory-Canberra-United-January-3-2019-W-League',\n",
       " 'https://fbref.com/en/matches/0c7c3b9e/Sydney-FC-Newcastle-Jets-January-4-2019-W-League',\n",
       " 'https://fbref.com/en/matches/b46aee96/Melbourne-Victory-Melbourne-City-January-5-2019-W-League',\n",
       " 'https://fbref.com/en/matches/5e456045/Sydney-FC-Western-Sydney-Wanderers-January-10-2019-W-League',\n",
       " 'https://fbref.com/en/matches/9552fda8/Melbourne-City-Brisbane-Roar-January-11-2019-W-League',\n",
       " 'https://fbref.com/en/matches/5178d896/Newcastle-Jets-Perth-Glory-January-12-2019-W-League',\n",
       " 'https://fbref.com/en/matches/4f46d04e/Canberra-United-Adelaide-United-January-13-2019-W-League',\n",
       " 'https://fbref.com/en/matches/f05d8de9/Adelaide-United-Western-Sydney-Wanderers-January-19-2019-W-League',\n",
       " 'https://fbref.com/en/matches/34b11e73/Brisbane-Roar-Sydney-FC-January-19-2019-W-League',\n",
       " 'https://fbref.com/en/matches/305705fb/Melbourne-City-Newcastle-Jets-January-20-2019-W-League',\n",
       " 'https://fbref.com/en/matches/30c17187/Western-Sydney-Wanderers-Perth-Glory-January-24-2019-W-League',\n",
       " 'https://fbref.com/en/matches/412bfcce/Brisbane-Roar-Canberra-United-January-25-2019-W-League',\n",
       " 'https://fbref.com/en/matches/4b1e17d5/Adelaide-United-Newcastle-Jets-January-25-2019-W-League',\n",
       " 'https://fbref.com/en/matches/be162923/Melbourne-Victory-Sydney-FC-January-27-2019-W-League',\n",
       " 'https://fbref.com/en/matches/f86d046d/Sydney-FC-Melbourne-City-January-31-2019-W-League',\n",
       " 'https://fbref.com/en/matches/681f4f9c/Adelaide-United-Brisbane-Roar-February-1-2019-W-League',\n",
       " 'https://fbref.com/en/matches/966cbc7d/Perth-Glory-Melbourne-Victory-February-1-2019-W-League',\n",
       " 'https://fbref.com/en/matches/831ad5f8/Newcastle-Jets-Western-Sydney-Wanderers-February-2-2019-W-League',\n",
       " 'https://fbref.com/en/matches/1c3b3c65/Canberra-United-Melbourne-Victory-February-5-2019-W-League',\n",
       " 'https://fbref.com/en/matches/86d76e5e/Melbourne-Victory-Perth-Glory-February-10-2019-W-League',\n",
       " 'https://fbref.com/en/matches/92b6bf72/Brisbane-Roar-Sydney-FC-February-10-2019-W-League',\n",
       " 'https://fbref.com/en/matches/0c251817/Sydney-FC-Perth-Glory-February-16-2019-W-League']"
      ]
     },
     "execution_count": 4,
     "metadata": {},
     "output_type": "execute_result"
    }
   ],
   "source": [
    "links"
   ]
  }
 ],
 "metadata": {
  "kernelspec": {
   "display_name": "Python 3.9.15 ('base')",
   "language": "python",
   "name": "python3"
  },
  "language_info": {
   "codemirror_mode": {
    "name": "ipython",
    "version": 3
   },
   "file_extension": ".py",
   "mimetype": "text/x-python",
   "name": "python",
   "nbconvert_exporter": "python",
   "pygments_lexer": "ipython3",
   "version": "3.9.15"
  },
  "vscode": {
   "interpreter": {
    "hash": "cc273e64c6c48e9881aab795f8d0e622d86c0ebe91aa99d17d2821087e5340fb"
   }
  }
 },
 "nbformat": 4,
 "nbformat_minor": 5
}
