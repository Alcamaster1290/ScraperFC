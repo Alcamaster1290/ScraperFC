{
 "cells": [
  {
   "cell_type": "code",
   "execution_count": 1,
   "id": "84efcaf0",
   "metadata": {},
   "outputs": [],
   "source": [
    "import sys\n",
    "sys.path.append('..')\n",
    "import ScraperFC as sfc # import local ScraperFC\n",
    "import traceback\n",
    "\n",
    "from shared_test_functions import get_random_league_seasons\n",
    "import numpy as np\n",
    "from tqdm.auto import tqdm"
   ]
  },
  {
   "cell_type": "code",
   "execution_count": 2,
   "id": "2bcd55f2",
   "metadata": {},
   "outputs": [
    {
     "name": "stderr",
     "output_type": "stream",
     "text": [
      "\n",
      "\n",
      "====== WebDriver manager ======\n",
      "Current google-chrome version is 107.0.5304\n",
      "Get LATEST chromedriver version for 107.0.5304 google-chrome\n",
      "Driver [C:\\Users\\oseymour\\.wdm\\drivers\\chromedriver\\win32\\107.0.5304.62\\chromedriver.exe] found in cache\n",
      "\n",
      "\n",
      "====== WebDriver manager ======\n",
      "Current google-chrome version is 107.0.5304\n",
      "Get LATEST chromedriver version for 107.0.5304 google-chrome\n",
      "Driver [C:\\Users\\oseymour\\.wdm\\drivers\\chromedriver\\win32\\107.0.5304.62\\chromedriver.exe] found in cache\n"
     ]
    },
    {
     "data": {
      "application/vnd.jupyter.widget-view+json": {
       "model_id": "888325dfab954ee1ac1dd36b9c08577a",
       "version_major": 2,
       "version_minor": 0
      },
      "text/plain": [
       "  0%|          | 0/3 [00:00<?, ?it/s]"
      ]
     },
     "metadata": {},
     "output_type": "display_data"
    },
    {
     "name": "stdout",
     "output_type": "stream",
     "text": [
      "2019 Ligue 1\n"
     ]
    },
    {
     "name": "stderr",
     "output_type": "stream",
     "text": [
      "100%|██████████| 380/380 [17:08<00:00,  2.71s/it]\n"
     ]
    },
    {
     "name": "stdout",
     "output_type": "stream",
     "text": [
      "2015 La Liga\n"
     ]
    },
    {
     "name": "stderr",
     "output_type": "stream",
     "text": [
      "100%|██████████| 380/380 [17:18<00:00,  2.73s/it]\n"
     ]
    },
    {
     "name": "stdout",
     "output_type": "stream",
     "text": [
      "2022 La Liga\n"
     ]
    },
    {
     "name": "stderr",
     "output_type": "stream",
     "text": [
      "100%|██████████| 380/380 [17:08<00:00,  2.71s/it]\n"
     ]
    }
   ],
   "source": [
    "sample_size = 3\n",
    "\n",
    "scraper = sfc.Understat()\n",
    "try:\n",
    "    iterator = get_random_league_seasons('Understat', sample_size)\n",
    "    for league, year in tqdm(iterator):\n",
    "        print(year, league)\n",
    "\n",
    "        # Scrape things ================================================================================================\n",
    "        try:\n",
    "            match_links = scraper.get_match_links(year, league)\n",
    "        except sfc.InvalidYearException:\n",
    "            continue\n",
    "\n",
    "        team_links = scraper.get_team_links(year, league)\n",
    "\n",
    "        matches = scraper.scrape_matches(year, league)\n",
    "\n",
    "        # Check scraped things =========================================================================================\n",
    "        assert len(match_links) > 0\n",
    "\n",
    "        assert len(team_links) > 0\n",
    "\n",
    "        assert matches.shape[0] == len(match_links)\n",
    "        assert np.all(matches[['home win proba', 'draw proba', 'away win proba']].sum(axis=1) == 100)\n",
    "except:\n",
    "    traceback.print_exc()\n",
    "finally:\n",
    "    scraper.close()"
   ]
  }
 ],
 "metadata": {
  "kernelspec": {
   "display_name": "Python 3.9.15 ('base')",
   "language": "python",
   "name": "python3"
  },
  "language_info": {
   "codemirror_mode": {
    "name": "ipython",
    "version": 3
   },
   "file_extension": ".py",
   "mimetype": "text/x-python",
   "name": "python",
   "nbconvert_exporter": "python",
   "pygments_lexer": "ipython3",
   "version": "3.9.16"
  },
  "vscode": {
   "interpreter": {
    "hash": "cc273e64c6c48e9881aab795f8d0e622d86c0ebe91aa99d17d2821087e5340fb"
   }
  }
 },
 "nbformat": 4,
 "nbformat_minor": 5
}
