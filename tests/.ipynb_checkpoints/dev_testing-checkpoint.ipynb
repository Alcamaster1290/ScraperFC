{
 "cells": [
  {
   "cell_type": "code",
   "execution_count": 1,
   "metadata": {},
   "outputs": [],
   "source": [
    "import sys\n",
    "sys.path.append('..')\n",
    "import ScraperFC as sfc\n",
    "import traceback\n",
    "import pandas as pd\n",
    "import numpy as np"
   ]
  },
  {
   "cell_type": "code",
   "execution_count": 2,
   "metadata": {},
   "outputs": [
    {
     "name": "stderr",
     "output_type": "stream",
     "text": [
      "[WDM] - \n",
      "\n",
      "[WDM] - ====== WebDriver manager ======\n",
      "[WDM] - Current google-chrome version is 105.0.5195\n",
      "[WDM] - Get LATEST driver version for 105.0.5195\n",
      "[WDM] - Driver [C:\\Users\\Owner\\.wdm\\drivers\\chromedriver\\win32\\105.0.5195.52\\chromedriver.exe] found in cache\n"
     ]
    }
   ],
   "source": [
    "scraper = sfc.FBRef()\n",
    "try:\n",
    "    link = 'https://fbref.com/en/matches/0d0210e0/Wimbledon-Tottenham-Hotspur-October-24-1992-Premier-League'\n",
    "#     link = 'https://fbref.com/en/matches/8818bccb/Marseille-Toulouse-August-10-2018-Ligue-1'\n",
    "#     link = 'https://fbref.com/en/matches/e62f6e78/Crystal-Palace-Arsenal-August-5-2022-Premier-League'\n",
    "    match = scraper.scrape_match(link)\n",
    "except:\n",
    "    traceback.print_exc()\n",
    "scraper.close()"
   ]
  },
  {
   "cell_type": "code",
   "execution_count": 3,
   "metadata": {},
   "outputs": [
    {
     "data": {
      "text/html": [
       "<div>\n",
       "<style scoped>\n",
       "    .dataframe tbody tr th:only-of-type {\n",
       "        vertical-align: middle;\n",
       "    }\n",
       "\n",
       "    .dataframe tbody tr th {\n",
       "        vertical-align: top;\n",
       "    }\n",
       "\n",
       "    .dataframe thead th {\n",
       "        text-align: right;\n",
       "    }\n",
       "</style>\n",
       "<table border=\"1\" class=\"dataframe\">\n",
       "  <thead>\n",
       "    <tr style=\"text-align: right;\">\n",
       "      <th></th>\n",
       "      <th>Link</th>\n",
       "      <th>Date</th>\n",
       "      <th>Matchweek</th>\n",
       "      <th>Home Team</th>\n",
       "      <th>Away Team</th>\n",
       "      <th>Home Team ID</th>\n",
       "      <th>Away Team ID</th>\n",
       "      <th>Home Formation</th>\n",
       "      <th>Away Formation</th>\n",
       "      <th>Home Goals</th>\n",
       "      <th>...</th>\n",
       "      <th>Away Ast</th>\n",
       "      <th>Home xG</th>\n",
       "      <th>Away xG</th>\n",
       "      <th>Home npxG</th>\n",
       "      <th>Away npxG</th>\n",
       "      <th>Home xA</th>\n",
       "      <th>Away xA</th>\n",
       "      <th>Home Player Stats</th>\n",
       "      <th>Away Player Stats</th>\n",
       "      <th>Shots</th>\n",
       "    </tr>\n",
       "  </thead>\n",
       "  <tbody>\n",
       "    <tr>\n",
       "      <th>0</th>\n",
       "      <td>https://fbref.com/en/matches/0d0210e0/Wimbledo...</td>\n",
       "      <td>1992-10-24</td>\n",
       "      <td>13</td>\n",
       "      <td>Wimbledon</td>\n",
       "      <td>Tottenham Hotspur</td>\n",
       "      <td>3679c494</td>\n",
       "      <td>361ca564</td>\n",
       "      <td>None</td>\n",
       "      <td>None</td>\n",
       "      <td>1</td>\n",
       "      <td>...</td>\n",
       "      <td>NaN</td>\n",
       "      <td>None</td>\n",
       "      <td>None</td>\n",
       "      <td>None</td>\n",
       "      <td>None</td>\n",
       "      <td>None</td>\n",
       "      <td>None</td>\n",
       "      <td>Team Sheet                                    ...</td>\n",
       "      <td>Team Sheet                                    ...</td>\n",
       "      <td>Both    None\n",
       "Home    None\n",
       "Away    None\n",
       "dtype: ...</td>\n",
       "    </tr>\n",
       "  </tbody>\n",
       "</table>\n",
       "<p>1 rows × 22 columns</p>\n",
       "</div>"
      ],
      "text/plain": [
       "                                                Link        Date Matchweek  \\\n",
       "0  https://fbref.com/en/matches/0d0210e0/Wimbledo...  1992-10-24        13   \n",
       "\n",
       "   Home Team          Away Team Home Team ID Away Team ID Home Formation  \\\n",
       "0  Wimbledon  Tottenham Hotspur     3679c494     361ca564           None   \n",
       "\n",
       "  Away Formation Home Goals  ... Away Ast Home xG Away xG Home npxG Away npxG  \\\n",
       "0           None          1  ...      NaN    None    None      None      None   \n",
       "\n",
       "  Home xA Away xA                                  Home Player Stats  \\\n",
       "0    None    None  Team Sheet                                    ...   \n",
       "\n",
       "                                   Away Player Stats  \\\n",
       "0  Team Sheet                                    ...   \n",
       "\n",
       "                                               Shots  \n",
       "0  Both    None\n",
       "Home    None\n",
       "Away    None\n",
       "dtype: ...  \n",
       "\n",
       "[1 rows x 22 columns]"
      ]
     },
     "execution_count": 3,
     "metadata": {},
     "output_type": "execute_result"
    }
   ],
   "source": [
    "match"
   ]
  }
 ],
 "metadata": {
  "kernelspec": {
   "display_name": "Python 3 (ipykernel)",
   "language": "python",
   "name": "python3"
  },
  "language_info": {
   "codemirror_mode": {
    "name": "ipython",
    "version": 3
   },
   "file_extension": ".py",
   "mimetype": "text/x-python",
   "name": "python",
   "nbconvert_exporter": "python",
   "pygments_lexer": "ipython3",
   "version": "3.8.13"
  },
  "vscode": {
   "interpreter": {
    "hash": "585a938ec471c889bf0cce0aed741a99eaf47ca09c0fa8393793bc5bfe77ba11"
   }
  }
 },
 "nbformat": 4,
 "nbformat_minor": 4
}
