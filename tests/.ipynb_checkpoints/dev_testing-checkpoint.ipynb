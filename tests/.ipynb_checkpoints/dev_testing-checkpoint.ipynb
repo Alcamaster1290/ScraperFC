{
 "cells": [
  {
   "cell_type": "markdown",
   "metadata": {},
   "source": [
    "python setup.py sdist bdist_wheel\n",
    "\n",
    "twine upload --skip-existing dist/*"
   ]
  },
  {
   "cell_type": "code",
   "execution_count": 1,
   "metadata": {},
   "outputs": [],
   "source": [
    "import sys\n",
    "sys.path.append('..')\n",
    "import ScraperFC as sfc\n",
    "import traceback\n",
    "import pandas as pd\n",
    "import numpy as np"
   ]
  },
  {
   "cell_type": "code",
   "execution_count": 2,
   "metadata": {},
   "outputs": [
    {
     "name": "stderr",
     "output_type": "stream",
     "text": [
      "[WDM] - \n",
      "\n",
      "[WDM] - ====== WebDriver manager ======\n",
      "[WDM] - Current google-chrome version is 104.0.5112\n",
      "[WDM] - Get LATEST driver version for 104.0.5112\n",
      "[WDM] - Driver [C:\\Users\\Owner\\.wdm\\drivers\\chromedriver\\win32\\104.0.5112.79\\chromedriver.exe] found in cache\n"
     ]
    }
   ],
   "source": [
    "scraper = sfc.FBRef()\n",
    "try:\n",
    "    link = 'https://fbref.com/en/matches/b7e24dcd/Bologna-Perugia-October-19-2003-Serie-A'\n",
    "    match = scraper.scrape_match(link)\n",
    "    # match_links = scraper.get_match_links(2021, 'EPL')\n",
    "    # matches = scraper.scrape_matches(2021, 'EPL')\n",
    "except:\n",
    "    traceback.print_exc()\n",
    "scraper.close()"
   ]
  },
  {
   "cell_type": "code",
   "execution_count": 3,
   "metadata": {},
   "outputs": [
    {
     "data": {
      "text/html": [
       "<div>\n",
       "<style scoped>\n",
       "    .dataframe tbody tr th:only-of-type {\n",
       "        vertical-align: middle;\n",
       "    }\n",
       "\n",
       "    .dataframe tbody tr th {\n",
       "        vertical-align: top;\n",
       "    }\n",
       "\n",
       "    .dataframe thead th {\n",
       "        text-align: right;\n",
       "    }\n",
       "</style>\n",
       "<table border=\"1\" class=\"dataframe\">\n",
       "  <thead>\n",
       "    <tr style=\"text-align: right;\">\n",
       "      <th></th>\n",
       "      <th>Link</th>\n",
       "      <th>Date</th>\n",
       "      <th>Matchweek</th>\n",
       "      <th>Home Team</th>\n",
       "      <th>Away Team</th>\n",
       "      <th>Home Team ID</th>\n",
       "      <th>Away Team ID</th>\n",
       "      <th>Home Formation</th>\n",
       "      <th>Away Formation</th>\n",
       "      <th>Home Goals</th>\n",
       "      <th>...</th>\n",
       "      <th>Away Ast</th>\n",
       "      <th>Home xG</th>\n",
       "      <th>Away xG</th>\n",
       "      <th>Home npxG</th>\n",
       "      <th>Away npxG</th>\n",
       "      <th>Home xA</th>\n",
       "      <th>Away xA</th>\n",
       "      <th>Home Player Stats</th>\n",
       "      <th>Away Player Stats</th>\n",
       "      <th>Shots</th>\n",
       "    </tr>\n",
       "  </thead>\n",
       "  <tbody>\n",
       "    <tr>\n",
       "      <th>0</th>\n",
       "      <td>https://fbref.com/en/matches/b7e24dcd/Bologna-...</td>\n",
       "      <td>2003-10-19</td>\n",
       "      <td>6</td>\n",
       "      <td>Bologna</td>\n",
       "      <td>Perugia</td>\n",
       "      <td>1d8099f8</td>\n",
       "      <td>37cba288</td>\n",
       "      <td>None</td>\n",
       "      <td>None</td>\n",
       "      <td>2</td>\n",
       "      <td>...</td>\n",
       "      <td>NaN</td>\n",
       "      <td>None</td>\n",
       "      <td>None</td>\n",
       "      <td>None</td>\n",
       "      <td>None</td>\n",
       "      <td>None</td>\n",
       "      <td>None</td>\n",
       "      <td>Team Sheet                                    ...</td>\n",
       "      <td>Team Sheet                                    ...</td>\n",
       "      <td>Both    None\n",
       "Home    None\n",
       "Away    None\n",
       "dtype: ...</td>\n",
       "    </tr>\n",
       "  </tbody>\n",
       "</table>\n",
       "<p>1 rows × 22 columns</p>\n",
       "</div>"
      ],
      "text/plain": [
       "                                                Link        Date Matchweek  \\\n",
       "0  https://fbref.com/en/matches/b7e24dcd/Bologna-...  2003-10-19         6   \n",
       "\n",
       "  Home Team Away Team Home Team ID Away Team ID Home Formation Away Formation  \\\n",
       "0   Bologna   Perugia     1d8099f8     37cba288           None           None   \n",
       "\n",
       "  Home Goals  ... Away Ast Home xG Away xG Home npxG Away npxG Home xA  \\\n",
       "0          2  ...      NaN    None    None      None      None    None   \n",
       "\n",
       "  Away xA                                  Home Player Stats  \\\n",
       "0    None  Team Sheet                                    ...   \n",
       "\n",
       "                                   Away Player Stats  \\\n",
       "0  Team Sheet                                    ...   \n",
       "\n",
       "                                               Shots  \n",
       "0  Both    None\n",
       "Home    None\n",
       "Away    None\n",
       "dtype: ...  \n",
       "\n",
       "[1 rows x 22 columns]"
      ]
     },
     "execution_count": 3,
     "metadata": {},
     "output_type": "execute_result"
    }
   ],
   "source": [
    "match"
   ]
  }
 ],
 "metadata": {
  "kernelspec": {
   "display_name": "Python 3 (ipykernel)",
   "language": "python",
   "name": "python3"
  },
  "language_info": {
   "codemirror_mode": {
    "name": "ipython",
    "version": 3
   },
   "file_extension": ".py",
   "mimetype": "text/x-python",
   "name": "python",
   "nbconvert_exporter": "python",
   "pygments_lexer": "ipython3",
   "version": "3.8.13"
  },
  "vscode": {
   "interpreter": {
    "hash": "585a938ec471c889bf0cce0aed741a99eaf47ca09c0fa8393793bc5bfe77ba11"
   }
  }
 },
 "nbformat": 4,
 "nbformat_minor": 4
}
