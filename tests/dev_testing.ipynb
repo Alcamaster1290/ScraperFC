{
 "cells": [
  {
   "cell_type": "code",
   "execution_count": 1,
   "metadata": {},
   "outputs": [],
   "source": [
    "import sys\n",
    "sys.path.append('..')\n",
    "import ScraperFC as sfc # import local scraperfc\n",
    "import traceback\n",
    "from tqdm.auto import tqdm\n",
    "import pandas as pd\n",
    "from bs4 import BeautifulSoup\n",
    "from selenium.webdriver.common.by import By"
   ]
  },
  {
   "cell_type": "code",
   "execution_count": 2,
   "metadata": {},
   "outputs": [
    {
     "data": {
      "application/vnd.jupyter.widget-view+json": {
       "model_id": "37449eb027654980a698be0343dc98e4",
       "version_major": 2,
       "version_minor": 0
      },
      "text/plain": [
       "  0%|          | 0/1 [00:00<?, ?it/s]"
      ]
     },
     "metadata": {},
     "output_type": "display_data"
    },
    {
     "name": "stderr",
     "output_type": "stream",
     "text": [
      "Traceback (most recent call last):\n",
      "  File \"/tmp/ipykernel_25359/117832682.py\", line 10, in <module>\n",
      "    season_df = op.get_match_links(year, league)\n",
      "  File \"/home/oseymour/Documents/ScraperFC/tests/../ScraperFC/Oddsportal.py\", line 98, in get_match_links\n",
      "    self.driver.execute_script('arguments[0].click()', next_button)\n",
      "  File \"/home/oseymour/anaconda3/envs/scraperfc/lib/python3.10/site-packages/selenium/webdriver/remote/webdriver.py\", line 406, in execute_script\n",
      "    return self.execute(command, {\"script\": script, \"args\": converted_args})[\"value\"]\n",
      "  File \"/home/oseymour/anaconda3/envs/scraperfc/lib/python3.10/site-packages/selenium/webdriver/remote/webdriver.py\", line 346, in execute\n",
      "    self.error_handler.check_response(response)\n",
      "  File \"/home/oseymour/anaconda3/envs/scraperfc/lib/python3.10/site-packages/selenium/webdriver/remote/errorhandler.py\", line 245, in check_response\n",
      "    raise exception_class(message, screen, stacktrace)\n",
      "selenium.common.exceptions.StaleElementReferenceException: Message: stale element reference: stale element not found\n",
      "  (Session info: chrome=115.0.5790.102); For documentation on this error, please visit: https://www.selenium.dev/documentation/webdriver/troubleshooting/errors#stale-element-reference-exception\n",
      "Stacktrace:\n",
      "#0 0x55a0bdae2783 <unknown>\n",
      "#1 0x55a0bd80e917 <unknown>\n",
      "#2 0x55a0bd812ebe <unknown>\n",
      "#3 0x55a0bd8149f9 <unknown>\n",
      "#4 0x55a0bd886bb2 <unknown>\n",
      "#5 0x55a0bd86de02 <unknown>\n",
      "#6 0x55a0bd8860d9 <unknown>\n",
      "#7 0x55a0bd86dbd3 <unknown>\n",
      "#8 0x55a0bd841a7b <unknown>\n",
      "#9 0x55a0bd84281e <unknown>\n",
      "#10 0x55a0bdaa3e98 <unknown>\n",
      "#11 0x55a0bdaa7d67 <unknown>\n",
      "#12 0x55a0bdab232c <unknown>\n",
      "#13 0x55a0bdaa8993 <unknown>\n",
      "#14 0x55a0bda77827 <unknown>\n",
      "#15 0x55a0bdacc8a8 <unknown>\n",
      "#16 0x55a0bdacca36 <unknown>\n",
      "#17 0x55a0bdadb5f3 <unknown>\n",
      "#18 0x7f3c0b694b43 <unknown>\n",
      "\n"
     ]
    }
   ],
   "source": [
    "from shared_test_functions import get_random_league_seasons\n",
    "\n",
    "samples = get_random_league_seasons('Oddsportal', 1)\n",
    "\n",
    "op = sfc.Oddsportal()\n",
    "try:\n",
    "    for year, league in tqdm(samples):\n",
    "        # print('-'*80)\n",
    "        # print(year, league)\n",
    "        season_df = op.get_match_links(year, league)\n",
    "except:\n",
    "    traceback.print_exc()\n",
    "# finally:\n",
    "#     op.close()"
   ]
  },
  {
   "cell_type": "code",
   "execution_count": 3,
   "metadata": {},
   "outputs": [
    {
     "ename": "NoSuchWindowException",
     "evalue": "Message: no such window: target window already closed\nfrom unknown error: web view not found\n  (Session info: chrome=115.0.5790.102)\nStacktrace:\n#0 0x55a0bdae2783 <unknown>\n#1 0x55a0bd80e917 <unknown>\n#2 0x55a0bd7e67b1 <unknown>\n#3 0x55a0bd872bff <unknown>\n#4 0x55a0bd885c26 <unknown>\n#5 0x55a0bd86dbd3 <unknown>\n#6 0x55a0bd841a7b <unknown>\n#7 0x55a0bd84281e <unknown>\n#8 0x55a0bdaa3e98 <unknown>\n#9 0x55a0bdaa7d67 <unknown>\n#10 0x55a0bdab232c <unknown>\n#11 0x55a0bdaa8993 <unknown>\n#12 0x55a0bda77827 <unknown>\n#13 0x55a0bdacc8a8 <unknown>\n#14 0x55a0bdacca36 <unknown>\n#15 0x55a0bdadb5f3 <unknown>\n#16 0x7f3c0b694b43 <unknown>\n",
     "output_type": "error",
     "traceback": [
      "\u001b[0;31m---------------------------------------------------------------------------\u001b[0m",
      "\u001b[0;31mNoSuchWindowException\u001b[0m                     Traceback (most recent call last)",
      "Cell \u001b[0;32mIn[3], line 1\u001b[0m\n\u001b[0;32m----> 1\u001b[0m soup \u001b[39m=\u001b[39m BeautifulSoup(op\u001b[39m.\u001b[39;49mdriver\u001b[39m.\u001b[39;49mpage_source, \u001b[39m'\u001b[39m\u001b[39mhtml.parser\u001b[39m\u001b[39m'\u001b[39m) \u001b[39m# update soup\u001b[39;00m\n\u001b[1;32m      2\u001b[0m next_button \u001b[39m=\u001b[39m [el \u001b[39mfor\u001b[39;00m el \u001b[39min\u001b[39;00m soup\u001b[39m.\u001b[39mfind_all([\u001b[39m'\u001b[39m\u001b[39mp\u001b[39m\u001b[39m'\u001b[39m,\u001b[39m'\u001b[39m\u001b[39ma\u001b[39m\u001b[39m'\u001b[39m]) \u001b[39mif\u001b[39;00m \u001b[39m'\u001b[39m\u001b[39mnext\u001b[39m\u001b[39m'\u001b[39m\u001b[39m==\u001b[39mel\u001b[39m.\u001b[39mtext\u001b[39m.\u001b[39mlower()]\n\u001b[1;32m      3\u001b[0m next_button\n",
      "File \u001b[0;32m~/anaconda3/envs/scraperfc/lib/python3.10/site-packages/selenium/webdriver/remote/webdriver.py:447\u001b[0m, in \u001b[0;36mWebDriver.page_source\u001b[0;34m(self)\u001b[0m\n\u001b[1;32m    438\u001b[0m \u001b[39m@property\u001b[39m\n\u001b[1;32m    439\u001b[0m \u001b[39mdef\u001b[39;00m \u001b[39mpage_source\u001b[39m(\u001b[39mself\u001b[39m) \u001b[39m-\u001b[39m\u001b[39m>\u001b[39m \u001b[39mstr\u001b[39m:\n\u001b[1;32m    440\u001b[0m \u001b[39m    \u001b[39m\u001b[39m\"\"\"Gets the source of the current page.\u001b[39;00m\n\u001b[1;32m    441\u001b[0m \n\u001b[1;32m    442\u001b[0m \u001b[39m    :Usage:\u001b[39;00m\n\u001b[0;32m   (...)\u001b[0m\n\u001b[1;32m    445\u001b[0m \u001b[39m            driver.page_source\u001b[39;00m\n\u001b[1;32m    446\u001b[0m \u001b[39m    \"\"\"\u001b[39;00m\n\u001b[0;32m--> 447\u001b[0m     \u001b[39mreturn\u001b[39;00m \u001b[39mself\u001b[39;49m\u001b[39m.\u001b[39;49mexecute(Command\u001b[39m.\u001b[39;49mGET_PAGE_SOURCE)[\u001b[39m\"\u001b[39m\u001b[39mvalue\u001b[39m\u001b[39m\"\u001b[39m]\n",
      "File \u001b[0;32m~/anaconda3/envs/scraperfc/lib/python3.10/site-packages/selenium/webdriver/remote/webdriver.py:346\u001b[0m, in \u001b[0;36mWebDriver.execute\u001b[0;34m(self, driver_command, params)\u001b[0m\n\u001b[1;32m    344\u001b[0m response \u001b[39m=\u001b[39m \u001b[39mself\u001b[39m\u001b[39m.\u001b[39mcommand_executor\u001b[39m.\u001b[39mexecute(driver_command, params)\n\u001b[1;32m    345\u001b[0m \u001b[39mif\u001b[39;00m response:\n\u001b[0;32m--> 346\u001b[0m     \u001b[39mself\u001b[39;49m\u001b[39m.\u001b[39;49merror_handler\u001b[39m.\u001b[39;49mcheck_response(response)\n\u001b[1;32m    347\u001b[0m     response[\u001b[39m\"\u001b[39m\u001b[39mvalue\u001b[39m\u001b[39m\"\u001b[39m] \u001b[39m=\u001b[39m \u001b[39mself\u001b[39m\u001b[39m.\u001b[39m_unwrap_value(response\u001b[39m.\u001b[39mget(\u001b[39m\"\u001b[39m\u001b[39mvalue\u001b[39m\u001b[39m\"\u001b[39m, \u001b[39mNone\u001b[39;00m))\n\u001b[1;32m    348\u001b[0m     \u001b[39mreturn\u001b[39;00m response\n",
      "File \u001b[0;32m~/anaconda3/envs/scraperfc/lib/python3.10/site-packages/selenium/webdriver/remote/errorhandler.py:245\u001b[0m, in \u001b[0;36mErrorHandler.check_response\u001b[0;34m(self, response)\u001b[0m\n\u001b[1;32m    243\u001b[0m         alert_text \u001b[39m=\u001b[39m value[\u001b[39m\"\u001b[39m\u001b[39malert\u001b[39m\u001b[39m\"\u001b[39m]\u001b[39m.\u001b[39mget(\u001b[39m\"\u001b[39m\u001b[39mtext\u001b[39m\u001b[39m\"\u001b[39m)\n\u001b[1;32m    244\u001b[0m     \u001b[39mraise\u001b[39;00m exception_class(message, screen, stacktrace, alert_text)  \u001b[39m# type: ignore[call-arg]  # mypy is not smart enough here\u001b[39;00m\n\u001b[0;32m--> 245\u001b[0m \u001b[39mraise\u001b[39;00m exception_class(message, screen, stacktrace)\n",
      "\u001b[0;31mNoSuchWindowException\u001b[0m: Message: no such window: target window already closed\nfrom unknown error: web view not found\n  (Session info: chrome=115.0.5790.102)\nStacktrace:\n#0 0x55a0bdae2783 <unknown>\n#1 0x55a0bd80e917 <unknown>\n#2 0x55a0bd7e67b1 <unknown>\n#3 0x55a0bd872bff <unknown>\n#4 0x55a0bd885c26 <unknown>\n#5 0x55a0bd86dbd3 <unknown>\n#6 0x55a0bd841a7b <unknown>\n#7 0x55a0bd84281e <unknown>\n#8 0x55a0bdaa3e98 <unknown>\n#9 0x55a0bdaa7d67 <unknown>\n#10 0x55a0bdab232c <unknown>\n#11 0x55a0bdaa8993 <unknown>\n#12 0x55a0bda77827 <unknown>\n#13 0x55a0bdacc8a8 <unknown>\n#14 0x55a0bdacca36 <unknown>\n#15 0x55a0bdadb5f3 <unknown>\n#16 0x7f3c0b694b43 <unknown>\n"
     ]
    }
   ],
   "source": [
    "soup = BeautifulSoup(op.driver.page_source, 'html.parser') # update soup\n",
    "next_button = [el for el in soup.find_all(['p','a']) if 'next'==el.text.lower()]\n",
    "next_button"
   ]
  },
  {
   "cell_type": "code",
   "execution_count": null,
   "metadata": {},
   "outputs": [],
   "source": [
    "next_button = op.driver.find_element(By.XPATH, sfc.xpath_soup(next_button[0]))\n",
    "soup.driver.execute_script('arguments[0].scrollIntoView()', next_button)\n",
    "soup.driver.execute_script('arguments[0].click()', next_button)"
   ]
  },
  {
   "cell_type": "code",
   "execution_count": 9,
   "metadata": {},
   "outputs": [],
   "source": [
    "op.close()"
   ]
  },
  {
   "cell_type": "code",
   "execution_count": null,
   "metadata": {},
   "outputs": [],
   "source": [
    "# op = sfc.Oddsportal()\n",
    "# try:\n",
    "#     # match_link = links[np.random.randint(0, num_links+1)]\n",
    "#     # match_link = 'https://oddsportal.com/football/england/premier-league-2005-2006/chelsea-birmingham-be9APe6e' # no O/U odds\n",
    "#     # match_link = 'https://www.oddsportal.com/football/england/premier-league/west-ham-southampton-tfnoGQAd' # weird date format\n",
    "#     # match_link = 'https://www.oddsportal.com/football/england/premier-league/aston-villa-bournemouth-Kdi8EDZi/' # everything should work\n",
    "#     # match_df = op.scrape_match(match_link)\n",
    "#     # moneyline_df = op.get_1X2odds_from_match(match_link)\n",
    "#     # over_under_df = op.get_OUodds_from_match(match_link)\n",
    "\n",
    "#     season_df = op.scrape_season_odds(2020, 'EPL')\n",
    "# except:\n",
    "#     traceback.print_exc()\n",
    "# finally:\n",
    "#     op.close()"
   ]
  }
 ],
 "metadata": {
  "kernelspec": {
   "display_name": "Python 3 (ipykernel)",
   "language": "python",
   "name": "python3"
  },
  "language_info": {
   "codemirror_mode": {
    "name": "ipython",
    "version": 3
   },
   "file_extension": ".py",
   "mimetype": "text/x-python",
   "name": "python",
   "nbconvert_exporter": "python",
   "pygments_lexer": "ipython3",
   "version": "3.10.11"
  },
  "vscode": {
   "interpreter": {
    "hash": "585a938ec471c889bf0cce0aed741a99eaf47ca09c0fa8393793bc5bfe77ba11"
   }
  }
 },
 "nbformat": 4,
 "nbformat_minor": 4
}
