{
 "cells": [
  {
   "cell_type": "markdown",
   "metadata": {},
   "source": [
    "python setup.py clean --all\n",
    "\n",
    "python setup.py sdist bdist_wheel\n",
    "\n",
    "twine upload --skip-existing dist/*"
   ]
  },
  {
   "cell_type": "code",
   "execution_count": 1,
   "metadata": {},
   "outputs": [],
   "source": [
    "import sys\n",
    "sys.path.append('..')\n",
    "import ScraperFC as sfc\n",
    "import traceback\n",
    "import pandas as pd\n",
    "import numpy as np"
   ]
  },
  {
   "cell_type": "code",
   "execution_count": 4,
   "metadata": {},
   "outputs": [
    {
     "name": "stderr",
     "output_type": "stream",
     "text": [
      "[WDM] - \n",
      "\n",
      "[WDM] - ====== WebDriver manager ======\n",
      "[WDM] - Current google-chrome version is 104.0.5112\n",
      "[WDM] - Get LATEST driver version for 104.0.5112\n",
      "[WDM] - Driver [C:\\Users\\Owner\\.wdm\\drivers\\chromedriver\\win32\\104.0.5112.79\\chromedriver.exe] found in cache\n"
     ]
    }
   ],
   "source": [
    "scraper = sfc.FBRef()\n",
    "try:\n",
    "#     link = 'https://fbref.com/en/matches/b3f1bb11/Sporting-KC-Minnesota-United-November-1-2020-Major-League-Soccer'\n",
    "    link = 'https://fbref.com/en/matches/4d591949/New-England-Revolution-DC-United-November-1-2020-Major-League-Soccer'\n",
    "    match = scraper.scrape_match(link)\n",
    "except:\n",
    "    traceback.print_exc()\n",
    "scraper.close()"
   ]
  },
  {
   "cell_type": "code",
   "execution_count": 5,
   "metadata": {},
   "outputs": [
    {
     "data": {
      "text/html": [
       "<div>\n",
       "<style scoped>\n",
       "    .dataframe tbody tr th:only-of-type {\n",
       "        vertical-align: middle;\n",
       "    }\n",
       "\n",
       "    .dataframe tbody tr th {\n",
       "        vertical-align: top;\n",
       "    }\n",
       "\n",
       "    .dataframe thead th {\n",
       "        text-align: right;\n",
       "    }\n",
       "</style>\n",
       "<table border=\"1\" class=\"dataframe\">\n",
       "  <thead>\n",
       "    <tr style=\"text-align: right;\">\n",
       "      <th></th>\n",
       "      <th>Link</th>\n",
       "      <th>Date</th>\n",
       "      <th>Matchweek</th>\n",
       "      <th>Home Team</th>\n",
       "      <th>Away Team</th>\n",
       "      <th>Home Team ID</th>\n",
       "      <th>Away Team ID</th>\n",
       "      <th>Home Formation</th>\n",
       "      <th>Away Formation</th>\n",
       "      <th>Home Goals</th>\n",
       "      <th>...</th>\n",
       "      <th>Away Ast</th>\n",
       "      <th>Home xG</th>\n",
       "      <th>Away xG</th>\n",
       "      <th>Home npxG</th>\n",
       "      <th>Away npxG</th>\n",
       "      <th>Home xA</th>\n",
       "      <th>Away xA</th>\n",
       "      <th>Home Player Stats</th>\n",
       "      <th>Away Player Stats</th>\n",
       "      <th>Shots</th>\n",
       "    </tr>\n",
       "  </thead>\n",
       "  <tbody>\n",
       "    <tr>\n",
       "      <th>0</th>\n",
       "      <td>https://fbref.com/en/matches/4d591949/New-Engl...</td>\n",
       "      <td>2020-11-01</td>\n",
       "      <td>Regular Season</td>\n",
       "      <td>New England Revolution</td>\n",
       "      <td>D.C. United</td>\n",
       "      <td>3c079def</td>\n",
       "      <td>44117292</td>\n",
       "      <td>4-2-3-1</td>\n",
       "      <td>4-4-2</td>\n",
       "      <td>4</td>\n",
       "      <td>...</td>\n",
       "      <td>2</td>\n",
       "      <td>3.4</td>\n",
       "      <td>1.0</td>\n",
       "      <td>2.4</td>\n",
       "      <td>1.0</td>\n",
       "      <td>1.9</td>\n",
       "      <td>0.8</td>\n",
       "      <td>Team Sheet       New England (4-2-3-1) New Eng...</td>\n",
       "      <td>Team Sheet       D.C. United (4-4-2) D.C. Unit...</td>\n",
       "      <td>Both       Unnamed: 0_level_0 Unnamed: 1_level...</td>\n",
       "    </tr>\n",
       "  </tbody>\n",
       "</table>\n",
       "<p>1 rows × 22 columns</p>\n",
       "</div>"
      ],
      "text/plain": [
       "                                                Link        Date  \\\n",
       "0  https://fbref.com/en/matches/4d591949/New-Engl...  2020-11-01   \n",
       "\n",
       "        Matchweek               Home Team    Away Team Home Team ID  \\\n",
       "0  Regular Season  New England Revolution  D.C. United     3c079def   \n",
       "\n",
       "  Away Team ID Home Formation Away Formation Home Goals  ... Away Ast Home xG  \\\n",
       "0     44117292        4-2-3-1          4-4-2          4  ...        2     3.4   \n",
       "\n",
       "  Away xG Home npxG Away npxG Home xA Away xA  \\\n",
       "0     1.0       2.4       1.0     1.9     0.8   \n",
       "\n",
       "                                   Home Player Stats  \\\n",
       "0  Team Sheet       New England (4-2-3-1) New Eng...   \n",
       "\n",
       "                                   Away Player Stats  \\\n",
       "0  Team Sheet       D.C. United (4-4-2) D.C. Unit...   \n",
       "\n",
       "                                               Shots  \n",
       "0  Both       Unnamed: 0_level_0 Unnamed: 1_level...  \n",
       "\n",
       "[1 rows x 22 columns]"
      ]
     },
     "execution_count": 5,
     "metadata": {},
     "output_type": "execute_result"
    }
   ],
   "source": [
    "match"
   ]
  },
  {
   "cell_type": "code",
   "execution_count": 4,
   "metadata": {},
   "outputs": [
    {
     "ename": "NameError",
     "evalue": "name 'scores' is not defined",
     "output_type": "error",
     "traceback": [
      "\u001b[1;31m---------------------------------------------------------------------------\u001b[0m",
      "\u001b[1;31mNameError\u001b[0m                                 Traceback (most recent call last)",
      "Input \u001b[1;32mIn [4]\u001b[0m, in \u001b[0;36m<cell line: 8>\u001b[1;34m()\u001b[0m\n\u001b[0;32m      4\u001b[0m response \u001b[38;5;241m=\u001b[39m requests\u001b[38;5;241m.\u001b[39mget(\u001b[38;5;124m'\u001b[39m\u001b[38;5;124mhttps://fbref.com/en/matches/e4dc55d0/Arsenal-Burnley-December-13-2020-Premier-League\u001b[39m\u001b[38;5;124m'\u001b[39m)\n\u001b[0;32m      5\u001b[0m soup \u001b[38;5;241m=\u001b[39m BeautifulSoup(response\u001b[38;5;241m.\u001b[39mcontent, \u001b[38;5;124m'\u001b[39m\u001b[38;5;124mhtml.parser\u001b[39m\u001b[38;5;124m'\u001b[39m)\n\u001b[1;32m----> 8\u001b[0m \u001b[38;5;28mint\u001b[39m(\u001b[43mscores\u001b[49m[\u001b[38;5;241m0\u001b[39m]\u001b[38;5;241m.\u001b[39mgetText())\n",
      "\u001b[1;31mNameError\u001b[0m: name 'scores' is not defined"
     ]
    }
   ],
   "source": [
    "# import requests\n",
    "# from bs4 import BeautifulSoup\n",
    "\n",
    "# response = requests.get(link)\n",
    "# soup = BeautifulSoup(response.content, 'html.parser')\n",
    "\n",
    "\n",
    "# int(scores[0].getText())"
   ]
  }
 ],
 "metadata": {
  "kernelspec": {
   "display_name": "Python 3 (ipykernel)",
   "language": "python",
   "name": "python3"
  },
  "language_info": {
   "codemirror_mode": {
    "name": "ipython",
    "version": 3
   },
   "file_extension": ".py",
   "mimetype": "text/x-python",
   "name": "python",
   "nbconvert_exporter": "python",
   "pygments_lexer": "ipython3",
   "version": "3.8.13"
  },
  "vscode": {
   "interpreter": {
    "hash": "585a938ec471c889bf0cce0aed741a99eaf47ca09c0fa8393793bc5bfe77ba11"
   }
  }
 },
 "nbformat": 4,
 "nbformat_minor": 4
}
