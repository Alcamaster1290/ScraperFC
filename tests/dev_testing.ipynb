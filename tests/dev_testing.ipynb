{
 "cells": [
  {
   "cell_type": "code",
   "execution_count": 1,
   "metadata": {},
   "outputs": [],
   "source": [
    "import sys\n",
    "sys.path.append('..')\n",
    "import ScraperFC as sfc # import local scraperfc\n",
    "import traceback\n",
    "from tqdm.auto import tqdm"
   ]
  },
  {
   "cell_type": "code",
   "execution_count": 2,
   "metadata": {},
   "outputs": [],
   "source": [
    "# # from shared_test_functions import get_random_league_seasons\n",
    "\n",
    "# # samples = get_random_league_seasons('Oddsportal', 3)\n",
    "\n",
    "# op = sfc.Oddsportal()\n",
    "# # fbref = sfc.FBRef()\n",
    "# counts = dict()\n",
    "# try:\n",
    "#     # for year, league in tqdm(samples):\n",
    "#     league = 'EPL'\n",
    "#     for year in tqdm(range(2004,2023)):\n",
    "#         # print('-'*80)\n",
    "#         # print(year, league)\n",
    "#         # fbref_links = fbref.get_match_links(year,league)\n",
    "#         op_links = op.get_match_links(year, league)\n",
    "#         counts[year] = len(op_links)\n",
    "#         # break\n",
    "# except:\n",
    "#     traceback.print_exc()\n",
    "# finally:\n",
    "#     op.close()\n",
    "#     # fbref.close()"
   ]
  },
  {
   "cell_type": "code",
   "execution_count": 6,
   "metadata": {},
   "outputs": [],
   "source": [
    "op = sfc.Oddsportal()\n",
    "try:\n",
    "    # rand_match_link = links[np.random.randint(0, num_links+1)]\n",
    "    # rand_match_link = 'https://oddsportal.com/football/england/premier-league-2005-2006/chelsea-birmingham-be9APe6e' # no O/U odds\n",
    "    # rand_match_link = 'https://www.oddsportal.com/football/england/premier-league/west-ham-southampton-tfnoGQAd' # weird date format\n",
    "    rand_match_link = 'https://www.oddsportal.com/football/england/premier-league/aston-villa-bournemouth-Kdi8EDZi/' # everything should work\n",
    "    # match = op.scrape_match(rand_match_link)\n",
    "\n",
    "    moneyline_df = op.get_1X2odds_from_match(rand_match_link)\n",
    "    over_under_df = op.get_OUodds_from_match(rand_match_link)\n",
    "except:\n",
    "    traceback.print_exc()\n",
    "finally:\n",
    "    op.close()"
   ]
  },
  {
   "cell_type": "code",
   "execution_count": 7,
   "metadata": {},
   "outputs": [
    {
     "data": {
      "text/html": [
       "<div>\n",
       "<style scoped>\n",
       "    .dataframe tbody tr th:only-of-type {\n",
       "        vertical-align: middle;\n",
       "    }\n",
       "\n",
       "    .dataframe tbody tr th {\n",
       "        vertical-align: top;\n",
       "    }\n",
       "\n",
       "    .dataframe thead th {\n",
       "        text-align: right;\n",
       "    }\n",
       "</style>\n",
       "<table border=\"1\" class=\"dataframe\">\n",
       "  <thead>\n",
       "    <tr style=\"text-align: right;\">\n",
       "      <th></th>\n",
       "      <th>GGBET +0.25 over</th>\n",
       "      <th>GGBET +0.25 under</th>\n",
       "      <th>GGBET +0.25 po %</th>\n",
       "      <th>Average +0.25 over</th>\n",
       "      <th>Average +0.25 under</th>\n",
       "      <th>Average +0.25 po %</th>\n",
       "      <th>Highest +0.25 over</th>\n",
       "      <th>Highest +0.25 under</th>\n",
       "      <th>Highest +0.25 po %</th>\n",
       "      <th>10x10bet +0.5 over</th>\n",
       "      <th>...</th>\n",
       "      <th>1xBet +7.5 po %</th>\n",
       "      <th>bet365 +7.5 over</th>\n",
       "      <th>bet365 +7.5 under</th>\n",
       "      <th>bet365 +7.5 po %</th>\n",
       "      <th>Average +7.5 over</th>\n",
       "      <th>Average +7.5 under</th>\n",
       "      <th>Average +7.5 po %</th>\n",
       "      <th>Highest +7.5 over</th>\n",
       "      <th>Highest +7.5 under</th>\n",
       "      <th>Highest +7.5 po %</th>\n",
       "    </tr>\n",
       "  </thead>\n",
       "  <tbody>\n",
       "    <tr>\n",
       "      <th>0</th>\n",
       "      <td>-5000.0</td>\n",
       "      <td>1096.0</td>\n",
       "      <td>94.0</td>\n",
       "      <td>-5000.0</td>\n",
       "      <td>1096.0</td>\n",
       "      <td>94.0</td>\n",
       "      <td>-5000.0</td>\n",
       "      <td>1096.0</td>\n",
       "      <td>94.0</td>\n",
       "      <td>-1667.0</td>\n",
       "      <td>...</td>\n",
       "      <td>98.1</td>\n",
       "      <td>5000.0</td>\n",
       "      <td>NaN</td>\n",
       "      <td>98.1</td>\n",
       "      <td>5000.0</td>\n",
       "      <td>NaN</td>\n",
       "      <td>98.1</td>\n",
       "      <td>5000.0</td>\n",
       "      <td>NaN</td>\n",
       "      <td>98.1</td>\n",
       "    </tr>\n",
       "  </tbody>\n",
       "</table>\n",
       "<p>1 rows × 768 columns</p>\n",
       "</div>"
      ],
      "text/plain": [
       "   GGBET +0.25 over  GGBET +0.25 under  GGBET +0.25 po %  Average +0.25 over   \n",
       "0           -5000.0             1096.0              94.0             -5000.0  \\\n",
       "\n",
       "   Average +0.25 under  Average +0.25 po %  Highest +0.25 over   \n",
       "0               1096.0                94.0             -5000.0  \\\n",
       "\n",
       "   Highest +0.25 under  Highest +0.25 po %  10x10bet +0.5 over  ...   \n",
       "0               1096.0                94.0             -1667.0  ...  \\\n",
       "\n",
       "   1xBet +7.5 po %  bet365 +7.5 over  bet365 +7.5 under  bet365 +7.5 po %   \n",
       "0             98.1            5000.0                NaN              98.1  \\\n",
       "\n",
       "   Average +7.5 over  Average +7.5 under  Average +7.5 po %   \n",
       "0             5000.0                 NaN               98.1  \\\n",
       "\n",
       "   Highest +7.5 over  Highest +7.5 under  Highest +7.5 po %  \n",
       "0             5000.0                 NaN               98.1  \n",
       "\n",
       "[1 rows x 768 columns]"
      ]
     },
     "execution_count": 7,
     "metadata": {},
     "output_type": "execute_result"
    }
   ],
   "source": [
    "over_under_df"
   ]
  }
 ],
 "metadata": {
  "kernelspec": {
   "display_name": "Python 3 (ipykernel)",
   "language": "python",
   "name": "python3"
  },
  "language_info": {
   "codemirror_mode": {
    "name": "ipython",
    "version": 3
   },
   "file_extension": ".py",
   "mimetype": "text/x-python",
   "name": "python",
   "nbconvert_exporter": "python",
   "pygments_lexer": "ipython3",
   "version": "3.10.11"
  },
  "vscode": {
   "interpreter": {
    "hash": "585a938ec471c889bf0cce0aed741a99eaf47ca09c0fa8393793bc5bfe77ba11"
   }
  }
 },
 "nbformat": 4,
 "nbformat_minor": 4
}
