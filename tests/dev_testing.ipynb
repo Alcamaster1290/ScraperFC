{
 "cells": [
  {
   "cell_type": "code",
   "execution_count": 1,
   "metadata": {},
   "outputs": [],
   "source": [
    "import sys\n",
    "sys.path.append(\"..\")\n",
    "import ScraperFC as sfc # import local scraperfc\n",
    "import traceback\n",
    "\n",
    "import numpy as np"
   ]
  },
  {
   "cell_type": "code",
   "execution_count": null,
   "metadata": {},
   "outputs": [
    {
     "name": "stderr",
     "output_type": "stream",
     "text": [
      "[WDM] - \n",
      "\n",
      "[WDM] - ====== WebDriver manager ======\n",
      "[WDM] - Current google-chrome version is 106.0.5249\n",
      "[WDM] - Get LATEST driver version for 106.0.5249\n",
      "[WDM] - Driver [C:\\Users\\Owner\\.wdm\\drivers\\chromedriver\\win32\\106.0.5249.61\\chromedriver.exe] found in cache\n",
      "100%|████████████████████████████████████████████████████████████████████████████████| 140/140 [01:08<00:00,  2.04it/s]\n",
      "[WDM] - \n",
      "\n",
      "[WDM] - ====== WebDriver manager ======\n",
      "[WDM] - Current google-chrome version is 106.0.5249\n",
      "[WDM] - Get LATEST driver version for 106.0.5249\n",
      "[WDM] - Driver [C:\\Users\\Owner\\.wdm\\drivers\\chromedriver\\win32\\106.0.5249.61\\chromedriver.exe] found in cache\n"
     ]
    },
    {
     "name": "stdout",
     "output_type": "stream",
     "text": [
      "Failed scraping the following matches: [].\n"
     ]
    },
    {
     "name": "stderr",
     "output_type": "stream",
     "text": [
      "[WDM] - \n",
      "\n",
      "[WDM] - ====== WebDriver manager ======\n",
      "[WDM] - Current google-chrome version is 106.0.5249\n",
      "[WDM] - Get LATEST driver version for 106.0.5249\n",
      "[WDM] - Driver [C:\\Users\\Owner\\.wdm\\drivers\\chromedriver\\win32\\106.0.5249.61\\chromedriver.exe] found in cache\n",
      "C:\\Users\\Owner\\Documents\\GitHub\\ScraperFC\\tests\\..\\ScraperFC\\Understat.py:853: FutureWarning: The frame.append method is deprecated and will be removed from pandas in a future version. Use pandas.concat instead.\n",
      "  attack_speeds_df = attack_speeds_df.append(\n",
      "C:\\Users\\Owner\\Documents\\GitHub\\ScraperFC\\tests\\..\\ScraperFC\\Understat.py:853: FutureWarning: The frame.append method is deprecated and will be removed from pandas in a future version. Use pandas.concat instead.\n",
      "  attack_speeds_df = attack_speeds_df.append(\n",
      "C:\\Users\\Owner\\Documents\\GitHub\\ScraperFC\\tests\\..\\ScraperFC\\Understat.py:853: FutureWarning: The frame.append method is deprecated and will be removed from pandas in a future version. Use pandas.concat instead.\n",
      "  attack_speeds_df = attack_speeds_df.append(\n",
      "C:\\Users\\Owner\\Documents\\GitHub\\ScraperFC\\tests\\..\\ScraperFC\\Understat.py:853: FutureWarning: The frame.append method is deprecated and will be removed from pandas in a future version. Use pandas.concat instead.\n",
      "  attack_speeds_df = attack_speeds_df.append(\n",
      "C:\\Users\\Owner\\Documents\\GitHub\\ScraperFC\\tests\\..\\ScraperFC\\Understat.py:853: FutureWarning: The frame.append method is deprecated and will be removed from pandas in a future version. Use pandas.concat instead.\n",
      "  attack_speeds_df = attack_speeds_df.append(\n",
      "C:\\Users\\Owner\\Documents\\GitHub\\ScraperFC\\tests\\..\\ScraperFC\\Understat.py:853: FutureWarning: The frame.append method is deprecated and will be removed from pandas in a future version. Use pandas.concat instead.\n",
      "  attack_speeds_df = attack_speeds_df.append(\n",
      "C:\\Users\\Owner\\Documents\\GitHub\\ScraperFC\\tests\\..\\ScraperFC\\Understat.py:853: FutureWarning: The frame.append method is deprecated and will be removed from pandas in a future version. Use pandas.concat instead.\n",
      "  attack_speeds_df = attack_speeds_df.append(\n",
      "C:\\Users\\Owner\\Documents\\GitHub\\ScraperFC\\tests\\..\\ScraperFC\\Understat.py:853: FutureWarning: The frame.append method is deprecated and will be removed from pandas in a future version. Use pandas.concat instead.\n",
      "  attack_speeds_df = attack_speeds_df.append(\n",
      "C:\\Users\\Owner\\Documents\\GitHub\\ScraperFC\\tests\\..\\ScraperFC\\Understat.py:853: FutureWarning: The frame.append method is deprecated and will be removed from pandas in a future version. Use pandas.concat instead.\n",
      "  attack_speeds_df = attack_speeds_df.append(\n",
      "C:\\Users\\Owner\\Documents\\GitHub\\ScraperFC\\tests\\..\\ScraperFC\\Understat.py:853: FutureWarning: The frame.append method is deprecated and will be removed from pandas in a future version. Use pandas.concat instead.\n",
      "  attack_speeds_df = attack_speeds_df.append(\n",
      "C:\\Users\\Owner\\Documents\\GitHub\\ScraperFC\\tests\\..\\ScraperFC\\Understat.py:853: FutureWarning: The frame.append method is deprecated and will be removed from pandas in a future version. Use pandas.concat instead.\n",
      "  attack_speeds_df = attack_speeds_df.append(\n",
      "C:\\Users\\Owner\\Documents\\GitHub\\ScraperFC\\tests\\..\\ScraperFC\\Understat.py:853: FutureWarning: The frame.append method is deprecated and will be removed from pandas in a future version. Use pandas.concat instead.\n",
      "  attack_speeds_df = attack_speeds_df.append(\n",
      "C:\\Users\\Owner\\Documents\\GitHub\\ScraperFC\\tests\\..\\ScraperFC\\Understat.py:853: FutureWarning: The frame.append method is deprecated and will be removed from pandas in a future version. Use pandas.concat instead.\n",
      "  attack_speeds_df = attack_speeds_df.append(\n",
      "C:\\Users\\Owner\\Documents\\GitHub\\ScraperFC\\tests\\..\\ScraperFC\\Understat.py:853: FutureWarning: The frame.append method is deprecated and will be removed from pandas in a future version. Use pandas.concat instead.\n",
      "  attack_speeds_df = attack_speeds_df.append(\n",
      "C:\\Users\\Owner\\Documents\\GitHub\\ScraperFC\\tests\\..\\ScraperFC\\Understat.py:853: FutureWarning: The frame.append method is deprecated and will be removed from pandas in a future version. Use pandas.concat instead.\n",
      "  attack_speeds_df = attack_speeds_df.append(\n",
      "C:\\Users\\Owner\\Documents\\GitHub\\ScraperFC\\tests\\..\\ScraperFC\\Understat.py:853: FutureWarning: The frame.append method is deprecated and will be removed from pandas in a future version. Use pandas.concat instead.\n",
      "  attack_speeds_df = attack_speeds_df.append(\n",
      "C:\\Users\\Owner\\Documents\\GitHub\\ScraperFC\\tests\\..\\ScraperFC\\Understat.py:853: FutureWarning: The frame.append method is deprecated and will be removed from pandas in a future version. Use pandas.concat instead.\n",
      "  attack_speeds_df = attack_speeds_df.append(\n",
      "C:\\Users\\Owner\\Documents\\GitHub\\ScraperFC\\tests\\..\\ScraperFC\\Understat.py:853: FutureWarning: The frame.append method is deprecated and will be removed from pandas in a future version. Use pandas.concat instead.\n",
      "  attack_speeds_df = attack_speeds_df.append(\n",
      "C:\\Users\\Owner\\Documents\\GitHub\\ScraperFC\\tests\\..\\ScraperFC\\Understat.py:853: FutureWarning: The frame.append method is deprecated and will be removed from pandas in a future version. Use pandas.concat instead.\n",
      "  attack_speeds_df = attack_speeds_df.append(\n",
      "C:\\Users\\Owner\\Documents\\GitHub\\ScraperFC\\tests\\..\\ScraperFC\\Understat.py:853: FutureWarning: The frame.append method is deprecated and will be removed from pandas in a future version. Use pandas.concat instead.\n",
      "  attack_speeds_df = attack_speeds_df.append(\n",
      "[WDM] - \n",
      "\n",
      "[WDM] - ====== WebDriver manager ======\n",
      "[WDM] - Current google-chrome version is 106.0.5249\n",
      "[WDM] - Get LATEST driver version for 106.0.5249\n",
      "[WDM] - Driver [C:\\Users\\Owner\\.wdm\\drivers\\chromedriver\\win32\\106.0.5249.61\\chromedriver.exe] found in cache\n"
     ]
    }
   ],
   "source": [
    "scraper = sfc.Understat()\n",
    "try:\n",
    "    shots = scraper.scrape_shot_xy(league=\"La Liga\", year=2023)\n",
    "    lg_tbl = scraper.scrape_league_table(league=\"La Liga\", year=2023)\n",
    "    attack_speeds = scraper.scrape_attack_speeds(league=\"La Liga\", year=2023)\n",
    "except:\n",
    "    traceback.print_exc()\n",
    "finally:\n",
    "    scraper.close()"
   ]
  },
  {
   "cell_type": "code",
   "execution_count": null,
   "metadata": {},
   "outputs": [],
   "source": [
    "lg_tbl"
   ]
  },
  {
   "cell_type": "code",
   "execution_count": null,
   "metadata": {},
   "outputs": [],
   "source": [
    "shots"
   ]
  },
  {
   "cell_type": "code",
   "execution_count": null,
   "metadata": {},
   "outputs": [],
   "source": [
    "attack_speeds"
   ]
  }
 ],
 "metadata": {
  "kernelspec": {
   "display_name": "Python 3 (ipykernel)",
   "language": "python",
   "name": "python3"
  },
  "language_info": {
   "codemirror_mode": {
    "name": "ipython",
    "version": 3
   },
   "file_extension": ".py",
   "mimetype": "text/x-python",
   "name": "python",
   "nbconvert_exporter": "python",
   "pygments_lexer": "ipython3",
   "version": "3.8.13"
  },
  "vscode": {
   "interpreter": {
    "hash": "585a938ec471c889bf0cce0aed741a99eaf47ca09c0fa8393793bc5bfe77ba11"
   }
  }
 },
 "nbformat": 4,
 "nbformat_minor": 4
}
