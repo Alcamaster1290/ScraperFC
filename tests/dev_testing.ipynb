{
 "cells": [
  {
   "cell_type": "code",
   "execution_count": 3,
   "metadata": {},
   "outputs": [],
   "source": [
    "import sys\n",
    "sys.path.append('..')\n",
    "import ScraperFC as sfc # import local scraperfc\n",
    "import traceback"
   ]
  },
  {
   "cell_type": "code",
   "execution_count": 1,
   "metadata": {},
   "outputs": [
    {
     "data": {
      "text/plain": [
       "[('EPL', 2015),\n",
       " ('EPL', 2020),\n",
       " ('EPL', 2022),\n",
       " ('EPL', 2003),\n",
       " ('EPL', 2002),\n",
       " ('EPL', 2019),\n",
       " ('EPL', 1999),\n",
       " ('EPL', 2013),\n",
       " ('EPL', 2017),\n",
       " ('EPL', 2008),\n",
       " ('EPL', 2021),\n",
       " ('EPL', 2000),\n",
       " ('EPL', 2007),\n",
       " ('EPL', 2011),\n",
       " ('EPL', 2009)]"
      ]
     },
     "execution_count": 1,
     "metadata": {},
     "output_type": "execute_result"
    }
   ],
   "source": [
    "from shared_test_functions import get_random_league_seasons\n",
    "\n",
    "get_random_league_seasons('Oddsportal', 15)"
   ]
  },
  {
   "cell_type": "code",
   "execution_count": 9,
   "metadata": {},
   "outputs": [
    {
     "data": {
      "text/plain": [
       "[<p>Next</p>]"
      ]
     },
     "execution_count": 9,
     "metadata": {},
     "output_type": "execute_result"
    }
   ],
   "source": [
    "from bs4 import BeautifulSoup\n",
    "import re\n",
    "league = 'EPL'\n",
    "\n",
    "mock_html = '''\n",
    "    <html>\n",
    "        <body>\n",
    "            <a class=\"flex-col\" href=\"/football/england/premier-league-2021-2022/a-vs-b-1/\">\n",
    "                A vs B\n",
    "            </a>\n",
    "            <a class=\"flex-col\" href=\"/football/england/championship-2021-2022/c-vs-d-1/\">\n",
    "                C vs D\n",
    "            </a>\n",
    "            <a class=\"flex-col\" href=\"/football/spain/laliga-2021-2022/e-vs-f-1/\">\n",
    "                E vs F\n",
    "            </a>\n",
    "            <p>Next</p>\n",
    "        </body>\n",
    "    </html>\n",
    "'''\n",
    "soup = BeautifulSoup(mock_html, 'html.parser')\n",
    "[el for el in soup.find_all('p') if 'next'==el.text.lower()]"
   ]
  }
 ],
 "metadata": {
  "kernelspec": {
   "display_name": "Python 3 (ipykernel)",
   "language": "python",
   "name": "python3"
  },
  "language_info": {
   "codemirror_mode": {
    "name": "ipython",
    "version": 3
   },
   "file_extension": ".py",
   "mimetype": "text/x-python",
   "name": "python",
   "nbconvert_exporter": "python",
   "pygments_lexer": "ipython3",
   "version": "3.9.16"
  },
  "vscode": {
   "interpreter": {
    "hash": "585a938ec471c889bf0cce0aed741a99eaf47ca09c0fa8393793bc5bfe77ba11"
   }
  }
 },
 "nbformat": 4,
 "nbformat_minor": 4
}
