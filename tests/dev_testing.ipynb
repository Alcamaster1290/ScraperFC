{
 "cells": [
  {
   "cell_type": "code",
   "execution_count": 7,
   "metadata": {},
   "outputs": [],
   "source": [
    "import sys\n",
    "sys.path.append('..')\n",
    "import ScraperFC as sfc # import local scraperfc\n",
    "import traceback\n",
    "from tqdm.auto import tqdm\n",
    "import pandas as pd"
   ]
  },
  {
   "cell_type": "code",
   "execution_count": 2,
   "metadata": {},
   "outputs": [],
   "source": [
    "# # from shared_test_functions import get_random_league_seasons\n",
    "\n",
    "# # samples = get_random_league_seasons('Oddsportal', 3)\n",
    "\n",
    "# op = sfc.Oddsportal()\n",
    "# # fbref = sfc.FBRef()\n",
    "# counts = dict()\n",
    "# try:\n",
    "#     # for year, league in tqdm(samples):\n",
    "#     league = 'EPL'\n",
    "#     for year in tqdm(range(2004,2023)):\n",
    "#         # print('-'*80)\n",
    "#         # print(year, league)\n",
    "#         # fbref_links = fbref.get_match_links(year,league)\n",
    "#         op_links = op.get_match_links(year, league)\n",
    "#         counts[year] = len(op_links)\n",
    "#         # break\n",
    "# except:\n",
    "#     traceback.print_exc()\n",
    "# finally:\n",
    "#     op.close()\n",
    "#     # fbref.close()"
   ]
  },
  {
   "cell_type": "code",
   "execution_count": 3,
   "metadata": {},
   "outputs": [
    {
     "name": "stderr",
     "output_type": "stream",
     "text": [
      "[WDM] - Downloading: 100%|██████████| 6.98M/6.98M [00:00<00:00, 23.5MB/s]\n"
     ]
    }
   ],
   "source": [
    "op = sfc.Oddsportal()\n",
    "try:\n",
    "    # match_link = links[np.random.randint(0, num_links+1)]\n",
    "    # match_link = 'https://oddsportal.com/football/england/premier-league-2005-2006/chelsea-birmingham-be9APe6e' # no O/U odds\n",
    "    # match_link = 'https://www.oddsportal.com/football/england/premier-league/west-ham-southampton-tfnoGQAd' # weird date format\n",
    "    match_link = 'https://www.oddsportal.com/football/england/premier-league/aston-villa-bournemouth-Kdi8EDZi/' # everything should work\n",
    "    match_df = op.scrape_match(match_link)\n",
    "\n",
    "    moneyline_df = op.get_1X2odds_from_match(match_link)\n",
    "    over_under_df = op.get_OUodds_from_match(match_link)\n",
    "except:\n",
    "    traceback.print_exc()\n",
    "finally:\n",
    "    op.close()"
   ]
  },
  {
   "cell_type": "code",
   "execution_count": null,
   "metadata": {},
   "outputs": [],
   "source": [
    "match_df"
   ]
  },
  {
   "cell_type": "code",
   "execution_count": 5,
   "metadata": {},
   "outputs": [],
   "source": [
    "ogs = (match_df.copy(), moneyline_df.copy(), over_under_df.copy())"
   ]
  },
  {
   "cell_type": "code",
   "execution_count": 26,
   "metadata": {},
   "outputs": [],
   "source": [
    "match_df, moneyline_df, over_under_df = ogs"
   ]
  },
  {
   "cell_type": "code",
   "execution_count": 27,
   "metadata": {},
   "outputs": [],
   "source": [
    "# Format MultiIndices\n",
    "dfs_to_concat = [\n",
    "    (match_df, 'Info'), \n",
    "    (moneyline_df, '1X2'), \n",
    "    (over_under_df, 'O/U')\n",
    "]\n",
    "max_levels = max([len(df.columns[0]) if type(df.columns) is not pd.Index else 1 for df,_ in dfs_to_concat])\n",
    "for df, name in dfs_to_concat:\n",
    "    current_levels = len(df.columns[0]) if type(df.columns) is not pd.Index else 1\n",
    "\n",
    "    # Add a name level to isolate different odds types\n",
    "    name_level = pd.DataFrame([name for i in df.columns], index=df.columns)\n",
    "    \n",
    "    # Add empty levels so all MultiIndices have same number of levels\n",
    "    empty_levels = pd.DataFrame([['']*(max_levels-current_levels) for i in df.columns], index=df.columns)\n",
    "    \n",
    "    # Combine all of the columns\n",
    "    new_columns = pd.MultiIndex.from_frame(pd.concat([name_level, df.columns.to_frame(), empty_levels], axis=1))\n",
    "    \n",
    "    # Update columns in df object\n",
    "    df.columns = new_columns"
   ]
  }
 ],
 "metadata": {
  "kernelspec": {
   "display_name": "Python 3 (ipykernel)",
   "language": "python",
   "name": "python3"
  },
  "language_info": {
   "codemirror_mode": {
    "name": "ipython",
    "version": 3
   },
   "file_extension": ".py",
   "mimetype": "text/x-python",
   "name": "python",
   "nbconvert_exporter": "python",
   "pygments_lexer": "ipython3",
   "version": "3.10.11"
  },
  "vscode": {
   "interpreter": {
    "hash": "585a938ec471c889bf0cce0aed741a99eaf47ca09c0fa8393793bc5bfe77ba11"
   }
  }
 },
 "nbformat": 4,
 "nbformat_minor": 4
}
