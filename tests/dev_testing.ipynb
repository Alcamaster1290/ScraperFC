{
 "cells": [
  {
   "cell_type": "code",
   "execution_count": 1,
   "metadata": {},
   "outputs": [],
   "source": [
    "import sys\n",
    "sys.path.append('..')\n",
    "import ScraperFC as sfc # import local scraperfc\n",
    "import traceback\n",
    "from tqdm.auto import tqdm\n",
    "import pandas as pd"
   ]
  },
  {
   "cell_type": "code",
   "execution_count": 2,
   "metadata": {},
   "outputs": [],
   "source": [
    "# # from shared_test_functions import get_random_league_seasons\n",
    "\n",
    "# # samples = get_random_league_seasons('Oddsportal', 3)\n",
    "\n",
    "# op = sfc.Oddsportal()\n",
    "# # fbref = sfc.FBRef()\n",
    "# counts = dict()\n",
    "# try:\n",
    "#     # for year, league in tqdm(samples):\n",
    "#     league = 'EPL'\n",
    "#     for year in tqdm(range(2004,2023)):\n",
    "#         # print('-'*80)\n",
    "#         # print(year, league)\n",
    "#         # fbref_links = fbref.get_match_links(year,league)\n",
    "#         op_links = op.get_match_links(year, league)\n",
    "#         counts[year] = len(op_links)\n",
    "#         # break\n",
    "# except:\n",
    "#     traceback.print_exc()\n",
    "# finally:\n",
    "#     op.close()\n",
    "#     # fbref.close()"
   ]
  },
  {
   "cell_type": "code",
   "execution_count": 3,
   "metadata": {},
   "outputs": [
    {
     "data": {
      "application/vnd.jupyter.widget-view+json": {
       "model_id": "4c9693ab75f245c8b268a7f1d71eecc1",
       "version_major": 2,
       "version_minor": 0
      },
      "text/plain": [
       "2020 EPL:   0%|          | 0/380 [00:00<?, ?it/s]"
      ]
     },
     "metadata": {},
     "output_type": "display_data"
    }
   ],
   "source": [
    "op = sfc.Oddsportal()\n",
    "try:\n",
    "    # match_link = links[np.random.randint(0, num_links+1)]\n",
    "    # match_link = 'https://oddsportal.com/football/england/premier-league-2005-2006/chelsea-birmingham-be9APe6e' # no O/U odds\n",
    "    # match_link = 'https://www.oddsportal.com/football/england/premier-league/west-ham-southampton-tfnoGQAd' # weird date format\n",
    "    # match_link = 'https://www.oddsportal.com/football/england/premier-league/aston-villa-bournemouth-Kdi8EDZi/' # everything should work\n",
    "    # match_df = op.scrape_match(match_link)\n",
    "    # moneyline_df = op.get_1X2odds_from_match(match_link)\n",
    "    # over_under_df = op.get_OUodds_from_match(match_link)\n",
    "\n",
    "    # season_df = op.scrape_season_odds(2020, 'EPL')\n",
    "except:\n",
    "    traceback.print_exc()\n",
    "finally:\n",
    "    op.close()"
   ]
  }
 ],
 "metadata": {
  "kernelspec": {
   "display_name": "Python 3 (ipykernel)",
   "language": "python",
   "name": "python3"
  },
  "language_info": {
   "codemirror_mode": {
    "name": "ipython",
    "version": 3
   },
   "file_extension": ".py",
   "mimetype": "text/x-python",
   "name": "python",
   "nbconvert_exporter": "python",
   "pygments_lexer": "ipython3",
   "version": "3.10.11"
  },
  "vscode": {
   "interpreter": {
    "hash": "585a938ec471c889bf0cce0aed741a99eaf47ca09c0fa8393793bc5bfe77ba11"
   }
  }
 },
 "nbformat": 4,
 "nbformat_minor": 4
}
