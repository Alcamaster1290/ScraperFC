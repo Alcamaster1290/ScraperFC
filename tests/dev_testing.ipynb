{
 "cells": [
  {
   "cell_type": "code",
   "execution_count": 1,
   "metadata": {},
   "outputs": [],
   "source": [
    "import sys\n",
    "sys.path.append(\"..\")\n",
    "import ScraperFC as sfc # import local scraperfc\n",
    "# import traceback"
   ]
  },
  {
   "cell_type": "code",
   "execution_count": 2,
   "metadata": {},
   "outputs": [
    {
     "name": "stderr",
     "output_type": "stream",
     "text": [
      "\n",
      "\n",
      "====== WebDriver manager ======\n",
      "Current google-chrome version is 107.0.5304\n",
      "Get LATEST chromedriver version for 107.0.5304 google-chrome\n",
      "Driver [C:\\Users\\oseymour\\.wdm\\drivers\\chromedriver\\win32\\107.0.5304.62\\chromedriver.exe] found in cache\n",
      "100%|██████████| 11/11 [07:46<00:00, 42.39s/it]\n"
     ]
    },
    {
     "name": "stdout",
     "output_type": "stream",
     "text": [
      "Gathering match links.\n",
      "Scraping matches.\n"
     ]
    },
    {
     "name": "stderr",
     "output_type": "stream",
     "text": [
      "100%|██████████| 29/29 [02:51<00:00,  5.91s/it]\n"
     ]
    }
   ],
   "source": [
    "scraper = sfc.FBRef()\n",
    "year = 2022\n",
    "league = \"World Cup\"\n",
    "# league = \"EPL\"\n",
    "try:\n",
    "    # squad, opp, player = scraper.scrape_stats(year, league, stat_category=\"standard\")\n",
    "    stats = scraper.scrape_all_stats(year, league)\n",
    "    matches = scraper.scrape_matches(year, league)\n",
    "finally:\n",
    "    scraper.close()"
   ]
  }
 ],
 "metadata": {
  "kernelspec": {
   "display_name": "Python 3.9.7 ('base')",
   "language": "python",
   "name": "python3"
  },
  "language_info": {
   "codemirror_mode": {
    "name": "ipython",
    "version": 3
   },
   "file_extension": ".py",
   "mimetype": "text/x-python",
   "name": "python",
   "nbconvert_exporter": "python",
   "pygments_lexer": "ipython3",
   "version": "3.9.15"
  },
  "vscode": {
   "interpreter": {
    "hash": "cc273e64c6c48e9881aab795f8d0e622d86c0ebe91aa99d17d2821087e5340fb"
   }
  }
 },
 "nbformat": 4,
 "nbformat_minor": 4
}
