{
 "cells": [
  {
   "cell_type": "code",
   "execution_count": 1,
   "metadata": {},
   "outputs": [],
   "source": [
    "import sys\n",
    "sys.path.append('..')\n",
    "import ScraperFC as sfc # import local scraperfc\n",
    "import traceback\n",
    "from tqdm.auto import tqdm"
   ]
  },
  {
   "cell_type": "code",
   "execution_count": null,
   "metadata": {},
   "outputs": [],
   "source": [
    "import numpy as np\n",
    "from shared_test_functions import get_random_league_seasons\n",
    "\n",
    "samples = get_random_league_seasons('Oddsportal', 3)"
   ]
  },
  {
   "cell_type": "code",
   "execution_count": null,
   "metadata": {},
   "outputs": [],
   "source": [
    "op = sfc.Oddsportal()\n",
    "fbref = sfc.FBRef()\n",
    "try:\n",
    "    for year, league in tqdm(samples):\n",
    "        num_links = len(fbref.get_match_links(year,league))\n",
    "        links = op.get_match_links(year, league)\n",
    "        # season = op.scrape_season_odds(year, league)\n",
    "        break\n",
    "except:\n",
    "    traceback.print_exc()\n",
    "finally:\n",
    "    op.close()\n",
    "    fbref.close()"
   ]
  },
  {
   "cell_type": "code",
   "execution_count": null,
   "metadata": {},
   "outputs": [],
   "source": [
    "assert len(links) == num_links"
   ]
  },
  {
   "cell_type": "code",
   "execution_count": 6,
   "metadata": {},
   "outputs": [
    {
     "name": "stderr",
     "output_type": "stream",
     "text": [
      "\n",
      "\n",
      "====== WebDriver manager ======\n",
      "Current google-chrome version is 110.0.5481\n",
      "Get LATEST chromedriver version for 110.0.5481 google-chrome\n",
      "Driver [C:\\Users\\oseymour\\.wdm\\drivers\\chromedriver\\win32\\110.0.5481.77\\chromedriver.exe] found in cache\n",
      "Traceback (most recent call last):\n",
      "  File \"C:\\Users\\oseymour\\AppData\\Local\\Temp\\ipykernel_23516\\2610858768.py\", line 7, in <module>\n",
      "    match = op.scrape_match(rand_match_link)\n",
      "  File \"c:\\Users\\oseymour\\Documents\\ScraperFC\\tests\\..\\ScraperFC\\Oddsportal.py\", line 131, in scrape_match\n",
      "    final_result = [\n",
      "IndexError: list index out of range\n"
     ]
    }
   ],
   "source": [
    "op = sfc.Oddsportal()\n",
    "try:\n",
    "    # rand_match_link = links[np.random.randint(0, num_links+1)]\n",
    "    # rand_match_link = 'https://oddsportal.com/football/england/premier-league-2005-2006/chelsea-birmingham-be9APe6e' # no O/U odds\n",
    "    # rand_match_link = 'https://www.oddsportal.com/football/england/premier-league/west-ham-southampton-tfnoGQAd' # weird date format\n",
    "    rand_match_link = 'https://www.oddsportal.com/football/england/premier-league/aston-villa-bournemouth-Kdi8EDZi/' # everything should work\n",
    "    match = op.scrape_match(rand_match_link)\n",
    "    # ou = op.get_OUodds_from_match(rand_match_link)\n",
    "    # line = op.get_1X2odds_from_match(rand_match_link)\n",
    "except:\n",
    "    traceback.print_exc()\n",
    "finally:\n",
    "    op.close()"
   ]
  },
  {
   "cell_type": "code",
   "execution_count": null,
   "metadata": {},
   "outputs": [],
   "source": [
    "match.shape"
   ]
  },
  {
   "cell_type": "code",
   "execution_count": null,
   "metadata": {},
   "outputs": [],
   "source": [
    "match"
   ]
  }
 ],
 "metadata": {
  "kernelspec": {
   "display_name": "Python 3 (ipykernel)",
   "language": "python",
   "name": "python3"
  },
  "language_info": {
   "codemirror_mode": {
    "name": "ipython",
    "version": 3
   },
   "file_extension": ".py",
   "mimetype": "text/x-python",
   "name": "python",
   "nbconvert_exporter": "python",
   "pygments_lexer": "ipython3",
   "version": "3.9.16"
  },
  "vscode": {
   "interpreter": {
    "hash": "585a938ec471c889bf0cce0aed741a99eaf47ca09c0fa8393793bc5bfe77ba11"
   }
  }
 },
 "nbformat": 4,
 "nbformat_minor": 4
}
