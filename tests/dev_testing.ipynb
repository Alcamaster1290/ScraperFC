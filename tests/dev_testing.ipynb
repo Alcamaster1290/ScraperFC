{
 "cells": [
  {
   "cell_type": "code",
   "execution_count": 1,
   "metadata": {},
   "outputs": [],
   "source": [
    "import sys\n",
    "sys.path.append(\"..\")\n",
    "import ScraperFC as sfc # import local scraperfc\n",
    "import traceback"
   ]
  },
  {
   "cell_type": "code",
   "execution_count": 2,
   "metadata": {},
   "outputs": [
    {
     "name": "stderr",
     "output_type": "stream",
     "text": [
      "\n",
      "\n",
      "====== WebDriver manager ======\n",
      "Current google-chrome version is 107.0.5304\n",
      "Get LATEST chromedriver version for 107.0.5304 google-chrome\n",
      "Driver [C:\\Users\\oseymour\\.wdm\\drivers\\chromedriver\\win32\\107.0.5304.62\\chromedriver.exe] found in cache\n"
     ]
    },
    {
     "name": "stdout",
     "output_type": "stream",
     "text": [
      "https://fbref.com/en/matches/1b2886ce/Qatar-Ecuador-November-20-2022-World-Cup\n",
      "https://fbref.com/en/matches/e62f6e78/Crystal-Palace-Arsenal-August-5-2022-Premier-League\n",
      "https://fbref.com/en/matches/3cc3f661/Los-Angeles-FC-Colorado-Rapids-February-26-2022-Major-League-Soccer\n",
      "https://fbref.com/en/matches/0804c2fc/CF-Montreal-New-York-City-FC-October-23-2022-Major-League-Soccer\n",
      "https://fbref.com/en/matches/e38a53be/Los-Angeles-FC-Philadelphia-Union-November-5-2022-Major-League-Soccer\n",
      "https://fbref.com/en/matches/07f058d4/Dinamo-Zagreb-Chelsea-September-6-2022-Champions-League\n"
     ]
    }
   ],
   "source": [
    "scraper = sfc.FBRef()\n",
    "links = [\n",
    "    \"https://fbref.com/en/matches/1b2886ce/Qatar-Ecuador-November-20-2022-World-Cup\",\n",
    "    \"https://fbref.com/en/matches/e62f6e78/Crystal-Palace-Arsenal-August-5-2022-Premier-League\",\n",
    "    \"https://fbref.com/en/matches/3cc3f661/Los-Angeles-FC-Colorado-Rapids-February-26-2022-Major-League-Soccer\",\n",
    "    \"https://fbref.com/en/matches/0804c2fc/CF-Montreal-New-York-City-FC-October-23-2022-Major-League-Soccer\",\n",
    "    \"https://fbref.com/en/matches/e38a53be/Los-Angeles-FC-Philadelphia-Union-November-5-2022-Major-League-Soccer\",\n",
    "    \"https://fbref.com/en/matches/07f058d4/Dinamo-Zagreb-Chelsea-September-6-2022-Champions-League\",\n",
    "]\n",
    "try:\n",
    "    for link in links:\n",
    "        print(link)\n",
    "        match = scraper.scrape_match(link)\n",
    "except:\n",
    "    traceback.print_exc()\n",
    "finally:\n",
    "    scraper.close()"
   ]
  }
 ],
 "metadata": {
  "kernelspec": {
   "display_name": "Python 3.9.7 ('base')",
   "language": "python",
   "name": "python3"
  },
  "language_info": {
   "codemirror_mode": {
    "name": "ipython",
    "version": 3
   },
   "file_extension": ".py",
   "mimetype": "text/x-python",
   "name": "python",
   "nbconvert_exporter": "python",
   "pygments_lexer": "ipython3",
   "version": "3.9.7"
  },
  "vscode": {
   "interpreter": {
    "hash": "cc273e64c6c48e9881aab795f8d0e622d86c0ebe91aa99d17d2821087e5340fb"
   }
  }
 },
 "nbformat": 4,
 "nbformat_minor": 4
}
