{
 "cells": [
  {
   "cell_type": "code",
   "execution_count": 1,
   "metadata": {},
   "outputs": [],
   "source": [
    "import sys\n",
    "sys.path.append(\"..\")\n",
    "import ScraperFC as sfc # import local scraperfc\n",
    "# import traceback"
   ]
  },
  {
   "cell_type": "code",
   "execution_count": 2,
   "metadata": {},
   "outputs": [
    {
     "name": "stderr",
     "output_type": "stream",
     "text": [
      "[WDM] - \n",
      "\n",
      "[WDM] - ====== WebDriver manager ======\n",
      "[WDM] - Current google-chrome version is 106.0.5249\n",
      "[WDM] - Get LATEST driver version for 106.0.5249\n",
      "[WDM] - Get LATEST driver version for 106.0.5249\n",
      "[WDM] - Trying to download new driver from https://chromedriver.storage.googleapis.com/106.0.5249.61/chromedriver_win32.zip\n",
      "[WDM] - Driver has been saved in cache [C:\\Users\\Owner\\.wdm\\drivers\\chromedriver\\win32\\106.0.5249.61]\n"
     ]
    },
    {
     "ename": "InvalidYearException",
     "evalue": "1900 invalid for source FBRef and league EPL. Must be 1993 or later.",
     "output_type": "error",
     "traceback": [
      "\u001b[1;31m---------------------------------------------------------------------------\u001b[0m",
      "\u001b[1;31mInvalidYearException\u001b[0m                      Traceback (most recent call last)",
      "\u001b[1;32mc:\\Users\\Owner\\Documents\\GitHub\\ScraperFC\\tests\\dev_testing.ipynb Cell 2\u001b[0m in \u001b[0;36m<cell line: 2>\u001b[1;34m()\u001b[0m\n\u001b[0;32m      <a href='vscode-notebook-cell:/c%3A/Users/Owner/Documents/GitHub/ScraperFC/tests/dev_testing.ipynb#W1sZmlsZQ%3D%3D?line=0'>1</a>\u001b[0m scraper \u001b[39m=\u001b[39m sfc\u001b[39m.\u001b[39mFBRef()\n\u001b[0;32m      <a href='vscode-notebook-cell:/c%3A/Users/Owner/Documents/GitHub/ScraperFC/tests/dev_testing.ipynb#W1sZmlsZQ%3D%3D?line=1'>2</a>\u001b[0m \u001b[39mtry\u001b[39;00m:\n\u001b[1;32m----> <a href='vscode-notebook-cell:/c%3A/Users/Owner/Documents/GitHub/ScraperFC/tests/dev_testing.ipynb#W1sZmlsZQ%3D%3D?line=2'>3</a>\u001b[0m     sfc\u001b[39m.\u001b[39;49mshared_functions\u001b[39m.\u001b[39;49mcheck_season(\u001b[39m1900\u001b[39;49m, \u001b[39m\"\u001b[39;49m\u001b[39mEPL\u001b[39;49m\u001b[39m\"\u001b[39;49m, \u001b[39m\"\u001b[39;49m\u001b[39mFBRef\u001b[39;49m\u001b[39m\"\u001b[39;49m)\n\u001b[0;32m      <a href='vscode-notebook-cell:/c%3A/Users/Owner/Documents/GitHub/ScraperFC/tests/dev_testing.ipynb#W1sZmlsZQ%3D%3D?line=3'>4</a>\u001b[0m \u001b[39mfinally\u001b[39;00m:\n\u001b[0;32m      <a href='vscode-notebook-cell:/c%3A/Users/Owner/Documents/GitHub/ScraperFC/tests/dev_testing.ipynb#W1sZmlsZQ%3D%3D?line=4'>5</a>\u001b[0m     scraper\u001b[39m.\u001b[39mclose()\n",
      "File \u001b[1;32mc:\\Users\\Owner\\Documents\\GitHub\\ScraperFC\\tests\\..\\ScraperFC\\shared_functions.py:326\u001b[0m, in \u001b[0;36mcheck_season\u001b[1;34m(year, league, source)\u001b[0m\n\u001b[0;32m    324\u001b[0m     \u001b[39mraise\u001b[39;00m \u001b[39mTypeError\u001b[39;00m(\u001b[39m\"\u001b[39m\u001b[39mYear must be an integer.\u001b[39m\u001b[39m\"\u001b[39m)\n\u001b[0;32m    325\u001b[0m \u001b[39mif\u001b[39;00m year \u001b[39m<\u001b[39m sources[source][league][\u001b[39m\"\u001b[39m\u001b[39mfirst valid year\u001b[39m\u001b[39m\"\u001b[39m]:\n\u001b[1;32m--> 326\u001b[0m     \u001b[39mraise\u001b[39;00m InvalidYearException(year, league, source)\n\u001b[0;32m    329\u001b[0m \u001b[39mreturn\u001b[39;00m\n",
      "\u001b[1;31mInvalidYearException\u001b[0m: 1900 invalid for source FBRef and league EPL. Must be 1993 or later."
     ]
    }
   ],
   "source": [
    "scraper = sfc.FBRef()\n",
    "try:\n",
    "    sfc.shared_functions.check_season(1900, \"EPL\", \"FBRef\")\n",
    "finally:\n",
    "    scraper.close()"
   ]
  }
 ],
 "metadata": {
  "kernelspec": {
   "display_name": "Python 3.8.13",
   "language": "python",
   "name": "python3"
  },
  "language_info": {
   "codemirror_mode": {
    "name": "ipython",
    "version": 3
   },
   "file_extension": ".py",
   "mimetype": "text/x-python",
   "name": "python",
   "nbconvert_exporter": "python",
   "pygments_lexer": "ipython3",
   "version": "3.8.13"
  },
  "vscode": {
   "interpreter": {
    "hash": "585a938ec471c889bf0cce0aed741a99eaf47ca09c0fa8393793bc5bfe77ba11"
   }
  }
 },
 "nbformat": 4,
 "nbformat_minor": 4
}
