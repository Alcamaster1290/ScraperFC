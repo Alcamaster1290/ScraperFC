{
 "cells": [
  {
   "cell_type": "code",
   "execution_count": 1,
   "metadata": {},
   "outputs": [],
   "source": [
    "import sys\n",
    "sys.path.append(\"..\")\n",
    "import ScraperFC as sfc # import local scraperfc\n",
    "import traceback"
   ]
  },
  {
   "cell_type": "code",
   "execution_count": 2,
   "metadata": {},
   "outputs": [
    {
     "name": "stderr",
     "output_type": "stream",
     "text": [
      "\n",
      "\n",
      "====== WebDriver manager ======\n",
      "Current google-chrome version is 107.0.5304\n",
      "Get LATEST chromedriver version for 107.0.5304 google-chrome\n",
      "Driver [C:\\Users\\oseymour\\.wdm\\drivers\\chromedriver\\win32\\107.0.5304.62\\chromedriver.exe] found in cache\n"
     ]
    },
    {
     "name": "stdout",
     "output_type": "stream",
     "text": [
      "https://fbref.com/en/matches/1b2886ce/Qatar-Ecuador-November-20-2022-World-Cup\n",
      "(14, 28) 14\n",
      "(16, 28) 16\n",
      "(1, 22)\n",
      "https://fbref.com/en/matches/e62f6e78/Crystal-Palace-Arsenal-August-5-2022-Premier-League\n",
      "(16, 29) 16\n",
      "(15, 29) 15\n",
      "(1, 22)\n",
      "https://fbref.com/en/matches/3cc3f661/Los-Angeles-FC-Colorado-Rapids-February-26-2022-Major-League-Soccer\n",
      "(17, 29) 17\n",
      "(16, 29) 16\n",
      "(1, 22)\n",
      "https://fbref.com/en/matches/0804c2fc/CF-Montreal-New-York-City-FC-October-23-2022-Major-League-Soccer\n",
      "(17, 29) 17\n",
      "(16, 29) 16\n",
      "(1, 22)\n",
      "https://fbref.com/en/matches/e38a53be/Los-Angeles-FC-Philadelphia-Union-November-5-2022-Major-League-Soccer\n",
      "(16, 29) 16\n",
      "(15, 29) 15\n",
      "(1, 22)\n"
     ]
    }
   ],
   "source": [
    "scraper = sfc.FBRef()\n",
    "links = [\n",
    "    \"https://fbref.com/en/matches/1b2886ce/Qatar-Ecuador-November-20-2022-World-Cup\",\n",
    "    \"https://fbref.com/en/matches/e62f6e78/Crystal-Palace-Arsenal-August-5-2022-Premier-League\",\n",
    "    \"https://fbref.com/en/matches/3cc3f661/Los-Angeles-FC-Colorado-Rapids-February-26-2022-Major-League-Soccer\",\n",
    "    \"https://fbref.com/en/matches/0804c2fc/CF-Montreal-New-York-City-FC-October-23-2022-Major-League-Soccer\",\n",
    "    \"https://fbref.com/en/matches/e38a53be/Los-Angeles-FC-Philadelphia-Union-November-5-2022-Major-League-Soccer\",\n",
    "    # \"https://fbref.com/en/matches/07f058d4/Dinamo-Zagreb-Chelsea-September-6-2022-Champions-League\",\n",
    "]\n",
    "try:\n",
    "    for link in links:\n",
    "        print(link)\n",
    "        match = scraper.scrape_match(link)\n",
    "        print(match.shape)\n",
    "except:\n",
    "    traceback.print_exc()\n",
    "finally:\n",
    "    scraper.close()"
   ]
  },
  {
   "cell_type": "code",
   "execution_count": 3,
   "metadata": {},
   "outputs": [
    {
     "data": {
      "text/html": [
       "<div>\n",
       "<style scoped>\n",
       "    .dataframe tbody tr th:only-of-type {\n",
       "        vertical-align: middle;\n",
       "    }\n",
       "\n",
       "    .dataframe tbody tr th {\n",
       "        vertical-align: top;\n",
       "    }\n",
       "\n",
       "    .dataframe thead th {\n",
       "        text-align: right;\n",
       "    }\n",
       "</style>\n",
       "<table border=\"1\" class=\"dataframe\">\n",
       "  <thead>\n",
       "    <tr style=\"text-align: right;\">\n",
       "      <th></th>\n",
       "      <th>Link</th>\n",
       "      <th>Date</th>\n",
       "      <th>Stage</th>\n",
       "      <th>Home Team</th>\n",
       "      <th>Away Team</th>\n",
       "      <th>Home Team ID</th>\n",
       "      <th>Away Team ID</th>\n",
       "      <th>Home Formation</th>\n",
       "      <th>Away Formation</th>\n",
       "      <th>Home Goals</th>\n",
       "      <th>...</th>\n",
       "      <th>Away Ast</th>\n",
       "      <th>Home xG</th>\n",
       "      <th>Away xG</th>\n",
       "      <th>Home npxG</th>\n",
       "      <th>Away npxG</th>\n",
       "      <th>Home xAG</th>\n",
       "      <th>Away xAG</th>\n",
       "      <th>Home Player Stats</th>\n",
       "      <th>Away Player Stats</th>\n",
       "      <th>Shots</th>\n",
       "    </tr>\n",
       "  </thead>\n",
       "  <tbody>\n",
       "    <tr>\n",
       "      <th>0</th>\n",
       "      <td>https://fbref.com/en/matches/e38a53be/Los-Ange...</td>\n",
       "      <td>2022-11-05</td>\n",
       "      <td>MLS Cup</td>\n",
       "      <td>Los Angeles FC</td>\n",
       "      <td>Philadelphia Union</td>\n",
       "      <td>81d817a3</td>\n",
       "      <td>46024eeb</td>\n",
       "      <td>4-3-3</td>\n",
       "      <td>4-3-1-2</td>\n",
       "      <td>3</td>\n",
       "      <td>...</td>\n",
       "      <td>2</td>\n",
       "      <td>1.0</td>\n",
       "      <td>1.6</td>\n",
       "      <td>1.0</td>\n",
       "      <td>1.6</td>\n",
       "      <td>0.9</td>\n",
       "      <td>0.6</td>\n",
       "      <td>Team Sheet       Los Angeles FC (4-3-3)      L...</td>\n",
       "      <td>Team Sheet       Philadelphia (4-3-1-2) Philad...</td>\n",
       "      <td>Both       Unnamed: 0_level_0            Unnam...</td>\n",
       "    </tr>\n",
       "  </tbody>\n",
       "</table>\n",
       "<p>1 rows × 22 columns</p>\n",
       "</div>"
      ],
      "text/plain": [
       "                                                Link        Date    Stage  \\\n",
       "0  https://fbref.com/en/matches/e38a53be/Los-Ange...  2022-11-05  MLS Cup   \n",
       "\n",
       "        Home Team           Away Team Home Team ID Away Team ID  \\\n",
       "0  Los Angeles FC  Philadelphia Union     81d817a3     46024eeb   \n",
       "\n",
       "  Home Formation Away Formation Home Goals  ... Away Ast Home xG Away xG  \\\n",
       "0          4-3-3        4-3-1-2          3  ...        2     1.0     1.6   \n",
       "\n",
       "  Home npxG Away npxG Home xAG Away xAG  \\\n",
       "0       1.0       1.6      0.9      0.6   \n",
       "\n",
       "                                   Home Player Stats  \\\n",
       "0  Team Sheet       Los Angeles FC (4-3-3)      L...   \n",
       "\n",
       "                                   Away Player Stats  \\\n",
       "0  Team Sheet       Philadelphia (4-3-1-2) Philad...   \n",
       "\n",
       "                                               Shots  \n",
       "0  Both       Unnamed: 0_level_0            Unnam...  \n",
       "\n",
       "[1 rows x 22 columns]"
      ]
     },
     "execution_count": 3,
     "metadata": {},
     "output_type": "execute_result"
    }
   ],
   "source": [
    "match"
   ]
  }
 ],
 "metadata": {
  "kernelspec": {
   "display_name": "Python 3.9.7 ('base')",
   "language": "python",
   "name": "python3"
  },
  "language_info": {
   "codemirror_mode": {
    "name": "ipython",
    "version": 3
   },
   "file_extension": ".py",
   "mimetype": "text/x-python",
   "name": "python",
   "nbconvert_exporter": "python",
   "pygments_lexer": "ipython3",
   "version": "3.9.7"
  },
  "vscode": {
   "interpreter": {
    "hash": "cc273e64c6c48e9881aab795f8d0e622d86c0ebe91aa99d17d2821087e5340fb"
   }
  }
 },
 "nbformat": 4,
 "nbformat_minor": 4
}
