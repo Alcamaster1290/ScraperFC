{
 "cells": [
  {
   "cell_type": "code",
   "execution_count": 5,
   "metadata": {},
   "outputs": [],
   "source": [
    "import sys\n",
    "sys.path.append('..')\n",
    "import ScraperFC as sfc # import local scraperfc\n",
    "import traceback\n",
    "\n",
    "import pandas as pd\n",
    "from tqdm.auto import tqdm"
   ]
  },
  {
   "cell_type": "code",
   "execution_count": 6,
   "metadata": {
    "scrolled": false
   },
   "outputs": [
    {
     "name": "stderr",
     "output_type": "stream",
     "text": [
      "\n",
      "\n",
      "====== WebDriver manager ======\n",
      "Current google-chrome version is 110.0.5481\n",
      "Get LATEST chromedriver version for 110.0.5481 google-chrome\n",
      "Driver [C:\\Users\\oseymour\\.wdm\\drivers\\chromedriver\\win32\\110.0.5481.77\\chromedriver.exe] found in cache\n"
     ]
    },
    {
     "data": {
      "application/vnd.jupyter.widget-view+json": {
       "model_id": "28d4827001c94ca9a8fbfed2a05c3258",
       "version_major": 2,
       "version_minor": 0
      },
      "text/plain": [
       "2022 EPL Odds:   0%|          | 0/380 [00:00<?, ?it/s]"
      ]
     },
     "metadata": {},
     "output_type": "display_data"
    },
    {
     "name": "stderr",
     "output_type": "stream",
     "text": [
      "Traceback (most recent call last):\n",
      "  File \"C:\\Users\\oseymour\\AppData\\Local\\Temp\\ipykernel_20016\\315892747.py\", line 8, in <module>\n",
      "    link_odds = scraper.scrape_match(link)\n",
      "  File \"c:\\Users\\oseymour\\Documents\\ScraperFC\\tests\\..\\ScraperFC\\Oddsportal.py\", line 125, in scrape_match\n",
      "    final_result = [\n",
      "IndexError: list index out of range\n"
     ]
    }
   ],
   "source": [
    "scraper = sfc.Oddsportal()\n",
    "year, league = 2022, 'EPL'\n",
    "# link = 'https://oddsportal.com/football/england/premier-league-2021-2022/arsenal-everton-CWuae5l9/'\n",
    "try:\n",
    "    links = scraper.get_match_links(year, league)\n",
    "    odds_df = pd.DataFrame()\n",
    "    for link in tqdm(links, f'{year} {league} Odds'):\n",
    "        link_odds = scraper.scrape_match(link)\n",
    "        odds_df = pd.concat([odds_df, link_odds], ignore_index=True, axis=0)\n",
    "except:\n",
    "    traceback.print_exc()\n",
    "finally:\n",
    "    scraper.close()"
   ]
  },
  {
   "cell_type": "code",
   "execution_count": 10,
   "metadata": {},
   "outputs": [
    {
     "name": "stderr",
     "output_type": "stream",
     "text": [
      "\n",
      "\n",
      "====== WebDriver manager ======\n",
      "Current google-chrome version is 110.0.5481\n",
      "Get LATEST chromedriver version for 110.0.5481 google-chrome\n",
      "Driver [C:\\Users\\oseymour\\.wdm\\drivers\\chromedriver\\win32\\110.0.5481.77\\chromedriver.exe] found in cache\n",
      "Traceback (most recent call last):\n",
      "  File \"C:\\Users\\oseymour\\AppData\\Local\\Temp\\ipykernel_20016\\4185322497.py\", line 3, in <module>\n",
      "    link_odds = scraper.scrape_match(links[0])\n",
      "  File \"c:\\Users\\oseymour\\Documents\\ScraperFC\\tests\\..\\ScraperFC\\Oddsportal.py\", line 125, in scrape_match\n",
      "    final_result = [\n",
      "IndexError: list index out of range\n"
     ]
    }
   ],
   "source": [
    "scraper = sfc.Oddsportal()\n",
    "try:\n",
    "    link_odds = scraper.scrape_match(links[0])\n",
    "except:\n",
    "    traceback.print_exc()\n",
    "finally:\n",
    "    scraper.close()"
   ]
  },
  {
   "cell_type": "code",
   "execution_count": null,
   "metadata": {},
   "outputs": [],
   "source": [
    "odds_df"
   ]
  }
 ],
 "metadata": {
  "kernelspec": {
   "display_name": "Python 3 (ipykernel)",
   "language": "python",
   "name": "python3"
  },
  "language_info": {
   "codemirror_mode": {
    "name": "ipython",
    "version": 3
   },
   "file_extension": ".py",
   "mimetype": "text/x-python",
   "name": "python",
   "nbconvert_exporter": "python",
   "pygments_lexer": "ipython3",
   "version": "3.9.16"
  },
  "vscode": {
   "interpreter": {
    "hash": "585a938ec471c889bf0cce0aed741a99eaf47ca09c0fa8393793bc5bfe77ba11"
   }
  }
 },
 "nbformat": 4,
 "nbformat_minor": 4
}
