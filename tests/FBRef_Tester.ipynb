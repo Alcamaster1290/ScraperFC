{
 "cells": [
  {
   "cell_type": "code",
   "execution_count": 1,
   "id": "84efcaf0",
   "metadata": {},
   "outputs": [],
   "source": [
    "import sys\n",
    "sys.path.append(\"..\")\n",
    "import ScraperFC as sfc # import local ScraperFC\n",
    "from ScraperFC.shared_functions import sources, InvalidYearException, UnavailableSeasonException\n",
    "\n",
    "import datetime\n",
    "import itertools\n",
    "from tqdm import tqdm\n",
    "import traceback"
   ]
  },
  {
   "cell_type": "code",
   "execution_count": 3,
   "id": "2bcd55f2",
   "metadata": {},
   "outputs": [
    {
     "name": "stderr",
     "output_type": "stream",
     "text": [
      "\n",
      "\n",
      "====== WebDriver manager ======\n",
      "Current google-chrome version is 107.0.5304\n",
      "Get LATEST chromedriver version for 107.0.5304 google-chrome\n",
      "Driver [C:\\Users\\oseymour\\.wdm\\drivers\\chromedriver\\win32\\107.0.5304.62\\chromedriver.exe] found in cache\n"
     ]
    }
   ],
   "source": [
    "link = 'https://fbref.com/en/matches/8b005381/Rangers-NK-Maribor-August-1-2001-Champions-League'\n",
    "scraper = sfc.FBRef()\n",
    "try:\n",
    "    match = scraper.scrape_match(link)\n",
    "    # links = scraper.get_match_links(2014, 'EFL Championship')\n",
    "except:\n",
    "    traceback.print_exc()\n",
    "finally:\n",
    "    scraper.close()"
   ]
  },
  {
   "cell_type": "code",
   "execution_count": 7,
   "id": "f6355783",
   "metadata": {},
   "outputs": [
    {
     "data": {
      "text/plain": [
       "pandas.core.series.Series"
      ]
     },
     "execution_count": 7,
     "metadata": {},
     "output_type": "execute_result"
    }
   ],
   "source": [
    "type(match['Shots'].values[0])"
   ]
  },
  {
   "cell_type": "code",
   "execution_count": null,
   "id": "01ec5975",
   "metadata": {},
   "outputs": [],
   "source": [
    "leagues = sources[\"FBRef\"].keys()\n",
    "years = range(1988, datetime.now().year+1)\n",
    "iterator = list(itertools.product(leagues, years))\n",
    "\n",
    "\n",
    "scraper = sfc.FBRef()\n",
    "try:\n",
    "    for (league, year) in tqdm(iterator):\n",
    "        year = int(year) # year became a string during random sampling?\n",
    "        league = str(league) # league also became a weird type of numpy string?\n",
    "        print(year, league)\n",
    "\n",
    "        # Skip invalid years\n",
    "        try:\n",
    "            sfc.shared_functions.check_season(year, league, \"FBRef\")\n",
    "        except InvalidYearException:\n",
    "            continue\n",
    "\n",
    "        try:\n",
    "            season_link = scraper.get_season_link(year, league)\n",
    "        except UnavailableSeasonException:\n",
    "            continue\n",
    "\n",
    "        match_links = scraper.get_match_links(year, league)\n",
    "\n",
    "        assert type(season_link) is str\n",
    "\n",
    "        assert len(match_links) > 0\n",
    "finally:\n",
    "    scraper.close()"
   ]
  }
 ],
 "metadata": {
  "kernelspec": {
   "display_name": "Python 3.9.15 ('base')",
   "language": "python",
   "name": "python3"
  },
  "language_info": {
   "codemirror_mode": {
    "name": "ipython",
    "version": 3
   },
   "file_extension": ".py",
   "mimetype": "text/x-python",
   "name": "python",
   "nbconvert_exporter": "python",
   "pygments_lexer": "ipython3",
   "version": "3.9.15"
  },
  "vscode": {
   "interpreter": {
    "hash": "cc273e64c6c48e9881aab795f8d0e622d86c0ebe91aa99d17d2821087e5340fb"
   }
  }
 },
 "nbformat": 4,
 "nbformat_minor": 5
}
