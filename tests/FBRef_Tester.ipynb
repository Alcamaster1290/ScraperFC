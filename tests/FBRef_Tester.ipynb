{
 "cells": [
  {
   "cell_type": "code",
   "execution_count": 1,
   "id": "84efcaf0",
   "metadata": {},
   "outputs": [],
   "source": [
    "import sys\n",
    "sys.path.append(\"..\")\n",
    "import ScraperFC as sfc # import local ScraperFC\n",
    "import traceback\n",
    "import pandas as pd\n",
    "import numpy as np\n",
    "from IPython.display import clear_output\n",
    "from tqdm import tqdm\n",
    "import itertools\n",
    "from IPython.display import HTML\n",
    "import requests\n",
    "from bs4 import BeautifulSoup\n",
    "import time\n",
    "import re\n",
    "from datetime import datetime"
   ]
  },
  {
   "cell_type": "code",
   "execution_count": 4,
   "id": "82421f8e",
   "metadata": {
    "scrolled": true
   },
   "outputs": [
    {
     "name": "stderr",
     "output_type": "stream",
     "text": [
      "[WDM] - \n",
      "\n",
      "[WDM] - ====== WebDriver manager ======\n",
      "[WDM] - Current google-chrome version is 106.0.5249\n",
      "[WDM] - Get LATEST driver version for 106.0.5249\n",
      "[WDM] - Driver [C:\\Users\\Owner\\.wdm\\drivers\\chromedriver\\win32\\106.0.5249.61\\chromedriver.exe] found in cache\n",
      "  0%|          | 0/1115 [00:00<?, ?it/s]"
     ]
    },
    {
     "name": "stdout",
     "output_type": "stream",
     "text": [
      "1988 Copa Libertadores\n",
      "1988 invalid for source FBRef and league Copa Libertadores. Must be 2014 or later.\n",
      "1988 invalid for source FBRef and league Copa Libertadores. Must be 2014 or later.\n",
      "1989 Copa Libertadores\n",
      "1989 invalid for source FBRef and league Copa Libertadores. Must be 2014 or later.\n",
      "1989 invalid for source FBRef and league Copa Libertadores. Must be 2014 or later.\n",
      "1990 Copa Libertadores\n",
      "1990 invalid for source FBRef and league Copa Libertadores. Must be 2014 or later.\n",
      "1990 invalid for source FBRef and league Copa Libertadores. Must be 2014 or later.\n",
      "1991 Copa Libertadores\n",
      "1991 invalid for source FBRef and league Copa Libertadores. Must be 2014 or later.\n",
      "1991 invalid for source FBRef and league Copa Libertadores. Must be 2014 or later.\n",
      "1992 Copa Libertadores\n",
      "1992 invalid for source FBRef and league Copa Libertadores. Must be 2014 or later.\n",
      "1992 invalid for source FBRef and league Copa Libertadores. Must be 2014 or later.\n",
      "1993 Copa Libertadores\n",
      "1993 invalid for source FBRef and league Copa Libertadores. Must be 2014 or later.\n",
      "1993 invalid for source FBRef and league Copa Libertadores. Must be 2014 or later.\n",
      "1994 Copa Libertadores\n",
      "1994 invalid for source FBRef and league Copa Libertadores. Must be 2014 or later.\n",
      "1994 invalid for source FBRef and league Copa Libertadores. Must be 2014 or later.\n",
      "1995 Copa Libertadores\n",
      "1995 invalid for source FBRef and league Copa Libertadores. Must be 2014 or later.\n",
      "1995 invalid for source FBRef and league Copa Libertadores. Must be 2014 or later.\n",
      "1996 Copa Libertadores\n",
      "1996 invalid for source FBRef and league Copa Libertadores. Must be 2014 or later.\n",
      "1996 invalid for source FBRef and league Copa Libertadores. Must be 2014 or later.\n",
      "1997 Copa Libertadores\n",
      "1997 invalid for source FBRef and league Copa Libertadores. Must be 2014 or later.\n",
      "1997 invalid for source FBRef and league Copa Libertadores. Must be 2014 or later.\n",
      "1998 Copa Libertadores\n",
      "1998 invalid for source FBRef and league Copa Libertadores. Must be 2014 or later.\n",
      "1998 invalid for source FBRef and league Copa Libertadores. Must be 2014 or later.\n",
      "1999 Copa Libertadores\n",
      "1999 invalid for source FBRef and league Copa Libertadores. Must be 2014 or later.\n",
      "1999 invalid for source FBRef and league Copa Libertadores. Must be 2014 or later.\n",
      "2000 Copa Libertadores\n",
      "2000 invalid for source FBRef and league Copa Libertadores. Must be 2014 or later.\n",
      "2000 invalid for source FBRef and league Copa Libertadores. Must be 2014 or later.\n",
      "2001 Copa Libertadores\n",
      "2001 invalid for source FBRef and league Copa Libertadores. Must be 2014 or later.\n",
      "2001 invalid for source FBRef and league Copa Libertadores. Must be 2014 or later.\n",
      "2002 Copa Libertadores\n",
      "2002 invalid for source FBRef and league Copa Libertadores. Must be 2014 or later.\n",
      "2002 invalid for source FBRef and league Copa Libertadores. Must be 2014 or later.\n",
      "2003 Copa Libertadores\n",
      "2003 invalid for source FBRef and league Copa Libertadores. Must be 2014 or later.\n",
      "2003 invalid for source FBRef and league Copa Libertadores. Must be 2014 or later.\n",
      "2004 Copa Libertadores\n",
      "2004 invalid for source FBRef and league Copa Libertadores. Must be 2014 or later.\n",
      "2004 invalid for source FBRef and league Copa Libertadores. Must be 2014 or later.\n",
      "2005 Copa Libertadores\n",
      "2005 invalid for source FBRef and league Copa Libertadores. Must be 2014 or later.\n",
      "2005 invalid for source FBRef and league Copa Libertadores. Must be 2014 or later.\n",
      "2006 Copa Libertadores\n",
      "2006 invalid for source FBRef and league Copa Libertadores. Must be 2014 or later.\n",
      "2006 invalid for source FBRef and league Copa Libertadores. Must be 2014 or later.\n",
      "2007 Copa Libertadores\n",
      "2007 invalid for source FBRef and league Copa Libertadores. Must be 2014 or later.\n",
      "2007 invalid for source FBRef and league Copa Libertadores. Must be 2014 or later.\n",
      "2008 Copa Libertadores\n",
      "2008 invalid for source FBRef and league Copa Libertadores. Must be 2014 or later.\n",
      "2008 invalid for source FBRef and league Copa Libertadores. Must be 2014 or later.\n",
      "2009 Copa Libertadores\n",
      "2009 invalid for source FBRef and league Copa Libertadores. Must be 2014 or later.\n",
      "2009 invalid for source FBRef and league Copa Libertadores. Must be 2014 or later.\n",
      "2010 Copa Libertadores\n",
      "2010 invalid for source FBRef and league Copa Libertadores. Must be 2014 or later.\n",
      "2010 invalid for source FBRef and league Copa Libertadores. Must be 2014 or later.\n",
      "2011 Copa Libertadores\n",
      "2011 invalid for source FBRef and league Copa Libertadores. Must be 2014 or later.\n",
      "2011 invalid for source FBRef and league Copa Libertadores. Must be 2014 or later.\n",
      "2012 Copa Libertadores\n",
      "2012 invalid for source FBRef and league Copa Libertadores. Must be 2014 or later.\n",
      "2012 invalid for source FBRef and league Copa Libertadores. Must be 2014 or later.\n",
      "2013 Copa Libertadores\n",
      "2013 invalid for source FBRef and league Copa Libertadores. Must be 2014 or later.\n",
      "2013 invalid for source FBRef and league Copa Libertadores. Must be 2014 or later.\n",
      "2014 Copa Libertadores\n",
      "Gathering match links.\n"
     ]
    },
    {
     "name": "stderr",
     "output_type": "stream",
     "text": [
      "  2%|▏         | 27/1115 [00:16<11:01,  1.64it/s]"
     ]
    },
    {
     "name": "stdout",
     "output_type": "stream",
     "text": [
      "2015 Copa Libertadores\n",
      "Gathering match links.\n"
     ]
    },
    {
     "name": "stderr",
     "output_type": "stream",
     "text": [
      "  3%|▎         | 28/1115 [00:32<25:16,  1.39s/it]"
     ]
    },
    {
     "name": "stdout",
     "output_type": "stream",
     "text": [
      "2016 Copa Libertadores\n",
      "Gathering match links.\n"
     ]
    },
    {
     "name": "stderr",
     "output_type": "stream",
     "text": [
      "  3%|▎         | 29/1115 [00:49<43:25,  2.40s/it]"
     ]
    },
    {
     "name": "stdout",
     "output_type": "stream",
     "text": [
      "2017 Copa Libertadores\n",
      "Gathering match links.\n"
     ]
    },
    {
     "name": "stderr",
     "output_type": "stream",
     "text": [
      "  3%|▎         | 30/1115 [01:05<1:05:24,  3.62s/it]"
     ]
    },
    {
     "name": "stdout",
     "output_type": "stream",
     "text": [
      "2018 Copa Libertadores\n",
      "Gathering match links.\n"
     ]
    },
    {
     "name": "stderr",
     "output_type": "stream",
     "text": [
      "  3%|▎         | 31/1115 [01:21<1:30:41,  5.02s/it]"
     ]
    },
    {
     "name": "stdout",
     "output_type": "stream",
     "text": [
      "2019 Copa Libertadores\n",
      "Gathering match links.\n"
     ]
    },
    {
     "name": "stderr",
     "output_type": "stream",
     "text": [
      "  3%|▎         | 32/1115 [01:38<1:58:31,  6.57s/it]"
     ]
    },
    {
     "name": "stdout",
     "output_type": "stream",
     "text": [
      "2020 Copa Libertadores\n",
      "Gathering match links.\n"
     ]
    },
    {
     "name": "stderr",
     "output_type": "stream",
     "text": [
      "  3%|▎         | 33/1115 [01:54<2:27:28,  8.18s/it]"
     ]
    },
    {
     "name": "stdout",
     "output_type": "stream",
     "text": [
      "2021 Copa Libertadores\n",
      "Gathering match links.\n"
     ]
    },
    {
     "name": "stderr",
     "output_type": "stream",
     "text": [
      "  3%|▎         | 34/1115 [02:10<2:55:17,  9.73s/it]"
     ]
    },
    {
     "name": "stdout",
     "output_type": "stream",
     "text": [
      "2022 Copa Libertadores\n",
      "Gathering match links.\n"
     ]
    },
    {
     "name": "stderr",
     "output_type": "stream",
     "text": [
      "  3%|▎         | 35/1115 [02:27<3:19:54, 11.11s/it]"
     ]
    },
    {
     "name": "stdout",
     "output_type": "stream",
     "text": [
      "2023 Copa Libertadores\n",
      "Gathering match links.\n"
     ]
    },
    {
     "name": "stderr",
     "output_type": "stream",
     "text": [
      "  3%|▎         | 36/1115 [02:37<3:17:28, 10.98s/it]"
     ]
    },
    {
     "name": "stdout",
     "output_type": "stream",
     "text": [
      "No Copa Libertadores 2023 season is available on FBRef.\n",
      "1988 Champions League\n",
      "1988 invalid for source FBRef and league Champions League. Must be 1991 or later.\n",
      "1988 invalid for source FBRef and league Champions League. Must be 1991 or later.\n",
      "1989 Champions League\n",
      "1989 invalid for source FBRef and league Champions League. Must be 1991 or later.\n",
      "1989 invalid for source FBRef and league Champions League. Must be 1991 or later.\n",
      "1990 Champions League\n",
      "1990 invalid for source FBRef and league Champions League. Must be 1991 or later.\n",
      "1990 invalid for source FBRef and league Champions League. Must be 1991 or later.\n",
      "1991 Champions League\n",
      "Gathering match links.\n"
     ]
    },
    {
     "name": "stderr",
     "output_type": "stream",
     "text": [
      "  4%|▎         | 40/1115 [02:53<2:05:04,  6.98s/it]"
     ]
    },
    {
     "name": "stdout",
     "output_type": "stream",
     "text": [
      "1992 Champions League\n",
      "Gathering match links.\n"
     ]
    },
    {
     "name": "stderr",
     "output_type": "stream",
     "text": [
      "  4%|▎         | 41/1115 [03:09<2:32:21,  8.51s/it]"
     ]
    },
    {
     "name": "stdout",
     "output_type": "stream",
     "text": [
      "1993 Champions League\n",
      "Gathering match links.\n"
     ]
    },
    {
     "name": "stderr",
     "output_type": "stream",
     "text": [
      "  4%|▍         | 42/1115 [03:25<2:58:14,  9.97s/it]"
     ]
    },
    {
     "name": "stdout",
     "output_type": "stream",
     "text": [
      "1994 Champions League\n",
      "Gathering match links.\n"
     ]
    },
    {
     "name": "stderr",
     "output_type": "stream",
     "text": [
      "  4%|▍         | 43/1115 [03:41<3:22:23, 11.33s/it]"
     ]
    },
    {
     "name": "stdout",
     "output_type": "stream",
     "text": [
      "1995 Champions League\n",
      "Gathering match links.\n"
     ]
    },
    {
     "name": "stderr",
     "output_type": "stream",
     "text": [
      "  4%|▍         | 44/1115 [03:57<3:42:21, 12.46s/it]"
     ]
    },
    {
     "name": "stdout",
     "output_type": "stream",
     "text": [
      "1996 Champions League\n",
      "Gathering match links.\n"
     ]
    },
    {
     "name": "stderr",
     "output_type": "stream",
     "text": [
      "  4%|▍         | 45/1115 [04:13<3:58:17, 13.36s/it]"
     ]
    },
    {
     "name": "stdout",
     "output_type": "stream",
     "text": [
      "1997 Champions League\n",
      "Gathering match links.\n"
     ]
    },
    {
     "name": "stderr",
     "output_type": "stream",
     "text": [
      "  4%|▍         | 46/1115 [04:29<4:10:46, 14.07s/it]"
     ]
    },
    {
     "name": "stdout",
     "output_type": "stream",
     "text": [
      "1998 Champions League\n",
      "Gathering match links.\n"
     ]
    },
    {
     "name": "stderr",
     "output_type": "stream",
     "text": [
      "  4%|▍         | 47/1115 [04:46<4:20:48, 14.65s/it]"
     ]
    },
    {
     "name": "stdout",
     "output_type": "stream",
     "text": [
      "1999 Champions League\n",
      "Gathering match links.\n"
     ]
    },
    {
     "name": "stderr",
     "output_type": "stream",
     "text": [
      "  4%|▍         | 48/1115 [05:02<4:28:35, 15.10s/it]"
     ]
    },
    {
     "name": "stdout",
     "output_type": "stream",
     "text": [
      "2000 Champions League\n",
      "Gathering match links.\n"
     ]
    },
    {
     "name": "stderr",
     "output_type": "stream",
     "text": [
      "  4%|▍         | 49/1115 [05:18<4:35:31, 15.51s/it]"
     ]
    },
    {
     "name": "stdout",
     "output_type": "stream",
     "text": [
      "2001 Champions League\n",
      "Gathering match links.\n"
     ]
    },
    {
     "name": "stderr",
     "output_type": "stream",
     "text": [
      "  4%|▍         | 50/1115 [05:35<4:40:21, 15.79s/it]"
     ]
    },
    {
     "name": "stdout",
     "output_type": "stream",
     "text": [
      "2002 Champions League\n",
      "Gathering match links.\n"
     ]
    },
    {
     "name": "stderr",
     "output_type": "stream",
     "text": [
      "  5%|▍         | 51/1115 [05:51<4:43:52, 16.01s/it]"
     ]
    },
    {
     "name": "stdout",
     "output_type": "stream",
     "text": [
      "2003 Champions League\n",
      "Gathering match links.\n"
     ]
    },
    {
     "name": "stderr",
     "output_type": "stream",
     "text": [
      "  5%|▍         | 52/1115 [06:08<4:46:50, 16.19s/it]"
     ]
    },
    {
     "name": "stdout",
     "output_type": "stream",
     "text": [
      "2004 Champions League\n",
      "Gathering match links.\n"
     ]
    },
    {
     "name": "stderr",
     "output_type": "stream",
     "text": [
      "  5%|▍         | 53/1115 [06:24<4:48:05, 16.28s/it]"
     ]
    },
    {
     "name": "stdout",
     "output_type": "stream",
     "text": [
      "2005 Champions League\n",
      "Gathering match links.\n"
     ]
    },
    {
     "name": "stderr",
     "output_type": "stream",
     "text": [
      "  5%|▍         | 54/1115 [06:41<4:48:19, 16.31s/it]"
     ]
    },
    {
     "name": "stdout",
     "output_type": "stream",
     "text": [
      "2006 Champions League\n",
      "Gathering match links.\n"
     ]
    },
    {
     "name": "stderr",
     "output_type": "stream",
     "text": [
      "  5%|▍         | 55/1115 [06:57<4:48:22, 16.32s/it]"
     ]
    },
    {
     "name": "stdout",
     "output_type": "stream",
     "text": [
      "2007 Champions League\n",
      "Gathering match links.\n"
     ]
    },
    {
     "name": "stderr",
     "output_type": "stream",
     "text": [
      "  5%|▌         | 56/1115 [07:14<4:48:32, 16.35s/it]"
     ]
    },
    {
     "name": "stdout",
     "output_type": "stream",
     "text": [
      "2008 Champions League\n",
      "Gathering match links.\n"
     ]
    },
    {
     "name": "stderr",
     "output_type": "stream",
     "text": [
      "  5%|▌         | 57/1115 [07:30<4:48:45, 16.38s/it]"
     ]
    },
    {
     "name": "stdout",
     "output_type": "stream",
     "text": [
      "2009 Champions League\n",
      "Gathering match links.\n"
     ]
    },
    {
     "name": "stderr",
     "output_type": "stream",
     "text": [
      "  5%|▌         | 58/1115 [07:46<4:48:57, 16.40s/it]"
     ]
    },
    {
     "name": "stdout",
     "output_type": "stream",
     "text": [
      "2010 Champions League\n",
      "Gathering match links.\n"
     ]
    },
    {
     "name": "stderr",
     "output_type": "stream",
     "text": [
      "  5%|▌         | 59/1115 [08:03<4:48:22, 16.39s/it]"
     ]
    },
    {
     "name": "stdout",
     "output_type": "stream",
     "text": [
      "2011 Champions League\n",
      "Gathering match links.\n"
     ]
    },
    {
     "name": "stderr",
     "output_type": "stream",
     "text": [
      "  5%|▌         | 60/1115 [08:19<4:47:50, 16.37s/it]"
     ]
    },
    {
     "name": "stdout",
     "output_type": "stream",
     "text": [
      "2012 Champions League\n",
      "Gathering match links.\n"
     ]
    },
    {
     "name": "stderr",
     "output_type": "stream",
     "text": [
      "  5%|▌         | 61/1115 [08:35<4:47:19, 16.36s/it]"
     ]
    },
    {
     "name": "stdout",
     "output_type": "stream",
     "text": [
      "2013 Champions League\n",
      "Gathering match links.\n"
     ]
    },
    {
     "name": "stderr",
     "output_type": "stream",
     "text": [
      "  6%|▌         | 62/1115 [08:52<4:47:43, 16.39s/it]"
     ]
    },
    {
     "name": "stdout",
     "output_type": "stream",
     "text": [
      "2014 Champions League\n",
      "Gathering match links.\n"
     ]
    },
    {
     "name": "stderr",
     "output_type": "stream",
     "text": [
      "  6%|▌         | 63/1115 [09:08<4:47:30, 16.40s/it]"
     ]
    },
    {
     "name": "stdout",
     "output_type": "stream",
     "text": [
      "2015 Champions League\n",
      "Gathering match links.\n"
     ]
    },
    {
     "name": "stderr",
     "output_type": "stream",
     "text": [
      "  6%|▌         | 64/1115 [09:25<4:48:23, 16.46s/it]"
     ]
    },
    {
     "name": "stdout",
     "output_type": "stream",
     "text": [
      "2016 Champions League\n",
      "Gathering match links.\n"
     ]
    },
    {
     "name": "stderr",
     "output_type": "stream",
     "text": [
      "  6%|▌         | 65/1115 [09:41<4:48:10, 16.47s/it]"
     ]
    },
    {
     "name": "stdout",
     "output_type": "stream",
     "text": [
      "2017 Champions League\n",
      "Gathering match links.\n"
     ]
    },
    {
     "name": "stderr",
     "output_type": "stream",
     "text": [
      "  6%|▌         | 66/1115 [09:58<4:48:01, 16.47s/it]"
     ]
    },
    {
     "name": "stdout",
     "output_type": "stream",
     "text": [
      "2018 Champions League\n",
      "Gathering match links.\n"
     ]
    },
    {
     "name": "stderr",
     "output_type": "stream",
     "text": [
      "  6%|▌         | 67/1115 [10:15<4:48:30, 16.52s/it]"
     ]
    },
    {
     "name": "stdout",
     "output_type": "stream",
     "text": [
      "2019 Champions League\n",
      "Gathering match links.\n"
     ]
    },
    {
     "name": "stderr",
     "output_type": "stream",
     "text": [
      "  6%|▌         | 68/1115 [10:31<4:48:40, 16.54s/it]"
     ]
    },
    {
     "name": "stdout",
     "output_type": "stream",
     "text": [
      "2020 Champions League\n",
      "Gathering match links.\n"
     ]
    },
    {
     "name": "stderr",
     "output_type": "stream",
     "text": [
      "  6%|▌         | 69/1115 [10:48<4:48:34, 16.55s/it]"
     ]
    },
    {
     "name": "stdout",
     "output_type": "stream",
     "text": [
      "2021 Champions League\n",
      "Gathering match links.\n"
     ]
    },
    {
     "name": "stderr",
     "output_type": "stream",
     "text": [
      "  6%|▋         | 70/1115 [11:04<4:47:54, 16.53s/it]"
     ]
    },
    {
     "name": "stdout",
     "output_type": "stream",
     "text": [
      "2022 Champions League\n",
      "Gathering match links.\n"
     ]
    },
    {
     "name": "stderr",
     "output_type": "stream",
     "text": [
      "  6%|▋         | 71/1115 [11:21<4:47:45, 16.54s/it]"
     ]
    },
    {
     "name": "stdout",
     "output_type": "stream",
     "text": [
      "2023 Champions League\n",
      "Gathering match links.\n"
     ]
    },
    {
     "name": "stderr",
     "output_type": "stream",
     "text": [
      "  6%|▋         | 72/1115 [11:37<4:47:19, 16.53s/it]"
     ]
    },
    {
     "name": "stdout",
     "output_type": "stream",
     "text": [
      "1988 Europa League\n",
      "1988 invalid for source FBRef and league Europa League. Must be 1991 or later.\n",
      "1988 invalid for source FBRef and league Europa League. Must be 1991 or later.\n",
      "1989 Europa League\n",
      "1989 invalid for source FBRef and league Europa League. Must be 1991 or later.\n",
      "1989 invalid for source FBRef and league Europa League. Must be 1991 or later.\n",
      "1990 Europa League\n",
      "1990 invalid for source FBRef and league Europa League. Must be 1991 or later.\n",
      "1990 invalid for source FBRef and league Europa League. Must be 1991 or later.\n",
      "1991 Europa League\n",
      "Gathering match links.\n"
     ]
    },
    {
     "name": "stderr",
     "output_type": "stream",
     "text": [
      "  7%|▋         | 76/1115 [11:54<2:30:05,  8.67s/it]"
     ]
    },
    {
     "name": "stdout",
     "output_type": "stream",
     "text": [
      "1992 Europa League\n",
      "Gathering match links.\n"
     ]
    },
    {
     "name": "stderr",
     "output_type": "stream",
     "text": [
      "  7%|▋         | 77/1115 [12:10<2:53:56, 10.05s/it]"
     ]
    },
    {
     "name": "stdout",
     "output_type": "stream",
     "text": [
      "1993 Europa League\n",
      "Gathering match links.\n"
     ]
    },
    {
     "name": "stderr",
     "output_type": "stream",
     "text": [
      "  7%|▋         | 78/1115 [12:26<3:17:11, 11.41s/it]"
     ]
    },
    {
     "name": "stdout",
     "output_type": "stream",
     "text": [
      "1994 Europa League\n",
      "Gathering match links.\n"
     ]
    },
    {
     "name": "stderr",
     "output_type": "stream",
     "text": [
      "  7%|▋         | 79/1115 [12:43<3:36:19, 12.53s/it]"
     ]
    },
    {
     "name": "stdout",
     "output_type": "stream",
     "text": [
      "1995 Europa League\n",
      "Gathering match links.\n"
     ]
    },
    {
     "name": "stderr",
     "output_type": "stream",
     "text": [
      "  7%|▋         | 80/1115 [12:59<3:52:26, 13.48s/it]"
     ]
    },
    {
     "name": "stdout",
     "output_type": "stream",
     "text": [
      "1996 Europa League\n",
      "Gathering match links.\n"
     ]
    },
    {
     "name": "stderr",
     "output_type": "stream",
     "text": [
      "  7%|▋         | 81/1115 [13:15<4:05:14, 14.23s/it]"
     ]
    },
    {
     "name": "stdout",
     "output_type": "stream",
     "text": [
      "1997 Europa League\n",
      "Gathering match links.\n"
     ]
    },
    {
     "name": "stderr",
     "output_type": "stream",
     "text": [
      "  7%|▋         | 82/1115 [13:32<4:15:23, 14.83s/it]"
     ]
    },
    {
     "name": "stdout",
     "output_type": "stream",
     "text": [
      "1998 Europa League\n",
      "Gathering match links.\n"
     ]
    },
    {
     "name": "stderr",
     "output_type": "stream",
     "text": [
      "  7%|▋         | 83/1115 [13:48<4:23:09, 15.30s/it]"
     ]
    },
    {
     "name": "stdout",
     "output_type": "stream",
     "text": [
      "1999 Europa League\n",
      "Gathering match links.\n"
     ]
    },
    {
     "name": "stderr",
     "output_type": "stream",
     "text": [
      "  8%|▊         | 84/1115 [14:05<4:28:14, 15.61s/it]"
     ]
    },
    {
     "name": "stdout",
     "output_type": "stream",
     "text": [
      "2000 Europa League\n",
      "Gathering match links.\n"
     ]
    },
    {
     "name": "stderr",
     "output_type": "stream",
     "text": [
      "  8%|▊         | 85/1115 [14:21<4:33:13, 15.92s/it]"
     ]
    },
    {
     "name": "stdout",
     "output_type": "stream",
     "text": [
      "2001 Europa League\n",
      "Gathering match links.\n"
     ]
    },
    {
     "name": "stderr",
     "output_type": "stream",
     "text": [
      "  8%|▊         | 86/1115 [14:38<4:36:40, 16.13s/it]"
     ]
    },
    {
     "name": "stdout",
     "output_type": "stream",
     "text": [
      "2002 Europa League\n",
      "Gathering match links.\n"
     ]
    },
    {
     "name": "stderr",
     "output_type": "stream",
     "text": [
      "  8%|▊         | 87/1115 [14:55<4:41:22, 16.42s/it]"
     ]
    },
    {
     "name": "stdout",
     "output_type": "stream",
     "text": [
      "2003 Europa League\n",
      "Gathering match links.\n"
     ]
    },
    {
     "name": "stderr",
     "output_type": "stream",
     "text": [
      "  8%|▊         | 88/1115 [15:12<4:42:18, 16.49s/it]"
     ]
    },
    {
     "name": "stdout",
     "output_type": "stream",
     "text": [
      "2004 Europa League\n",
      "Gathering match links.\n"
     ]
    },
    {
     "name": "stderr",
     "output_type": "stream",
     "text": [
      "  8%|▊         | 89/1115 [15:29<4:42:50, 16.54s/it]"
     ]
    },
    {
     "name": "stdout",
     "output_type": "stream",
     "text": [
      "2005 Europa League\n",
      "Gathering match links.\n"
     ]
    },
    {
     "name": "stderr",
     "output_type": "stream",
     "text": [
      "  8%|▊         | 90/1115 [15:45<4:44:42, 16.67s/it]"
     ]
    },
    {
     "name": "stdout",
     "output_type": "stream",
     "text": [
      "2006 Europa League\n",
      "Gathering match links.\n"
     ]
    },
    {
     "name": "stderr",
     "output_type": "stream",
     "text": [
      "  8%|▊         | 91/1115 [16:02<4:45:05, 16.70s/it]"
     ]
    },
    {
     "name": "stdout",
     "output_type": "stream",
     "text": [
      "2007 Europa League\n",
      "Gathering match links.\n"
     ]
    },
    {
     "name": "stderr",
     "output_type": "stream",
     "text": [
      "  8%|▊         | 92/1115 [16:19<4:45:15, 16.73s/it]"
     ]
    },
    {
     "name": "stdout",
     "output_type": "stream",
     "text": [
      "2008 Europa League\n",
      "Gathering match links.\n"
     ]
    },
    {
     "name": "stderr",
     "output_type": "stream",
     "text": [
      "  8%|▊         | 93/1115 [16:36<4:46:03, 16.79s/it]"
     ]
    },
    {
     "name": "stdout",
     "output_type": "stream",
     "text": [
      "2009 Europa League\n",
      "Gathering match links.\n"
     ]
    },
    {
     "name": "stderr",
     "output_type": "stream",
     "text": [
      "  8%|▊         | 94/1115 [16:53<4:46:20, 16.83s/it]"
     ]
    },
    {
     "name": "stdout",
     "output_type": "stream",
     "text": [
      "2010 Europa League\n",
      "Gathering match links.\n"
     ]
    },
    {
     "name": "stderr",
     "output_type": "stream",
     "text": [
      "  9%|▊         | 95/1115 [17:10<4:46:50, 16.87s/it]"
     ]
    },
    {
     "name": "stdout",
     "output_type": "stream",
     "text": [
      "2011 Europa League\n",
      "Gathering match links.\n"
     ]
    },
    {
     "name": "stderr",
     "output_type": "stream",
     "text": [
      "  9%|▊         | 96/1115 [17:27<4:48:35, 16.99s/it]"
     ]
    },
    {
     "name": "stdout",
     "output_type": "stream",
     "text": [
      "2012 Europa League\n",
      "Gathering match links.\n"
     ]
    },
    {
     "name": "stderr",
     "output_type": "stream",
     "text": [
      "  9%|▊         | 97/1115 [17:44<4:48:48, 17.02s/it]"
     ]
    },
    {
     "name": "stdout",
     "output_type": "stream",
     "text": [
      "2013 Europa League\n",
      "Gathering match links.\n"
     ]
    },
    {
     "name": "stderr",
     "output_type": "stream",
     "text": [
      "  9%|▉         | 98/1115 [18:02<4:53:07, 17.29s/it]"
     ]
    },
    {
     "name": "stdout",
     "output_type": "stream",
     "text": [
      "2014 Europa League\n",
      "Gathering match links.\n"
     ]
    },
    {
     "name": "stderr",
     "output_type": "stream",
     "text": [
      "  9%|▉         | 99/1115 [18:19<4:51:23, 17.21s/it]"
     ]
    },
    {
     "name": "stdout",
     "output_type": "stream",
     "text": [
      "2015 Europa League\n",
      "Gathering match links.\n"
     ]
    },
    {
     "name": "stderr",
     "output_type": "stream",
     "text": [
      "  9%|▉         | 100/1115 [18:36<4:51:27, 17.23s/it]"
     ]
    },
    {
     "name": "stdout",
     "output_type": "stream",
     "text": [
      "2016 Europa League\n",
      "Gathering match links.\n"
     ]
    },
    {
     "name": "stderr",
     "output_type": "stream",
     "text": [
      "  9%|▉         | 101/1115 [18:54<4:51:25, 17.24s/it]"
     ]
    },
    {
     "name": "stdout",
     "output_type": "stream",
     "text": [
      "2017 Europa League\n",
      "Gathering match links.\n"
     ]
    },
    {
     "name": "stderr",
     "output_type": "stream",
     "text": [
      "  9%|▉         | 102/1115 [19:11<4:50:48, 17.22s/it]"
     ]
    },
    {
     "name": "stdout",
     "output_type": "stream",
     "text": [
      "2018 Europa League\n",
      "Gathering match links.\n"
     ]
    },
    {
     "name": "stderr",
     "output_type": "stream",
     "text": [
      "  9%|▉         | 103/1115 [19:28<4:51:24, 17.28s/it]"
     ]
    },
    {
     "name": "stdout",
     "output_type": "stream",
     "text": [
      "2019 Europa League\n",
      "Gathering match links.\n"
     ]
    },
    {
     "name": "stderr",
     "output_type": "stream",
     "text": [
      "  9%|▉         | 104/1115 [19:46<4:51:43, 17.31s/it]"
     ]
    },
    {
     "name": "stdout",
     "output_type": "stream",
     "text": [
      "2020 Europa League\n",
      "Gathering match links.\n"
     ]
    },
    {
     "name": "stderr",
     "output_type": "stream",
     "text": [
      "  9%|▉         | 105/1115 [20:03<4:52:45, 17.39s/it]"
     ]
    },
    {
     "name": "stdout",
     "output_type": "stream",
     "text": [
      "2021 Europa League\n",
      "Gathering match links.\n"
     ]
    },
    {
     "name": "stderr",
     "output_type": "stream",
     "text": [
      " 10%|▉         | 106/1115 [20:20<4:50:55, 17.30s/it]"
     ]
    },
    {
     "name": "stdout",
     "output_type": "stream",
     "text": [
      "2022 Europa League\n",
      "Gathering match links.\n"
     ]
    },
    {
     "name": "stderr",
     "output_type": "stream",
     "text": [
      " 10%|▉         | 107/1115 [20:37<4:46:46, 17.07s/it]"
     ]
    },
    {
     "name": "stdout",
     "output_type": "stream",
     "text": [
      "2023 Europa League\n",
      "Gathering match links.\n"
     ]
    },
    {
     "name": "stderr",
     "output_type": "stream",
     "text": [
      " 10%|▉         | 108/1115 [20:53<4:43:09, 16.87s/it]"
     ]
    },
    {
     "name": "stdout",
     "output_type": "stream",
     "text": [
      "1988 Europa Conference League\n",
      "1988 invalid for source FBRef and league Europa Conference League. Must be 2022 or later.\n",
      "1988 invalid for source FBRef and league Europa Conference League. Must be 2022 or later.\n",
      "1989 Europa Conference League\n",
      "1989 invalid for source FBRef and league Europa Conference League. Must be 2022 or later.\n",
      "1989 invalid for source FBRef and league Europa Conference League. Must be 2022 or later.\n",
      "1990 Europa Conference League\n",
      "1990 invalid for source FBRef and league Europa Conference League. Must be 2022 or later.\n",
      "1990 invalid for source FBRef and league Europa Conference League. Must be 2022 or later.\n",
      "1991 Europa Conference League\n",
      "1991 invalid for source FBRef and league Europa Conference League. Must be 2022 or later.\n",
      "1991 invalid for source FBRef and league Europa Conference League. Must be 2022 or later.\n",
      "1992 Europa Conference League\n",
      "1992 invalid for source FBRef and league Europa Conference League. Must be 2022 or later.\n",
      "1992 invalid for source FBRef and league Europa Conference League. Must be 2022 or later.\n",
      "1993 Europa Conference League\n",
      "1993 invalid for source FBRef and league Europa Conference League. Must be 2022 or later.\n",
      "1993 invalid for source FBRef and league Europa Conference League. Must be 2022 or later.\n",
      "1994 Europa Conference League\n",
      "1994 invalid for source FBRef and league Europa Conference League. Must be 2022 or later.\n",
      "1994 invalid for source FBRef and league Europa Conference League. Must be 2022 or later.\n",
      "1995 Europa Conference League\n",
      "1995 invalid for source FBRef and league Europa Conference League. Must be 2022 or later.\n",
      "1995 invalid for source FBRef and league Europa Conference League. Must be 2022 or later.\n",
      "1996 Europa Conference League\n",
      "1996 invalid for source FBRef and league Europa Conference League. Must be 2022 or later.\n",
      "1996 invalid for source FBRef and league Europa Conference League. Must be 2022 or later.\n",
      "1997 Europa Conference League\n",
      "1997 invalid for source FBRef and league Europa Conference League. Must be 2022 or later.\n",
      "1997 invalid for source FBRef and league Europa Conference League. Must be 2022 or later.\n",
      "1998 Europa Conference League\n",
      "1998 invalid for source FBRef and league Europa Conference League. Must be 2022 or later.\n",
      "1998 invalid for source FBRef and league Europa Conference League. Must be 2022 or later.\n",
      "1999 Europa Conference League\n",
      "1999 invalid for source FBRef and league Europa Conference League. Must be 2022 or later.\n",
      "1999 invalid for source FBRef and league Europa Conference League. Must be 2022 or later.\n",
      "2000 Europa Conference League\n",
      "2000 invalid for source FBRef and league Europa Conference League. Must be 2022 or later.\n",
      "2000 invalid for source FBRef and league Europa Conference League. Must be 2022 or later.\n",
      "2001 Europa Conference League\n",
      "2001 invalid for source FBRef and league Europa Conference League. Must be 2022 or later.\n",
      "2001 invalid for source FBRef and league Europa Conference League. Must be 2022 or later.\n",
      "2002 Europa Conference League\n",
      "2002 invalid for source FBRef and league Europa Conference League. Must be 2022 or later.\n",
      "2002 invalid for source FBRef and league Europa Conference League. Must be 2022 or later.\n",
      "2003 Europa Conference League\n",
      "2003 invalid for source FBRef and league Europa Conference League. Must be 2022 or later.\n",
      "2003 invalid for source FBRef and league Europa Conference League. Must be 2022 or later.\n",
      "2004 Europa Conference League\n",
      "2004 invalid for source FBRef and league Europa Conference League. Must be 2022 or later.\n",
      "2004 invalid for source FBRef and league Europa Conference League. Must be 2022 or later.\n",
      "2005 Europa Conference League\n",
      "2005 invalid for source FBRef and league Europa Conference League. Must be 2022 or later.\n",
      "2005 invalid for source FBRef and league Europa Conference League. Must be 2022 or later.\n",
      "2006 Europa Conference League\n",
      "2006 invalid for source FBRef and league Europa Conference League. Must be 2022 or later.\n",
      "2006 invalid for source FBRef and league Europa Conference League. Must be 2022 or later.\n",
      "2007 Europa Conference League\n",
      "2007 invalid for source FBRef and league Europa Conference League. Must be 2022 or later.\n",
      "2007 invalid for source FBRef and league Europa Conference League. Must be 2022 or later.\n",
      "2008 Europa Conference League\n",
      "2008 invalid for source FBRef and league Europa Conference League. Must be 2022 or later.\n",
      "2008 invalid for source FBRef and league Europa Conference League. Must be 2022 or later.\n",
      "2009 Europa Conference League\n",
      "2009 invalid for source FBRef and league Europa Conference League. Must be 2022 or later.\n",
      "2009 invalid for source FBRef and league Europa Conference League. Must be 2022 or later.\n",
      "2010 Europa Conference League\n",
      "2010 invalid for source FBRef and league Europa Conference League. Must be 2022 or later.\n",
      "2010 invalid for source FBRef and league Europa Conference League. Must be 2022 or later.\n",
      "2011 Europa Conference League\n",
      "2011 invalid for source FBRef and league Europa Conference League. Must be 2022 or later.\n",
      "2011 invalid for source FBRef and league Europa Conference League. Must be 2022 or later.\n",
      "2012 Europa Conference League\n",
      "2012 invalid for source FBRef and league Europa Conference League. Must be 2022 or later.\n",
      "2012 invalid for source FBRef and league Europa Conference League. Must be 2022 or later.\n",
      "2013 Europa Conference League\n",
      "2013 invalid for source FBRef and league Europa Conference League. Must be 2022 or later.\n",
      "2013 invalid for source FBRef and league Europa Conference League. Must be 2022 or later.\n",
      "2014 Europa Conference League\n",
      "2014 invalid for source FBRef and league Europa Conference League. Must be 2022 or later.\n",
      "2014 invalid for source FBRef and league Europa Conference League. Must be 2022 or later.\n",
      "2015 Europa Conference League\n",
      "2015 invalid for source FBRef and league Europa Conference League. Must be 2022 or later.\n",
      "2015 invalid for source FBRef and league Europa Conference League. Must be 2022 or later.\n",
      "2016 Europa Conference League\n",
      "2016 invalid for source FBRef and league Europa Conference League. Must be 2022 or later.\n",
      "2016 invalid for source FBRef and league Europa Conference League. Must be 2022 or later.\n",
      "2017 Europa Conference League\n",
      "2017 invalid for source FBRef and league Europa Conference League. Must be 2022 or later.\n",
      "2017 invalid for source FBRef and league Europa Conference League. Must be 2022 or later.\n",
      "2018 Europa Conference League\n",
      "2018 invalid for source FBRef and league Europa Conference League. Must be 2022 or later.\n",
      "2018 invalid for source FBRef and league Europa Conference League. Must be 2022 or later.\n",
      "2019 Europa Conference League\n",
      "2019 invalid for source FBRef and league Europa Conference League. Must be 2022 or later.\n",
      "2019 invalid for source FBRef and league Europa Conference League. Must be 2022 or later.\n",
      "2020 Europa Conference League\n",
      "2020 invalid for source FBRef and league Europa Conference League. Must be 2022 or later.\n",
      "2020 invalid for source FBRef and league Europa Conference League. Must be 2022 or later.\n",
      "2021 Europa Conference League\n",
      "2021 invalid for source FBRef and league Europa Conference League. Must be 2022 or later.\n",
      "2021 invalid for source FBRef and league Europa Conference League. Must be 2022 or later.\n",
      "2022 Europa Conference League\n",
      "Gathering match links.\n"
     ]
    },
    {
     "name": "stderr",
     "output_type": "stream",
     "text": [
      " 13%|█▎        | 143/1115 [21:10<24:21,  1.50s/it]  "
     ]
    },
    {
     "name": "stdout",
     "output_type": "stream",
     "text": [
      "2023 Europa Conference League\n",
      "Gathering match links.\n"
     ]
    },
    {
     "name": "stderr",
     "output_type": "stream",
     "text": [
      " 13%|█▎        | 144/1115 [21:27<33:25,  2.07s/it]"
     ]
    },
    {
     "name": "stdout",
     "output_type": "stream",
     "text": [
      "1988 World Cup\n",
      "Gathering match links.\n"
     ]
    },
    {
     "name": "stderr",
     "output_type": "stream",
     "text": [
      " 13%|█▎        | 145/1115 [21:37<40:11,  2.49s/it]"
     ]
    },
    {
     "name": "stdout",
     "output_type": "stream",
     "text": [
      "No World Cup 1988 season is available on FBRef.\n",
      "1989 World Cup\n",
      "Gathering match links.\n"
     ]
    },
    {
     "name": "stderr",
     "output_type": "stream",
     "text": [
      " 13%|█▎        | 146/1115 [21:48<48:42,  3.02s/it]"
     ]
    },
    {
     "name": "stdout",
     "output_type": "stream",
     "text": [
      "No World Cup 1989 season is available on FBRef.\n",
      "1990 World Cup\n",
      "Gathering match links.\n"
     ]
    },
    {
     "name": "stderr",
     "output_type": "stream",
     "text": [
      " 13%|█▎        | 147/1115 [22:04<1:06:40,  4.13s/it]"
     ]
    },
    {
     "name": "stdout",
     "output_type": "stream",
     "text": [
      "1991 World Cup\n",
      "Gathering match links.\n"
     ]
    },
    {
     "name": "stderr",
     "output_type": "stream",
     "text": [
      " 13%|█▎        | 148/1115 [22:14<1:17:44,  4.82s/it]"
     ]
    },
    {
     "name": "stdout",
     "output_type": "stream",
     "text": [
      "No World Cup 1991 season is available on FBRef.\n",
      "1992 World Cup\n",
      "Gathering match links.\n"
     ]
    },
    {
     "name": "stderr",
     "output_type": "stream",
     "text": [
      " 13%|█▎        | 149/1115 [22:24<1:29:47,  5.58s/it]"
     ]
    },
    {
     "name": "stdout",
     "output_type": "stream",
     "text": [
      "No World Cup 1992 season is available on FBRef.\n",
      "1993 World Cup\n",
      "Gathering match links.\n"
     ]
    },
    {
     "name": "stderr",
     "output_type": "stream",
     "text": [
      " 13%|█▎        | 150/1115 [22:35<1:42:36,  6.38s/it]"
     ]
    },
    {
     "name": "stdout",
     "output_type": "stream",
     "text": [
      "No World Cup 1993 season is available on FBRef.\n",
      "1994 World Cup\n",
      "Gathering match links.\n"
     ]
    },
    {
     "name": "stderr",
     "output_type": "stream",
     "text": [
      " 14%|█▎        | 151/1115 [22:51<2:11:12,  8.17s/it]"
     ]
    },
    {
     "name": "stdout",
     "output_type": "stream",
     "text": [
      "1995 World Cup\n",
      "Gathering match links.\n"
     ]
    },
    {
     "name": "stderr",
     "output_type": "stream",
     "text": [
      " 14%|█▎        | 152/1115 [23:01<2:18:43,  8.64s/it]"
     ]
    },
    {
     "name": "stdout",
     "output_type": "stream",
     "text": [
      "No World Cup 1995 season is available on FBRef.\n",
      "1996 World Cup\n",
      "Gathering match links.\n"
     ]
    },
    {
     "name": "stderr",
     "output_type": "stream",
     "text": [
      " 14%|█▎        | 153/1115 [23:12<2:25:16,  9.06s/it]"
     ]
    },
    {
     "name": "stdout",
     "output_type": "stream",
     "text": [
      "No World Cup 1996 season is available on FBRef.\n",
      "1997 World Cup\n",
      "Gathering match links.\n"
     ]
    },
    {
     "name": "stderr",
     "output_type": "stream",
     "text": [
      " 14%|█▍        | 154/1115 [23:22<2:31:04,  9.43s/it]"
     ]
    },
    {
     "name": "stdout",
     "output_type": "stream",
     "text": [
      "No World Cup 1997 season is available on FBRef.\n",
      "1998 World Cup\n",
      "Gathering match links.\n"
     ]
    },
    {
     "name": "stderr",
     "output_type": "stream",
     "text": [
      " 14%|█▍        | 155/1115 [23:38<2:58:09, 11.14s/it]"
     ]
    },
    {
     "name": "stdout",
     "output_type": "stream",
     "text": [
      "1999 World Cup\n",
      "Gathering match links.\n"
     ]
    },
    {
     "name": "stderr",
     "output_type": "stream",
     "text": [
      " 14%|█▍        | 156/1115 [23:48<2:54:43, 10.93s/it]"
     ]
    },
    {
     "name": "stdout",
     "output_type": "stream",
     "text": [
      "No World Cup 1999 season is available on FBRef.\n",
      "2000 World Cup\n",
      "Gathering match links.\n"
     ]
    },
    {
     "name": "stderr",
     "output_type": "stream",
     "text": [
      " 14%|█▍        | 157/1115 [23:59<2:52:40, 10.81s/it]"
     ]
    },
    {
     "name": "stdout",
     "output_type": "stream",
     "text": [
      "No World Cup 2000 season is available on FBRef.\n",
      "2001 World Cup\n",
      "Gathering match links.\n"
     ]
    },
    {
     "name": "stderr",
     "output_type": "stream",
     "text": [
      " 14%|█▍        | 158/1115 [24:09<2:50:31, 10.69s/it]"
     ]
    },
    {
     "name": "stdout",
     "output_type": "stream",
     "text": [
      "No World Cup 2001 season is available on FBRef.\n",
      "2002 World Cup\n",
      "Gathering match links.\n"
     ]
    },
    {
     "name": "stderr",
     "output_type": "stream",
     "text": [
      " 14%|█▍        | 159/1115 [24:25<3:14:02, 12.18s/it]"
     ]
    },
    {
     "name": "stdout",
     "output_type": "stream",
     "text": [
      "2003 World Cup\n",
      "Gathering match links.\n"
     ]
    },
    {
     "name": "stderr",
     "output_type": "stream",
     "text": [
      " 14%|█▍        | 160/1115 [24:35<3:05:29, 11.65s/it]"
     ]
    },
    {
     "name": "stdout",
     "output_type": "stream",
     "text": [
      "No World Cup 2003 season is available on FBRef.\n",
      "2004 World Cup\n",
      "Gathering match links.\n"
     ]
    },
    {
     "name": "stderr",
     "output_type": "stream",
     "text": [
      " 14%|█▍        | 161/1115 [24:46<2:59:47, 11.31s/it]"
     ]
    },
    {
     "name": "stdout",
     "output_type": "stream",
     "text": [
      "No World Cup 2004 season is available on FBRef.\n",
      "2005 World Cup\n",
      "Gathering match links.\n"
     ]
    },
    {
     "name": "stderr",
     "output_type": "stream",
     "text": [
      " 15%|█▍        | 162/1115 [24:56<2:55:53, 11.07s/it]"
     ]
    },
    {
     "name": "stdout",
     "output_type": "stream",
     "text": [
      "No World Cup 2005 season is available on FBRef.\n",
      "2006 World Cup\n",
      "Gathering match links.\n"
     ]
    },
    {
     "name": "stderr",
     "output_type": "stream",
     "text": [
      " 15%|█▍        | 163/1115 [25:12<3:18:01, 12.48s/it]"
     ]
    },
    {
     "name": "stdout",
     "output_type": "stream",
     "text": [
      "2007 World Cup\n",
      "Gathering match links.\n"
     ]
    },
    {
     "name": "stderr",
     "output_type": "stream",
     "text": [
      " 15%|█▍        | 164/1115 [25:23<3:08:33, 11.90s/it]"
     ]
    },
    {
     "name": "stdout",
     "output_type": "stream",
     "text": [
      "No World Cup 2007 season is available on FBRef.\n",
      "2008 World Cup\n",
      "Gathering match links.\n"
     ]
    },
    {
     "name": "stderr",
     "output_type": "stream",
     "text": [
      " 15%|█▍        | 165/1115 [25:33<3:01:08, 11.44s/it]"
     ]
    },
    {
     "name": "stdout",
     "output_type": "stream",
     "text": [
      "No World Cup 2008 season is available on FBRef.\n",
      "2009 World Cup\n",
      "Gathering match links.\n"
     ]
    },
    {
     "name": "stderr",
     "output_type": "stream",
     "text": [
      " 15%|█▍        | 166/1115 [25:44<2:55:55, 11.12s/it]"
     ]
    },
    {
     "name": "stdout",
     "output_type": "stream",
     "text": [
      "No World Cup 2009 season is available on FBRef.\n",
      "2010 World Cup\n",
      "Gathering match links.\n"
     ]
    },
    {
     "name": "stderr",
     "output_type": "stream",
     "text": [
      " 15%|█▍        | 167/1115 [25:59<3:18:05, 12.54s/it]"
     ]
    },
    {
     "name": "stdout",
     "output_type": "stream",
     "text": [
      "2011 World Cup\n",
      "Gathering match links.\n"
     ]
    },
    {
     "name": "stderr",
     "output_type": "stream",
     "text": [
      " 15%|█▌        | 168/1115 [26:10<3:07:52, 11.90s/it]"
     ]
    },
    {
     "name": "stdout",
     "output_type": "stream",
     "text": [
      "No World Cup 2011 season is available on FBRef.\n",
      "2012 World Cup\n",
      "Gathering match links.\n"
     ]
    },
    {
     "name": "stderr",
     "output_type": "stream",
     "text": [
      " 15%|█▌        | 169/1115 [26:20<3:00:31, 11.45s/it]"
     ]
    },
    {
     "name": "stdout",
     "output_type": "stream",
     "text": [
      "No World Cup 2012 season is available on FBRef.\n",
      "2013 World Cup\n",
      "Gathering match links.\n"
     ]
    },
    {
     "name": "stderr",
     "output_type": "stream",
     "text": [
      " 15%|█▌        | 170/1115 [26:31<2:55:35, 11.15s/it]"
     ]
    },
    {
     "name": "stdout",
     "output_type": "stream",
     "text": [
      "No World Cup 2013 season is available on FBRef.\n",
      "2014 World Cup\n",
      "Gathering match links.\n"
     ]
    },
    {
     "name": "stderr",
     "output_type": "stream",
     "text": [
      " 15%|█▌        | 171/1115 [26:47<3:17:58, 12.58s/it]"
     ]
    },
    {
     "name": "stdout",
     "output_type": "stream",
     "text": [
      "2015 World Cup\n",
      "Gathering match links.\n"
     ]
    },
    {
     "name": "stderr",
     "output_type": "stream",
     "text": [
      " 15%|█▌        | 172/1115 [26:57<3:07:42, 11.94s/it]"
     ]
    },
    {
     "name": "stdout",
     "output_type": "stream",
     "text": [
      "No World Cup 2015 season is available on FBRef.\n",
      "2016 World Cup\n",
      "Gathering match links.\n"
     ]
    },
    {
     "name": "stderr",
     "output_type": "stream",
     "text": [
      " 16%|█▌        | 173/1115 [27:07<3:00:19, 11.49s/it]"
     ]
    },
    {
     "name": "stdout",
     "output_type": "stream",
     "text": [
      "No World Cup 2016 season is available on FBRef.\n",
      "2017 World Cup\n",
      "Gathering match links.\n"
     ]
    },
    {
     "name": "stderr",
     "output_type": "stream",
     "text": [
      " 16%|█▌        | 174/1115 [27:18<2:55:03, 11.16s/it]"
     ]
    },
    {
     "name": "stdout",
     "output_type": "stream",
     "text": [
      "No World Cup 2017 season is available on FBRef.\n",
      "2018 World Cup\n",
      "Gathering match links.\n"
     ]
    },
    {
     "name": "stderr",
     "output_type": "stream",
     "text": [
      " 16%|█▌        | 175/1115 [27:34<3:16:55, 12.57s/it]"
     ]
    },
    {
     "name": "stdout",
     "output_type": "stream",
     "text": [
      "2019 World Cup\n",
      "Gathering match links.\n"
     ]
    },
    {
     "name": "stderr",
     "output_type": "stream",
     "text": [
      " 16%|█▌        | 176/1115 [27:44<3:06:26, 11.91s/it]"
     ]
    },
    {
     "name": "stdout",
     "output_type": "stream",
     "text": [
      "No World Cup 2019 season is available on FBRef.\n",
      "2020 World Cup\n",
      "Gathering match links.\n"
     ]
    },
    {
     "name": "stderr",
     "output_type": "stream",
     "text": [
      " 16%|█▌        | 177/1115 [27:54<2:59:02, 11.45s/it]"
     ]
    },
    {
     "name": "stdout",
     "output_type": "stream",
     "text": [
      "No World Cup 2020 season is available on FBRef.\n",
      "2021 World Cup\n",
      "Gathering match links.\n"
     ]
    },
    {
     "name": "stderr",
     "output_type": "stream",
     "text": [
      " 16%|█▌        | 178/1115 [28:05<2:53:51, 11.13s/it]"
     ]
    },
    {
     "name": "stdout",
     "output_type": "stream",
     "text": [
      "No World Cup 2021 season is available on FBRef.\n",
      "2022 World Cup\n",
      "Gathering match links.\n"
     ]
    },
    {
     "name": "stderr",
     "output_type": "stream",
     "text": [
      " 16%|█▌        | 179/1115 [28:21<3:15:32, 12.53s/it]"
     ]
    },
    {
     "name": "stdout",
     "output_type": "stream",
     "text": [
      "No match score elements with links found at https://fbref.com/en/comps/1/schedule/World-Cup-Score-and-Fixtures for World Cup 2022.\n",
      "2023 World Cup\n",
      "Gathering match links.\n"
     ]
    },
    {
     "name": "stderr",
     "output_type": "stream",
     "text": [
      " 16%|█▌        | 180/1115 [28:31<3:05:18, 11.89s/it]"
     ]
    },
    {
     "name": "stdout",
     "output_type": "stream",
     "text": [
      "No World Cup 2023 season is available on FBRef.\n",
      "1988 Copa America\n",
      "1988 invalid for source FBRef and league Copa America. Must be 2015 or later.\n",
      "1988 invalid for source FBRef and league Copa America. Must be 2015 or later.\n",
      "1989 Copa America\n",
      "1989 invalid for source FBRef and league Copa America. Must be 2015 or later.\n",
      "1989 invalid for source FBRef and league Copa America. Must be 2015 or later.\n",
      "1990 Copa America\n",
      "1990 invalid for source FBRef and league Copa America. Must be 2015 or later.\n",
      "1990 invalid for source FBRef and league Copa America. Must be 2015 or later.\n",
      "1991 Copa America\n",
      "1991 invalid for source FBRef and league Copa America. Must be 2015 or later.\n",
      "1991 invalid for source FBRef and league Copa America. Must be 2015 or later.\n",
      "1992 Copa America\n",
      "1992 invalid for source FBRef and league Copa America. Must be 2015 or later.\n",
      "1992 invalid for source FBRef and league Copa America. Must be 2015 or later.\n",
      "1993 Copa America\n",
      "1993 invalid for source FBRef and league Copa America. Must be 2015 or later.\n",
      "1993 invalid for source FBRef and league Copa America. Must be 2015 or later.\n",
      "1994 Copa America\n",
      "1994 invalid for source FBRef and league Copa America. Must be 2015 or later.\n",
      "1994 invalid for source FBRef and league Copa America. Must be 2015 or later.\n",
      "1995 Copa America\n",
      "1995 invalid for source FBRef and league Copa America. Must be 2015 or later.\n",
      "1995 invalid for source FBRef and league Copa America. Must be 2015 or later.\n",
      "1996 Copa America\n",
      "1996 invalid for source FBRef and league Copa America. Must be 2015 or later.\n",
      "1996 invalid for source FBRef and league Copa America. Must be 2015 or later.\n",
      "1997 Copa America\n",
      "1997 invalid for source FBRef and league Copa America. Must be 2015 or later.\n",
      "1997 invalid for source FBRef and league Copa America. Must be 2015 or later.\n",
      "1998 Copa America\n",
      "1998 invalid for source FBRef and league Copa America. Must be 2015 or later.\n",
      "1998 invalid for source FBRef and league Copa America. Must be 2015 or later.\n",
      "1999 Copa America\n",
      "1999 invalid for source FBRef and league Copa America. Must be 2015 or later.\n",
      "1999 invalid for source FBRef and league Copa America. Must be 2015 or later.\n",
      "2000 Copa America\n",
      "2000 invalid for source FBRef and league Copa America. Must be 2015 or later.\n",
      "2000 invalid for source FBRef and league Copa America. Must be 2015 or later.\n",
      "2001 Copa America\n",
      "2001 invalid for source FBRef and league Copa America. Must be 2015 or later.\n",
      "2001 invalid for source FBRef and league Copa America. Must be 2015 or later.\n",
      "2002 Copa America\n",
      "2002 invalid for source FBRef and league Copa America. Must be 2015 or later.\n",
      "2002 invalid for source FBRef and league Copa America. Must be 2015 or later.\n",
      "2003 Copa America\n",
      "2003 invalid for source FBRef and league Copa America. Must be 2015 or later.\n",
      "2003 invalid for source FBRef and league Copa America. Must be 2015 or later.\n",
      "2004 Copa America\n",
      "2004 invalid for source FBRef and league Copa America. Must be 2015 or later.\n",
      "2004 invalid for source FBRef and league Copa America. Must be 2015 or later.\n",
      "2005 Copa America\n",
      "2005 invalid for source FBRef and league Copa America. Must be 2015 or later.\n",
      "2005 invalid for source FBRef and league Copa America. Must be 2015 or later.\n",
      "2006 Copa America\n",
      "2006 invalid for source FBRef and league Copa America. Must be 2015 or later.\n",
      "2006 invalid for source FBRef and league Copa America. Must be 2015 or later.\n",
      "2007 Copa America\n",
      "2007 invalid for source FBRef and league Copa America. Must be 2015 or later.\n",
      "2007 invalid for source FBRef and league Copa America. Must be 2015 or later.\n",
      "2008 Copa America\n",
      "2008 invalid for source FBRef and league Copa America. Must be 2015 or later.\n",
      "2008 invalid for source FBRef and league Copa America. Must be 2015 or later.\n",
      "2009 Copa America\n",
      "2009 invalid for source FBRef and league Copa America. Must be 2015 or later.\n",
      "2009 invalid for source FBRef and league Copa America. Must be 2015 or later.\n",
      "2010 Copa America\n",
      "2010 invalid for source FBRef and league Copa America. Must be 2015 or later.\n",
      "2010 invalid for source FBRef and league Copa America. Must be 2015 or later.\n",
      "2011 Copa America\n",
      "2011 invalid for source FBRef and league Copa America. Must be 2015 or later.\n",
      "2011 invalid for source FBRef and league Copa America. Must be 2015 or later.\n",
      "2012 Copa America\n",
      "2012 invalid for source FBRef and league Copa America. Must be 2015 or later.\n",
      "2012 invalid for source FBRef and league Copa America. Must be 2015 or later.\n",
      "2013 Copa America\n",
      "2013 invalid for source FBRef and league Copa America. Must be 2015 or later.\n",
      "2013 invalid for source FBRef and league Copa America. Must be 2015 or later.\n",
      "2014 Copa America\n",
      "2014 invalid for source FBRef and league Copa America. Must be 2015 or later.\n",
      "2014 invalid for source FBRef and league Copa America. Must be 2015 or later.\n",
      "2015 Copa America\n",
      "Gathering match links.\n"
     ]
    },
    {
     "name": "stderr",
     "output_type": "stream",
     "text": [
      " 19%|█▊        | 208/1115 [28:48<22:18,  1.48s/it]  "
     ]
    },
    {
     "name": "stdout",
     "output_type": "stream",
     "text": [
      "2016 Copa America\n",
      "Gathering match links.\n"
     ]
    },
    {
     "name": "stderr",
     "output_type": "stream",
     "text": [
      " 19%|█▊        | 209/1115 [29:05<32:50,  2.18s/it]"
     ]
    },
    {
     "name": "stdout",
     "output_type": "stream",
     "text": [
      "2017 Copa America\n",
      "Gathering match links.\n"
     ]
    },
    {
     "name": "stderr",
     "output_type": "stream",
     "text": [
      " 19%|█▉        | 210/1115 [29:16<40:20,  2.67s/it]"
     ]
    },
    {
     "name": "stdout",
     "output_type": "stream",
     "text": [
      "No Copa America 2017 season is available on FBRef.\n",
      "2018 Copa America\n",
      "Gathering match links.\n"
     ]
    },
    {
     "name": "stderr",
     "output_type": "stream",
     "text": [
      " 19%|█▉        | 211/1115 [29:26<49:34,  3.29s/it]"
     ]
    },
    {
     "name": "stdout",
     "output_type": "stream",
     "text": [
      "No Copa America 2018 season is available on FBRef.\n",
      "2019 Copa America\n",
      "Gathering match links.\n"
     ]
    },
    {
     "name": "stderr",
     "output_type": "stream",
     "text": [
      " 19%|█▉        | 212/1115 [29:43<1:10:12,  4.67s/it]"
     ]
    },
    {
     "name": "stdout",
     "output_type": "stream",
     "text": [
      "2020 Copa America\n",
      "Gathering match links.\n"
     ]
    },
    {
     "name": "stderr",
     "output_type": "stream",
     "text": [
      " 19%|█▉        | 213/1115 [29:53<1:21:16,  5.41s/it]"
     ]
    },
    {
     "name": "stdout",
     "output_type": "stream",
     "text": [
      "No Copa America 2020 season is available on FBRef.\n",
      "2021 Copa America\n",
      "Gathering match links.\n"
     ]
    },
    {
     "name": "stderr",
     "output_type": "stream",
     "text": [
      " 19%|█▉        | 214/1115 [30:10<1:48:25,  7.22s/it]"
     ]
    },
    {
     "name": "stdout",
     "output_type": "stream",
     "text": [
      "2022 Copa America\n",
      "Gathering match links.\n"
     ]
    },
    {
     "name": "stderr",
     "output_type": "stream",
     "text": [
      " 19%|█▉        | 215/1115 [30:21<1:56:58,  7.80s/it]"
     ]
    },
    {
     "name": "stdout",
     "output_type": "stream",
     "text": [
      "No Copa America 2022 season is available on FBRef.\n",
      "2023 Copa America\n",
      "Gathering match links.\n"
     ]
    },
    {
     "name": "stderr",
     "output_type": "stream",
     "text": [
      " 19%|█▉        | 216/1115 [30:32<2:06:53,  8.47s/it]"
     ]
    },
    {
     "name": "stdout",
     "output_type": "stream",
     "text": [
      "No Copa America 2023 season is available on FBRef.\n",
      "1988 Euros\n",
      "1988 invalid for source FBRef and league Euros. Must be 2000 or later.\n",
      "1988 invalid for source FBRef and league Euros. Must be 2000 or later.\n",
      "1989 Euros\n",
      "1989 invalid for source FBRef and league Euros. Must be 2000 or later.\n",
      "1989 invalid for source FBRef and league Euros. Must be 2000 or later.\n",
      "1990 Euros\n",
      "1990 invalid for source FBRef and league Euros. Must be 2000 or later.\n",
      "1990 invalid for source FBRef and league Euros. Must be 2000 or later.\n",
      "1991 Euros\n",
      "1991 invalid for source FBRef and league Euros. Must be 2000 or later.\n",
      "1991 invalid for source FBRef and league Euros. Must be 2000 or later.\n",
      "1992 Euros\n",
      "1992 invalid for source FBRef and league Euros. Must be 2000 or later.\n",
      "1992 invalid for source FBRef and league Euros. Must be 2000 or later.\n",
      "1993 Euros\n",
      "1993 invalid for source FBRef and league Euros. Must be 2000 or later.\n",
      "1993 invalid for source FBRef and league Euros. Must be 2000 or later.\n",
      "1994 Euros\n",
      "1994 invalid for source FBRef and league Euros. Must be 2000 or later.\n",
      "1994 invalid for source FBRef and league Euros. Must be 2000 or later.\n",
      "1995 Euros\n",
      "1995 invalid for source FBRef and league Euros. Must be 2000 or later.\n",
      "1995 invalid for source FBRef and league Euros. Must be 2000 or later.\n",
      "1996 Euros\n",
      "1996 invalid for source FBRef and league Euros. Must be 2000 or later.\n",
      "1996 invalid for source FBRef and league Euros. Must be 2000 or later.\n",
      "1997 Euros\n",
      "1997 invalid for source FBRef and league Euros. Must be 2000 or later.\n",
      "1997 invalid for source FBRef and league Euros. Must be 2000 or later.\n",
      "1998 Euros\n",
      "1998 invalid for source FBRef and league Euros. Must be 2000 or later.\n",
      "1998 invalid for source FBRef and league Euros. Must be 2000 or later.\n",
      "1999 Euros\n",
      "1999 invalid for source FBRef and league Euros. Must be 2000 or later.\n",
      "1999 invalid for source FBRef and league Euros. Must be 2000 or later.\n",
      "2000 Euros\n",
      "Gathering match links.\n"
     ]
    },
    {
     "name": "stderr",
     "output_type": "stream",
     "text": [
      " 21%|██        | 229/1115 [30:52<43:48,  2.97s/it]  "
     ]
    },
    {
     "name": "stdout",
     "output_type": "stream",
     "text": [
      "2001 Euros\n",
      "Gathering match links.\n"
     ]
    },
    {
     "name": "stderr",
     "output_type": "stream",
     "text": [
      " 21%|██        | 230/1115 [31:02<52:30,  3.56s/it]"
     ]
    },
    {
     "name": "stdout",
     "output_type": "stream",
     "text": [
      "No Euros 2001 season is available on FBRef.\n",
      "2002 Euros\n",
      "Gathering match links.\n"
     ]
    },
    {
     "name": "stderr",
     "output_type": "stream",
     "text": [
      " 21%|██        | 231/1115 [31:12<1:02:46,  4.26s/it]"
     ]
    },
    {
     "name": "stdout",
     "output_type": "stream",
     "text": [
      "No Euros 2002 season is available on FBRef.\n",
      "2003 Euros\n",
      "Gathering match links.\n"
     ]
    },
    {
     "name": "stderr",
     "output_type": "stream",
     "text": [
      " 21%|██        | 232/1115 [31:23<1:14:29,  5.06s/it]"
     ]
    },
    {
     "name": "stdout",
     "output_type": "stream",
     "text": [
      "No Euros 2003 season is available on FBRef.\n",
      "2004 Euros\n",
      "Gathering match links.\n"
     ]
    },
    {
     "name": "stderr",
     "output_type": "stream",
     "text": [
      " 21%|██        | 233/1115 [31:40<1:41:15,  6.89s/it]"
     ]
    },
    {
     "name": "stdout",
     "output_type": "stream",
     "text": [
      "2005 Euros\n",
      "Gathering match links.\n"
     ]
    },
    {
     "name": "stderr",
     "output_type": "stream",
     "text": [
      " 21%|██        | 234/1115 [31:50<1:50:34,  7.53s/it]"
     ]
    },
    {
     "name": "stdout",
     "output_type": "stream",
     "text": [
      "No Euros 2005 season is available on FBRef.\n",
      "2006 Euros\n",
      "Gathering match links.\n"
     ]
    },
    {
     "name": "stderr",
     "output_type": "stream",
     "text": [
      " 21%|██        | 235/1115 [32:01<1:59:14,  8.13s/it]"
     ]
    },
    {
     "name": "stdout",
     "output_type": "stream",
     "text": [
      "No Euros 2006 season is available on FBRef.\n",
      "2007 Euros\n",
      "Gathering match links.\n"
     ]
    },
    {
     "name": "stderr",
     "output_type": "stream",
     "text": [
      " 21%|██        | 236/1115 [32:11<2:06:22,  8.63s/it]"
     ]
    },
    {
     "name": "stdout",
     "output_type": "stream",
     "text": [
      "No Euros 2007 season is available on FBRef.\n",
      "2008 Euros\n",
      "Gathering match links.\n"
     ]
    },
    {
     "name": "stderr",
     "output_type": "stream",
     "text": [
      " 21%|██▏       | 237/1115 [32:28<2:35:41, 10.64s/it]"
     ]
    },
    {
     "name": "stdout",
     "output_type": "stream",
     "text": [
      "2009 Euros\n",
      "Gathering match links.\n"
     ]
    },
    {
     "name": "stderr",
     "output_type": "stream",
     "text": [
      " 21%|██▏       | 238/1115 [32:38<2:34:25, 10.56s/it]"
     ]
    },
    {
     "name": "stdout",
     "output_type": "stream",
     "text": [
      "No Euros 2009 season is available on FBRef.\n",
      "2010 Euros\n",
      "Gathering match links.\n"
     ]
    },
    {
     "name": "stderr",
     "output_type": "stream",
     "text": [
      " 21%|██▏       | 239/1115 [32:49<2:33:47, 10.53s/it]"
     ]
    },
    {
     "name": "stdout",
     "output_type": "stream",
     "text": [
      "No Euros 2010 season is available on FBRef.\n",
      "2011 Euros\n",
      "Gathering match links.\n"
     ]
    },
    {
     "name": "stderr",
     "output_type": "stream",
     "text": [
      " 22%|██▏       | 240/1115 [33:00<2:36:51, 10.76s/it]"
     ]
    },
    {
     "name": "stdout",
     "output_type": "stream",
     "text": [
      "No Euros 2011 season is available on FBRef.\n",
      "2012 Euros\n",
      "Gathering match links.\n"
     ]
    },
    {
     "name": "stderr",
     "output_type": "stream",
     "text": [
      " 22%|██▏       | 241/1115 [33:17<3:02:36, 12.54s/it]"
     ]
    },
    {
     "name": "stdout",
     "output_type": "stream",
     "text": [
      "2013 Euros\n",
      "Gathering match links.\n"
     ]
    },
    {
     "name": "stderr",
     "output_type": "stream",
     "text": [
      " 22%|██▏       | 242/1115 [33:27<2:53:03, 11.89s/it]"
     ]
    },
    {
     "name": "stdout",
     "output_type": "stream",
     "text": [
      "No Euros 2013 season is available on FBRef.\n",
      "2014 Euros\n",
      "Gathering match links.\n"
     ]
    },
    {
     "name": "stderr",
     "output_type": "stream",
     "text": [
      " 22%|██▏       | 243/1115 [33:38<2:46:12, 11.44s/it]"
     ]
    },
    {
     "name": "stdout",
     "output_type": "stream",
     "text": [
      "No Euros 2014 season is available on FBRef.\n",
      "2015 Euros\n",
      "Gathering match links.\n"
     ]
    },
    {
     "name": "stderr",
     "output_type": "stream",
     "text": [
      " 22%|██▏       | 244/1115 [33:48<2:41:39, 11.14s/it]"
     ]
    },
    {
     "name": "stdout",
     "output_type": "stream",
     "text": [
      "No Euros 2015 season is available on FBRef.\n",
      "2016 Euros\n",
      "Gathering match links.\n"
     ]
    },
    {
     "name": "stderr",
     "output_type": "stream",
     "text": [
      " 22%|██▏       | 245/1115 [34:06<3:08:29, 13.00s/it]"
     ]
    },
    {
     "name": "stdout",
     "output_type": "stream",
     "text": [
      "2017 Euros\n",
      "Gathering match links.\n"
     ]
    },
    {
     "name": "stderr",
     "output_type": "stream",
     "text": [
      " 22%|██▏       | 246/1115 [34:16<2:56:43, 12.20s/it]"
     ]
    },
    {
     "name": "stdout",
     "output_type": "stream",
     "text": [
      "No Euros 2017 season is available on FBRef.\n",
      "2018 Euros\n",
      "Gathering match links.\n"
     ]
    },
    {
     "name": "stderr",
     "output_type": "stream",
     "text": [
      " 22%|██▏       | 247/1115 [34:26<2:48:13, 11.63s/it]"
     ]
    },
    {
     "name": "stdout",
     "output_type": "stream",
     "text": [
      "No Euros 2018 season is available on FBRef.\n",
      "2019 Euros\n",
      "Gathering match links.\n"
     ]
    },
    {
     "name": "stderr",
     "output_type": "stream",
     "text": [
      " 22%|██▏       | 248/1115 [34:37<2:42:26, 11.24s/it]"
     ]
    },
    {
     "name": "stdout",
     "output_type": "stream",
     "text": [
      "No Euros 2019 season is available on FBRef.\n",
      "2020 Euros\n",
      "Gathering match links.\n"
     ]
    },
    {
     "name": "stderr",
     "output_type": "stream",
     "text": [
      " 22%|██▏       | 249/1115 [34:47<2:38:36, 10.99s/it]"
     ]
    },
    {
     "name": "stdout",
     "output_type": "stream",
     "text": [
      "No Euros 2020 season is available on FBRef.\n",
      "2021 Euros\n",
      "Gathering match links.\n"
     ]
    },
    {
     "name": "stderr",
     "output_type": "stream",
     "text": [
      " 22%|██▏       | 250/1115 [35:05<3:07:34, 13.01s/it]"
     ]
    },
    {
     "name": "stdout",
     "output_type": "stream",
     "text": [
      "2022 Euros\n",
      "Gathering match links.\n"
     ]
    },
    {
     "name": "stderr",
     "output_type": "stream",
     "text": [
      " 23%|██▎       | 251/1115 [35:15<2:55:47, 12.21s/it]"
     ]
    },
    {
     "name": "stdout",
     "output_type": "stream",
     "text": [
      "No Euros 2022 season is available on FBRef.\n",
      "2023 Euros\n",
      "Gathering match links.\n"
     ]
    },
    {
     "name": "stderr",
     "output_type": "stream",
     "text": [
      " 23%|██▎       | 252/1115 [35:25<2:47:23, 11.64s/it]"
     ]
    },
    {
     "name": "stdout",
     "output_type": "stream",
     "text": [
      "No Euros 2023 season is available on FBRef.\n",
      "1988 Big 5 combined\n",
      "1988 invalid for source FBRef and league Big 5 combined. Must be 1996 or later.\n",
      "1988 invalid for source FBRef and league Big 5 combined. Must be 1996 or later.\n",
      "1989 Big 5 combined\n",
      "1989 invalid for source FBRef and league Big 5 combined. Must be 1996 or later.\n",
      "1989 invalid for source FBRef and league Big 5 combined. Must be 1996 or later.\n",
      "1990 Big 5 combined\n",
      "1990 invalid for source FBRef and league Big 5 combined. Must be 1996 or later.\n",
      "1990 invalid for source FBRef and league Big 5 combined. Must be 1996 or later.\n",
      "1991 Big 5 combined\n",
      "1991 invalid for source FBRef and league Big 5 combined. Must be 1996 or later.\n",
      "1991 invalid for source FBRef and league Big 5 combined. Must be 1996 or later.\n",
      "1992 Big 5 combined\n",
      "1992 invalid for source FBRef and league Big 5 combined. Must be 1996 or later.\n",
      "1992 invalid for source FBRef and league Big 5 combined. Must be 1996 or later.\n",
      "1993 Big 5 combined\n",
      "1993 invalid for source FBRef and league Big 5 combined. Must be 1996 or later.\n",
      "1993 invalid for source FBRef and league Big 5 combined. Must be 1996 or later.\n",
      "1994 Big 5 combined\n",
      "1994 invalid for source FBRef and league Big 5 combined. Must be 1996 or later.\n",
      "1994 invalid for source FBRef and league Big 5 combined. Must be 1996 or later.\n",
      "1995 Big 5 combined\n",
      "1995 invalid for source FBRef and league Big 5 combined. Must be 1996 or later.\n",
      "1995 invalid for source FBRef and league Big 5 combined. Must be 1996 or later.\n",
      "1996 Big 5 combined\n",
      "Gathering match links.\n"
     ]
    },
    {
     "name": "stderr",
     "output_type": "stream",
     "text": [
      " 23%|██▎       | 261/1115 [35:42<55:30,  3.90s/it]  "
     ]
    },
    {
     "name": "stdout",
     "output_type": "stream",
     "text": [
      "No match score elements with links found at https://fbref.com/en/comps/Big5/1995-1996/schedule/1995-1996-Big-5-European-Leagues-Score-and-Fixtures for Big 5 combined 1996.\n",
      "1997 Big 5 combined\n",
      "Gathering match links.\n"
     ]
    },
    {
     "name": "stderr",
     "output_type": "stream",
     "text": [
      " 23%|██▎       | 262/1115 [35:59<1:16:07,  5.35s/it]"
     ]
    },
    {
     "name": "stdout",
     "output_type": "stream",
     "text": [
      "No match score elements with links found at https://fbref.com/en/comps/Big5/1996-1997/schedule/1996-1997-Big-5-European-Leagues-Score-and-Fixtures for Big 5 combined 1997.\n",
      "1998 Big 5 combined\n",
      "Gathering match links.\n"
     ]
    },
    {
     "name": "stderr",
     "output_type": "stream",
     "text": [
      " 24%|██▎       | 263/1115 [36:16<1:38:37,  6.95s/it]"
     ]
    },
    {
     "name": "stdout",
     "output_type": "stream",
     "text": [
      "No match score elements with links found at https://fbref.com/en/comps/Big5/1997-1998/schedule/1997-1998-Big-5-European-Leagues-Score-and-Fixtures for Big 5 combined 1998.\n",
      "1999 Big 5 combined\n",
      "Gathering match links.\n"
     ]
    },
    {
     "name": "stderr",
     "output_type": "stream",
     "text": [
      " 24%|██▎       | 264/1115 [36:32<1:59:12,  8.40s/it]"
     ]
    },
    {
     "name": "stdout",
     "output_type": "stream",
     "text": [
      "No match score elements with links found at https://fbref.com/en/comps/Big5/1998-1999/schedule/1998-1999-Big-5-European-Leagues-Score-and-Fixtures for Big 5 combined 1999.\n",
      "2000 Big 5 combined\n",
      "Gathering match links.\n"
     ]
    },
    {
     "name": "stderr",
     "output_type": "stream",
     "text": [
      " 24%|██▍       | 265/1115 [36:49<2:22:13, 10.04s/it]"
     ]
    },
    {
     "name": "stdout",
     "output_type": "stream",
     "text": [
      "No match score elements with links found at https://fbref.com/en/comps/Big5/1999-2000/schedule/1999-2000-Big-5-European-Leagues-Score-and-Fixtures for Big 5 combined 2000.\n",
      "2001 Big 5 combined\n",
      "Gathering match links.\n"
     ]
    },
    {
     "name": "stderr",
     "output_type": "stream",
     "text": [
      " 24%|██▍       | 266/1115 [37:05<2:39:06, 11.24s/it]"
     ]
    },
    {
     "name": "stdout",
     "output_type": "stream",
     "text": [
      "No match score elements with links found at https://fbref.com/en/comps/Big5/2000-2001/schedule/2000-2001-Big-5-European-Leagues-Score-and-Fixtures for Big 5 combined 2001.\n",
      "2002 Big 5 combined\n",
      "Gathering match links.\n"
     ]
    },
    {
     "name": "stderr",
     "output_type": "stream",
     "text": [
      " 24%|██▍       | 267/1115 [37:20<2:53:30, 12.28s/it]"
     ]
    },
    {
     "name": "stdout",
     "output_type": "stream",
     "text": [
      "No match score elements with links found at https://fbref.com/en/comps/Big5/2001-2002/schedule/2001-2002-Big-5-European-Leagues-Score-and-Fixtures for Big 5 combined 2002.\n",
      "2003 Big 5 combined\n",
      "Gathering match links.\n"
     ]
    },
    {
     "name": "stderr",
     "output_type": "stream",
     "text": [
      " 24%|██▍       | 268/1115 [37:37<3:10:16, 13.48s/it]"
     ]
    },
    {
     "name": "stdout",
     "output_type": "stream",
     "text": [
      "No match score elements with links found at https://fbref.com/en/comps/Big5/2002-2003/schedule/2002-2003-Big-5-European-Leagues-Score-and-Fixtures for Big 5 combined 2003.\n",
      "2004 Big 5 combined\n",
      "Gathering match links.\n"
     ]
    },
    {
     "name": "stderr",
     "output_type": "stream",
     "text": [
      " 24%|██▍       | 269/1115 [37:53<3:18:15, 14.06s/it]"
     ]
    },
    {
     "name": "stdout",
     "output_type": "stream",
     "text": [
      "No match score elements with links found at https://fbref.com/en/comps/Big5/2003-2004/schedule/2003-2004-Big-5-European-Leagues-Score-and-Fixtures for Big 5 combined 2004.\n",
      "2005 Big 5 combined\n",
      "Gathering match links.\n"
     ]
    },
    {
     "name": "stderr",
     "output_type": "stream",
     "text": [
      " 24%|██▍       | 270/1115 [38:09<3:24:22, 14.51s/it]"
     ]
    },
    {
     "name": "stdout",
     "output_type": "stream",
     "text": [
      "No match score elements with links found at https://fbref.com/en/comps/Big5/2004-2005/schedule/2004-2005-Big-5-European-Leagues-Score-and-Fixtures for Big 5 combined 2005.\n",
      "2006 Big 5 combined\n",
      "Gathering match links.\n"
     ]
    },
    {
     "name": "stderr",
     "output_type": "stream",
     "text": [
      " 24%|██▍       | 271/1115 [38:26<3:35:59, 15.36s/it]"
     ]
    },
    {
     "name": "stdout",
     "output_type": "stream",
     "text": [
      "No match score elements with links found at https://fbref.com/en/comps/Big5/2005-2006/schedule/2005-2006-Big-5-European-Leagues-Score-and-Fixtures for Big 5 combined 2006.\n",
      "2007 Big 5 combined\n",
      "Gathering match links.\n"
     ]
    },
    {
     "name": "stderr",
     "output_type": "stream",
     "text": [
      " 24%|██▍       | 272/1115 [38:43<3:42:37, 15.84s/it]"
     ]
    },
    {
     "name": "stdout",
     "output_type": "stream",
     "text": [
      "No match score elements with links found at https://fbref.com/en/comps/Big5/2006-2007/schedule/2006-2007-Big-5-European-Leagues-Score-and-Fixtures for Big 5 combined 2007.\n",
      "2008 Big 5 combined\n",
      "Gathering match links.\n"
     ]
    },
    {
     "name": "stderr",
     "output_type": "stream",
     "text": [
      " 24%|██▍       | 273/1115 [38:59<3:41:30, 15.79s/it]"
     ]
    },
    {
     "name": "stdout",
     "output_type": "stream",
     "text": [
      "No match score elements with links found at https://fbref.com/en/comps/Big5/2007-2008/schedule/2007-2008-Big-5-European-Leagues-Score-and-Fixtures for Big 5 combined 2008.\n",
      "2009 Big 5 combined\n",
      "Gathering match links.\n"
     ]
    },
    {
     "name": "stderr",
     "output_type": "stream",
     "text": [
      " 25%|██▍       | 274/1115 [39:16<3:45:17, 16.07s/it]"
     ]
    },
    {
     "name": "stdout",
     "output_type": "stream",
     "text": [
      "No match score elements with links found at https://fbref.com/en/comps/Big5/2008-2009/schedule/2008-2009-Big-5-European-Leagues-Score-and-Fixtures for Big 5 combined 2009.\n",
      "2010 Big 5 combined\n",
      "Gathering match links.\n"
     ]
    },
    {
     "name": "stderr",
     "output_type": "stream",
     "text": [
      " 25%|██▍       | 275/1115 [39:31<3:43:45, 15.98s/it]"
     ]
    },
    {
     "name": "stdout",
     "output_type": "stream",
     "text": [
      "No match score elements with links found at https://fbref.com/en/comps/Big5/2009-2010/schedule/2009-2010-Big-5-European-Leagues-Score-and-Fixtures for Big 5 combined 2010.\n",
      "2011 Big 5 combined\n",
      "Gathering match links.\n"
     ]
    },
    {
     "name": "stderr",
     "output_type": "stream",
     "text": [
      " 25%|██▍       | 276/1115 [39:47<3:42:17, 15.90s/it]"
     ]
    },
    {
     "name": "stdout",
     "output_type": "stream",
     "text": [
      "No match score elements with links found at https://fbref.com/en/comps/Big5/2010-2011/schedule/2010-2011-Big-5-European-Leagues-Score-and-Fixtures for Big 5 combined 2011.\n",
      "2012 Big 5 combined\n",
      "Gathering match links.\n"
     ]
    },
    {
     "name": "stderr",
     "output_type": "stream",
     "text": [
      " 25%|██▍       | 277/1115 [40:03<3:41:00, 15.82s/it]"
     ]
    },
    {
     "name": "stdout",
     "output_type": "stream",
     "text": [
      "No match score elements with links found at https://fbref.com/en/comps/Big5/2011-2012/schedule/2011-2012-Big-5-European-Leagues-Score-and-Fixtures for Big 5 combined 2012.\n",
      "2013 Big 5 combined\n",
      "Gathering match links.\n"
     ]
    },
    {
     "name": "stderr",
     "output_type": "stream",
     "text": [
      " 25%|██▍       | 278/1115 [40:20<3:46:00, 16.20s/it]"
     ]
    },
    {
     "name": "stdout",
     "output_type": "stream",
     "text": [
      "No match score elements with links found at https://fbref.com/en/comps/Big5/2012-2013/schedule/2012-2013-Big-5-European-Leagues-Score-and-Fixtures for Big 5 combined 2013.\n",
      "2014 Big 5 combined\n",
      "Gathering match links.\n"
     ]
    },
    {
     "name": "stderr",
     "output_type": "stream",
     "text": [
      " 25%|██▌       | 279/1115 [40:36<3:43:29, 16.04s/it]"
     ]
    },
    {
     "name": "stdout",
     "output_type": "stream",
     "text": [
      "No match score elements with links found at https://fbref.com/en/comps/Big5/2013-2014/schedule/2013-2014-Big-5-European-Leagues-Score-and-Fixtures for Big 5 combined 2014.\n",
      "2015 Big 5 combined\n",
      "Gathering match links.\n"
     ]
    },
    {
     "name": "stderr",
     "output_type": "stream",
     "text": [
      " 25%|██▌       | 280/1115 [40:53<3:48:39, 16.43s/it]"
     ]
    },
    {
     "name": "stdout",
     "output_type": "stream",
     "text": [
      "No match score elements with links found at https://fbref.com/en/comps/Big5/2014-2015/schedule/2014-2015-Big-5-European-Leagues-Score-and-Fixtures for Big 5 combined 2015.\n",
      "2016 Big 5 combined\n",
      "Gathering match links.\n"
     ]
    },
    {
     "name": "stderr",
     "output_type": "stream",
     "text": [
      " 25%|██▌       | 281/1115 [41:09<3:45:18, 16.21s/it]"
     ]
    },
    {
     "name": "stdout",
     "output_type": "stream",
     "text": [
      "No match score elements with links found at https://fbref.com/en/comps/Big5/2015-2016/schedule/2015-2016-Big-5-European-Leagues-Score-and-Fixtures for Big 5 combined 2016.\n",
      "2017 Big 5 combined\n",
      "Gathering match links.\n"
     ]
    },
    {
     "name": "stderr",
     "output_type": "stream",
     "text": [
      " 25%|██▌       | 282/1115 [41:24<3:43:20, 16.09s/it]"
     ]
    },
    {
     "name": "stdout",
     "output_type": "stream",
     "text": [
      "No match score elements with links found at https://fbref.com/en/comps/Big5/2016-2017/schedule/2016-2017-Big-5-European-Leagues-Score-and-Fixtures for Big 5 combined 2017.\n",
      "2018 Big 5 combined\n",
      "Gathering match links.\n"
     ]
    },
    {
     "name": "stderr",
     "output_type": "stream",
     "text": [
      " 25%|██▌       | 283/1115 [41:40<3:41:16, 15.96s/it]"
     ]
    },
    {
     "name": "stdout",
     "output_type": "stream",
     "text": [
      "No match score elements with links found at https://fbref.com/en/comps/Big5/2017-2018/schedule/2017-2018-Big-5-European-Leagues-Score-and-Fixtures for Big 5 combined 2018.\n",
      "2019 Big 5 combined\n",
      "Gathering match links.\n"
     ]
    },
    {
     "name": "stderr",
     "output_type": "stream",
     "text": [
      " 25%|██▌       | 284/1115 [41:56<3:39:53, 15.88s/it]"
     ]
    },
    {
     "name": "stdout",
     "output_type": "stream",
     "text": [
      "No match score elements with links found at https://fbref.com/en/comps/Big5/2018-2019/schedule/2018-2019-Big-5-European-Leagues-Score-and-Fixtures for Big 5 combined 2019.\n",
      "2020 Big 5 combined\n",
      "Gathering match links.\n"
     ]
    },
    {
     "name": "stderr",
     "output_type": "stream",
     "text": [
      " 26%|██▌       | 285/1115 [42:12<3:39:08, 15.84s/it]"
     ]
    },
    {
     "name": "stdout",
     "output_type": "stream",
     "text": [
      "No match score elements with links found at https://fbref.com/en/comps/Big5/2019-2020/schedule/2019-2020-Big-5-European-Leagues-Score-and-Fixtures for Big 5 combined 2020.\n",
      "2021 Big 5 combined\n",
      "Gathering match links.\n"
     ]
    },
    {
     "name": "stderr",
     "output_type": "stream",
     "text": [
      " 26%|██▌       | 286/1115 [42:27<3:38:15, 15.80s/it]"
     ]
    },
    {
     "name": "stdout",
     "output_type": "stream",
     "text": [
      "No match score elements with links found at https://fbref.com/en/comps/Big5/2020-2021/schedule/2020-2021-Big-5-European-Leagues-Score-and-Fixtures for Big 5 combined 2021.\n",
      "2022 Big 5 combined\n",
      "Gathering match links.\n"
     ]
    },
    {
     "name": "stderr",
     "output_type": "stream",
     "text": [
      " 26%|██▌       | 287/1115 [42:43<3:37:32, 15.76s/it]"
     ]
    },
    {
     "name": "stdout",
     "output_type": "stream",
     "text": [
      "No match score elements with links found at https://fbref.com/en/comps/Big5/2021-2022/schedule/2021-2022-Big-5-European-Leagues-Score-and-Fixtures for Big 5 combined 2022.\n",
      "2023 Big 5 combined\n",
      "Gathering match links.\n"
     ]
    },
    {
     "name": "stderr",
     "output_type": "stream",
     "text": [
      " 26%|██▌       | 288/1115 [42:59<3:36:54, 15.74s/it]"
     ]
    },
    {
     "name": "stdout",
     "output_type": "stream",
     "text": [
      "No match score elements with links found at https://fbref.com/en/comps/Big5/schedule/Big-5-European-Leagues-Score-and-Fixtures for Big 5 combined 2023.\n",
      "1988 EPL\n",
      "1988 invalid for source FBRef and league EPL. Must be 1993 or later.\n",
      "1988 invalid for source FBRef and league EPL. Must be 1993 or later.\n",
      "1989 EPL\n",
      "1989 invalid for source FBRef and league EPL. Must be 1993 or later.\n",
      "1989 invalid for source FBRef and league EPL. Must be 1993 or later.\n",
      "1990 EPL\n",
      "1990 invalid for source FBRef and league EPL. Must be 1993 or later.\n",
      "1990 invalid for source FBRef and league EPL. Must be 1993 or later.\n",
      "1991 EPL\n",
      "1991 invalid for source FBRef and league EPL. Must be 1993 or later.\n",
      "1991 invalid for source FBRef and league EPL. Must be 1993 or later.\n",
      "1992 EPL\n",
      "1992 invalid for source FBRef and league EPL. Must be 1993 or later.\n",
      "1992 invalid for source FBRef and league EPL. Must be 1993 or later.\n",
      "1993 EPL\n",
      "Gathering match links.\n"
     ]
    },
    {
     "name": "stderr",
     "output_type": "stream",
     "text": [
      " 26%|██▋       | 294/1115 [43:23<1:39:36,  7.28s/it]"
     ]
    },
    {
     "name": "stdout",
     "output_type": "stream",
     "text": [
      "1994 EPL\n",
      "Gathering match links.\n"
     ]
    },
    {
     "name": "stderr",
     "output_type": "stream",
     "text": [
      " 26%|██▋       | 295/1115 [43:45<2:09:54,  9.51s/it]"
     ]
    },
    {
     "name": "stdout",
     "output_type": "stream",
     "text": [
      "1995 EPL\n",
      "Gathering match links.\n"
     ]
    },
    {
     "name": "stderr",
     "output_type": "stream",
     "text": [
      " 27%|██▋       | 296/1115 [44:08<2:42:43, 11.92s/it]"
     ]
    },
    {
     "name": "stdout",
     "output_type": "stream",
     "text": [
      "1996 EPL\n",
      "Gathering match links.\n"
     ]
    },
    {
     "name": "stderr",
     "output_type": "stream",
     "text": [
      " 27%|██▋       | 297/1115 [44:31<3:10:34, 13.98s/it]"
     ]
    },
    {
     "name": "stdout",
     "output_type": "stream",
     "text": [
      "1997 EPL\n",
      "Gathering match links.\n"
     ]
    },
    {
     "name": "stderr",
     "output_type": "stream",
     "text": [
      " 27%|██▋       | 298/1115 [44:53<3:34:30, 15.75s/it]"
     ]
    },
    {
     "name": "stdout",
     "output_type": "stream",
     "text": [
      "1998 EPL\n",
      "Gathering match links.\n"
     ]
    },
    {
     "name": "stderr",
     "output_type": "stream",
     "text": [
      " 27%|██▋       | 299/1115 [45:15<3:54:32, 17.25s/it]"
     ]
    },
    {
     "name": "stdout",
     "output_type": "stream",
     "text": [
      "1999 EPL\n",
      "Gathering match links.\n"
     ]
    },
    {
     "name": "stderr",
     "output_type": "stream",
     "text": [
      " 27%|██▋       | 300/1115 [45:37<4:12:03, 18.56s/it]"
     ]
    },
    {
     "name": "stdout",
     "output_type": "stream",
     "text": [
      "2000 EPL\n",
      "Gathering match links.\n"
     ]
    },
    {
     "name": "stderr",
     "output_type": "stream",
     "text": [
      " 27%|██▋       | 301/1115 [45:59<4:23:49, 19.45s/it]"
     ]
    },
    {
     "name": "stdout",
     "output_type": "stream",
     "text": [
      "2001 EPL\n",
      "Gathering match links.\n"
     ]
    },
    {
     "name": "stderr",
     "output_type": "stream",
     "text": [
      " 27%|██▋       | 302/1115 [46:20<4:28:45, 19.84s/it]"
     ]
    },
    {
     "name": "stdout",
     "output_type": "stream",
     "text": [
      "2002 EPL\n",
      "Gathering match links.\n"
     ]
    },
    {
     "name": "stderr",
     "output_type": "stream",
     "text": [
      " 27%|██▋       | 303/1115 [46:44<4:46:08, 21.14s/it]"
     ]
    },
    {
     "name": "stdout",
     "output_type": "stream",
     "text": [
      "2003 EPL\n",
      "Gathering match links.\n"
     ]
    },
    {
     "name": "stderr",
     "output_type": "stream",
     "text": [
      " 27%|██▋       | 304/1115 [47:07<4:51:32, 21.57s/it]"
     ]
    },
    {
     "name": "stdout",
     "output_type": "stream",
     "text": [
      "2004 EPL\n",
      "Gathering match links.\n"
     ]
    },
    {
     "name": "stderr",
     "output_type": "stream",
     "text": [
      " 27%|██▋       | 305/1115 [47:31<5:00:10, 22.24s/it]"
     ]
    },
    {
     "name": "stdout",
     "output_type": "stream",
     "text": [
      "2005 EPL\n",
      "Gathering match links.\n"
     ]
    },
    {
     "name": "stderr",
     "output_type": "stream",
     "text": [
      " 27%|██▋       | 306/1115 [47:53<4:58:08, 22.11s/it]"
     ]
    },
    {
     "name": "stdout",
     "output_type": "stream",
     "text": [
      "2006 EPL\n",
      "Gathering match links.\n"
     ]
    },
    {
     "name": "stderr",
     "output_type": "stream",
     "text": [
      " 28%|██▊       | 307/1115 [48:14<4:53:25, 21.79s/it]"
     ]
    },
    {
     "name": "stdout",
     "output_type": "stream",
     "text": [
      "2007 EPL\n",
      "Gathering match links.\n"
     ]
    },
    {
     "name": "stderr",
     "output_type": "stream",
     "text": [
      " 28%|██▊       | 308/1115 [48:35<4:50:10, 21.57s/it]"
     ]
    },
    {
     "name": "stdout",
     "output_type": "stream",
     "text": [
      "2008 EPL\n",
      "Gathering match links.\n"
     ]
    },
    {
     "name": "stderr",
     "output_type": "stream",
     "text": [
      " 28%|██▊       | 309/1115 [48:57<4:53:58, 21.88s/it]"
     ]
    },
    {
     "name": "stdout",
     "output_type": "stream",
     "text": [
      "2009 EPL\n",
      "Gathering match links.\n"
     ]
    },
    {
     "name": "stderr",
     "output_type": "stream",
     "text": [
      " 28%|██▊       | 310/1115 [49:19<4:50:42, 21.67s/it]"
     ]
    },
    {
     "name": "stdout",
     "output_type": "stream",
     "text": [
      "2010 EPL\n",
      "Gathering match links.\n"
     ]
    },
    {
     "name": "stderr",
     "output_type": "stream",
     "text": [
      " 28%|██▊       | 311/1115 [49:40<4:48:17, 21.51s/it]"
     ]
    },
    {
     "name": "stdout",
     "output_type": "stream",
     "text": [
      "2011 EPL\n",
      "Gathering match links.\n"
     ]
    },
    {
     "name": "stderr",
     "output_type": "stream",
     "text": [
      " 28%|██▊       | 312/1115 [50:01<4:46:55, 21.44s/it]"
     ]
    },
    {
     "name": "stdout",
     "output_type": "stream",
     "text": [
      "2012 EPL\n",
      "Gathering match links.\n"
     ]
    },
    {
     "name": "stderr",
     "output_type": "stream",
     "text": [
      " 28%|██▊       | 313/1115 [50:22<4:46:44, 21.45s/it]"
     ]
    },
    {
     "name": "stdout",
     "output_type": "stream",
     "text": [
      "2013 EPL\n",
      "Gathering match links.\n"
     ]
    },
    {
     "name": "stderr",
     "output_type": "stream",
     "text": [
      " 28%|██▊       | 314/1115 [50:45<4:50:52, 21.79s/it]"
     ]
    },
    {
     "name": "stdout",
     "output_type": "stream",
     "text": [
      "2014 EPL\n",
      "Gathering match links.\n"
     ]
    },
    {
     "name": "stderr",
     "output_type": "stream",
     "text": [
      " 28%|██▊       | 315/1115 [51:07<4:51:28, 21.86s/it]"
     ]
    },
    {
     "name": "stdout",
     "output_type": "stream",
     "text": [
      "2015 EPL\n",
      "Gathering match links.\n"
     ]
    },
    {
     "name": "stderr",
     "output_type": "stream",
     "text": [
      " 28%|██▊       | 316/1115 [51:28<4:48:30, 21.67s/it]"
     ]
    },
    {
     "name": "stdout",
     "output_type": "stream",
     "text": [
      "2016 EPL\n",
      "Gathering match links.\n"
     ]
    },
    {
     "name": "stderr",
     "output_type": "stream",
     "text": [
      " 28%|██▊       | 317/1115 [51:50<4:47:12, 21.60s/it]"
     ]
    },
    {
     "name": "stdout",
     "output_type": "stream",
     "text": [
      "2017 EPL\n",
      "Gathering match links.\n"
     ]
    },
    {
     "name": "stderr",
     "output_type": "stream",
     "text": [
      " 29%|██▊       | 318/1115 [52:12<4:50:45, 21.89s/it]"
     ]
    },
    {
     "name": "stdout",
     "output_type": "stream",
     "text": [
      "2018 EPL\n",
      "Gathering match links.\n"
     ]
    },
    {
     "name": "stderr",
     "output_type": "stream",
     "text": [
      " 29%|██▊       | 319/1115 [52:35<4:54:29, 22.20s/it]"
     ]
    },
    {
     "name": "stdout",
     "output_type": "stream",
     "text": [
      "2019 EPL\n",
      "Gathering match links.\n"
     ]
    },
    {
     "name": "stderr",
     "output_type": "stream",
     "text": [
      " 29%|██▊       | 320/1115 [52:56<4:49:27, 21.85s/it]"
     ]
    },
    {
     "name": "stdout",
     "output_type": "stream",
     "text": [
      "2020 EPL\n",
      "Gathering match links.\n"
     ]
    },
    {
     "name": "stderr",
     "output_type": "stream",
     "text": [
      " 29%|██▉       | 321/1115 [53:20<4:55:24, 22.32s/it]"
     ]
    },
    {
     "name": "stdout",
     "output_type": "stream",
     "text": [
      "2021 EPL\n",
      "Gathering match links.\n"
     ]
    },
    {
     "name": "stderr",
     "output_type": "stream",
     "text": [
      " 29%|██▉       | 322/1115 [53:41<4:49:33, 21.91s/it]"
     ]
    },
    {
     "name": "stdout",
     "output_type": "stream",
     "text": [
      "2022 EPL\n",
      "Gathering match links.\n"
     ]
    },
    {
     "name": "stderr",
     "output_type": "stream",
     "text": [
      " 29%|██▉       | 323/1115 [54:04<4:53:11, 22.21s/it]"
     ]
    },
    {
     "name": "stdout",
     "output_type": "stream",
     "text": [
      "2023 EPL\n",
      "Gathering match links.\n"
     ]
    },
    {
     "name": "stderr",
     "output_type": "stream",
     "text": [
      " 29%|██▉       | 324/1115 [54:24<4:44:07, 21.55s/it]"
     ]
    },
    {
     "name": "stdout",
     "output_type": "stream",
     "text": [
      "1988 Ligue 1\n",
      "1988 invalid for source FBRef and league Ligue 1. Must be 1996 or later.\n",
      "1988 invalid for source FBRef and league Ligue 1. Must be 1996 or later.\n",
      "1989 Ligue 1\n",
      "1989 invalid for source FBRef and league Ligue 1. Must be 1996 or later.\n",
      "1989 invalid for source FBRef and league Ligue 1. Must be 1996 or later.\n",
      "1990 Ligue 1\n",
      "1990 invalid for source FBRef and league Ligue 1. Must be 1996 or later.\n",
      "1990 invalid for source FBRef and league Ligue 1. Must be 1996 or later.\n",
      "1991 Ligue 1\n",
      "1991 invalid for source FBRef and league Ligue 1. Must be 1996 or later.\n",
      "1991 invalid for source FBRef and league Ligue 1. Must be 1996 or later.\n",
      "1992 Ligue 1\n",
      "1992 invalid for source FBRef and league Ligue 1. Must be 1996 or later.\n",
      "1992 invalid for source FBRef and league Ligue 1. Must be 1996 or later.\n",
      "1993 Ligue 1\n",
      "1993 invalid for source FBRef and league Ligue 1. Must be 1996 or later.\n",
      "1993 invalid for source FBRef and league Ligue 1. Must be 1996 or later.\n",
      "1994 Ligue 1\n",
      "1994 invalid for source FBRef and league Ligue 1. Must be 1996 or later.\n",
      "1994 invalid for source FBRef and league Ligue 1. Must be 1996 or later.\n",
      "1995 Ligue 1\n",
      "1995 invalid for source FBRef and league Ligue 1. Must be 1996 or later.\n",
      "1995 invalid for source FBRef and league Ligue 1. Must be 1996 or later.\n",
      "1996 Ligue 1\n",
      "Gathering match links.\n"
     ]
    },
    {
     "name": "stderr",
     "output_type": "stream",
     "text": [
      " 30%|██▉       | 333/1115 [54:44<1:21:34,  6.26s/it]"
     ]
    },
    {
     "name": "stdout",
     "output_type": "stream",
     "text": [
      "1997 Ligue 1\n",
      "Gathering match links.\n"
     ]
    },
    {
     "name": "stderr",
     "output_type": "stream",
     "text": [
      " 30%|██▉       | 334/1115 [55:06<1:44:52,  8.06s/it]"
     ]
    },
    {
     "name": "stdout",
     "output_type": "stream",
     "text": [
      "1998 Ligue 1\n",
      "Gathering match links.\n"
     ]
    },
    {
     "name": "stderr",
     "output_type": "stream",
     "text": [
      " 30%|███       | 335/1115 [55:28<2:08:27,  9.88s/it]"
     ]
    },
    {
     "name": "stdout",
     "output_type": "stream",
     "text": [
      "1999 Ligue 1\n",
      "Gathering match links.\n"
     ]
    },
    {
     "name": "stderr",
     "output_type": "stream",
     "text": [
      " 30%|███       | 336/1115 [55:49<2:32:51, 11.77s/it]"
     ]
    },
    {
     "name": "stdout",
     "output_type": "stream",
     "text": [
      "2000 Ligue 1\n",
      "Gathering match links.\n"
     ]
    },
    {
     "name": "stderr",
     "output_type": "stream",
     "text": [
      " 30%|███       | 337/1115 [56:09<2:52:07, 13.27s/it]"
     ]
    },
    {
     "name": "stdout",
     "output_type": "stream",
     "text": [
      "2001 Ligue 1\n",
      "Gathering match links.\n"
     ]
    },
    {
     "name": "stderr",
     "output_type": "stream",
     "text": [
      " 30%|███       | 338/1115 [56:30<3:12:56, 14.90s/it]"
     ]
    },
    {
     "name": "stdout",
     "output_type": "stream",
     "text": [
      "2002 Ligue 1\n",
      "Gathering match links.\n"
     ]
    },
    {
     "name": "stderr",
     "output_type": "stream",
     "text": [
      " 30%|███       | 339/1115 [56:50<3:27:34, 16.05s/it]"
     ]
    },
    {
     "name": "stdout",
     "output_type": "stream",
     "text": [
      "2003 Ligue 1\n",
      "Gathering match links.\n"
     ]
    },
    {
     "name": "stderr",
     "output_type": "stream",
     "text": [
      " 30%|███       | 340/1115 [57:10<3:42:31, 17.23s/it]"
     ]
    },
    {
     "name": "stdout",
     "output_type": "stream",
     "text": [
      "2004 Ligue 1\n",
      "Gathering match links.\n"
     ]
    },
    {
     "name": "stderr",
     "output_type": "stream",
     "text": [
      " 31%|███       | 341/1115 [57:31<3:54:04, 18.15s/it]"
     ]
    },
    {
     "name": "stdout",
     "output_type": "stream",
     "text": [
      "2005 Ligue 1\n",
      "Gathering match links.\n"
     ]
    },
    {
     "name": "stderr",
     "output_type": "stream",
     "text": [
      " 31%|███       | 342/1115 [57:54<4:09:12, 19.34s/it]"
     ]
    },
    {
     "name": "stdout",
     "output_type": "stream",
     "text": [
      "2006 Ligue 1\n",
      "Gathering match links.\n"
     ]
    },
    {
     "name": "stderr",
     "output_type": "stream",
     "text": [
      " 31%|███       | 343/1115 [58:15<4:16:45, 19.96s/it]"
     ]
    },
    {
     "name": "stdout",
     "output_type": "stream",
     "text": [
      "2007 Ligue 1\n",
      "Gathering match links.\n"
     ]
    },
    {
     "name": "stderr",
     "output_type": "stream",
     "text": [
      " 31%|███       | 344/1115 [58:37<4:24:47, 20.61s/it]"
     ]
    },
    {
     "name": "stdout",
     "output_type": "stream",
     "text": [
      "2008 Ligue 1\n",
      "Gathering match links.\n"
     ]
    },
    {
     "name": "stderr",
     "output_type": "stream",
     "text": [
      " 31%|███       | 345/1115 [58:58<4:25:11, 20.66s/it]"
     ]
    },
    {
     "name": "stdout",
     "output_type": "stream",
     "text": [
      "2009 Ligue 1\n",
      "Gathering match links.\n"
     ]
    },
    {
     "name": "stderr",
     "output_type": "stream",
     "text": [
      " 31%|███       | 346/1115 [59:19<4:25:56, 20.75s/it]"
     ]
    },
    {
     "name": "stdout",
     "output_type": "stream",
     "text": [
      "2010 Ligue 1\n",
      "Gathering match links.\n"
     ]
    },
    {
     "name": "stderr",
     "output_type": "stream",
     "text": [
      " 31%|███       | 347/1115 [59:41<4:29:41, 21.07s/it]"
     ]
    },
    {
     "name": "stdout",
     "output_type": "stream",
     "text": [
      "2011 Ligue 1\n",
      "Gathering match links.\n"
     ]
    },
    {
     "name": "stderr",
     "output_type": "stream",
     "text": [
      " 31%|███       | 348/1115 [1:00:01<4:26:50, 20.87s/it]"
     ]
    },
    {
     "name": "stdout",
     "output_type": "stream",
     "text": [
      "2012 Ligue 1\n",
      "Gathering match links.\n"
     ]
    },
    {
     "name": "stderr",
     "output_type": "stream",
     "text": [
      " 31%|███▏      | 349/1115 [1:00:22<4:27:16, 20.94s/it]"
     ]
    },
    {
     "name": "stdout",
     "output_type": "stream",
     "text": [
      "2013 Ligue 1\n",
      "Gathering match links.\n"
     ]
    },
    {
     "name": "stderr",
     "output_type": "stream",
     "text": [
      " 31%|███▏      | 350/1115 [1:00:45<4:32:36, 21.38s/it]"
     ]
    },
    {
     "name": "stdout",
     "output_type": "stream",
     "text": [
      "2014 Ligue 1\n",
      "Gathering match links.\n"
     ]
    },
    {
     "name": "stderr",
     "output_type": "stream",
     "text": [
      " 31%|███▏      | 351/1115 [1:01:06<4:33:31, 21.48s/it]"
     ]
    },
    {
     "name": "stdout",
     "output_type": "stream",
     "text": [
      "2015 Ligue 1\n",
      "Gathering match links.\n"
     ]
    },
    {
     "name": "stderr",
     "output_type": "stream",
     "text": [
      " 32%|███▏      | 352/1115 [1:01:28<4:35:10, 21.64s/it]"
     ]
    },
    {
     "name": "stdout",
     "output_type": "stream",
     "text": [
      "2016 Ligue 1\n",
      "Gathering match links.\n"
     ]
    },
    {
     "name": "stderr",
     "output_type": "stream",
     "text": [
      " 32%|███▏      | 353/1115 [1:01:51<4:37:26, 21.85s/it]"
     ]
    },
    {
     "name": "stdout",
     "output_type": "stream",
     "text": [
      "2017 Ligue 1\n",
      "Gathering match links.\n"
     ]
    },
    {
     "name": "stderr",
     "output_type": "stream",
     "text": [
      " 32%|███▏      | 354/1115 [1:02:18<4:59:07, 23.58s/it]"
     ]
    },
    {
     "name": "stdout",
     "output_type": "stream",
     "text": [
      "2018 Ligue 1\n",
      "Gathering match links.\n"
     ]
    },
    {
     "name": "stderr",
     "output_type": "stream",
     "text": [
      " 32%|███▏      | 355/1115 [1:02:44<5:07:23, 24.27s/it]"
     ]
    },
    {
     "name": "stdout",
     "output_type": "stream",
     "text": [
      "2019 Ligue 1\n",
      "Gathering match links.\n"
     ]
    },
    {
     "name": "stderr",
     "output_type": "stream",
     "text": [
      " 32%|███▏      | 356/1115 [1:03:14<5:27:00, 25.85s/it]"
     ]
    },
    {
     "name": "stdout",
     "output_type": "stream",
     "text": [
      "2020 Ligue 1\n",
      "Gathering match links.\n"
     ]
    },
    {
     "name": "stderr",
     "output_type": "stream",
     "text": [
      " 32%|███▏      | 357/1115 [1:03:35<5:09:24, 24.49s/it]"
     ]
    },
    {
     "name": "stdout",
     "output_type": "stream",
     "text": [
      "2021 Ligue 1\n",
      "Gathering match links.\n"
     ]
    },
    {
     "name": "stderr",
     "output_type": "stream",
     "text": [
      " 32%|███▏      | 358/1115 [1:04:02<5:19:17, 25.31s/it]"
     ]
    },
    {
     "name": "stdout",
     "output_type": "stream",
     "text": [
      "2022 Ligue 1\n",
      "Gathering match links.\n"
     ]
    },
    {
     "name": "stderr",
     "output_type": "stream",
     "text": [
      " 32%|███▏      | 359/1115 [1:04:30<5:28:30, 26.07s/it]"
     ]
    },
    {
     "name": "stdout",
     "output_type": "stream",
     "text": [
      "2023 Ligue 1\n",
      "Gathering match links.\n"
     ]
    },
    {
     "name": "stderr",
     "output_type": "stream",
     "text": [
      " 32%|███▏      | 360/1115 [1:04:51<5:06:53, 24.39s/it]"
     ]
    },
    {
     "name": "stdout",
     "output_type": "stream",
     "text": [
      "1988 Bundesliga\n",
      "1988 invalid for source FBRef and league Bundesliga. Must be 1989 or later.\n",
      "1988 invalid for source FBRef and league Bundesliga. Must be 1989 or later.\n",
      "1989 Bundesliga\n",
      "Gathering match links.\n"
     ]
    },
    {
     "name": "stderr",
     "output_type": "stream",
     "text": [
      " 32%|███▏      | 362/1115 [1:05:13<3:50:10, 18.34s/it]"
     ]
    },
    {
     "name": "stdout",
     "output_type": "stream",
     "text": [
      "1990 Bundesliga\n",
      "Gathering match links.\n"
     ]
    },
    {
     "name": "stderr",
     "output_type": "stream",
     "text": [
      " 33%|███▎      | 363/1115 [1:05:34<3:57:48, 18.97s/it]"
     ]
    },
    {
     "name": "stdout",
     "output_type": "stream",
     "text": [
      "1991 Bundesliga\n",
      "Gathering match links.\n"
     ]
    },
    {
     "name": "stderr",
     "output_type": "stream",
     "text": [
      " 33%|███▎      | 364/1115 [1:05:55<4:02:39, 19.39s/it]"
     ]
    },
    {
     "name": "stdout",
     "output_type": "stream",
     "text": [
      "1992 Bundesliga\n",
      "Gathering match links.\n"
     ]
    },
    {
     "name": "stderr",
     "output_type": "stream",
     "text": [
      " 33%|███▎      | 365/1115 [1:06:16<4:09:53, 19.99s/it]"
     ]
    },
    {
     "name": "stdout",
     "output_type": "stream",
     "text": [
      "1993 Bundesliga\n",
      "Gathering match links.\n"
     ]
    },
    {
     "name": "stderr",
     "output_type": "stream",
     "text": [
      " 33%|███▎      | 366/1115 [1:06:36<4:08:26, 19.90s/it]"
     ]
    },
    {
     "name": "stdout",
     "output_type": "stream",
     "text": [
      "1994 Bundesliga\n",
      "Gathering match links.\n"
     ]
    },
    {
     "name": "stderr",
     "output_type": "stream",
     "text": [
      " 33%|███▎      | 367/1115 [1:06:56<4:09:30, 20.01s/it]"
     ]
    },
    {
     "name": "stdout",
     "output_type": "stream",
     "text": [
      "1995 Bundesliga\n",
      "Gathering match links.\n"
     ]
    },
    {
     "name": "stderr",
     "output_type": "stream",
     "text": [
      " 33%|███▎      | 368/1115 [1:07:17<4:12:42, 20.30s/it]"
     ]
    },
    {
     "name": "stdout",
     "output_type": "stream",
     "text": [
      "1996 Bundesliga\n",
      "Gathering match links.\n"
     ]
    },
    {
     "name": "stderr",
     "output_type": "stream",
     "text": [
      " 33%|███▎      | 369/1115 [1:07:37<4:10:45, 20.17s/it]"
     ]
    },
    {
     "name": "stdout",
     "output_type": "stream",
     "text": [
      "1997 Bundesliga\n",
      "Gathering match links.\n"
     ]
    },
    {
     "name": "stderr",
     "output_type": "stream",
     "text": [
      " 33%|███▎      | 370/1115 [1:07:58<4:14:02, 20.46s/it]"
     ]
    },
    {
     "name": "stdout",
     "output_type": "stream",
     "text": [
      "1998 Bundesliga\n",
      "Gathering match links.\n"
     ]
    },
    {
     "name": "stderr",
     "output_type": "stream",
     "text": [
      " 33%|███▎      | 371/1115 [1:08:19<4:13:54, 20.48s/it]"
     ]
    },
    {
     "name": "stdout",
     "output_type": "stream",
     "text": [
      "1999 Bundesliga\n",
      "Gathering match links.\n"
     ]
    },
    {
     "name": "stderr",
     "output_type": "stream",
     "text": [
      " 33%|███▎      | 372/1115 [1:08:39<4:11:16, 20.29s/it]"
     ]
    },
    {
     "name": "stdout",
     "output_type": "stream",
     "text": [
      "2000 Bundesliga\n",
      "Gathering match links.\n"
     ]
    },
    {
     "name": "stderr",
     "output_type": "stream",
     "text": [
      " 33%|███▎      | 373/1115 [1:09:00<4:12:56, 20.45s/it]"
     ]
    },
    {
     "name": "stdout",
     "output_type": "stream",
     "text": [
      "2001 Bundesliga\n",
      "Gathering match links.\n"
     ]
    },
    {
     "name": "stderr",
     "output_type": "stream",
     "text": [
      " 34%|███▎      | 374/1115 [1:09:23<4:23:29, 21.34s/it]"
     ]
    },
    {
     "name": "stdout",
     "output_type": "stream",
     "text": [
      "2002 Bundesliga\n",
      "Gathering match links.\n"
     ]
    },
    {
     "name": "stderr",
     "output_type": "stream",
     "text": [
      " 34%|███▎      | 375/1115 [1:09:43<4:18:25, 20.95s/it]"
     ]
    },
    {
     "name": "stdout",
     "output_type": "stream",
     "text": [
      "2003 Bundesliga\n",
      "Gathering match links.\n"
     ]
    },
    {
     "name": "stderr",
     "output_type": "stream",
     "text": [
      " 34%|███▎      | 376/1115 [1:10:04<4:19:10, 21.04s/it]"
     ]
    },
    {
     "name": "stdout",
     "output_type": "stream",
     "text": [
      "2004 Bundesliga\n",
      "Gathering match links.\n"
     ]
    },
    {
     "name": "stderr",
     "output_type": "stream",
     "text": [
      " 34%|███▍      | 377/1115 [1:10:24<4:14:49, 20.72s/it]"
     ]
    },
    {
     "name": "stdout",
     "output_type": "stream",
     "text": [
      "2005 Bundesliga\n",
      "Gathering match links.\n"
     ]
    },
    {
     "name": "stderr",
     "output_type": "stream",
     "text": [
      " 34%|███▍      | 378/1115 [1:10:45<4:14:21, 20.71s/it]"
     ]
    },
    {
     "name": "stdout",
     "output_type": "stream",
     "text": [
      "2006 Bundesliga\n",
      "Gathering match links.\n"
     ]
    },
    {
     "name": "stderr",
     "output_type": "stream",
     "text": [
      " 34%|███▍      | 379/1115 [1:11:06<4:15:06, 20.80s/it]"
     ]
    },
    {
     "name": "stdout",
     "output_type": "stream",
     "text": [
      "2007 Bundesliga\n",
      "Gathering match links.\n"
     ]
    },
    {
     "name": "stderr",
     "output_type": "stream",
     "text": [
      " 34%|███▍      | 380/1115 [1:11:27<4:16:04, 20.90s/it]"
     ]
    },
    {
     "name": "stdout",
     "output_type": "stream",
     "text": [
      "2008 Bundesliga\n",
      "Gathering match links.\n"
     ]
    },
    {
     "name": "stderr",
     "output_type": "stream",
     "text": [
      " 34%|███▍      | 381/1115 [1:11:49<4:19:26, 21.21s/it]"
     ]
    },
    {
     "name": "stdout",
     "output_type": "stream",
     "text": [
      "2009 Bundesliga\n",
      "Gathering match links.\n"
     ]
    },
    {
     "name": "stderr",
     "output_type": "stream",
     "text": [
      " 34%|███▍      | 382/1115 [1:12:11<4:23:34, 21.58s/it]"
     ]
    },
    {
     "name": "stdout",
     "output_type": "stream",
     "text": [
      "2010 Bundesliga\n",
      "Gathering match links.\n"
     ]
    },
    {
     "name": "stderr",
     "output_type": "stream",
     "text": [
      " 34%|███▍      | 383/1115 [1:12:32<4:21:13, 21.41s/it]"
     ]
    },
    {
     "name": "stdout",
     "output_type": "stream",
     "text": [
      "2011 Bundesliga\n",
      "Gathering match links.\n"
     ]
    },
    {
     "name": "stderr",
     "output_type": "stream",
     "text": [
      " 34%|███▍      | 384/1115 [1:12:54<4:20:24, 21.37s/it]"
     ]
    },
    {
     "name": "stdout",
     "output_type": "stream",
     "text": [
      "2012 Bundesliga\n",
      "Gathering match links.\n"
     ]
    },
    {
     "name": "stderr",
     "output_type": "stream",
     "text": [
      " 35%|███▍      | 385/1115 [1:13:15<4:19:50, 21.36s/it]"
     ]
    },
    {
     "name": "stdout",
     "output_type": "stream",
     "text": [
      "2013 Bundesliga\n",
      "Gathering match links.\n"
     ]
    },
    {
     "name": "stderr",
     "output_type": "stream",
     "text": [
      " 35%|███▍      | 386/1115 [1:13:36<4:17:05, 21.16s/it]"
     ]
    },
    {
     "name": "stdout",
     "output_type": "stream",
     "text": [
      "2014 Bundesliga\n",
      "Gathering match links.\n"
     ]
    },
    {
     "name": "stderr",
     "output_type": "stream",
     "text": [
      " 35%|███▍      | 387/1115 [1:13:58<4:20:59, 21.51s/it]"
     ]
    },
    {
     "name": "stdout",
     "output_type": "stream",
     "text": [
      "2015 Bundesliga\n",
      "Gathering match links.\n"
     ]
    },
    {
     "name": "stderr",
     "output_type": "stream",
     "text": [
      " 35%|███▍      | 388/1115 [1:14:24<4:38:03, 22.95s/it]"
     ]
    },
    {
     "name": "stdout",
     "output_type": "stream",
     "text": [
      "2016 Bundesliga\n",
      "Gathering match links.\n"
     ]
    },
    {
     "name": "stderr",
     "output_type": "stream",
     "text": [
      " 35%|███▍      | 389/1115 [1:14:49<4:44:35, 23.52s/it]"
     ]
    },
    {
     "name": "stdout",
     "output_type": "stream",
     "text": [
      "2017 Bundesliga\n",
      "Gathering match links.\n"
     ]
    },
    {
     "name": "stderr",
     "output_type": "stream",
     "text": [
      " 35%|███▍      | 390/1115 [1:15:16<4:57:07, 24.59s/it]"
     ]
    },
    {
     "name": "stdout",
     "output_type": "stream",
     "text": [
      "2018 Bundesliga\n",
      "Gathering match links.\n"
     ]
    },
    {
     "name": "stderr",
     "output_type": "stream",
     "text": [
      " 35%|███▌      | 391/1115 [1:15:43<5:03:52, 25.18s/it]"
     ]
    },
    {
     "name": "stdout",
     "output_type": "stream",
     "text": [
      "2019 Bundesliga\n",
      "Gathering match links.\n"
     ]
    },
    {
     "name": "stderr",
     "output_type": "stream",
     "text": [
      " 35%|███▌      | 392/1115 [1:16:07<4:58:27, 24.77s/it]"
     ]
    },
    {
     "name": "stdout",
     "output_type": "stream",
     "text": [
      "2020 Bundesliga\n",
      "Gathering match links.\n"
     ]
    },
    {
     "name": "stderr",
     "output_type": "stream",
     "text": [
      " 35%|███▌      | 393/1115 [1:16:33<5:04:25, 25.30s/it]"
     ]
    },
    {
     "name": "stdout",
     "output_type": "stream",
     "text": [
      "2021 Bundesliga\n",
      "Gathering match links.\n"
     ]
    },
    {
     "name": "stderr",
     "output_type": "stream",
     "text": [
      " 35%|███▌      | 394/1115 [1:16:58<5:00:25, 25.00s/it]"
     ]
    },
    {
     "name": "stdout",
     "output_type": "stream",
     "text": [
      "2022 Bundesliga\n",
      "Gathering match links.\n"
     ]
    },
    {
     "name": "stderr",
     "output_type": "stream",
     "text": [
      " 35%|███▌      | 395/1115 [1:17:27<5:14:48, 26.23s/it]"
     ]
    },
    {
     "name": "stdout",
     "output_type": "stream",
     "text": [
      "2023 Bundesliga\n",
      "Gathering match links.\n"
     ]
    },
    {
     "name": "stderr",
     "output_type": "stream",
     "text": [
      " 36%|███▌      | 396/1115 [1:17:46<4:51:29, 24.32s/it]"
     ]
    },
    {
     "name": "stdout",
     "output_type": "stream",
     "text": [
      "1988 Serie A\n",
      "1988 invalid for source FBRef and league Serie A. Must be 1989 or later.\n",
      "1988 invalid for source FBRef and league Serie A. Must be 1989 or later.\n",
      "1989 Serie A\n",
      "Gathering match links.\n"
     ]
    },
    {
     "name": "stderr",
     "output_type": "stream",
     "text": [
      " 36%|███▌      | 398/1115 [1:18:09<3:39:19, 18.35s/it]"
     ]
    },
    {
     "name": "stdout",
     "output_type": "stream",
     "text": [
      "1990 Serie A\n",
      "Gathering match links.\n"
     ]
    },
    {
     "name": "stderr",
     "output_type": "stream",
     "text": [
      " 36%|███▌      | 399/1115 [1:18:30<3:46:31, 18.98s/it]"
     ]
    },
    {
     "name": "stdout",
     "output_type": "stream",
     "text": [
      "1991 Serie A\n",
      "Gathering match links.\n"
     ]
    },
    {
     "name": "stderr",
     "output_type": "stream",
     "text": [
      " 36%|███▌      | 400/1115 [1:18:50<3:49:56, 19.30s/it]"
     ]
    },
    {
     "name": "stdout",
     "output_type": "stream",
     "text": [
      "1992 Serie A\n",
      "Gathering match links.\n"
     ]
    },
    {
     "name": "stderr",
     "output_type": "stream",
     "text": [
      " 36%|███▌      | 401/1115 [1:19:12<3:56:27, 19.87s/it]"
     ]
    },
    {
     "name": "stdout",
     "output_type": "stream",
     "text": [
      "1993 Serie A\n",
      "Gathering match links.\n"
     ]
    },
    {
     "name": "stderr",
     "output_type": "stream",
     "text": [
      " 36%|███▌      | 402/1115 [1:19:33<3:59:29, 20.15s/it]"
     ]
    },
    {
     "name": "stdout",
     "output_type": "stream",
     "text": [
      "1994 Serie A\n",
      "Gathering match links.\n"
     ]
    },
    {
     "name": "stderr",
     "output_type": "stream",
     "text": [
      " 36%|███▌      | 403/1115 [1:19:54<4:03:37, 20.53s/it]"
     ]
    },
    {
     "name": "stdout",
     "output_type": "stream",
     "text": [
      "1995 Serie A\n",
      "Gathering match links.\n"
     ]
    },
    {
     "name": "stderr",
     "output_type": "stream",
     "text": [
      " 36%|███▌      | 404/1115 [1:20:15<4:05:11, 20.69s/it]"
     ]
    },
    {
     "name": "stdout",
     "output_type": "stream",
     "text": [
      "1996 Serie A\n",
      "Gathering match links.\n"
     ]
    },
    {
     "name": "stderr",
     "output_type": "stream",
     "text": [
      " 36%|███▋      | 405/1115 [1:20:36<4:06:55, 20.87s/it]"
     ]
    },
    {
     "name": "stdout",
     "output_type": "stream",
     "text": [
      "1997 Serie A\n",
      "Gathering match links.\n"
     ]
    },
    {
     "name": "stderr",
     "output_type": "stream",
     "text": [
      " 36%|███▋      | 406/1115 [1:20:57<4:06:24, 20.85s/it]"
     ]
    },
    {
     "name": "stdout",
     "output_type": "stream",
     "text": [
      "1998 Serie A\n",
      "Gathering match links.\n"
     ]
    },
    {
     "name": "stderr",
     "output_type": "stream",
     "text": [
      " 37%|███▋      | 407/1115 [1:21:19<4:08:53, 21.09s/it]"
     ]
    },
    {
     "name": "stdout",
     "output_type": "stream",
     "text": [
      "1999 Serie A\n",
      "Gathering match links.\n"
     ]
    },
    {
     "name": "stderr",
     "output_type": "stream",
     "text": [
      " 37%|███▋      | 408/1115 [1:21:39<4:04:32, 20.75s/it]"
     ]
    },
    {
     "name": "stdout",
     "output_type": "stream",
     "text": [
      "2000 Serie A\n",
      "Gathering match links.\n"
     ]
    },
    {
     "name": "stderr",
     "output_type": "stream",
     "text": [
      " 37%|███▋      | 409/1115 [1:21:59<4:01:48, 20.55s/it]"
     ]
    },
    {
     "name": "stdout",
     "output_type": "stream",
     "text": [
      "2001 Serie A\n",
      "Gathering match links.\n"
     ]
    },
    {
     "name": "stderr",
     "output_type": "stream",
     "text": [
      " 37%|███▋      | 410/1115 [1:22:19<3:58:52, 20.33s/it]"
     ]
    },
    {
     "name": "stdout",
     "output_type": "stream",
     "text": [
      "2002 Serie A\n",
      "Gathering match links.\n"
     ]
    },
    {
     "name": "stderr",
     "output_type": "stream",
     "text": [
      " 37%|███▋      | 411/1115 [1:22:39<3:58:21, 20.31s/it]"
     ]
    },
    {
     "name": "stdout",
     "output_type": "stream",
     "text": [
      "2003 Serie A\n",
      "Gathering match links.\n"
     ]
    },
    {
     "name": "stderr",
     "output_type": "stream",
     "text": [
      " 37%|███▋      | 412/1115 [1:22:59<3:57:01, 20.23s/it]"
     ]
    },
    {
     "name": "stdout",
     "output_type": "stream",
     "text": [
      "2004 Serie A\n",
      "Gathering match links.\n"
     ]
    },
    {
     "name": "stderr",
     "output_type": "stream",
     "text": [
      " 37%|███▋      | 413/1115 [1:23:21<4:00:58, 20.60s/it]"
     ]
    },
    {
     "name": "stdout",
     "output_type": "stream",
     "text": [
      "2005 Serie A\n",
      "Gathering match links.\n"
     ]
    },
    {
     "name": "stderr",
     "output_type": "stream",
     "text": [
      " 37%|███▋      | 414/1115 [1:23:43<4:06:33, 21.10s/it]"
     ]
    },
    {
     "name": "stdout",
     "output_type": "stream",
     "text": [
      "2006 Serie A\n",
      "Gathering match links.\n"
     ]
    },
    {
     "name": "stderr",
     "output_type": "stream",
     "text": [
      " 37%|███▋      | 415/1115 [1:24:05<4:11:21, 21.54s/it]"
     ]
    },
    {
     "name": "stdout",
     "output_type": "stream",
     "text": [
      "2007 Serie A\n",
      "Gathering match links.\n"
     ]
    },
    {
     "name": "stderr",
     "output_type": "stream",
     "text": [
      " 37%|███▋      | 416/1115 [1:24:28<4:13:58, 21.80s/it]"
     ]
    },
    {
     "name": "stdout",
     "output_type": "stream",
     "text": [
      "2008 Serie A\n",
      "Gathering match links.\n"
     ]
    },
    {
     "name": "stderr",
     "output_type": "stream",
     "text": [
      " 37%|███▋      | 417/1115 [1:24:50<4:16:16, 22.03s/it]"
     ]
    },
    {
     "name": "stdout",
     "output_type": "stream",
     "text": [
      "2009 Serie A\n",
      "Gathering match links.\n"
     ]
    },
    {
     "name": "stderr",
     "output_type": "stream",
     "text": [
      " 37%|███▋      | 418/1115 [1:25:12<4:13:28, 21.82s/it]"
     ]
    },
    {
     "name": "stdout",
     "output_type": "stream",
     "text": [
      "2010 Serie A\n",
      "Gathering match links.\n"
     ]
    },
    {
     "name": "stderr",
     "output_type": "stream",
     "text": [
      " 38%|███▊      | 419/1115 [1:25:32<4:08:39, 21.44s/it]"
     ]
    },
    {
     "name": "stdout",
     "output_type": "stream",
     "text": [
      "2011 Serie A\n",
      "Gathering match links.\n"
     ]
    },
    {
     "name": "stderr",
     "output_type": "stream",
     "text": [
      " 38%|███▊      | 420/1115 [1:25:53<4:07:22, 21.36s/it]"
     ]
    },
    {
     "name": "stdout",
     "output_type": "stream",
     "text": [
      "2012 Serie A\n",
      "Gathering match links.\n"
     ]
    },
    {
     "name": "stderr",
     "output_type": "stream",
     "text": [
      " 38%|███▊      | 421/1115 [1:26:16<4:10:25, 21.65s/it]"
     ]
    },
    {
     "name": "stdout",
     "output_type": "stream",
     "text": [
      "2013 Serie A\n",
      "Gathering match links.\n"
     ]
    },
    {
     "name": "stderr",
     "output_type": "stream",
     "text": [
      " 38%|███▊      | 422/1115 [1:26:38<4:12:37, 21.87s/it]"
     ]
    },
    {
     "name": "stdout",
     "output_type": "stream",
     "text": [
      "2014 Serie A\n",
      "Gathering match links.\n"
     ]
    },
    {
     "name": "stderr",
     "output_type": "stream",
     "text": [
      " 38%|███▊      | 423/1115 [1:27:01<4:14:17, 22.05s/it]"
     ]
    },
    {
     "name": "stdout",
     "output_type": "stream",
     "text": [
      "2015 Serie A\n",
      "Gathering match links.\n"
     ]
    },
    {
     "name": "stderr",
     "output_type": "stream",
     "text": [
      " 38%|███▊      | 424/1115 [1:27:21<4:09:29, 21.66s/it]"
     ]
    },
    {
     "name": "stdout",
     "output_type": "stream",
     "text": [
      "2016 Serie A\n",
      "Gathering match links.\n"
     ]
    },
    {
     "name": "stderr",
     "output_type": "stream",
     "text": [
      " 38%|███▊      | 425/1115 [1:27:44<4:11:18, 21.85s/it]"
     ]
    },
    {
     "name": "stdout",
     "output_type": "stream",
     "text": [
      "2017 Serie A\n",
      "Gathering match links.\n"
     ]
    },
    {
     "name": "stderr",
     "output_type": "stream",
     "text": [
      " 38%|███▊      | 426/1115 [1:28:06<4:12:31, 21.99s/it]"
     ]
    },
    {
     "name": "stdout",
     "output_type": "stream",
     "text": [
      "2018 Serie A\n",
      "Gathering match links.\n"
     ]
    },
    {
     "name": "stderr",
     "output_type": "stream",
     "text": [
      " 38%|███▊      | 427/1115 [1:28:30<4:18:01, 22.50s/it]"
     ]
    },
    {
     "name": "stdout",
     "output_type": "stream",
     "text": [
      "2019 Serie A\n",
      "Gathering match links.\n"
     ]
    },
    {
     "name": "stderr",
     "output_type": "stream",
     "text": [
      " 38%|███▊      | 428/1115 [1:28:53<4:21:00, 22.80s/it]"
     ]
    },
    {
     "name": "stdout",
     "output_type": "stream",
     "text": [
      "2020 Serie A\n",
      "Gathering match links.\n"
     ]
    },
    {
     "name": "stderr",
     "output_type": "stream",
     "text": [
      " 38%|███▊      | 429/1115 [1:29:15<4:15:54, 22.38s/it]"
     ]
    },
    {
     "name": "stdout",
     "output_type": "stream",
     "text": [
      "2021 Serie A\n",
      "Gathering match links.\n"
     ]
    },
    {
     "name": "stderr",
     "output_type": "stream",
     "text": [
      " 39%|███▊      | 430/1115 [1:29:37<4:15:21, 22.37s/it]"
     ]
    },
    {
     "name": "stdout",
     "output_type": "stream",
     "text": [
      "2022 Serie A\n",
      "Gathering match links.\n"
     ]
    },
    {
     "name": "stderr",
     "output_type": "stream",
     "text": [
      " 39%|███▊      | 431/1115 [1:29:59<4:13:01, 22.20s/it]"
     ]
    },
    {
     "name": "stdout",
     "output_type": "stream",
     "text": [
      "2023 Serie A\n",
      "Gathering match links.\n"
     ]
    },
    {
     "name": "stderr",
     "output_type": "stream",
     "text": [
      " 39%|███▊      | 432/1115 [1:30:19<4:07:12, 21.72s/it]"
     ]
    },
    {
     "name": "stdout",
     "output_type": "stream",
     "text": [
      "1988 La Liga\n",
      "1988 invalid for source FBRef and league La Liga. Must be 1989 or later.\n",
      "1988 invalid for source FBRef and league La Liga. Must be 1989 or later.\n",
      "1989 La Liga\n",
      "Gathering match links.\n"
     ]
    },
    {
     "name": "stderr",
     "output_type": "stream",
     "text": [
      " 39%|███▉      | 434/1115 [1:30:43<3:16:04, 17.28s/it]"
     ]
    },
    {
     "name": "stdout",
     "output_type": "stream",
     "text": [
      "1990 La Liga\n",
      "Gathering match links.\n"
     ]
    },
    {
     "name": "stderr",
     "output_type": "stream",
     "text": [
      " 39%|███▉      | 435/1115 [1:31:07<3:33:18, 18.82s/it]"
     ]
    },
    {
     "name": "stdout",
     "output_type": "stream",
     "text": [
      "1991 La Liga\n",
      "Gathering match links.\n"
     ]
    },
    {
     "name": "stderr",
     "output_type": "stream",
     "text": [
      " 39%|███▉      | 436/1115 [1:31:29<3:42:58, 19.70s/it]"
     ]
    },
    {
     "name": "stdout",
     "output_type": "stream",
     "text": [
      "1992 La Liga\n",
      "Gathering match links.\n"
     ]
    },
    {
     "name": "stderr",
     "output_type": "stream",
     "text": [
      " 39%|███▉      | 437/1115 [1:31:51<3:49:47, 20.34s/it]"
     ]
    },
    {
     "name": "stdout",
     "output_type": "stream",
     "text": [
      "1993 La Liga\n",
      "Gathering match links.\n"
     ]
    },
    {
     "name": "stderr",
     "output_type": "stream",
     "text": [
      " 39%|███▉      | 438/1115 [1:32:14<3:56:13, 20.94s/it]"
     ]
    },
    {
     "name": "stdout",
     "output_type": "stream",
     "text": [
      "1994 La Liga\n",
      "Gathering match links.\n"
     ]
    },
    {
     "name": "stderr",
     "output_type": "stream",
     "text": [
      " 39%|███▉      | 439/1115 [1:32:35<3:57:47, 21.11s/it]"
     ]
    },
    {
     "name": "stdout",
     "output_type": "stream",
     "text": [
      "1995 La Liga\n",
      "Gathering match links.\n"
     ]
    },
    {
     "name": "stderr",
     "output_type": "stream",
     "text": [
      " 39%|███▉      | 440/1115 [1:32:57<3:59:34, 21.30s/it]"
     ]
    },
    {
     "name": "stdout",
     "output_type": "stream",
     "text": [
      "1996 La Liga\n",
      "Gathering match links.\n"
     ]
    },
    {
     "name": "stderr",
     "output_type": "stream",
     "text": [
      " 40%|███▉      | 441/1115 [1:33:19<4:02:22, 21.58s/it]"
     ]
    },
    {
     "name": "stdout",
     "output_type": "stream",
     "text": [
      "1997 La Liga\n",
      "Gathering match links.\n"
     ]
    },
    {
     "name": "stderr",
     "output_type": "stream",
     "text": [
      " 40%|███▉      | 442/1115 [1:33:41<4:02:33, 21.63s/it]"
     ]
    },
    {
     "name": "stdout",
     "output_type": "stream",
     "text": [
      "1998 La Liga\n",
      "Gathering match links.\n"
     ]
    },
    {
     "name": "stderr",
     "output_type": "stream",
     "text": [
      " 40%|███▉      | 443/1115 [1:34:02<4:00:55, 21.51s/it]"
     ]
    },
    {
     "name": "stdout",
     "output_type": "stream",
     "text": [
      "1999 La Liga\n",
      "Gathering match links.\n"
     ]
    },
    {
     "name": "stderr",
     "output_type": "stream",
     "text": [
      " 40%|███▉      | 444/1115 [1:34:24<4:01:43, 21.62s/it]"
     ]
    },
    {
     "name": "stdout",
     "output_type": "stream",
     "text": [
      "2000 La Liga\n",
      "Gathering match links.\n"
     ]
    },
    {
     "name": "stderr",
     "output_type": "stream",
     "text": [
      " 40%|███▉      | 445/1115 [1:34:46<4:03:01, 21.76s/it]"
     ]
    },
    {
     "name": "stdout",
     "output_type": "stream",
     "text": [
      "2001 La Liga\n",
      "Gathering match links.\n"
     ]
    },
    {
     "name": "stderr",
     "output_type": "stream",
     "text": [
      " 40%|████      | 446/1115 [1:35:13<4:18:14, 23.16s/it]"
     ]
    },
    {
     "name": "stdout",
     "output_type": "stream",
     "text": [
      "2002 La Liga\n",
      "Gathering match links.\n"
     ]
    },
    {
     "name": "stderr",
     "output_type": "stream",
     "text": [
      " 40%|████      | 447/1115 [1:35:35<4:15:41, 22.97s/it]"
     ]
    },
    {
     "name": "stdout",
     "output_type": "stream",
     "text": [
      "2003 La Liga\n",
      "Gathering match links.\n"
     ]
    },
    {
     "name": "stderr",
     "output_type": "stream",
     "text": [
      " 40%|████      | 448/1115 [1:35:57<4:11:51, 22.66s/it]"
     ]
    },
    {
     "name": "stdout",
     "output_type": "stream",
     "text": [
      "2004 La Liga\n",
      "Gathering match links.\n"
     ]
    },
    {
     "name": "stderr",
     "output_type": "stream",
     "text": [
      " 40%|████      | 449/1115 [1:36:20<4:11:47, 22.68s/it]"
     ]
    },
    {
     "name": "stdout",
     "output_type": "stream",
     "text": [
      "2005 La Liga\n",
      "Gathering match links.\n"
     ]
    },
    {
     "name": "stderr",
     "output_type": "stream",
     "text": [
      " 40%|████      | 450/1115 [1:36:43<4:13:26, 22.87s/it]"
     ]
    },
    {
     "name": "stdout",
     "output_type": "stream",
     "text": [
      "2006 La Liga\n",
      "Gathering match links.\n"
     ]
    },
    {
     "name": "stderr",
     "output_type": "stream",
     "text": [
      " 40%|████      | 451/1115 [1:37:06<4:12:06, 22.78s/it]"
     ]
    },
    {
     "name": "stdout",
     "output_type": "stream",
     "text": [
      "2007 La Liga\n",
      "Gathering match links.\n"
     ]
    },
    {
     "name": "stderr",
     "output_type": "stream",
     "text": [
      " 41%|████      | 452/1115 [1:37:29<4:12:14, 22.83s/it]"
     ]
    },
    {
     "name": "stdout",
     "output_type": "stream",
     "text": [
      "2008 La Liga\n",
      "Gathering match links.\n"
     ]
    },
    {
     "name": "stderr",
     "output_type": "stream",
     "text": [
      " 41%|████      | 453/1115 [1:37:50<4:05:53, 22.29s/it]"
     ]
    },
    {
     "name": "stdout",
     "output_type": "stream",
     "text": [
      "2009 La Liga\n",
      "Gathering match links.\n"
     ]
    },
    {
     "name": "stderr",
     "output_type": "stream",
     "text": [
      " 41%|████      | 454/1115 [1:38:12<4:06:56, 22.42s/it]"
     ]
    },
    {
     "name": "stdout",
     "output_type": "stream",
     "text": [
      "2010 La Liga\n",
      "Gathering match links.\n"
     ]
    },
    {
     "name": "stderr",
     "output_type": "stream",
     "text": [
      " 41%|████      | 455/1115 [1:38:36<4:10:19, 22.76s/it]"
     ]
    },
    {
     "name": "stdout",
     "output_type": "stream",
     "text": [
      "2011 La Liga\n",
      "Gathering match links.\n"
     ]
    },
    {
     "name": "stderr",
     "output_type": "stream",
     "text": [
      " 41%|████      | 456/1115 [1:38:57<4:04:30, 22.26s/it]"
     ]
    },
    {
     "name": "stdout",
     "output_type": "stream",
     "text": [
      "2012 La Liga\n",
      "Gathering match links.\n"
     ]
    },
    {
     "name": "stderr",
     "output_type": "stream",
     "text": [
      " 41%|████      | 457/1115 [1:39:19<4:03:44, 22.23s/it]"
     ]
    },
    {
     "name": "stdout",
     "output_type": "stream",
     "text": [
      "2013 La Liga\n",
      "Gathering match links.\n"
     ]
    },
    {
     "name": "stderr",
     "output_type": "stream",
     "text": [
      " 41%|████      | 458/1115 [1:39:41<4:01:41, 22.07s/it]"
     ]
    },
    {
     "name": "stdout",
     "output_type": "stream",
     "text": [
      "2014 La Liga\n",
      "Gathering match links.\n"
     ]
    },
    {
     "name": "stderr",
     "output_type": "stream",
     "text": [
      " 41%|████      | 459/1115 [1:40:02<3:58:49, 21.84s/it]"
     ]
    },
    {
     "name": "stdout",
     "output_type": "stream",
     "text": [
      "2015 La Liga\n",
      "Gathering match links.\n"
     ]
    },
    {
     "name": "stderr",
     "output_type": "stream",
     "text": [
      " 41%|████▏     | 460/1115 [1:40:24<3:56:58, 21.71s/it]"
     ]
    },
    {
     "name": "stdout",
     "output_type": "stream",
     "text": [
      "2016 La Liga\n",
      "Gathering match links.\n"
     ]
    },
    {
     "name": "stderr",
     "output_type": "stream",
     "text": [
      " 41%|████▏     | 461/1115 [1:40:45<3:56:55, 21.74s/it]"
     ]
    },
    {
     "name": "stdout",
     "output_type": "stream",
     "text": [
      "2017 La Liga\n",
      "Gathering match links.\n"
     ]
    },
    {
     "name": "stderr",
     "output_type": "stream",
     "text": [
      " 41%|████▏     | 462/1115 [1:41:09<4:03:10, 22.34s/it]"
     ]
    },
    {
     "name": "stdout",
     "output_type": "stream",
     "text": [
      "2018 La Liga\n",
      "Gathering match links.\n"
     ]
    },
    {
     "name": "stderr",
     "output_type": "stream",
     "text": [
      " 42%|████▏     | 463/1115 [1:41:33<4:06:32, 22.69s/it]"
     ]
    },
    {
     "name": "stdout",
     "output_type": "stream",
     "text": [
      "2019 La Liga\n",
      "Gathering match links.\n"
     ]
    },
    {
     "name": "stderr",
     "output_type": "stream",
     "text": [
      " 42%|████▏     | 464/1115 [1:41:57<4:10:44, 23.11s/it]"
     ]
    },
    {
     "name": "stdout",
     "output_type": "stream",
     "text": [
      "2020 La Liga\n",
      "Gathering match links.\n"
     ]
    },
    {
     "name": "stderr",
     "output_type": "stream",
     "text": [
      " 42%|████▏     | 465/1115 [1:42:19<4:08:41, 22.96s/it]"
     ]
    },
    {
     "name": "stdout",
     "output_type": "stream",
     "text": [
      "2021 La Liga\n",
      "Gathering match links.\n"
     ]
    },
    {
     "name": "stderr",
     "output_type": "stream",
     "text": [
      " 42%|████▏     | 466/1115 [1:42:44<4:13:17, 23.42s/it]"
     ]
    },
    {
     "name": "stdout",
     "output_type": "stream",
     "text": [
      "2022 La Liga\n",
      "Gathering match links.\n"
     ]
    },
    {
     "name": "stderr",
     "output_type": "stream",
     "text": [
      " 42%|████▏     | 467/1115 [1:43:06<4:10:11, 23.17s/it]"
     ]
    },
    {
     "name": "stdout",
     "output_type": "stream",
     "text": [
      "2023 La Liga\n",
      "Gathering match links.\n"
     ]
    },
    {
     "name": "stderr",
     "output_type": "stream",
     "text": [
      " 42%|████▏     | 468/1115 [1:43:27<4:01:56, 22.44s/it]"
     ]
    },
    {
     "name": "stdout",
     "output_type": "stream",
     "text": [
      "1988 MLS\n",
      "1988 invalid for source FBRef and league MLS. Must be 1996 or later.\n",
      "1988 invalid for source FBRef and league MLS. Must be 1996 or later.\n",
      "1989 MLS\n",
      "1989 invalid for source FBRef and league MLS. Must be 1996 or later.\n",
      "1989 invalid for source FBRef and league MLS. Must be 1996 or later.\n",
      "1990 MLS\n",
      "1990 invalid for source FBRef and league MLS. Must be 1996 or later.\n",
      "1990 invalid for source FBRef and league MLS. Must be 1996 or later.\n",
      "1991 MLS\n",
      "1991 invalid for source FBRef and league MLS. Must be 1996 or later.\n",
      "1991 invalid for source FBRef and league MLS. Must be 1996 or later.\n",
      "1992 MLS\n",
      "1992 invalid for source FBRef and league MLS. Must be 1996 or later.\n",
      "1992 invalid for source FBRef and league MLS. Must be 1996 or later.\n",
      "1993 MLS\n",
      "1993 invalid for source FBRef and league MLS. Must be 1996 or later.\n",
      "1993 invalid for source FBRef and league MLS. Must be 1996 or later.\n",
      "1994 MLS\n",
      "1994 invalid for source FBRef and league MLS. Must be 1996 or later.\n",
      "1994 invalid for source FBRef and league MLS. Must be 1996 or later.\n",
      "1995 MLS\n",
      "1995 invalid for source FBRef and league MLS. Must be 1996 or later.\n",
      "1995 invalid for source FBRef and league MLS. Must be 1996 or later.\n",
      "1996 MLS\n",
      "Gathering match links.\n"
     ]
    },
    {
     "name": "stderr",
     "output_type": "stream",
     "text": [
      " 43%|████▎     | 477/1115 [1:43:49<1:10:04,  6.59s/it]"
     ]
    },
    {
     "name": "stdout",
     "output_type": "stream",
     "text": [
      "1997 MLS\n",
      "Gathering match links.\n"
     ]
    },
    {
     "name": "stderr",
     "output_type": "stream",
     "text": [
      " 43%|████▎     | 478/1115 [1:44:10<1:26:38,  8.16s/it]"
     ]
    },
    {
     "name": "stdout",
     "output_type": "stream",
     "text": [
      "1998 MLS\n",
      "Gathering match links.\n"
     ]
    },
    {
     "name": "stderr",
     "output_type": "stream",
     "text": [
      " 43%|████▎     | 479/1115 [1:44:33<1:47:21, 10.13s/it]"
     ]
    },
    {
     "name": "stdout",
     "output_type": "stream",
     "text": [
      "1999 MLS\n",
      "Gathering match links.\n"
     ]
    },
    {
     "name": "stderr",
     "output_type": "stream",
     "text": [
      " 43%|████▎     | 480/1115 [1:44:57<2:11:46, 12.45s/it]"
     ]
    },
    {
     "name": "stdout",
     "output_type": "stream",
     "text": [
      "2000 MLS\n",
      "Gathering match links.\n"
     ]
    },
    {
     "name": "stderr",
     "output_type": "stream",
     "text": [
      " 43%|████▎     | 481/1115 [1:45:18<2:28:50, 14.09s/it]"
     ]
    },
    {
     "name": "stdout",
     "output_type": "stream",
     "text": [
      "2001 MLS\n",
      "Gathering match links.\n"
     ]
    },
    {
     "name": "stderr",
     "output_type": "stream",
     "text": [
      " 43%|████▎     | 482/1115 [1:45:38<2:42:04, 15.36s/it]"
     ]
    },
    {
     "name": "stdout",
     "output_type": "stream",
     "text": [
      "2002 MLS\n",
      "Gathering match links.\n"
     ]
    },
    {
     "name": "stderr",
     "output_type": "stream",
     "text": [
      " 43%|████▎     | 483/1115 [1:45:59<2:55:05, 16.62s/it]"
     ]
    },
    {
     "name": "stdout",
     "output_type": "stream",
     "text": [
      "2003 MLS\n",
      "Gathering match links.\n"
     ]
    },
    {
     "name": "stderr",
     "output_type": "stream",
     "text": [
      " 43%|████▎     | 484/1115 [1:46:18<3:02:55, 17.39s/it]"
     ]
    },
    {
     "name": "stdout",
     "output_type": "stream",
     "text": [
      "2004 MLS\n",
      "Gathering match links.\n"
     ]
    },
    {
     "name": "stderr",
     "output_type": "stream",
     "text": [
      " 43%|████▎     | 485/1115 [1:46:38<3:08:34, 17.96s/it]"
     ]
    },
    {
     "name": "stdout",
     "output_type": "stream",
     "text": [
      "2005 MLS\n",
      "Gathering match links.\n"
     ]
    },
    {
     "name": "stderr",
     "output_type": "stream",
     "text": [
      " 44%|████▎     | 486/1115 [1:47:00<3:20:28, 19.12s/it]"
     ]
    },
    {
     "name": "stdout",
     "output_type": "stream",
     "text": [
      "2006 MLS\n",
      "Gathering match links.\n"
     ]
    },
    {
     "name": "stderr",
     "output_type": "stream",
     "text": [
      " 44%|████▎     | 487/1115 [1:47:20<3:23:53, 19.48s/it]"
     ]
    },
    {
     "name": "stdout",
     "output_type": "stream",
     "text": [
      "2007 MLS\n",
      "Gathering match links.\n"
     ]
    },
    {
     "name": "stderr",
     "output_type": "stream",
     "text": [
      " 44%|████▍     | 488/1115 [1:47:43<3:32:22, 20.32s/it]"
     ]
    },
    {
     "name": "stdout",
     "output_type": "stream",
     "text": [
      "2008 MLS\n",
      "Gathering match links.\n"
     ]
    },
    {
     "name": "stderr",
     "output_type": "stream",
     "text": [
      " 44%|████▍     | 489/1115 [1:48:05<3:36:52, 20.79s/it]"
     ]
    },
    {
     "name": "stdout",
     "output_type": "stream",
     "text": [
      "2009 MLS\n",
      "Gathering match links.\n"
     ]
    },
    {
     "name": "stderr",
     "output_type": "stream",
     "text": [
      " 44%|████▍     | 490/1115 [1:48:30<3:49:13, 22.01s/it]"
     ]
    },
    {
     "name": "stdout",
     "output_type": "stream",
     "text": [
      "2010 MLS\n",
      "Gathering match links.\n"
     ]
    },
    {
     "name": "stderr",
     "output_type": "stream",
     "text": [
      " 44%|████▍     | 491/1115 [1:48:53<3:51:52, 22.30s/it]"
     ]
    },
    {
     "name": "stdout",
     "output_type": "stream",
     "text": [
      "2011 MLS\n",
      "Gathering match links.\n"
     ]
    },
    {
     "name": "stderr",
     "output_type": "stream",
     "text": [
      " 44%|████▍     | 492/1115 [1:49:18<4:01:07, 23.22s/it]"
     ]
    },
    {
     "name": "stdout",
     "output_type": "stream",
     "text": [
      "2012 MLS\n",
      "Gathering match links.\n"
     ]
    },
    {
     "name": "stderr",
     "output_type": "stream",
     "text": [
      " 44%|████▍     | 493/1115 [1:49:43<4:06:13, 23.75s/it]"
     ]
    },
    {
     "name": "stdout",
     "output_type": "stream",
     "text": [
      "2013 MLS\n",
      "Gathering match links.\n"
     ]
    },
    {
     "name": "stderr",
     "output_type": "stream",
     "text": [
      " 44%|████▍     | 494/1115 [1:50:07<4:07:28, 23.91s/it]"
     ]
    },
    {
     "name": "stdout",
     "output_type": "stream",
     "text": [
      "2014 MLS\n",
      "Gathering match links.\n"
     ]
    },
    {
     "name": "stderr",
     "output_type": "stream",
     "text": [
      " 44%|████▍     | 495/1115 [1:50:32<4:08:11, 24.02s/it]"
     ]
    },
    {
     "name": "stdout",
     "output_type": "stream",
     "text": [
      "2015 MLS\n",
      "Gathering match links.\n"
     ]
    },
    {
     "name": "stderr",
     "output_type": "stream",
     "text": [
      " 44%|████▍     | 496/1115 [1:50:59<4:18:46, 25.08s/it]"
     ]
    },
    {
     "name": "stdout",
     "output_type": "stream",
     "text": [
      "2016 MLS\n",
      "Gathering match links.\n"
     ]
    },
    {
     "name": "stderr",
     "output_type": "stream",
     "text": [
      " 45%|████▍     | 497/1115 [1:51:26<4:21:49, 25.42s/it]"
     ]
    },
    {
     "name": "stdout",
     "output_type": "stream",
     "text": [
      "2017 MLS\n",
      "Gathering match links.\n"
     ]
    },
    {
     "name": "stderr",
     "output_type": "stream",
     "text": [
      " 45%|████▍     | 498/1115 [1:51:52<4:25:47, 25.85s/it]"
     ]
    },
    {
     "name": "stdout",
     "output_type": "stream",
     "text": [
      "2018 MLS\n",
      "Gathering match links.\n"
     ]
    },
    {
     "name": "stderr",
     "output_type": "stream",
     "text": [
      " 45%|████▍     | 499/1115 [1:52:19<4:27:56, 26.10s/it]"
     ]
    },
    {
     "name": "stdout",
     "output_type": "stream",
     "text": [
      "2019 MLS\n",
      "Gathering match links.\n"
     ]
    },
    {
     "name": "stderr",
     "output_type": "stream",
     "text": [
      " 45%|████▍     | 500/1115 [1:52:49<4:40:04, 27.32s/it]"
     ]
    },
    {
     "name": "stdout",
     "output_type": "stream",
     "text": [
      "2020 MLS\n",
      "Gathering match links.\n"
     ]
    },
    {
     "name": "stderr",
     "output_type": "stream",
     "text": [
      " 45%|████▍     | 501/1115 [1:53:16<4:38:04, 27.17s/it]"
     ]
    },
    {
     "name": "stdout",
     "output_type": "stream",
     "text": [
      "2021 MLS\n",
      "Gathering match links.\n"
     ]
    },
    {
     "name": "stderr",
     "output_type": "stream",
     "text": [
      " 45%|████▌     | 502/1115 [1:53:45<4:42:00, 27.60s/it]"
     ]
    },
    {
     "name": "stdout",
     "output_type": "stream",
     "text": [
      "2022 MLS\n",
      "Gathering match links.\n"
     ]
    },
    {
     "name": "stderr",
     "output_type": "stream",
     "text": [
      " 45%|████▌     | 503/1115 [1:54:18<4:59:09, 29.33s/it]"
     ]
    },
    {
     "name": "stdout",
     "output_type": "stream",
     "text": [
      "1988 Brazilian Serie A\n",
      "1988 invalid for source FBRef and league Brazilian Serie A. Must be 2014 or later.\n",
      "1988 invalid for source FBRef and league Brazilian Serie A. Must be 2014 or later.\n",
      "1989 Brazilian Serie A\n",
      "1989 invalid for source FBRef and league Brazilian Serie A. Must be 2014 or later.\n",
      "1989 invalid for source FBRef and league Brazilian Serie A. Must be 2014 or later.\n",
      "1990 Brazilian Serie A\n",
      "1990 invalid for source FBRef and league Brazilian Serie A. Must be 2014 or later.\n",
      "1990 invalid for source FBRef and league Brazilian Serie A. Must be 2014 or later.\n",
      "1991 Brazilian Serie A\n",
      "1991 invalid for source FBRef and league Brazilian Serie A. Must be 2014 or later.\n",
      "1991 invalid for source FBRef and league Brazilian Serie A. Must be 2014 or later.\n",
      "1992 Brazilian Serie A\n",
      "1992 invalid for source FBRef and league Brazilian Serie A. Must be 2014 or later.\n",
      "1992 invalid for source FBRef and league Brazilian Serie A. Must be 2014 or later.\n",
      "1993 Brazilian Serie A\n",
      "1993 invalid for source FBRef and league Brazilian Serie A. Must be 2014 or later.\n",
      "1993 invalid for source FBRef and league Brazilian Serie A. Must be 2014 or later.\n",
      "1994 Brazilian Serie A\n",
      "1994 invalid for source FBRef and league Brazilian Serie A. Must be 2014 or later.\n",
      "1994 invalid for source FBRef and league Brazilian Serie A. Must be 2014 or later.\n",
      "1995 Brazilian Serie A\n",
      "1995 invalid for source FBRef and league Brazilian Serie A. Must be 2014 or later.\n",
      "1995 invalid for source FBRef and league Brazilian Serie A. Must be 2014 or later.\n",
      "1996 Brazilian Serie A\n",
      "1996 invalid for source FBRef and league Brazilian Serie A. Must be 2014 or later.\n",
      "1996 invalid for source FBRef and league Brazilian Serie A. Must be 2014 or later.\n",
      "1997 Brazilian Serie A\n",
      "1997 invalid for source FBRef and league Brazilian Serie A. Must be 2014 or later.\n",
      "1997 invalid for source FBRef and league Brazilian Serie A. Must be 2014 or later.\n",
      "1998 Brazilian Serie A\n",
      "1998 invalid for source FBRef and league Brazilian Serie A. Must be 2014 or later.\n",
      "1998 invalid for source FBRef and league Brazilian Serie A. Must be 2014 or later.\n",
      "1999 Brazilian Serie A\n",
      "1999 invalid for source FBRef and league Brazilian Serie A. Must be 2014 or later.\n",
      "1999 invalid for source FBRef and league Brazilian Serie A. Must be 2014 or later.\n",
      "2000 Brazilian Serie A\n",
      "2000 invalid for source FBRef and league Brazilian Serie A. Must be 2014 or later.\n",
      "2000 invalid for source FBRef and league Brazilian Serie A. Must be 2014 or later.\n",
      "2001 Brazilian Serie A\n",
      "2001 invalid for source FBRef and league Brazilian Serie A. Must be 2014 or later.\n",
      "2001 invalid for source FBRef and league Brazilian Serie A. Must be 2014 or later.\n",
      "2002 Brazilian Serie A\n",
      "2002 invalid for source FBRef and league Brazilian Serie A. Must be 2014 or later.\n",
      "2002 invalid for source FBRef and league Brazilian Serie A. Must be 2014 or later.\n",
      "2003 Brazilian Serie A\n",
      "2003 invalid for source FBRef and league Brazilian Serie A. Must be 2014 or later.\n",
      "2003 invalid for source FBRef and league Brazilian Serie A. Must be 2014 or later.\n",
      "2004 Brazilian Serie A\n",
      "2004 invalid for source FBRef and league Brazilian Serie A. Must be 2014 or later.\n",
      "2004 invalid for source FBRef and league Brazilian Serie A. Must be 2014 or later.\n",
      "2005 Brazilian Serie A\n",
      "2005 invalid for source FBRef and league Brazilian Serie A. Must be 2014 or later.\n",
      "2005 invalid for source FBRef and league Brazilian Serie A. Must be 2014 or later.\n",
      "2006 Brazilian Serie A\n",
      "2006 invalid for source FBRef and league Brazilian Serie A. Must be 2014 or later.\n",
      "2006 invalid for source FBRef and league Brazilian Serie A. Must be 2014 or later.\n",
      "2007 Brazilian Serie A\n",
      "2007 invalid for source FBRef and league Brazilian Serie A. Must be 2014 or later.\n",
      "2007 invalid for source FBRef and league Brazilian Serie A. Must be 2014 or later.\n",
      "2008 Brazilian Serie A\n",
      "2008 invalid for source FBRef and league Brazilian Serie A. Must be 2014 or later.\n",
      "2008 invalid for source FBRef and league Brazilian Serie A. Must be 2014 or later.\n",
      "2009 Brazilian Serie A\n",
      "2009 invalid for source FBRef and league Brazilian Serie A. Must be 2014 or later.\n",
      "2009 invalid for source FBRef and league Brazilian Serie A. Must be 2014 or later.\n",
      "2010 Brazilian Serie A\n",
      "2010 invalid for source FBRef and league Brazilian Serie A. Must be 2014 or later.\n",
      "2010 invalid for source FBRef and league Brazilian Serie A. Must be 2014 or later.\n",
      "2011 Brazilian Serie A\n",
      "2011 invalid for source FBRef and league Brazilian Serie A. Must be 2014 or later.\n",
      "2011 invalid for source FBRef and league Brazilian Serie A. Must be 2014 or later.\n",
      "2012 Brazilian Serie A\n",
      "2012 invalid for source FBRef and league Brazilian Serie A. Must be 2014 or later.\n",
      "2012 invalid for source FBRef and league Brazilian Serie A. Must be 2014 or later.\n",
      "2013 Brazilian Serie A\n",
      "2013 invalid for source FBRef and league Brazilian Serie A. Must be 2014 or later.\n",
      "2013 invalid for source FBRef and league Brazilian Serie A. Must be 2014 or later.\n",
      "2014 Brazilian Serie A\n",
      "Gathering match links.\n"
     ]
    },
    {
     "name": "stderr",
     "output_type": "stream",
     "text": [
      " 48%|████▊     | 530/1115 [1:54:42<30:43,  3.15s/it]  "
     ]
    },
    {
     "name": "stdout",
     "output_type": "stream",
     "text": [
      "2015 Brazilian Serie A\n",
      "Gathering match links.\n"
     ]
    },
    {
     "name": "stderr",
     "output_type": "stream",
     "text": [
      " 48%|████▊     | 531/1115 [1:55:04<39:18,  4.04s/it]"
     ]
    },
    {
     "name": "stdout",
     "output_type": "stream",
     "text": [
      "2016 Brazilian Serie A\n",
      "Gathering match links.\n"
     ]
    },
    {
     "name": "stderr",
     "output_type": "stream",
     "text": [
      " 48%|████▊     | 532/1115 [1:55:28<51:15,  5.28s/it]"
     ]
    },
    {
     "name": "stdout",
     "output_type": "stream",
     "text": [
      "2017 Brazilian Serie A\n",
      "Gathering match links.\n"
     ]
    },
    {
     "name": "stderr",
     "output_type": "stream",
     "text": [
      " 48%|████▊     | 533/1115 [1:55:51<1:04:45,  6.68s/it]"
     ]
    },
    {
     "name": "stdout",
     "output_type": "stream",
     "text": [
      "2018 Brazilian Serie A\n",
      "Gathering match links.\n"
     ]
    },
    {
     "name": "stderr",
     "output_type": "stream",
     "text": [
      " 48%|████▊     | 534/1115 [1:56:13<1:20:14,  8.29s/it]"
     ]
    },
    {
     "name": "stdout",
     "output_type": "stream",
     "text": [
      "2019 Brazilian Serie A\n",
      "Gathering match links.\n"
     ]
    },
    {
     "name": "stderr",
     "output_type": "stream",
     "text": [
      " 48%|████▊     | 535/1115 [1:56:34<1:36:14,  9.96s/it]"
     ]
    },
    {
     "name": "stdout",
     "output_type": "stream",
     "text": [
      "2020 Brazilian Serie A\n",
      "Gathering match links.\n"
     ]
    },
    {
     "name": "stderr",
     "output_type": "stream",
     "text": [
      " 48%|████▊     | 536/1115 [1:56:56<1:54:43, 11.89s/it]"
     ]
    },
    {
     "name": "stdout",
     "output_type": "stream",
     "text": [
      "2021 Brazilian Serie A\n",
      "Gathering match links.\n"
     ]
    },
    {
     "name": "stderr",
     "output_type": "stream",
     "text": [
      " 48%|████▊     | 537/1115 [1:57:19<2:13:30, 13.86s/it]"
     ]
    },
    {
     "name": "stdout",
     "output_type": "stream",
     "text": [
      "2022 Brazilian Serie A\n",
      "Gathering match links.\n"
     ]
    },
    {
     "name": "stderr",
     "output_type": "stream",
     "text": [
      " 48%|████▊     | 538/1115 [1:57:41<2:30:31, 15.65s/it]"
     ]
    },
    {
     "name": "stdout",
     "output_type": "stream",
     "text": [
      "2023 Brazilian Serie A\n",
      "Gathering match links.\n"
     ]
    },
    {
     "name": "stderr",
     "output_type": "stream",
     "text": [
      " 48%|████▊     | 539/1115 [1:57:52<2:18:42, 14.45s/it]"
     ]
    },
    {
     "name": "stdout",
     "output_type": "stream",
     "text": [
      "No Brazilian Serie A 2023 season is available on FBRef.\n",
      "1988 Eredivisie\n",
      "1988 invalid for source FBRef and league Eredivisie. Must be 2001 or later.\n",
      "1988 invalid for source FBRef and league Eredivisie. Must be 2001 or later.\n",
      "1989 Eredivisie\n",
      "1989 invalid for source FBRef and league Eredivisie. Must be 2001 or later.\n",
      "1989 invalid for source FBRef and league Eredivisie. Must be 2001 or later.\n",
      "1990 Eredivisie\n",
      "1990 invalid for source FBRef and league Eredivisie. Must be 2001 or later.\n",
      "1990 invalid for source FBRef and league Eredivisie. Must be 2001 or later.\n",
      "1991 Eredivisie\n",
      "1991 invalid for source FBRef and league Eredivisie. Must be 2001 or later.\n",
      "1991 invalid for source FBRef and league Eredivisie. Must be 2001 or later.\n",
      "1992 Eredivisie\n",
      "1992 invalid for source FBRef and league Eredivisie. Must be 2001 or later.\n",
      "1992 invalid for source FBRef and league Eredivisie. Must be 2001 or later.\n",
      "1993 Eredivisie\n",
      "1993 invalid for source FBRef and league Eredivisie. Must be 2001 or later.\n",
      "1993 invalid for source FBRef and league Eredivisie. Must be 2001 or later.\n",
      "1994 Eredivisie\n",
      "1994 invalid for source FBRef and league Eredivisie. Must be 2001 or later.\n",
      "1994 invalid for source FBRef and league Eredivisie. Must be 2001 or later.\n",
      "1995 Eredivisie\n",
      "1995 invalid for source FBRef and league Eredivisie. Must be 2001 or later.\n",
      "1995 invalid for source FBRef and league Eredivisie. Must be 2001 or later.\n",
      "1996 Eredivisie\n",
      "1996 invalid for source FBRef and league Eredivisie. Must be 2001 or later.\n",
      "1996 invalid for source FBRef and league Eredivisie. Must be 2001 or later.\n",
      "1997 Eredivisie\n",
      "1997 invalid for source FBRef and league Eredivisie. Must be 2001 or later.\n",
      "1997 invalid for source FBRef and league Eredivisie. Must be 2001 or later.\n",
      "1998 Eredivisie\n",
      "1998 invalid for source FBRef and league Eredivisie. Must be 2001 or later.\n",
      "1998 invalid for source FBRef and league Eredivisie. Must be 2001 or later.\n",
      "1999 Eredivisie\n",
      "1999 invalid for source FBRef and league Eredivisie. Must be 2001 or later.\n",
      "1999 invalid for source FBRef and league Eredivisie. Must be 2001 or later.\n",
      "2000 Eredivisie\n",
      "2000 invalid for source FBRef and league Eredivisie. Must be 2001 or later.\n",
      "2000 invalid for source FBRef and league Eredivisie. Must be 2001 or later.\n",
      "2001 Eredivisie\n",
      "Gathering match links.\n"
     ]
    },
    {
     "name": "stderr",
     "output_type": "stream",
     "text": [
      " 50%|████▉     | 553/1115 [1:58:14<36:17,  3.87s/it]  "
     ]
    },
    {
     "name": "stdout",
     "output_type": "stream",
     "text": [
      "2002 Eredivisie\n",
      "Gathering match links.\n"
     ]
    },
    {
     "name": "stderr",
     "output_type": "stream",
     "text": [
      " 50%|████▉     | 554/1115 [1:58:35<49:14,  5.27s/it]"
     ]
    },
    {
     "name": "stdout",
     "output_type": "stream",
     "text": [
      "2003 Eredivisie\n",
      "Gathering match links.\n"
     ]
    },
    {
     "name": "stderr",
     "output_type": "stream",
     "text": [
      " 50%|████▉     | 555/1115 [1:58:55<1:02:38,  6.71s/it]"
     ]
    },
    {
     "name": "stdout",
     "output_type": "stream",
     "text": [
      "2004 Eredivisie\n",
      "Gathering match links.\n"
     ]
    },
    {
     "name": "stderr",
     "output_type": "stream",
     "text": [
      " 50%|████▉     | 556/1115 [1:59:16<1:19:05,  8.49s/it]"
     ]
    },
    {
     "name": "stdout",
     "output_type": "stream",
     "text": [
      "2005 Eredivisie\n",
      "Gathering match links.\n"
     ]
    },
    {
     "name": "stderr",
     "output_type": "stream",
     "text": [
      " 50%|████▉     | 557/1115 [1:59:36<1:34:51, 10.20s/it]"
     ]
    },
    {
     "name": "stdout",
     "output_type": "stream",
     "text": [
      "2006 Eredivisie\n",
      "Gathering match links.\n"
     ]
    },
    {
     "name": "stderr",
     "output_type": "stream",
     "text": [
      " 50%|█████     | 558/1115 [1:59:57<1:52:00, 12.07s/it]"
     ]
    },
    {
     "name": "stdout",
     "output_type": "stream",
     "text": [
      "2007 Eredivisie\n",
      "Gathering match links.\n"
     ]
    },
    {
     "name": "stderr",
     "output_type": "stream",
     "text": [
      " 50%|█████     | 559/1115 [2:00:18<2:09:32, 13.98s/it]"
     ]
    },
    {
     "name": "stdout",
     "output_type": "stream",
     "text": [
      "2008 Eredivisie\n",
      "Gathering match links.\n"
     ]
    },
    {
     "name": "stderr",
     "output_type": "stream",
     "text": [
      " 50%|█████     | 560/1115 [2:00:42<2:28:49, 16.09s/it]"
     ]
    },
    {
     "name": "stdout",
     "output_type": "stream",
     "text": [
      "2009 Eredivisie\n",
      "Gathering match links.\n"
     ]
    },
    {
     "name": "stderr",
     "output_type": "stream",
     "text": [
      " 50%|█████     | 561/1115 [2:01:02<2:38:56, 17.21s/it]"
     ]
    },
    {
     "name": "stdout",
     "output_type": "stream",
     "text": [
      "2010 Eredivisie\n",
      "Gathering match links.\n"
     ]
    },
    {
     "name": "stderr",
     "output_type": "stream",
     "text": [
      " 50%|█████     | 562/1115 [2:01:24<2:47:47, 18.20s/it]"
     ]
    },
    {
     "name": "stdout",
     "output_type": "stream",
     "text": [
      "2011 Eredivisie\n",
      "Gathering match links.\n"
     ]
    },
    {
     "name": "stderr",
     "output_type": "stream",
     "text": [
      " 50%|█████     | 563/1115 [2:01:46<2:56:47, 19.22s/it]"
     ]
    },
    {
     "name": "stdout",
     "output_type": "stream",
     "text": [
      "2012 Eredivisie\n",
      "Gathering match links.\n"
     ]
    },
    {
     "name": "stderr",
     "output_type": "stream",
     "text": [
      " 51%|█████     | 564/1115 [2:02:05<2:58:09, 19.40s/it]"
     ]
    },
    {
     "name": "stdout",
     "output_type": "stream",
     "text": [
      "2013 Eredivisie\n",
      "Gathering match links.\n"
     ]
    },
    {
     "name": "stderr",
     "output_type": "stream",
     "text": [
      " 51%|█████     | 565/1115 [2:02:27<3:03:00, 19.96s/it]"
     ]
    },
    {
     "name": "stdout",
     "output_type": "stream",
     "text": [
      "2014 Eredivisie\n",
      "Gathering match links.\n"
     ]
    },
    {
     "name": "stderr",
     "output_type": "stream",
     "text": [
      " 51%|█████     | 566/1115 [2:02:47<3:03:50, 20.09s/it]"
     ]
    },
    {
     "name": "stdout",
     "output_type": "stream",
     "text": [
      "2015 Eredivisie\n",
      "Gathering match links.\n"
     ]
    },
    {
     "name": "stderr",
     "output_type": "stream",
     "text": [
      " 51%|█████     | 567/1115 [2:03:11<3:13:31, 21.19s/it]"
     ]
    },
    {
     "name": "stdout",
     "output_type": "stream",
     "text": [
      "2016 Eredivisie\n",
      "Gathering match links.\n"
     ]
    },
    {
     "name": "stderr",
     "output_type": "stream",
     "text": [
      " 51%|█████     | 568/1115 [2:03:37<3:26:15, 22.62s/it]"
     ]
    },
    {
     "name": "stdout",
     "output_type": "stream",
     "text": [
      "2017 Eredivisie\n",
      "Gathering match links.\n"
     ]
    },
    {
     "name": "stderr",
     "output_type": "stream",
     "text": [
      " 51%|█████     | 569/1115 [2:04:03<3:34:45, 23.60s/it]"
     ]
    },
    {
     "name": "stdout",
     "output_type": "stream",
     "text": [
      "2018 Eredivisie\n",
      "Gathering match links.\n"
     ]
    },
    {
     "name": "stderr",
     "output_type": "stream",
     "text": [
      " 51%|█████     | 570/1115 [2:04:30<3:43:19, 24.59s/it]"
     ]
    },
    {
     "name": "stdout",
     "output_type": "stream",
     "text": [
      "2019 Eredivisie\n",
      "Gathering match links.\n"
     ]
    },
    {
     "name": "stderr",
     "output_type": "stream",
     "text": [
      " 51%|█████     | 571/1115 [2:04:56<3:46:31, 24.98s/it]"
     ]
    },
    {
     "name": "stdout",
     "output_type": "stream",
     "text": [
      "2020 Eredivisie\n",
      "Gathering match links.\n"
     ]
    },
    {
     "name": "stderr",
     "output_type": "stream",
     "text": [
      " 51%|█████▏    | 572/1115 [2:05:16<3:32:26, 23.47s/it]"
     ]
    },
    {
     "name": "stdout",
     "output_type": "stream",
     "text": [
      "2021 Eredivisie\n",
      "Gathering match links.\n"
     ]
    },
    {
     "name": "stderr",
     "output_type": "stream",
     "text": [
      " 51%|█████▏    | 573/1115 [2:05:40<3:33:12, 23.60s/it]"
     ]
    },
    {
     "name": "stdout",
     "output_type": "stream",
     "text": [
      "2022 Eredivisie\n",
      "Gathering match links.\n"
     ]
    },
    {
     "name": "stderr",
     "output_type": "stream",
     "text": [
      " 51%|█████▏    | 574/1115 [2:06:06<3:40:32, 24.46s/it]"
     ]
    },
    {
     "name": "stdout",
     "output_type": "stream",
     "text": [
      "2023 Eredivisie\n",
      "Gathering match links.\n"
     ]
    },
    {
     "name": "stderr",
     "output_type": "stream",
     "text": [
      " 52%|█████▏    | 575/1115 [2:06:29<3:35:03, 23.90s/it]"
     ]
    },
    {
     "name": "stdout",
     "output_type": "stream",
     "text": [
      "1988 Liga MX\n",
      "1988 invalid for source FBRef and league Liga MX. Must be 2004 or later.\n",
      "1988 invalid for source FBRef and league Liga MX. Must be 2004 or later.\n",
      "1989 Liga MX\n",
      "1989 invalid for source FBRef and league Liga MX. Must be 2004 or later.\n",
      "1989 invalid for source FBRef and league Liga MX. Must be 2004 or later.\n",
      "1990 Liga MX\n",
      "1990 invalid for source FBRef and league Liga MX. Must be 2004 or later.\n",
      "1990 invalid for source FBRef and league Liga MX. Must be 2004 or later.\n",
      "1991 Liga MX\n",
      "1991 invalid for source FBRef and league Liga MX. Must be 2004 or later.\n",
      "1991 invalid for source FBRef and league Liga MX. Must be 2004 or later.\n",
      "1992 Liga MX\n",
      "1992 invalid for source FBRef and league Liga MX. Must be 2004 or later.\n",
      "1992 invalid for source FBRef and league Liga MX. Must be 2004 or later.\n",
      "1993 Liga MX\n",
      "1993 invalid for source FBRef and league Liga MX. Must be 2004 or later.\n",
      "1993 invalid for source FBRef and league Liga MX. Must be 2004 or later.\n",
      "1994 Liga MX\n",
      "1994 invalid for source FBRef and league Liga MX. Must be 2004 or later.\n",
      "1994 invalid for source FBRef and league Liga MX. Must be 2004 or later.\n",
      "1995 Liga MX\n",
      "1995 invalid for source FBRef and league Liga MX. Must be 2004 or later.\n",
      "1995 invalid for source FBRef and league Liga MX. Must be 2004 or later.\n",
      "1996 Liga MX\n",
      "1996 invalid for source FBRef and league Liga MX. Must be 2004 or later.\n",
      "1996 invalid for source FBRef and league Liga MX. Must be 2004 or later.\n",
      "1997 Liga MX\n",
      "1997 invalid for source FBRef and league Liga MX. Must be 2004 or later.\n",
      "1997 invalid for source FBRef and league Liga MX. Must be 2004 or later.\n",
      "1998 Liga MX\n",
      "1998 invalid for source FBRef and league Liga MX. Must be 2004 or later.\n",
      "1998 invalid for source FBRef and league Liga MX. Must be 2004 or later.\n",
      "1999 Liga MX\n",
      "1999 invalid for source FBRef and league Liga MX. Must be 2004 or later.\n",
      "1999 invalid for source FBRef and league Liga MX. Must be 2004 or later.\n",
      "2000 Liga MX\n",
      "2000 invalid for source FBRef and league Liga MX. Must be 2004 or later.\n",
      "2000 invalid for source FBRef and league Liga MX. Must be 2004 or later.\n",
      "2001 Liga MX\n",
      "2001 invalid for source FBRef and league Liga MX. Must be 2004 or later.\n",
      "2001 invalid for source FBRef and league Liga MX. Must be 2004 or later.\n",
      "2002 Liga MX\n",
      "2002 invalid for source FBRef and league Liga MX. Must be 2004 or later.\n",
      "2002 invalid for source FBRef and league Liga MX. Must be 2004 or later.\n",
      "2003 Liga MX\n",
      "2003 invalid for source FBRef and league Liga MX. Must be 2004 or later.\n",
      "2003 invalid for source FBRef and league Liga MX. Must be 2004 or later.\n",
      "2004 Liga MX\n",
      "Gathering match links.\n"
     ]
    },
    {
     "name": "stderr",
     "output_type": "stream",
     "text": [
      " 53%|█████▎    | 592/1115 [2:06:47<33:18,  3.82s/it]  "
     ]
    },
    {
     "name": "stdout",
     "output_type": "stream",
     "text": [
      "No match score elements with links found at https://fbref.com/en/comps/31/2003-2004/schedule/2003-2004-Primera-Division-Score-and-Fixtures for Liga MX 2004.\n",
      "2005 Liga MX\n",
      "Gathering match links.\n"
     ]
    },
    {
     "name": "stderr",
     "output_type": "stream",
     "text": [
      " 53%|█████▎    | 593/1115 [2:07:03<40:28,  4.65s/it]"
     ]
    },
    {
     "name": "stdout",
     "output_type": "stream",
     "text": [
      "No match score elements with links found at https://fbref.com/en/comps/31/2004-2005/schedule/2004-2005-Primera-Division-Score-and-Fixtures for Liga MX 2005.\n",
      "2006 Liga MX\n",
      "Gathering match links.\n"
     ]
    },
    {
     "name": "stderr",
     "output_type": "stream",
     "text": [
      " 53%|█████▎    | 594/1115 [2:07:19<49:05,  5.65s/it]"
     ]
    },
    {
     "name": "stdout",
     "output_type": "stream",
     "text": [
      "No match score elements with links found at https://fbref.com/en/comps/31/2005-2006/schedule/2005-2006-Primera-Division-Score-and-Fixtures for Liga MX 2006.\n",
      "2007 Liga MX\n",
      "Gathering match links.\n"
     ]
    },
    {
     "name": "stderr",
     "output_type": "stream",
     "text": [
      " 53%|█████▎    | 595/1115 [2:07:34<59:03,  6.81s/it]"
     ]
    },
    {
     "name": "stdout",
     "output_type": "stream",
     "text": [
      "No match score elements with links found at https://fbref.com/en/comps/31/2006-2007/schedule/2006-2007-Primera-Division-Score-and-Fixtures for Liga MX 2007.\n",
      "2008 Liga MX\n",
      "Gathering match links.\n"
     ]
    },
    {
     "name": "stderr",
     "output_type": "stream",
     "text": [
      " 53%|█████▎    | 596/1115 [2:07:50<1:09:46,  8.07s/it]"
     ]
    },
    {
     "name": "stdout",
     "output_type": "stream",
     "text": [
      "No match score elements with links found at https://fbref.com/en/comps/31/2007-2008/schedule/2007-2008-Primera-Division-Score-and-Fixtures for Liga MX 2008.\n",
      "2009 Liga MX\n",
      "Gathering match links.\n"
     ]
    },
    {
     "name": "stderr",
     "output_type": "stream",
     "text": [
      " 54%|█████▎    | 597/1115 [2:08:06<1:20:43,  9.35s/it]"
     ]
    },
    {
     "name": "stdout",
     "output_type": "stream",
     "text": [
      "No match score elements with links found at https://fbref.com/en/comps/31/2008-2009/schedule/2008-2009-Primera-Division-Score-and-Fixtures for Liga MX 2009.\n",
      "2010 Liga MX\n",
      "Gathering match links.\n"
     ]
    },
    {
     "name": "stderr",
     "output_type": "stream",
     "text": [
      " 54%|█████▎    | 598/1115 [2:08:22<1:31:14, 10.59s/it]"
     ]
    },
    {
     "name": "stdout",
     "output_type": "stream",
     "text": [
      "No match score elements with links found at https://fbref.com/en/comps/31/2009-2010/schedule/2009-2010-Primera-Division-Score-and-Fixtures for Liga MX 2010.\n",
      "2011 Liga MX\n",
      "Gathering match links.\n"
     ]
    },
    {
     "name": "stderr",
     "output_type": "stream",
     "text": [
      " 54%|█████▎    | 599/1115 [2:08:38<1:40:59, 11.74s/it]"
     ]
    },
    {
     "name": "stdout",
     "output_type": "stream",
     "text": [
      "No match score elements with links found at https://fbref.com/en/comps/31/2010-2011/schedule/2010-2011-Primera-Division-Score-and-Fixtures for Liga MX 2011.\n",
      "2012 Liga MX\n",
      "Gathering match links.\n"
     ]
    },
    {
     "name": "stderr",
     "output_type": "stream",
     "text": [
      " 54%|█████▍    | 600/1115 [2:08:54<1:48:51, 12.68s/it]"
     ]
    },
    {
     "name": "stdout",
     "output_type": "stream",
     "text": [
      "No match score elements with links found at https://fbref.com/en/comps/31/2011-2012/schedule/2011-2012-Primera-Division-Score-and-Fixtures for Liga MX 2012.\n",
      "2013 Liga MX\n",
      "Gathering match links.\n"
     ]
    },
    {
     "name": "stderr",
     "output_type": "stream",
     "text": [
      " 54%|█████▍    | 601/1115 [2:09:10<1:55:47, 13.52s/it]"
     ]
    },
    {
     "name": "stdout",
     "output_type": "stream",
     "text": [
      "No match score elements with links found at https://fbref.com/en/comps/31/2012-2013/schedule/2012-2013-Liga-MX-Score-and-Fixtures for Liga MX 2013.\n",
      "2014 Liga MX\n",
      "Gathering match links.\n"
     ]
    },
    {
     "name": "stderr",
     "output_type": "stream",
     "text": [
      " 54%|█████▍    | 602/1115 [2:09:25<2:00:43, 14.12s/it]"
     ]
    },
    {
     "name": "stdout",
     "output_type": "stream",
     "text": [
      "No match score elements with links found at https://fbref.com/en/comps/31/2013-2014/schedule/2013-2014-Liga-MX-Score-and-Fixtures for Liga MX 2014.\n",
      "2015 Liga MX\n",
      "Gathering match links.\n"
     ]
    },
    {
     "name": "stderr",
     "output_type": "stream",
     "text": [
      " 54%|█████▍    | 603/1115 [2:09:52<2:29:46, 17.55s/it]"
     ]
    },
    {
     "name": "stdout",
     "output_type": "stream",
     "text": [
      "2016 Liga MX\n",
      "Gathering match links.\n"
     ]
    },
    {
     "name": "stderr",
     "output_type": "stream",
     "text": [
      " 54%|█████▍    | 604/1115 [2:10:18<2:50:17, 19.99s/it]"
     ]
    },
    {
     "name": "stdout",
     "output_type": "stream",
     "text": [
      "2017 Liga MX\n",
      "Gathering match links.\n"
     ]
    },
    {
     "name": "stderr",
     "output_type": "stream",
     "text": [
      " 54%|█████▍    | 605/1115 [2:10:44<3:04:42, 21.73s/it]"
     ]
    },
    {
     "name": "stdout",
     "output_type": "stream",
     "text": [
      "2018 Liga MX\n",
      "Gathering match links.\n"
     ]
    },
    {
     "name": "stderr",
     "output_type": "stream",
     "text": [
      " 54%|█████▍    | 606/1115 [2:11:10<3:13:51, 22.85s/it]"
     ]
    },
    {
     "name": "stdout",
     "output_type": "stream",
     "text": [
      "2019 Liga MX\n",
      "Gathering match links.\n"
     ]
    },
    {
     "name": "stderr",
     "output_type": "stream",
     "text": [
      " 54%|█████▍    | 607/1115 [2:11:35<3:18:20, 23.43s/it]"
     ]
    },
    {
     "name": "stdout",
     "output_type": "stream",
     "text": [
      "2020 Liga MX\n",
      "Gathering match links.\n"
     ]
    },
    {
     "name": "stderr",
     "output_type": "stream",
     "text": [
      " 55%|█████▍    | 608/1115 [2:12:01<3:25:19, 24.30s/it]"
     ]
    },
    {
     "name": "stdout",
     "output_type": "stream",
     "text": [
      "2021 Liga MX\n",
      "Gathering match links.\n"
     ]
    },
    {
     "name": "stderr",
     "output_type": "stream",
     "text": [
      " 55%|█████▍    | 609/1115 [2:12:28<3:32:00, 25.14s/it]"
     ]
    },
    {
     "name": "stdout",
     "output_type": "stream",
     "text": [
      "2022 Liga MX\n",
      "Gathering match links.\n"
     ]
    },
    {
     "name": "stderr",
     "output_type": "stream",
     "text": [
      " 55%|█████▍    | 610/1115 [2:12:55<3:35:18, 25.58s/it]"
     ]
    },
    {
     "name": "stdout",
     "output_type": "stream",
     "text": [
      "2023 Liga MX\n",
      "Gathering match links.\n"
     ]
    },
    {
     "name": "stderr",
     "output_type": "stream",
     "text": [
      " 55%|█████▍    | 611/1115 [2:13:16<3:23:33, 24.23s/it]"
     ]
    },
    {
     "name": "stdout",
     "output_type": "stream",
     "text": [
      "1988 Primeira Liga\n",
      "1988 invalid for source FBRef and league Primeira Liga. Must be 2001 or later.\n",
      "1988 invalid for source FBRef and league Primeira Liga. Must be 2001 or later.\n",
      "1989 Primeira Liga\n",
      "1989 invalid for source FBRef and league Primeira Liga. Must be 2001 or later.\n",
      "1989 invalid for source FBRef and league Primeira Liga. Must be 2001 or later.\n",
      "1990 Primeira Liga\n",
      "1990 invalid for source FBRef and league Primeira Liga. Must be 2001 or later.\n",
      "1990 invalid for source FBRef and league Primeira Liga. Must be 2001 or later.\n",
      "1991 Primeira Liga\n",
      "1991 invalid for source FBRef and league Primeira Liga. Must be 2001 or later.\n",
      "1991 invalid for source FBRef and league Primeira Liga. Must be 2001 or later.\n",
      "1992 Primeira Liga\n",
      "1992 invalid for source FBRef and league Primeira Liga. Must be 2001 or later.\n",
      "1992 invalid for source FBRef and league Primeira Liga. Must be 2001 or later.\n",
      "1993 Primeira Liga\n",
      "1993 invalid for source FBRef and league Primeira Liga. Must be 2001 or later.\n",
      "1993 invalid for source FBRef and league Primeira Liga. Must be 2001 or later.\n",
      "1994 Primeira Liga\n",
      "1994 invalid for source FBRef and league Primeira Liga. Must be 2001 or later.\n",
      "1994 invalid for source FBRef and league Primeira Liga. Must be 2001 or later.\n",
      "1995 Primeira Liga\n",
      "1995 invalid for source FBRef and league Primeira Liga. Must be 2001 or later.\n",
      "1995 invalid for source FBRef and league Primeira Liga. Must be 2001 or later.\n",
      "1996 Primeira Liga\n",
      "1996 invalid for source FBRef and league Primeira Liga. Must be 2001 or later.\n",
      "1996 invalid for source FBRef and league Primeira Liga. Must be 2001 or later.\n",
      "1997 Primeira Liga\n",
      "1997 invalid for source FBRef and league Primeira Liga. Must be 2001 or later.\n",
      "1997 invalid for source FBRef and league Primeira Liga. Must be 2001 or later.\n",
      "1998 Primeira Liga\n",
      "1998 invalid for source FBRef and league Primeira Liga. Must be 2001 or later.\n",
      "1998 invalid for source FBRef and league Primeira Liga. Must be 2001 or later.\n",
      "1999 Primeira Liga\n",
      "1999 invalid for source FBRef and league Primeira Liga. Must be 2001 or later.\n",
      "1999 invalid for source FBRef and league Primeira Liga. Must be 2001 or later.\n",
      "2000 Primeira Liga\n",
      "2000 invalid for source FBRef and league Primeira Liga. Must be 2001 or later.\n",
      "2000 invalid for source FBRef and league Primeira Liga. Must be 2001 or later.\n",
      "2001 Primeira Liga\n",
      "Gathering match links.\n"
     ]
    },
    {
     "name": "stderr",
     "output_type": "stream",
     "text": [
      " 56%|█████▌    | 625/1115 [2:13:37<38:54,  4.76s/it]  "
     ]
    },
    {
     "name": "stdout",
     "output_type": "stream",
     "text": [
      "2002 Primeira Liga\n",
      "Gathering match links.\n"
     ]
    },
    {
     "name": "stderr",
     "output_type": "stream",
     "text": [
      " 56%|█████▌    | 626/1115 [2:13:57<49:08,  6.03s/it]"
     ]
    },
    {
     "name": "stdout",
     "output_type": "stream",
     "text": [
      "2003 Primeira Liga\n",
      "Gathering match links.\n"
     ]
    },
    {
     "name": "stderr",
     "output_type": "stream",
     "text": [
      " 56%|█████▌    | 627/1115 [2:14:19<1:02:29,  7.68s/it]"
     ]
    },
    {
     "name": "stdout",
     "output_type": "stream",
     "text": [
      "2004 Primeira Liga\n",
      "Gathering match links.\n"
     ]
    },
    {
     "name": "stderr",
     "output_type": "stream",
     "text": [
      " 56%|█████▋    | 628/1115 [2:14:41<1:16:22,  9.41s/it]"
     ]
    },
    {
     "name": "stdout",
     "output_type": "stream",
     "text": [
      "2005 Primeira Liga\n",
      "Gathering match links.\n"
     ]
    },
    {
     "name": "stderr",
     "output_type": "stream",
     "text": [
      " 56%|█████▋    | 629/1115 [2:15:02<1:30:38, 11.19s/it]"
     ]
    },
    {
     "name": "stdout",
     "output_type": "stream",
     "text": [
      "2006 Primeira Liga\n",
      "Gathering match links.\n"
     ]
    },
    {
     "name": "stderr",
     "output_type": "stream",
     "text": [
      " 57%|█████▋    | 630/1115 [2:15:23<1:45:30, 13.05s/it]"
     ]
    },
    {
     "name": "stdout",
     "output_type": "stream",
     "text": [
      "2007 Primeira Liga\n",
      "Gathering match links.\n"
     ]
    },
    {
     "name": "stderr",
     "output_type": "stream",
     "text": [
      " 57%|█████▋    | 631/1115 [2:15:43<1:56:34, 14.45s/it]"
     ]
    },
    {
     "name": "stdout",
     "output_type": "stream",
     "text": [
      "2008 Primeira Liga\n",
      "Gathering match links.\n"
     ]
    },
    {
     "name": "stderr",
     "output_type": "stream",
     "text": [
      " 57%|█████▋    | 632/1115 [2:16:03<2:07:02, 15.78s/it]"
     ]
    },
    {
     "name": "stdout",
     "output_type": "stream",
     "text": [
      "2009 Primeira Liga\n",
      "Gathering match links.\n"
     ]
    },
    {
     "name": "stderr",
     "output_type": "stream",
     "text": [
      " 57%|█████▋    | 633/1115 [2:16:23<2:14:36, 16.76s/it]"
     ]
    },
    {
     "name": "stdout",
     "output_type": "stream",
     "text": [
      "2010 Primeira Liga\n",
      "Gathering match links.\n"
     ]
    },
    {
     "name": "stderr",
     "output_type": "stream",
     "text": [
      " 57%|█████▋    | 634/1115 [2:16:43<2:21:22, 17.64s/it]"
     ]
    },
    {
     "name": "stdout",
     "output_type": "stream",
     "text": [
      "2011 Primeira Liga\n",
      "Gathering match links.\n"
     ]
    },
    {
     "name": "stderr",
     "output_type": "stream",
     "text": [
      " 57%|█████▋    | 635/1115 [2:17:02<2:23:55, 17.99s/it]"
     ]
    },
    {
     "name": "stdout",
     "output_type": "stream",
     "text": [
      "2012 Primeira Liga\n",
      "Gathering match links.\n"
     ]
    },
    {
     "name": "stderr",
     "output_type": "stream",
     "text": [
      " 57%|█████▋    | 636/1115 [2:17:23<2:30:04, 18.80s/it]"
     ]
    },
    {
     "name": "stdout",
     "output_type": "stream",
     "text": [
      "2013 Primeira Liga\n",
      "Gathering match links.\n"
     ]
    },
    {
     "name": "stderr",
     "output_type": "stream",
     "text": [
      " 57%|█████▋    | 637/1115 [2:17:43<2:33:27, 19.26s/it]"
     ]
    },
    {
     "name": "stdout",
     "output_type": "stream",
     "text": [
      "2014 Primeira Liga\n",
      "Gathering match links.\n"
     ]
    },
    {
     "name": "stderr",
     "output_type": "stream",
     "text": [
      " 57%|█████▋    | 638/1115 [2:18:03<2:34:22, 19.42s/it]"
     ]
    },
    {
     "name": "stdout",
     "output_type": "stream",
     "text": [
      "2015 Primeira Liga\n",
      "Gathering match links.\n"
     ]
    },
    {
     "name": "stderr",
     "output_type": "stream",
     "text": [
      " 57%|█████▋    | 639/1115 [2:18:24<2:37:17, 19.83s/it]"
     ]
    },
    {
     "name": "stdout",
     "output_type": "stream",
     "text": [
      "2016 Primeira Liga\n",
      "Gathering match links.\n"
     ]
    },
    {
     "name": "stderr",
     "output_type": "stream",
     "text": [
      " 57%|█████▋    | 640/1115 [2:18:46<2:41:13, 20.36s/it]"
     ]
    },
    {
     "name": "stdout",
     "output_type": "stream",
     "text": [
      "2017 Primeira Liga\n",
      "Gathering match links.\n"
     ]
    },
    {
     "name": "stderr",
     "output_type": "stream",
     "text": [
      " 57%|█████▋    | 641/1115 [2:19:06<2:40:14, 20.28s/it]"
     ]
    },
    {
     "name": "stdout",
     "output_type": "stream",
     "text": [
      "2018 Primeira Liga\n",
      "Gathering match links.\n"
     ]
    },
    {
     "name": "stderr",
     "output_type": "stream",
     "text": [
      " 58%|█████▊    | 642/1115 [2:19:29<2:45:52, 21.04s/it]"
     ]
    },
    {
     "name": "stdout",
     "output_type": "stream",
     "text": [
      "2019 Primeira Liga\n",
      "Gathering match links.\n"
     ]
    },
    {
     "name": "stderr",
     "output_type": "stream",
     "text": [
      " 58%|█████▊    | 643/1115 [2:19:50<2:45:39, 21.06s/it]"
     ]
    },
    {
     "name": "stdout",
     "output_type": "stream",
     "text": [
      "2020 Primeira Liga\n",
      "Gathering match links.\n"
     ]
    },
    {
     "name": "stderr",
     "output_type": "stream",
     "text": [
      " 58%|█████▊    | 644/1115 [2:20:11<2:46:49, 21.25s/it]"
     ]
    },
    {
     "name": "stdout",
     "output_type": "stream",
     "text": [
      "2021 Primeira Liga\n",
      "Gathering match links.\n"
     ]
    },
    {
     "name": "stderr",
     "output_type": "stream",
     "text": [
      " 58%|█████▊    | 645/1115 [2:20:37<2:56:47, 22.57s/it]"
     ]
    },
    {
     "name": "stdout",
     "output_type": "stream",
     "text": [
      "2022 Primeira Liga\n",
      "Gathering match links.\n"
     ]
    },
    {
     "name": "stderr",
     "output_type": "stream",
     "text": [
      " 58%|█████▊    | 646/1115 [2:21:04<3:06:47, 23.90s/it]"
     ]
    },
    {
     "name": "stdout",
     "output_type": "stream",
     "text": [
      "2023 Primeira Liga\n",
      "Gathering match links.\n"
     ]
    },
    {
     "name": "stderr",
     "output_type": "stream",
     "text": [
      " 58%|█████▊    | 647/1115 [2:21:24<2:57:22, 22.74s/it]"
     ]
    },
    {
     "name": "stdout",
     "output_type": "stream",
     "text": [
      "1988 EFL Championship\n",
      "1988 invalid for source FBRef and league EFL Championship. Must be 2002 or later.\n",
      "1988 invalid for source FBRef and league EFL Championship. Must be 2002 or later.\n",
      "1989 EFL Championship\n",
      "1989 invalid for source FBRef and league EFL Championship. Must be 2002 or later.\n",
      "1989 invalid for source FBRef and league EFL Championship. Must be 2002 or later.\n",
      "1990 EFL Championship\n",
      "1990 invalid for source FBRef and league EFL Championship. Must be 2002 or later.\n",
      "1990 invalid for source FBRef and league EFL Championship. Must be 2002 or later.\n",
      "1991 EFL Championship\n",
      "1991 invalid for source FBRef and league EFL Championship. Must be 2002 or later.\n",
      "1991 invalid for source FBRef and league EFL Championship. Must be 2002 or later.\n",
      "1992 EFL Championship\n",
      "1992 invalid for source FBRef and league EFL Championship. Must be 2002 or later.\n",
      "1992 invalid for source FBRef and league EFL Championship. Must be 2002 or later.\n",
      "1993 EFL Championship\n",
      "1993 invalid for source FBRef and league EFL Championship. Must be 2002 or later.\n",
      "1993 invalid for source FBRef and league EFL Championship. Must be 2002 or later.\n",
      "1994 EFL Championship\n",
      "1994 invalid for source FBRef and league EFL Championship. Must be 2002 or later.\n",
      "1994 invalid for source FBRef and league EFL Championship. Must be 2002 or later.\n",
      "1995 EFL Championship\n",
      "1995 invalid for source FBRef and league EFL Championship. Must be 2002 or later.\n",
      "1995 invalid for source FBRef and league EFL Championship. Must be 2002 or later.\n",
      "1996 EFL Championship\n",
      "1996 invalid for source FBRef and league EFL Championship. Must be 2002 or later.\n",
      "1996 invalid for source FBRef and league EFL Championship. Must be 2002 or later.\n",
      "1997 EFL Championship\n",
      "1997 invalid for source FBRef and league EFL Championship. Must be 2002 or later.\n",
      "1997 invalid for source FBRef and league EFL Championship. Must be 2002 or later.\n",
      "1998 EFL Championship\n",
      "1998 invalid for source FBRef and league EFL Championship. Must be 2002 or later.\n",
      "1998 invalid for source FBRef and league EFL Championship. Must be 2002 or later.\n",
      "1999 EFL Championship\n",
      "1999 invalid for source FBRef and league EFL Championship. Must be 2002 or later.\n",
      "1999 invalid for source FBRef and league EFL Championship. Must be 2002 or later.\n",
      "2000 EFL Championship\n",
      "2000 invalid for source FBRef and league EFL Championship. Must be 2002 or later.\n",
      "2000 invalid for source FBRef and league EFL Championship. Must be 2002 or later.\n",
      "2001 EFL Championship\n",
      "2001 invalid for source FBRef and league EFL Championship. Must be 2002 or later.\n",
      "2001 invalid for source FBRef and league EFL Championship. Must be 2002 or later.\n",
      "2002 EFL Championship\n",
      "Gathering match links.\n"
     ]
    },
    {
     "name": "stderr",
     "output_type": "stream",
     "text": [
      " 59%|█████▉    | 662/1115 [2:21:42<31:04,  4.12s/it]  "
     ]
    },
    {
     "name": "stdout",
     "output_type": "stream",
     "text": [
      "No match score elements with links found at https://fbref.com/en/comps/10/2001-2002/schedule/2001-2002-First-Division-Score-and-Fixtures for EFL Championship 2002.\n",
      "2003 EFL Championship\n",
      "Gathering match links.\n"
     ]
    },
    {
     "name": "stderr",
     "output_type": "stream",
     "text": [
      " 59%|█████▉    | 663/1115 [2:21:58<37:49,  5.02s/it]"
     ]
    },
    {
     "name": "stdout",
     "output_type": "stream",
     "text": [
      "No match score elements with links found at https://fbref.com/en/comps/10/2002-2003/schedule/2002-2003-First-Division-Score-and-Fixtures for EFL Championship 2003.\n",
      "2004 EFL Championship\n",
      "Gathering match links.\n"
     ]
    },
    {
     "name": "stderr",
     "output_type": "stream",
     "text": [
      " 60%|█████▉    | 664/1115 [2:22:14<45:48,  6.10s/it]"
     ]
    },
    {
     "name": "stdout",
     "output_type": "stream",
     "text": [
      "No match score elements with links found at https://fbref.com/en/comps/10/2003-2004/schedule/2003-2004-First-Division-Score-and-Fixtures for EFL Championship 2004.\n",
      "2005 EFL Championship\n",
      "Gathering match links.\n"
     ]
    },
    {
     "name": "stderr",
     "output_type": "stream",
     "text": [
      " 60%|█████▉    | 665/1115 [2:22:30<54:41,  7.29s/it]"
     ]
    },
    {
     "name": "stdout",
     "output_type": "stream",
     "text": [
      "No match score elements with links found at https://fbref.com/en/comps/10/2004-2005/schedule/2004-2005-Championship-Score-and-Fixtures for EFL Championship 2005.\n",
      "2006 EFL Championship\n",
      "Gathering match links.\n"
     ]
    },
    {
     "name": "stderr",
     "output_type": "stream",
     "text": [
      " 60%|█████▉    | 666/1115 [2:22:47<1:05:14,  8.72s/it]"
     ]
    },
    {
     "name": "stdout",
     "output_type": "stream",
     "text": [
      "No match score elements with links found at https://fbref.com/en/comps/10/2005-2006/schedule/2005-2006-Championship-Score-and-Fixtures for EFL Championship 2006.\n",
      "2007 EFL Championship\n",
      "Gathering match links.\n"
     ]
    },
    {
     "name": "stderr",
     "output_type": "stream",
     "text": [
      " 60%|█████▉    | 667/1115 [2:23:03<1:14:33,  9.99s/it]"
     ]
    },
    {
     "name": "stdout",
     "output_type": "stream",
     "text": [
      "No match score elements with links found at https://fbref.com/en/comps/10/2006-2007/schedule/2006-2007-Championship-Score-and-Fixtures for EFL Championship 2007.\n",
      "2008 EFL Championship\n",
      "Gathering match links.\n"
     ]
    },
    {
     "name": "stderr",
     "output_type": "stream",
     "text": [
      " 60%|█████▉    | 668/1115 [2:23:19<1:23:18, 11.18s/it]"
     ]
    },
    {
     "name": "stdout",
     "output_type": "stream",
     "text": [
      "No match score elements with links found at https://fbref.com/en/comps/10/2007-2008/schedule/2007-2008-Championship-Score-and-Fixtures for EFL Championship 2008.\n",
      "2009 EFL Championship\n",
      "Gathering match links.\n"
     ]
    },
    {
     "name": "stderr",
     "output_type": "stream",
     "text": [
      " 60%|██████    | 669/1115 [2:23:35<1:30:54, 12.23s/it]"
     ]
    },
    {
     "name": "stdout",
     "output_type": "stream",
     "text": [
      "No match score elements with links found at https://fbref.com/en/comps/10/2008-2009/schedule/2008-2009-Championship-Score-and-Fixtures for EFL Championship 2009.\n",
      "2010 EFL Championship\n",
      "Gathering match links.\n"
     ]
    },
    {
     "name": "stderr",
     "output_type": "stream",
     "text": [
      " 60%|██████    | 670/1115 [2:23:52<1:39:05, 13.36s/it]"
     ]
    },
    {
     "name": "stdout",
     "output_type": "stream",
     "text": [
      "No match score elements with links found at https://fbref.com/en/comps/10/2009-2010/schedule/2009-2010-Championship-Score-and-Fixtures for EFL Championship 2010.\n",
      "2011 EFL Championship\n",
      "Gathering match links.\n"
     ]
    },
    {
     "name": "stderr",
     "output_type": "stream",
     "text": [
      " 60%|██████    | 671/1115 [2:24:07<1:43:41, 14.01s/it]"
     ]
    },
    {
     "name": "stdout",
     "output_type": "stream",
     "text": [
      "No match score elements with links found at https://fbref.com/en/comps/10/2010-2011/schedule/2010-2011-Championship-Score-and-Fixtures for EFL Championship 2011.\n",
      "2012 EFL Championship\n",
      "Gathering match links.\n"
     ]
    },
    {
     "name": "stderr",
     "output_type": "stream",
     "text": [
      " 60%|██████    | 672/1115 [2:24:23<1:47:18, 14.53s/it]"
     ]
    },
    {
     "name": "stdout",
     "output_type": "stream",
     "text": [
      "No match score elements with links found at https://fbref.com/en/comps/10/2011-2012/schedule/2011-2012-Championship-Score-and-Fixtures for EFL Championship 2012.\n",
      "2013 EFL Championship\n",
      "Gathering match links.\n"
     ]
    },
    {
     "name": "stderr",
     "output_type": "stream",
     "text": [
      " 60%|██████    | 673/1115 [2:24:42<1:54:16, 15.51s/it]"
     ]
    },
    {
     "name": "stdout",
     "output_type": "stream",
     "text": [
      "No match score elements with links found at https://fbref.com/en/comps/10/2012-2013/schedule/2012-2013-Championship-Score-and-Fixtures for EFL Championship 2013.\n",
      "2014 EFL Championship\n",
      "Gathering match links.\n"
     ]
    },
    {
     "name": "stderr",
     "output_type": "stream",
     "text": [
      " 60%|██████    | 674/1115 [2:24:57<1:54:58, 15.64s/it]"
     ]
    },
    {
     "name": "stdout",
     "output_type": "stream",
     "text": [
      "No match score elements with links found at https://fbref.com/en/comps/10/2013-2014/schedule/2013-2014-Championship-Score-and-Fixtures for EFL Championship 2014.\n",
      "2015 EFL Championship\n",
      "Gathering match links.\n"
     ]
    },
    {
     "name": "stderr",
     "output_type": "stream",
     "text": [
      " 61%|██████    | 675/1115 [2:25:28<2:25:42, 19.87s/it]"
     ]
    },
    {
     "name": "stdout",
     "output_type": "stream",
     "text": [
      "2016 EFL Championship\n",
      "Gathering match links.\n"
     ]
    },
    {
     "name": "stderr",
     "output_type": "stream",
     "text": [
      " 61%|██████    | 676/1115 [2:25:58<2:46:24, 22.74s/it]"
     ]
    },
    {
     "name": "stdout",
     "output_type": "stream",
     "text": [
      "2017 EFL Championship\n",
      "Gathering match links.\n"
     ]
    },
    {
     "name": "stderr",
     "output_type": "stream",
     "text": [
      " 61%|██████    | 677/1115 [2:26:33<3:14:11, 26.60s/it]"
     ]
    },
    {
     "name": "stdout",
     "output_type": "stream",
     "text": [
      "2018 EFL Championship\n",
      "Gathering match links.\n"
     ]
    },
    {
     "name": "stderr",
     "output_type": "stream",
     "text": [
      " 61%|██████    | 678/1115 [2:27:04<3:22:38, 27.82s/it]"
     ]
    },
    {
     "name": "stdout",
     "output_type": "stream",
     "text": [
      "2019 EFL Championship\n",
      "Gathering match links.\n"
     ]
    },
    {
     "name": "stderr",
     "output_type": "stream",
     "text": [
      " 61%|██████    | 679/1115 [2:27:38<3:35:03, 29.60s/it]"
     ]
    },
    {
     "name": "stdout",
     "output_type": "stream",
     "text": [
      "2020 EFL Championship\n",
      "Gathering match links.\n"
     ]
    },
    {
     "name": "stderr",
     "output_type": "stream",
     "text": [
      " 61%|██████    | 680/1115 [2:28:08<3:35:05, 29.67s/it]"
     ]
    },
    {
     "name": "stdout",
     "output_type": "stream",
     "text": [
      "2021 EFL Championship\n",
      "Gathering match links.\n"
     ]
    },
    {
     "name": "stderr",
     "output_type": "stream",
     "text": [
      " 61%|██████    | 681/1115 [2:28:40<3:40:53, 30.54s/it]"
     ]
    },
    {
     "name": "stdout",
     "output_type": "stream",
     "text": [
      "2022 EFL Championship\n",
      "Gathering match links.\n"
     ]
    },
    {
     "name": "stderr",
     "output_type": "stream",
     "text": [
      " 61%|██████    | 682/1115 [2:29:13<3:44:24, 31.10s/it]"
     ]
    },
    {
     "name": "stdout",
     "output_type": "stream",
     "text": [
      "2023 EFL Championship\n",
      "Gathering match links.\n"
     ]
    },
    {
     "name": "stderr",
     "output_type": "stream",
     "text": [
      " 61%|██████▏   | 683/1115 [2:29:37<3:28:20, 28.94s/it]"
     ]
    },
    {
     "name": "stdout",
     "output_type": "stream",
     "text": [
      "1988 Women Champions League\n",
      "1988 invalid for source FBRef and league Women Champions League. Must be 2015 or later.\n",
      "1988 invalid for source FBRef and league Women Champions League. Must be 2015 or later.\n",
      "1989 Women Champions League\n",
      "1989 invalid for source FBRef and league Women Champions League. Must be 2015 or later.\n",
      "1989 invalid for source FBRef and league Women Champions League. Must be 2015 or later.\n",
      "1990 Women Champions League\n",
      "1990 invalid for source FBRef and league Women Champions League. Must be 2015 or later.\n",
      "1990 invalid for source FBRef and league Women Champions League. Must be 2015 or later.\n",
      "1991 Women Champions League\n",
      "1991 invalid for source FBRef and league Women Champions League. Must be 2015 or later.\n",
      "1991 invalid for source FBRef and league Women Champions League. Must be 2015 or later.\n",
      "1992 Women Champions League\n",
      "1992 invalid for source FBRef and league Women Champions League. Must be 2015 or later.\n",
      "1992 invalid for source FBRef and league Women Champions League. Must be 2015 or later.\n",
      "1993 Women Champions League\n",
      "1993 invalid for source FBRef and league Women Champions League. Must be 2015 or later.\n",
      "1993 invalid for source FBRef and league Women Champions League. Must be 2015 or later.\n",
      "1994 Women Champions League\n",
      "1994 invalid for source FBRef and league Women Champions League. Must be 2015 or later.\n",
      "1994 invalid for source FBRef and league Women Champions League. Must be 2015 or later.\n",
      "1995 Women Champions League\n",
      "1995 invalid for source FBRef and league Women Champions League. Must be 2015 or later.\n",
      "1995 invalid for source FBRef and league Women Champions League. Must be 2015 or later.\n",
      "1996 Women Champions League\n",
      "1996 invalid for source FBRef and league Women Champions League. Must be 2015 or later.\n",
      "1996 invalid for source FBRef and league Women Champions League. Must be 2015 or later.\n",
      "1997 Women Champions League\n",
      "1997 invalid for source FBRef and league Women Champions League. Must be 2015 or later.\n",
      "1997 invalid for source FBRef and league Women Champions League. Must be 2015 or later.\n",
      "1998 Women Champions League\n",
      "1998 invalid for source FBRef and league Women Champions League. Must be 2015 or later.\n",
      "1998 invalid for source FBRef and league Women Champions League. Must be 2015 or later.\n",
      "1999 Women Champions League\n",
      "1999 invalid for source FBRef and league Women Champions League. Must be 2015 or later.\n",
      "1999 invalid for source FBRef and league Women Champions League. Must be 2015 or later.\n",
      "2000 Women Champions League\n",
      "2000 invalid for source FBRef and league Women Champions League. Must be 2015 or later.\n",
      "2000 invalid for source FBRef and league Women Champions League. Must be 2015 or later.\n",
      "2001 Women Champions League\n",
      "2001 invalid for source FBRef and league Women Champions League. Must be 2015 or later.\n",
      "2001 invalid for source FBRef and league Women Champions League. Must be 2015 or later.\n",
      "2002 Women Champions League\n",
      "2002 invalid for source FBRef and league Women Champions League. Must be 2015 or later.\n",
      "2002 invalid for source FBRef and league Women Champions League. Must be 2015 or later.\n",
      "2003 Women Champions League\n",
      "2003 invalid for source FBRef and league Women Champions League. Must be 2015 or later.\n",
      "2003 invalid for source FBRef and league Women Champions League. Must be 2015 or later.\n",
      "2004 Women Champions League\n",
      "2004 invalid for source FBRef and league Women Champions League. Must be 2015 or later.\n",
      "2004 invalid for source FBRef and league Women Champions League. Must be 2015 or later.\n",
      "2005 Women Champions League\n",
      "2005 invalid for source FBRef and league Women Champions League. Must be 2015 or later.\n",
      "2005 invalid for source FBRef and league Women Champions League. Must be 2015 or later.\n",
      "2006 Women Champions League\n",
      "2006 invalid for source FBRef and league Women Champions League. Must be 2015 or later.\n",
      "2006 invalid for source FBRef and league Women Champions League. Must be 2015 or later.\n",
      "2007 Women Champions League\n",
      "2007 invalid for source FBRef and league Women Champions League. Must be 2015 or later.\n",
      "2007 invalid for source FBRef and league Women Champions League. Must be 2015 or later.\n",
      "2008 Women Champions League\n",
      "2008 invalid for source FBRef and league Women Champions League. Must be 2015 or later.\n",
      "2008 invalid for source FBRef and league Women Champions League. Must be 2015 or later.\n",
      "2009 Women Champions League\n",
      "2009 invalid for source FBRef and league Women Champions League. Must be 2015 or later.\n",
      "2009 invalid for source FBRef and league Women Champions League. Must be 2015 or later.\n",
      "2010 Women Champions League\n",
      "2010 invalid for source FBRef and league Women Champions League. Must be 2015 or later.\n",
      "2010 invalid for source FBRef and league Women Champions League. Must be 2015 or later.\n",
      "2011 Women Champions League\n",
      "2011 invalid for source FBRef and league Women Champions League. Must be 2015 or later.\n",
      "2011 invalid for source FBRef and league Women Champions League. Must be 2015 or later.\n",
      "2012 Women Champions League\n",
      "2012 invalid for source FBRef and league Women Champions League. Must be 2015 or later.\n",
      "2012 invalid for source FBRef and league Women Champions League. Must be 2015 or later.\n",
      "2013 Women Champions League\n",
      "2013 invalid for source FBRef and league Women Champions League. Must be 2015 or later.\n",
      "2013 invalid for source FBRef and league Women Champions League. Must be 2015 or later.\n",
      "2014 Women Champions League\n",
      "2014 invalid for source FBRef and league Women Champions League. Must be 2015 or later.\n",
      "2014 invalid for source FBRef and league Women Champions League. Must be 2015 or later.\n",
      "2015 Women Champions League\n",
      "Gathering match links.\n"
     ]
    },
    {
     "name": "stderr",
     "output_type": "stream",
     "text": [
      " 64%|██████▍   | 711/1115 [2:29:58<19:40,  2.92s/it]  "
     ]
    },
    {
     "name": "stdout",
     "output_type": "stream",
     "text": [
      "2016 Women Champions League\n",
      "Gathering match links.\n"
     ]
    },
    {
     "name": "stderr",
     "output_type": "stream",
     "text": [
      " 64%|██████▍   | 712/1115 [2:30:18<24:47,  3.69s/it]"
     ]
    },
    {
     "name": "stdout",
     "output_type": "stream",
     "text": [
      "2017 Women Champions League\n",
      "Gathering match links.\n"
     ]
    },
    {
     "name": "stderr",
     "output_type": "stream",
     "text": [
      " 64%|██████▍   | 713/1115 [2:30:37<30:59,  4.63s/it]"
     ]
    },
    {
     "name": "stdout",
     "output_type": "stream",
     "text": [
      "2018 Women Champions League\n",
      "Gathering match links.\n"
     ]
    },
    {
     "name": "stderr",
     "output_type": "stream",
     "text": [
      " 64%|██████▍   | 714/1115 [2:30:56<38:43,  5.79s/it]"
     ]
    },
    {
     "name": "stdout",
     "output_type": "stream",
     "text": [
      "2019 Women Champions League\n",
      "Gathering match links.\n"
     ]
    },
    {
     "name": "stderr",
     "output_type": "stream",
     "text": [
      " 64%|██████▍   | 715/1115 [2:31:15<47:47,  7.17s/it]"
     ]
    },
    {
     "name": "stdout",
     "output_type": "stream",
     "text": [
      "2020 Women Champions League\n",
      "Gathering match links.\n"
     ]
    },
    {
     "name": "stderr",
     "output_type": "stream",
     "text": [
      " 64%|██████▍   | 716/1115 [2:31:35<58:10,  8.75s/it]"
     ]
    },
    {
     "name": "stdout",
     "output_type": "stream",
     "text": [
      "2021 Women Champions League\n",
      "Gathering match links.\n"
     ]
    },
    {
     "name": "stderr",
     "output_type": "stream",
     "text": [
      " 64%|██████▍   | 717/1115 [2:31:55<1:09:09, 10.43s/it]"
     ]
    },
    {
     "name": "stdout",
     "output_type": "stream",
     "text": [
      "2022 Women Champions League\n",
      "Gathering match links.\n"
     ]
    },
    {
     "name": "stderr",
     "output_type": "stream",
     "text": [
      " 64%|██████▍   | 718/1115 [2:32:15<1:20:48, 12.21s/it]"
     ]
    },
    {
     "name": "stdout",
     "output_type": "stream",
     "text": [
      "2023 Women Champions League\n",
      "Gathering match links.\n"
     ]
    },
    {
     "name": "stderr",
     "output_type": "stream",
     "text": [
      " 64%|██████▍   | 719/1115 [2:32:34<1:29:27, 13.55s/it]"
     ]
    },
    {
     "name": "stdout",
     "output_type": "stream",
     "text": [
      "1988 Womens World Cup\n",
      "1988 invalid for source FBRef and league Womens World Cup. Must be 1991 or later.\n",
      "1988 invalid for source FBRef and league Womens World Cup. Must be 1991 or later.\n",
      "1989 Womens World Cup\n",
      "1989 invalid for source FBRef and league Womens World Cup. Must be 1991 or later.\n",
      "1989 invalid for source FBRef and league Womens World Cup. Must be 1991 or later.\n",
      "1990 Womens World Cup\n",
      "1990 invalid for source FBRef and league Womens World Cup. Must be 1991 or later.\n",
      "1990 invalid for source FBRef and league Womens World Cup. Must be 1991 or later.\n",
      "1991 Womens World Cup\n",
      "Gathering match links.\n"
     ]
    },
    {
     "name": "stderr",
     "output_type": "stream",
     "text": [
      " 65%|██████▍   | 723/1115 [2:32:51<55:33,  8.50s/it]  "
     ]
    },
    {
     "name": "stdout",
     "output_type": "stream",
     "text": [
      "1992 Womens World Cup\n",
      "Gathering match links.\n"
     ]
    },
    {
     "name": "stderr",
     "output_type": "stream",
     "text": [
      " 65%|██████▍   | 724/1115 [2:33:01<57:39,  8.85s/it]"
     ]
    },
    {
     "name": "stdout",
     "output_type": "stream",
     "text": [
      "No Womens World Cup 1992 season is available on FBRef.\n",
      "1993 Womens World Cup\n",
      "Gathering match links.\n"
     ]
    },
    {
     "name": "stderr",
     "output_type": "stream",
     "text": [
      " 65%|██████▌   | 725/1115 [2:33:12<59:27,  9.15s/it]"
     ]
    },
    {
     "name": "stdout",
     "output_type": "stream",
     "text": [
      "No Womens World Cup 1993 season is available on FBRef.\n",
      "1994 Womens World Cup\n",
      "Gathering match links.\n"
     ]
    },
    {
     "name": "stderr",
     "output_type": "stream",
     "text": [
      " 65%|██████▌   | 726/1115 [2:33:22<1:01:01,  9.41s/it]"
     ]
    },
    {
     "name": "stdout",
     "output_type": "stream",
     "text": [
      "No Womens World Cup 1994 season is available on FBRef.\n",
      "1995 Womens World Cup\n",
      "Gathering match links.\n"
     ]
    },
    {
     "name": "stderr",
     "output_type": "stream",
     "text": [
      " 65%|██████▌   | 727/1115 [2:33:39<1:12:13, 11.17s/it]"
     ]
    },
    {
     "name": "stdout",
     "output_type": "stream",
     "text": [
      "1996 Womens World Cup\n",
      "Gathering match links.\n"
     ]
    },
    {
     "name": "stderr",
     "output_type": "stream",
     "text": [
      " 65%|██████▌   | 728/1115 [2:33:49<1:10:47, 10.97s/it]"
     ]
    },
    {
     "name": "stdout",
     "output_type": "stream",
     "text": [
      "No Womens World Cup 1996 season is available on FBRef.\n",
      "1997 Womens World Cup\n",
      "Gathering match links.\n"
     ]
    },
    {
     "name": "stderr",
     "output_type": "stream",
     "text": [
      " 65%|██████▌   | 729/1115 [2:34:00<1:09:37, 10.82s/it]"
     ]
    },
    {
     "name": "stdout",
     "output_type": "stream",
     "text": [
      "No Womens World Cup 1997 season is available on FBRef.\n",
      "1998 Womens World Cup\n",
      "Gathering match links.\n"
     ]
    },
    {
     "name": "stderr",
     "output_type": "stream",
     "text": [
      " 65%|██████▌   | 730/1115 [2:34:10<1:08:43, 10.71s/it]"
     ]
    },
    {
     "name": "stdout",
     "output_type": "stream",
     "text": [
      "No Womens World Cup 1998 season is available on FBRef.\n",
      "1999 Womens World Cup\n",
      "Gathering match links.\n"
     ]
    },
    {
     "name": "stderr",
     "output_type": "stream",
     "text": [
      " 66%|██████▌   | 731/1115 [2:34:27<1:19:51, 12.48s/it]"
     ]
    },
    {
     "name": "stdout",
     "output_type": "stream",
     "text": [
      "2000 Womens World Cup\n",
      "Gathering match links.\n"
     ]
    },
    {
     "name": "stderr",
     "output_type": "stream",
     "text": [
      " 66%|██████▌   | 732/1115 [2:34:38<1:15:53, 11.89s/it]"
     ]
    },
    {
     "name": "stdout",
     "output_type": "stream",
     "text": [
      "No Womens World Cup 2000 season is available on FBRef.\n",
      "2001 Womens World Cup\n",
      "Gathering match links.\n"
     ]
    },
    {
     "name": "stderr",
     "output_type": "stream",
     "text": [
      " 66%|██████▌   | 733/1115 [2:34:48<1:12:58, 11.46s/it]"
     ]
    },
    {
     "name": "stdout",
     "output_type": "stream",
     "text": [
      "No Womens World Cup 2001 season is available on FBRef.\n",
      "2002 Womens World Cup\n",
      "Gathering match links.\n"
     ]
    },
    {
     "name": "stderr",
     "output_type": "stream",
     "text": [
      " 66%|██████▌   | 734/1115 [2:34:58<1:10:43, 11.14s/it]"
     ]
    },
    {
     "name": "stdout",
     "output_type": "stream",
     "text": [
      "No Womens World Cup 2002 season is available on FBRef.\n",
      "2003 Womens World Cup\n",
      "Gathering match links.\n"
     ]
    },
    {
     "name": "stderr",
     "output_type": "stream",
     "text": [
      " 66%|██████▌   | 735/1115 [2:35:18<1:26:22, 13.64s/it]"
     ]
    },
    {
     "name": "stdout",
     "output_type": "stream",
     "text": [
      "2004 Womens World Cup\n",
      "Gathering match links.\n"
     ]
    },
    {
     "name": "stderr",
     "output_type": "stream",
     "text": [
      " 66%|██████▌   | 736/1115 [2:35:29<1:20:16, 12.71s/it]"
     ]
    },
    {
     "name": "stdout",
     "output_type": "stream",
     "text": [
      "No Womens World Cup 2004 season is available on FBRef.\n",
      "2005 Womens World Cup\n",
      "Gathering match links.\n"
     ]
    },
    {
     "name": "stderr",
     "output_type": "stream",
     "text": [
      " 66%|██████▌   | 737/1115 [2:35:39<1:15:41, 12.01s/it]"
     ]
    },
    {
     "name": "stdout",
     "output_type": "stream",
     "text": [
      "No Womens World Cup 2005 season is available on FBRef.\n",
      "2006 Womens World Cup\n",
      "Gathering match links.\n"
     ]
    },
    {
     "name": "stderr",
     "output_type": "stream",
     "text": [
      " 66%|██████▌   | 738/1115 [2:35:49<1:12:25, 11.53s/it]"
     ]
    },
    {
     "name": "stdout",
     "output_type": "stream",
     "text": [
      "No Womens World Cup 2006 season is available on FBRef.\n",
      "2007 Womens World Cup\n",
      "Gathering match links.\n"
     ]
    },
    {
     "name": "stderr",
     "output_type": "stream",
     "text": [
      " 66%|██████▋   | 739/1115 [2:36:06<1:22:16, 13.13s/it]"
     ]
    },
    {
     "name": "stdout",
     "output_type": "stream",
     "text": [
      "2008 Womens World Cup\n",
      "Gathering match links.\n"
     ]
    },
    {
     "name": "stderr",
     "output_type": "stream",
     "text": [
      " 66%|██████▋   | 740/1115 [2:36:17<1:17:11, 12.35s/it]"
     ]
    },
    {
     "name": "stdout",
     "output_type": "stream",
     "text": [
      "No Womens World Cup 2008 season is available on FBRef.\n",
      "2009 Womens World Cup\n",
      "Gathering match links.\n"
     ]
    },
    {
     "name": "stderr",
     "output_type": "stream",
     "text": [
      " 66%|██████▋   | 741/1115 [2:36:27<1:13:39, 11.82s/it]"
     ]
    },
    {
     "name": "stdout",
     "output_type": "stream",
     "text": [
      "No Womens World Cup 2009 season is available on FBRef.\n",
      "2010 Womens World Cup\n",
      "Gathering match links.\n"
     ]
    },
    {
     "name": "stderr",
     "output_type": "stream",
     "text": [
      " 67%|██████▋   | 742/1115 [2:36:38<1:11:02, 11.43s/it]"
     ]
    },
    {
     "name": "stdout",
     "output_type": "stream",
     "text": [
      "No Womens World Cup 2010 season is available on FBRef.\n",
      "2011 Womens World Cup\n",
      "Gathering match links.\n"
     ]
    },
    {
     "name": "stderr",
     "output_type": "stream",
     "text": [
      " 67%|██████▋   | 743/1115 [2:36:55<1:21:18, 13.11s/it]"
     ]
    },
    {
     "name": "stdout",
     "output_type": "stream",
     "text": [
      "2012 Womens World Cup\n",
      "Gathering match links.\n"
     ]
    },
    {
     "name": "stderr",
     "output_type": "stream",
     "text": [
      " 67%|██████▋   | 744/1115 [2:37:05<1:16:09, 12.32s/it]"
     ]
    },
    {
     "name": "stdout",
     "output_type": "stream",
     "text": [
      "No Womens World Cup 2012 season is available on FBRef.\n",
      "2013 Womens World Cup\n",
      "Gathering match links.\n"
     ]
    },
    {
     "name": "stderr",
     "output_type": "stream",
     "text": [
      " 67%|██████▋   | 745/1115 [2:37:16<1:12:29, 11.75s/it]"
     ]
    },
    {
     "name": "stdout",
     "output_type": "stream",
     "text": [
      "No Womens World Cup 2013 season is available on FBRef.\n",
      "2014 Womens World Cup\n",
      "Gathering match links.\n"
     ]
    },
    {
     "name": "stderr",
     "output_type": "stream",
     "text": [
      " 67%|██████▋   | 746/1115 [2:37:26<1:09:56, 11.37s/it]"
     ]
    },
    {
     "name": "stdout",
     "output_type": "stream",
     "text": [
      "No Womens World Cup 2014 season is available on FBRef.\n",
      "2015 Womens World Cup\n",
      "Gathering match links.\n"
     ]
    },
    {
     "name": "stderr",
     "output_type": "stream",
     "text": [
      " 67%|██████▋   | 747/1115 [2:37:44<1:21:06, 13.22s/it]"
     ]
    },
    {
     "name": "stdout",
     "output_type": "stream",
     "text": [
      "2016 Womens World Cup\n",
      "Gathering match links.\n"
     ]
    },
    {
     "name": "stderr",
     "output_type": "stream",
     "text": [
      " 67%|██████▋   | 748/1115 [2:37:54<1:15:37, 12.36s/it]"
     ]
    },
    {
     "name": "stdout",
     "output_type": "stream",
     "text": [
      "No Womens World Cup 2016 season is available on FBRef.\n",
      "2017 Womens World Cup\n",
      "Gathering match links.\n"
     ]
    },
    {
     "name": "stderr",
     "output_type": "stream",
     "text": [
      " 67%|██████▋   | 749/1115 [2:38:04<1:11:46, 11.77s/it]"
     ]
    },
    {
     "name": "stdout",
     "output_type": "stream",
     "text": [
      "No Womens World Cup 2017 season is available on FBRef.\n",
      "2018 Womens World Cup\n",
      "Gathering match links.\n"
     ]
    },
    {
     "name": "stderr",
     "output_type": "stream",
     "text": [
      " 67%|██████▋   | 750/1115 [2:38:15<1:09:24, 11.41s/it]"
     ]
    },
    {
     "name": "stdout",
     "output_type": "stream",
     "text": [
      "No Womens World Cup 2018 season is available on FBRef.\n",
      "2019 Womens World Cup\n",
      "Gathering match links.\n"
     ]
    },
    {
     "name": "stderr",
     "output_type": "stream",
     "text": [
      " 67%|██████▋   | 751/1115 [2:38:35<1:24:57, 14.00s/it]"
     ]
    },
    {
     "name": "stdout",
     "output_type": "stream",
     "text": [
      "2020 Womens World Cup\n",
      "Gathering match links.\n"
     ]
    },
    {
     "name": "stderr",
     "output_type": "stream",
     "text": [
      " 67%|██████▋   | 752/1115 [2:38:46<1:18:10, 12.92s/it]"
     ]
    },
    {
     "name": "stdout",
     "output_type": "stream",
     "text": [
      "No Womens World Cup 2020 season is available on FBRef.\n",
      "2021 Womens World Cup\n",
      "Gathering match links.\n"
     ]
    },
    {
     "name": "stderr",
     "output_type": "stream",
     "text": [
      " 68%|██████▊   | 753/1115 [2:38:56<1:13:24, 12.17s/it]"
     ]
    },
    {
     "name": "stdout",
     "output_type": "stream",
     "text": [
      "No Womens World Cup 2021 season is available on FBRef.\n",
      "2022 Womens World Cup\n",
      "Gathering match links.\n"
     ]
    },
    {
     "name": "stderr",
     "output_type": "stream",
     "text": [
      " 68%|██████▊   | 754/1115 [2:39:06<1:09:59, 11.63s/it]"
     ]
    },
    {
     "name": "stdout",
     "output_type": "stream",
     "text": [
      "No Womens World Cup 2022 season is available on FBRef.\n",
      "2023 Womens World Cup\n",
      "Gathering match links.\n"
     ]
    },
    {
     "name": "stderr",
     "output_type": "stream",
     "text": [
      " 68%|██████▊   | 755/1115 [2:39:17<1:07:44, 11.29s/it]"
     ]
    },
    {
     "name": "stdout",
     "output_type": "stream",
     "text": [
      "No Womens World Cup 2023 season is available on FBRef.\n",
      "1988 Womens Euros\n",
      "1988 invalid for source FBRef and league Womens Euros. Must be 2001 or later.\n",
      "1988 invalid for source FBRef and league Womens Euros. Must be 2001 or later.\n",
      "1989 Womens Euros\n",
      "1989 invalid for source FBRef and league Womens Euros. Must be 2001 or later.\n",
      "1989 invalid for source FBRef and league Womens Euros. Must be 2001 or later.\n",
      "1990 Womens Euros\n",
      "1990 invalid for source FBRef and league Womens Euros. Must be 2001 or later.\n",
      "1990 invalid for source FBRef and league Womens Euros. Must be 2001 or later.\n",
      "1991 Womens Euros\n",
      "1991 invalid for source FBRef and league Womens Euros. Must be 2001 or later.\n",
      "1991 invalid for source FBRef and league Womens Euros. Must be 2001 or later.\n",
      "1992 Womens Euros\n",
      "1992 invalid for source FBRef and league Womens Euros. Must be 2001 or later.\n",
      "1992 invalid for source FBRef and league Womens Euros. Must be 2001 or later.\n",
      "1993 Womens Euros\n",
      "1993 invalid for source FBRef and league Womens Euros. Must be 2001 or later.\n",
      "1993 invalid for source FBRef and league Womens Euros. Must be 2001 or later.\n",
      "1994 Womens Euros\n",
      "1994 invalid for source FBRef and league Womens Euros. Must be 2001 or later.\n",
      "1994 invalid for source FBRef and league Womens Euros. Must be 2001 or later.\n",
      "1995 Womens Euros\n",
      "1995 invalid for source FBRef and league Womens Euros. Must be 2001 or later.\n",
      "1995 invalid for source FBRef and league Womens Euros. Must be 2001 or later.\n",
      "1996 Womens Euros\n",
      "1996 invalid for source FBRef and league Womens Euros. Must be 2001 or later.\n",
      "1996 invalid for source FBRef and league Womens Euros. Must be 2001 or later.\n",
      "1997 Womens Euros\n",
      "1997 invalid for source FBRef and league Womens Euros. Must be 2001 or later.\n",
      "1997 invalid for source FBRef and league Womens Euros. Must be 2001 or later.\n",
      "1998 Womens Euros\n",
      "1998 invalid for source FBRef and league Womens Euros. Must be 2001 or later.\n",
      "1998 invalid for source FBRef and league Womens Euros. Must be 2001 or later.\n",
      "1999 Womens Euros\n",
      "1999 invalid for source FBRef and league Womens Euros. Must be 2001 or later.\n",
      "1999 invalid for source FBRef and league Womens Euros. Must be 2001 or later.\n",
      "2000 Womens Euros\n",
      "2000 invalid for source FBRef and league Womens Euros. Must be 2001 or later.\n",
      "2000 invalid for source FBRef and league Womens Euros. Must be 2001 or later.\n",
      "2001 Womens Euros\n",
      "Gathering match links.\n"
     ]
    },
    {
     "name": "stderr",
     "output_type": "stream",
     "text": [
      " 69%|██████▉   | 769/1115 [2:39:34<15:24,  2.67s/it]  "
     ]
    },
    {
     "name": "stdout",
     "output_type": "stream",
     "text": [
      "2002 Womens Euros\n",
      "Gathering match links.\n"
     ]
    },
    {
     "name": "stderr",
     "output_type": "stream",
     "text": [
      " 69%|██████▉   | 770/1115 [2:39:45<18:57,  3.30s/it]"
     ]
    },
    {
     "name": "stdout",
     "output_type": "stream",
     "text": [
      "No Womens Euros 2002 season is available on FBRef.\n",
      "2003 Womens Euros\n",
      "Gathering match links.\n"
     ]
    },
    {
     "name": "stderr",
     "output_type": "stream",
     "text": [
      " 69%|██████▉   | 771/1115 [2:39:55<23:07,  4.03s/it]"
     ]
    },
    {
     "name": "stdout",
     "output_type": "stream",
     "text": [
      "No Womens Euros 2003 season is available on FBRef.\n",
      "2004 Womens Euros\n",
      "Gathering match links.\n"
     ]
    },
    {
     "name": "stderr",
     "output_type": "stream",
     "text": [
      " 69%|██████▉   | 772/1115 [2:40:05<27:44,  4.85s/it]"
     ]
    },
    {
     "name": "stdout",
     "output_type": "stream",
     "text": [
      "No Womens Euros 2004 season is available on FBRef.\n",
      "2005 Womens Euros\n",
      "Gathering match links.\n"
     ]
    },
    {
     "name": "stderr",
     "output_type": "stream",
     "text": [
      " 69%|██████▉   | 773/1115 [2:40:22<38:10,  6.70s/it]"
     ]
    },
    {
     "name": "stdout",
     "output_type": "stream",
     "text": [
      "2006 Womens Euros\n",
      "Gathering match links.\n"
     ]
    },
    {
     "name": "stderr",
     "output_type": "stream",
     "text": [
      " 69%|██████▉   | 774/1115 [2:40:33<41:51,  7.36s/it]"
     ]
    },
    {
     "name": "stdout",
     "output_type": "stream",
     "text": [
      "No Womens Euros 2006 season is available on FBRef.\n",
      "2007 Womens Euros\n",
      "Gathering match links.\n"
     ]
    },
    {
     "name": "stderr",
     "output_type": "stream",
     "text": [
      " 70%|██████▉   | 775/1115 [2:40:43<45:14,  7.98s/it]"
     ]
    },
    {
     "name": "stdout",
     "output_type": "stream",
     "text": [
      "No Womens Euros 2007 season is available on FBRef.\n",
      "2008 Womens Euros\n",
      "Gathering match links.\n"
     ]
    },
    {
     "name": "stderr",
     "output_type": "stream",
     "text": [
      " 70%|██████▉   | 776/1115 [2:40:53<48:11,  8.53s/it]"
     ]
    },
    {
     "name": "stdout",
     "output_type": "stream",
     "text": [
      "No Womens Euros 2008 season is available on FBRef.\n",
      "2009 Womens Euros\n",
      "Gathering match links.\n"
     ]
    },
    {
     "name": "stderr",
     "output_type": "stream",
     "text": [
      " 70%|██████▉   | 777/1115 [2:41:10<59:30, 10.56s/it]"
     ]
    },
    {
     "name": "stdout",
     "output_type": "stream",
     "text": [
      "2010 Womens Euros\n",
      "Gathering match links.\n"
     ]
    },
    {
     "name": "stderr",
     "output_type": "stream",
     "text": [
      " 70%|██████▉   | 778/1115 [2:41:21<59:10, 10.54s/it]"
     ]
    },
    {
     "name": "stdout",
     "output_type": "stream",
     "text": [
      "No Womens Euros 2010 season is available on FBRef.\n",
      "2011 Womens Euros\n",
      "Gathering match links.\n"
     ]
    },
    {
     "name": "stderr",
     "output_type": "stream",
     "text": [
      " 70%|██████▉   | 779/1115 [2:41:31<58:45, 10.49s/it]"
     ]
    },
    {
     "name": "stdout",
     "output_type": "stream",
     "text": [
      "No Womens Euros 2011 season is available on FBRef.\n",
      "2012 Womens Euros\n",
      "Gathering match links.\n"
     ]
    },
    {
     "name": "stderr",
     "output_type": "stream",
     "text": [
      " 70%|██████▉   | 780/1115 [2:41:41<58:22, 10.46s/it]"
     ]
    },
    {
     "name": "stdout",
     "output_type": "stream",
     "text": [
      "No Womens Euros 2012 season is available on FBRef.\n",
      "2013 Womens Euros\n",
      "Gathering match links.\n"
     ]
    },
    {
     "name": "stderr",
     "output_type": "stream",
     "text": [
      " 70%|███████   | 781/1115 [2:41:58<1:08:15, 12.26s/it]"
     ]
    },
    {
     "name": "stdout",
     "output_type": "stream",
     "text": [
      "2014 Womens Euros\n",
      "Gathering match links.\n"
     ]
    },
    {
     "name": "stderr",
     "output_type": "stream",
     "text": [
      " 70%|███████   | 782/1115 [2:42:09<1:05:02, 11.72s/it]"
     ]
    },
    {
     "name": "stdout",
     "output_type": "stream",
     "text": [
      "No Womens Euros 2014 season is available on FBRef.\n",
      "2015 Womens Euros\n",
      "Gathering match links.\n"
     ]
    },
    {
     "name": "stderr",
     "output_type": "stream",
     "text": [
      " 70%|███████   | 783/1115 [2:42:19<1:02:51, 11.36s/it]"
     ]
    },
    {
     "name": "stdout",
     "output_type": "stream",
     "text": [
      "No Womens Euros 2015 season is available on FBRef.\n",
      "2016 Womens Euros\n",
      "Gathering match links.\n"
     ]
    },
    {
     "name": "stderr",
     "output_type": "stream",
     "text": [
      " 70%|███████   | 784/1115 [2:42:29<1:01:01, 11.06s/it]"
     ]
    },
    {
     "name": "stdout",
     "output_type": "stream",
     "text": [
      "No Womens Euros 2016 season is available on FBRef.\n",
      "2017 Womens Euros\n",
      "Gathering match links.\n"
     ]
    },
    {
     "name": "stderr",
     "output_type": "stream",
     "text": [
      " 70%|███████   | 785/1115 [2:42:49<1:15:06, 13.66s/it]"
     ]
    },
    {
     "name": "stdout",
     "output_type": "stream",
     "text": [
      "2018 Womens Euros\n",
      "Gathering match links.\n"
     ]
    },
    {
     "name": "stderr",
     "output_type": "stream",
     "text": [
      " 70%|███████   | 786/1115 [2:43:00<1:09:34, 12.69s/it]"
     ]
    },
    {
     "name": "stdout",
     "output_type": "stream",
     "text": [
      "No Womens Euros 2018 season is available on FBRef.\n",
      "2019 Womens Euros\n",
      "Gathering match links.\n"
     ]
    },
    {
     "name": "stderr",
     "output_type": "stream",
     "text": [
      " 71%|███████   | 787/1115 [2:43:10<1:05:39, 12.01s/it]"
     ]
    },
    {
     "name": "stdout",
     "output_type": "stream",
     "text": [
      "No Womens Euros 2019 season is available on FBRef.\n",
      "2020 Womens Euros\n",
      "Gathering match links.\n"
     ]
    },
    {
     "name": "stderr",
     "output_type": "stream",
     "text": [
      " 71%|███████   | 788/1115 [2:43:20<1:02:56, 11.55s/it]"
     ]
    },
    {
     "name": "stdout",
     "output_type": "stream",
     "text": [
      "No Womens Euros 2020 season is available on FBRef.\n",
      "2021 Womens Euros\n",
      "Gathering match links.\n"
     ]
    },
    {
     "name": "stderr",
     "output_type": "stream",
     "text": [
      " 71%|███████   | 789/1115 [2:43:31<1:00:49, 11.20s/it]"
     ]
    },
    {
     "name": "stdout",
     "output_type": "stream",
     "text": [
      "No Womens Euros 2021 season is available on FBRef.\n",
      "2022 Womens Euros\n",
      "Gathering match links.\n"
     ]
    },
    {
     "name": "stderr",
     "output_type": "stream",
     "text": [
      " 71%|███████   | 790/1115 [2:43:48<1:10:15, 12.97s/it]"
     ]
    },
    {
     "name": "stdout",
     "output_type": "stream",
     "text": [
      "2023 Womens Euros\n",
      "Gathering match links.\n"
     ]
    },
    {
     "name": "stderr",
     "output_type": "stream",
     "text": [
      " 71%|███████   | 791/1115 [2:43:58<1:05:47, 12.18s/it]"
     ]
    },
    {
     "name": "stdout",
     "output_type": "stream",
     "text": [
      "No Womens Euros 2023 season is available on FBRef.\n",
      "1988 NWSL\n",
      "1988 invalid for source FBRef and league NWSL. Must be 2013 or later.\n",
      "1988 invalid for source FBRef and league NWSL. Must be 2013 or later.\n",
      "1989 NWSL\n",
      "1989 invalid for source FBRef and league NWSL. Must be 2013 or later.\n",
      "1989 invalid for source FBRef and league NWSL. Must be 2013 or later.\n",
      "1990 NWSL\n",
      "1990 invalid for source FBRef and league NWSL. Must be 2013 or later.\n",
      "1990 invalid for source FBRef and league NWSL. Must be 2013 or later.\n",
      "1991 NWSL\n",
      "1991 invalid for source FBRef and league NWSL. Must be 2013 or later.\n",
      "1991 invalid for source FBRef and league NWSL. Must be 2013 or later.\n",
      "1992 NWSL\n",
      "1992 invalid for source FBRef and league NWSL. Must be 2013 or later.\n",
      "1992 invalid for source FBRef and league NWSL. Must be 2013 or later.\n",
      "1993 NWSL\n",
      "1993 invalid for source FBRef and league NWSL. Must be 2013 or later.\n",
      "1993 invalid for source FBRef and league NWSL. Must be 2013 or later.\n",
      "1994 NWSL\n",
      "1994 invalid for source FBRef and league NWSL. Must be 2013 or later.\n",
      "1994 invalid for source FBRef and league NWSL. Must be 2013 or later.\n",
      "1995 NWSL\n",
      "1995 invalid for source FBRef and league NWSL. Must be 2013 or later.\n",
      "1995 invalid for source FBRef and league NWSL. Must be 2013 or later.\n",
      "1996 NWSL\n",
      "1996 invalid for source FBRef and league NWSL. Must be 2013 or later.\n",
      "1996 invalid for source FBRef and league NWSL. Must be 2013 or later.\n",
      "1997 NWSL\n",
      "1997 invalid for source FBRef and league NWSL. Must be 2013 or later.\n",
      "1997 invalid for source FBRef and league NWSL. Must be 2013 or later.\n",
      "1998 NWSL\n",
      "1998 invalid for source FBRef and league NWSL. Must be 2013 or later.\n",
      "1998 invalid for source FBRef and league NWSL. Must be 2013 or later.\n",
      "1999 NWSL\n",
      "1999 invalid for source FBRef and league NWSL. Must be 2013 or later.\n",
      "1999 invalid for source FBRef and league NWSL. Must be 2013 or later.\n",
      "2000 NWSL\n",
      "2000 invalid for source FBRef and league NWSL. Must be 2013 or later.\n",
      "2000 invalid for source FBRef and league NWSL. Must be 2013 or later.\n",
      "2001 NWSL\n",
      "2001 invalid for source FBRef and league NWSL. Must be 2013 or later.\n",
      "2001 invalid for source FBRef and league NWSL. Must be 2013 or later.\n",
      "2002 NWSL\n",
      "2002 invalid for source FBRef and league NWSL. Must be 2013 or later.\n",
      "2002 invalid for source FBRef and league NWSL. Must be 2013 or later.\n",
      "2003 NWSL\n",
      "2003 invalid for source FBRef and league NWSL. Must be 2013 or later.\n",
      "2003 invalid for source FBRef and league NWSL. Must be 2013 or later.\n",
      "2004 NWSL\n",
      "2004 invalid for source FBRef and league NWSL. Must be 2013 or later.\n",
      "2004 invalid for source FBRef and league NWSL. Must be 2013 or later.\n",
      "2005 NWSL\n",
      "2005 invalid for source FBRef and league NWSL. Must be 2013 or later.\n",
      "2005 invalid for source FBRef and league NWSL. Must be 2013 or later.\n",
      "2006 NWSL\n",
      "2006 invalid for source FBRef and league NWSL. Must be 2013 or later.\n",
      "2006 invalid for source FBRef and league NWSL. Must be 2013 or later.\n",
      "2007 NWSL\n",
      "2007 invalid for source FBRef and league NWSL. Must be 2013 or later.\n",
      "2007 invalid for source FBRef and league NWSL. Must be 2013 or later.\n",
      "2008 NWSL\n",
      "2008 invalid for source FBRef and league NWSL. Must be 2013 or later.\n",
      "2008 invalid for source FBRef and league NWSL. Must be 2013 or later.\n",
      "2009 NWSL\n",
      "2009 invalid for source FBRef and league NWSL. Must be 2013 or later.\n",
      "2009 invalid for source FBRef and league NWSL. Must be 2013 or later.\n",
      "2010 NWSL\n",
      "2010 invalid for source FBRef and league NWSL. Must be 2013 or later.\n",
      "2010 invalid for source FBRef and league NWSL. Must be 2013 or later.\n",
      "2011 NWSL\n",
      "2011 invalid for source FBRef and league NWSL. Must be 2013 or later.\n",
      "2011 invalid for source FBRef and league NWSL. Must be 2013 or later.\n",
      "2012 NWSL\n",
      "2012 invalid for source FBRef and league NWSL. Must be 2013 or later.\n",
      "2012 invalid for source FBRef and league NWSL. Must be 2013 or later.\n",
      "2013 NWSL\n",
      "Gathering match links.\n"
     ]
    },
    {
     "name": "stderr",
     "output_type": "stream",
     "text": [
      " 73%|███████▎  | 817/1115 [2:44:18<08:30,  1.71s/it]  "
     ]
    },
    {
     "name": "stdout",
     "output_type": "stream",
     "text": [
      "2014 NWSL\n",
      "Gathering match links.\n"
     ]
    },
    {
     "name": "stderr",
     "output_type": "stream",
     "text": [
      " 73%|███████▎  | 818/1115 [2:44:38<12:43,  2.57s/it]"
     ]
    },
    {
     "name": "stdout",
     "output_type": "stream",
     "text": [
      "2015 NWSL\n",
      "Gathering match links.\n"
     ]
    },
    {
     "name": "stderr",
     "output_type": "stream",
     "text": [
      " 73%|███████▎  | 819/1115 [2:44:56<17:43,  3.59s/it]"
     ]
    },
    {
     "name": "stdout",
     "output_type": "stream",
     "text": [
      "2016 NWSL\n",
      "Gathering match links.\n"
     ]
    },
    {
     "name": "stderr",
     "output_type": "stream",
     "text": [
      " 74%|███████▎  | 820/1115 [2:45:15<23:57,  4.87s/it]"
     ]
    },
    {
     "name": "stdout",
     "output_type": "stream",
     "text": [
      "2017 NWSL\n",
      "Gathering match links.\n"
     ]
    },
    {
     "name": "stderr",
     "output_type": "stream",
     "text": [
      " 74%|███████▎  | 821/1115 [2:45:35<31:42,  6.47s/it]"
     ]
    },
    {
     "name": "stdout",
     "output_type": "stream",
     "text": [
      "2018 NWSL\n",
      "Gathering match links.\n"
     ]
    },
    {
     "name": "stderr",
     "output_type": "stream",
     "text": [
      " 74%|███████▎  | 822/1115 [2:45:54<39:43,  8.13s/it]"
     ]
    },
    {
     "name": "stdout",
     "output_type": "stream",
     "text": [
      "2019 NWSL\n",
      "Gathering match links.\n"
     ]
    },
    {
     "name": "stderr",
     "output_type": "stream",
     "text": [
      " 74%|███████▍  | 823/1115 [2:46:13<47:33,  9.77s/it]"
     ]
    },
    {
     "name": "stdout",
     "output_type": "stream",
     "text": [
      "2020 NWSL\n",
      "Gathering match links.\n"
     ]
    },
    {
     "name": "stderr",
     "output_type": "stream",
     "text": [
      " 74%|███████▍  | 824/1115 [2:46:31<55:11, 11.38s/it]"
     ]
    },
    {
     "name": "stdout",
     "output_type": "stream",
     "text": [
      "2021 NWSL\n",
      "Gathering match links.\n"
     ]
    },
    {
     "name": "stderr",
     "output_type": "stream",
     "text": [
      " 74%|███████▍  | 825/1115 [2:46:50<1:02:54, 13.02s/it]"
     ]
    },
    {
     "name": "stdout",
     "output_type": "stream",
     "text": [
      "2022 NWSL\n",
      "Gathering match links.\n"
     ]
    },
    {
     "name": "stderr",
     "output_type": "stream",
     "text": [
      " 74%|███████▍  | 826/1115 [2:47:10<1:10:46, 14.69s/it]"
     ]
    },
    {
     "name": "stdout",
     "output_type": "stream",
     "text": [
      "2023 NWSL\n",
      "Gathering match links.\n"
     ]
    },
    {
     "name": "stderr",
     "output_type": "stream",
     "text": [
      " 74%|███████▍  | 827/1115 [2:47:21<1:05:34, 13.66s/it]"
     ]
    },
    {
     "name": "stdout",
     "output_type": "stream",
     "text": [
      "No NWSL 2023 season is available on FBRef.\n",
      "1988 A-League Women\n",
      "1988 invalid for source FBRef and league A-League Women. Must be 2019 or later.\n",
      "1988 invalid for source FBRef and league A-League Women. Must be 2019 or later.\n",
      "1989 A-League Women\n",
      "1989 invalid for source FBRef and league A-League Women. Must be 2019 or later.\n",
      "1989 invalid for source FBRef and league A-League Women. Must be 2019 or later.\n",
      "1990 A-League Women\n",
      "1990 invalid for source FBRef and league A-League Women. Must be 2019 or later.\n",
      "1990 invalid for source FBRef and league A-League Women. Must be 2019 or later.\n",
      "1991 A-League Women\n",
      "1991 invalid for source FBRef and league A-League Women. Must be 2019 or later.\n",
      "1991 invalid for source FBRef and league A-League Women. Must be 2019 or later.\n",
      "1992 A-League Women\n",
      "1992 invalid for source FBRef and league A-League Women. Must be 2019 or later.\n",
      "1992 invalid for source FBRef and league A-League Women. Must be 2019 or later.\n",
      "1993 A-League Women\n",
      "1993 invalid for source FBRef and league A-League Women. Must be 2019 or later.\n",
      "1993 invalid for source FBRef and league A-League Women. Must be 2019 or later.\n",
      "1994 A-League Women\n",
      "1994 invalid for source FBRef and league A-League Women. Must be 2019 or later.\n",
      "1994 invalid for source FBRef and league A-League Women. Must be 2019 or later.\n",
      "1995 A-League Women\n",
      "1995 invalid for source FBRef and league A-League Women. Must be 2019 or later.\n",
      "1995 invalid for source FBRef and league A-League Women. Must be 2019 or later.\n",
      "1996 A-League Women\n",
      "1996 invalid for source FBRef and league A-League Women. Must be 2019 or later.\n",
      "1996 invalid for source FBRef and league A-League Women. Must be 2019 or later.\n",
      "1997 A-League Women\n",
      "1997 invalid for source FBRef and league A-League Women. Must be 2019 or later.\n",
      "1997 invalid for source FBRef and league A-League Women. Must be 2019 or later.\n",
      "1998 A-League Women\n",
      "1998 invalid for source FBRef and league A-League Women. Must be 2019 or later.\n",
      "1998 invalid for source FBRef and league A-League Women. Must be 2019 or later.\n",
      "1999 A-League Women\n",
      "1999 invalid for source FBRef and league A-League Women. Must be 2019 or later.\n",
      "1999 invalid for source FBRef and league A-League Women. Must be 2019 or later.\n",
      "2000 A-League Women\n",
      "2000 invalid for source FBRef and league A-League Women. Must be 2019 or later.\n",
      "2000 invalid for source FBRef and league A-League Women. Must be 2019 or later.\n",
      "2001 A-League Women\n",
      "2001 invalid for source FBRef and league A-League Women. Must be 2019 or later.\n",
      "2001 invalid for source FBRef and league A-League Women. Must be 2019 or later.\n",
      "2002 A-League Women\n",
      "2002 invalid for source FBRef and league A-League Women. Must be 2019 or later.\n",
      "2002 invalid for source FBRef and league A-League Women. Must be 2019 or later.\n",
      "2003 A-League Women\n",
      "2003 invalid for source FBRef and league A-League Women. Must be 2019 or later.\n",
      "2003 invalid for source FBRef and league A-League Women. Must be 2019 or later.\n",
      "2004 A-League Women\n",
      "2004 invalid for source FBRef and league A-League Women. Must be 2019 or later.\n",
      "2004 invalid for source FBRef and league A-League Women. Must be 2019 or later.\n",
      "2005 A-League Women\n",
      "2005 invalid for source FBRef and league A-League Women. Must be 2019 or later.\n",
      "2005 invalid for source FBRef and league A-League Women. Must be 2019 or later.\n",
      "2006 A-League Women\n",
      "2006 invalid for source FBRef and league A-League Women. Must be 2019 or later.\n",
      "2006 invalid for source FBRef and league A-League Women. Must be 2019 or later.\n",
      "2007 A-League Women\n",
      "2007 invalid for source FBRef and league A-League Women. Must be 2019 or later.\n",
      "2007 invalid for source FBRef and league A-League Women. Must be 2019 or later.\n",
      "2008 A-League Women\n",
      "2008 invalid for source FBRef and league A-League Women. Must be 2019 or later.\n",
      "2008 invalid for source FBRef and league A-League Women. Must be 2019 or later.\n",
      "2009 A-League Women\n",
      "2009 invalid for source FBRef and league A-League Women. Must be 2019 or later.\n",
      "2009 invalid for source FBRef and league A-League Women. Must be 2019 or later.\n",
      "2010 A-League Women\n",
      "2010 invalid for source FBRef and league A-League Women. Must be 2019 or later.\n",
      "2010 invalid for source FBRef and league A-League Women. Must be 2019 or later.\n",
      "2011 A-League Women\n",
      "2011 invalid for source FBRef and league A-League Women. Must be 2019 or later.\n",
      "2011 invalid for source FBRef and league A-League Women. Must be 2019 or later.\n",
      "2012 A-League Women\n",
      "2012 invalid for source FBRef and league A-League Women. Must be 2019 or later.\n",
      "2012 invalid for source FBRef and league A-League Women. Must be 2019 or later.\n",
      "2013 A-League Women\n",
      "2013 invalid for source FBRef and league A-League Women. Must be 2019 or later.\n",
      "2013 invalid for source FBRef and league A-League Women. Must be 2019 or later.\n",
      "2014 A-League Women\n",
      "2014 invalid for source FBRef and league A-League Women. Must be 2019 or later.\n",
      "2014 invalid for source FBRef and league A-League Women. Must be 2019 or later.\n",
      "2015 A-League Women\n",
      "2015 invalid for source FBRef and league A-League Women. Must be 2019 or later.\n",
      "2015 invalid for source FBRef and league A-League Women. Must be 2019 or later.\n",
      "2016 A-League Women\n",
      "2016 invalid for source FBRef and league A-League Women. Must be 2019 or later.\n",
      "2016 invalid for source FBRef and league A-League Women. Must be 2019 or later.\n",
      "2017 A-League Women\n",
      "2017 invalid for source FBRef and league A-League Women. Must be 2019 or later.\n",
      "2017 invalid for source FBRef and league A-League Women. Must be 2019 or later.\n",
      "2018 A-League Women\n",
      "2018 invalid for source FBRef and league A-League Women. Must be 2019 or later.\n",
      "2018 invalid for source FBRef and league A-League Women. Must be 2019 or later.\n",
      "2019 A-League Women\n",
      "Gathering match links.\n"
     ]
    },
    {
     "name": "stderr",
     "output_type": "stream",
     "text": [
      " 77%|███████▋  | 859/1115 [2:47:32<06:04,  1.42s/it]  "
     ]
    },
    {
     "name": "stdout",
     "output_type": "stream",
     "text": [
      "No A-League Women 2019 season is available on FBRef.\n",
      "2020 A-League Women\n",
      "Gathering match links.\n"
     ]
    },
    {
     "name": "stderr",
     "output_type": "stream",
     "text": [
      " 77%|███████▋  | 860/1115 [2:47:42<07:34,  1.78s/it]"
     ]
    },
    {
     "name": "stdout",
     "output_type": "stream",
     "text": [
      "No A-League Women 2020 season is available on FBRef.\n",
      "2021 A-League Women\n",
      "Gathering match links.\n"
     ]
    },
    {
     "name": "stderr",
     "output_type": "stream",
     "text": [
      " 77%|███████▋  | 861/1115 [2:47:53<09:29,  2.24s/it]"
     ]
    },
    {
     "name": "stdout",
     "output_type": "stream",
     "text": [
      "No A-League Women 2021 season is available on FBRef.\n",
      "2022 A-League Women\n",
      "Gathering match links.\n"
     ]
    },
    {
     "name": "stderr",
     "output_type": "stream",
     "text": [
      " 77%|███████▋  | 862/1115 [2:48:11<14:06,  3.35s/it]"
     ]
    },
    {
     "name": "stdout",
     "output_type": "stream",
     "text": [
      "2023 A-League Women\n",
      "Gathering match links.\n"
     ]
    },
    {
     "name": "stderr",
     "output_type": "stream",
     "text": [
      " 77%|███████▋  | 863/1115 [2:48:27<19:12,  4.57s/it]"
     ]
    },
    {
     "name": "stdout",
     "output_type": "stream",
     "text": [
      "No match score elements with links found at https://fbref.com/en/comps/196/schedule/A-League-Women-Score-and-Fixtures for A-League Women 2023.\n",
      "1988 WSL\n",
      "1988 invalid for source FBRef and league WSL. Must be 2017 or later.\n",
      "1988 invalid for source FBRef and league WSL. Must be 2017 or later.\n",
      "1989 WSL\n",
      "1989 invalid for source FBRef and league WSL. Must be 2017 or later.\n",
      "1989 invalid for source FBRef and league WSL. Must be 2017 or later.\n",
      "1990 WSL\n",
      "1990 invalid for source FBRef and league WSL. Must be 2017 or later.\n",
      "1990 invalid for source FBRef and league WSL. Must be 2017 or later.\n",
      "1991 WSL\n",
      "1991 invalid for source FBRef and league WSL. Must be 2017 or later.\n",
      "1991 invalid for source FBRef and league WSL. Must be 2017 or later.\n",
      "1992 WSL\n",
      "1992 invalid for source FBRef and league WSL. Must be 2017 or later.\n",
      "1992 invalid for source FBRef and league WSL. Must be 2017 or later.\n",
      "1993 WSL\n",
      "1993 invalid for source FBRef and league WSL. Must be 2017 or later.\n",
      "1993 invalid for source FBRef and league WSL. Must be 2017 or later.\n",
      "1994 WSL\n",
      "1994 invalid for source FBRef and league WSL. Must be 2017 or later.\n",
      "1994 invalid for source FBRef and league WSL. Must be 2017 or later.\n",
      "1995 WSL\n",
      "1995 invalid for source FBRef and league WSL. Must be 2017 or later.\n",
      "1995 invalid for source FBRef and league WSL. Must be 2017 or later.\n",
      "1996 WSL\n",
      "1996 invalid for source FBRef and league WSL. Must be 2017 or later.\n",
      "1996 invalid for source FBRef and league WSL. Must be 2017 or later.\n",
      "1997 WSL\n",
      "1997 invalid for source FBRef and league WSL. Must be 2017 or later.\n",
      "1997 invalid for source FBRef and league WSL. Must be 2017 or later.\n",
      "1998 WSL\n",
      "1998 invalid for source FBRef and league WSL. Must be 2017 or later.\n",
      "1998 invalid for source FBRef and league WSL. Must be 2017 or later.\n",
      "1999 WSL\n",
      "1999 invalid for source FBRef and league WSL. Must be 2017 or later.\n",
      "1999 invalid for source FBRef and league WSL. Must be 2017 or later.\n",
      "2000 WSL\n",
      "2000 invalid for source FBRef and league WSL. Must be 2017 or later.\n",
      "2000 invalid for source FBRef and league WSL. Must be 2017 or later.\n",
      "2001 WSL\n",
      "2001 invalid for source FBRef and league WSL. Must be 2017 or later.\n",
      "2001 invalid for source FBRef and league WSL. Must be 2017 or later.\n",
      "2002 WSL\n",
      "2002 invalid for source FBRef and league WSL. Must be 2017 or later.\n",
      "2002 invalid for source FBRef and league WSL. Must be 2017 or later.\n",
      "2003 WSL\n",
      "2003 invalid for source FBRef and league WSL. Must be 2017 or later.\n",
      "2003 invalid for source FBRef and league WSL. Must be 2017 or later.\n",
      "2004 WSL\n",
      "2004 invalid for source FBRef and league WSL. Must be 2017 or later.\n",
      "2004 invalid for source FBRef and league WSL. Must be 2017 or later.\n",
      "2005 WSL\n",
      "2005 invalid for source FBRef and league WSL. Must be 2017 or later.\n",
      "2005 invalid for source FBRef and league WSL. Must be 2017 or later.\n",
      "2006 WSL\n",
      "2006 invalid for source FBRef and league WSL. Must be 2017 or later.\n",
      "2006 invalid for source FBRef and league WSL. Must be 2017 or later.\n",
      "2007 WSL\n",
      "2007 invalid for source FBRef and league WSL. Must be 2017 or later.\n",
      "2007 invalid for source FBRef and league WSL. Must be 2017 or later.\n",
      "2008 WSL\n",
      "2008 invalid for source FBRef and league WSL. Must be 2017 or later.\n",
      "2008 invalid for source FBRef and league WSL. Must be 2017 or later.\n",
      "2009 WSL\n",
      "2009 invalid for source FBRef and league WSL. Must be 2017 or later.\n",
      "2009 invalid for source FBRef and league WSL. Must be 2017 or later.\n",
      "2010 WSL\n",
      "2010 invalid for source FBRef and league WSL. Must be 2017 or later.\n",
      "2010 invalid for source FBRef and league WSL. Must be 2017 or later.\n",
      "2011 WSL\n",
      "2011 invalid for source FBRef and league WSL. Must be 2017 or later.\n",
      "2011 invalid for source FBRef and league WSL. Must be 2017 or later.\n",
      "2012 WSL\n",
      "2012 invalid for source FBRef and league WSL. Must be 2017 or later.\n",
      "2012 invalid for source FBRef and league WSL. Must be 2017 or later.\n",
      "2013 WSL\n",
      "2013 invalid for source FBRef and league WSL. Must be 2017 or later.\n",
      "2013 invalid for source FBRef and league WSL. Must be 2017 or later.\n",
      "2014 WSL\n",
      "2014 invalid for source FBRef and league WSL. Must be 2017 or later.\n",
      "2014 invalid for source FBRef and league WSL. Must be 2017 or later.\n",
      "2015 WSL\n",
      "2015 invalid for source FBRef and league WSL. Must be 2017 or later.\n",
      "2015 invalid for source FBRef and league WSL. Must be 2017 or later.\n",
      "2016 WSL\n",
      "2016 invalid for source FBRef and league WSL. Must be 2017 or later.\n",
      "2016 invalid for source FBRef and league WSL. Must be 2017 or later.\n",
      "2017 WSL\n",
      "Gathering match links.\n"
     ]
    },
    {
     "name": "stderr",
     "output_type": "stream",
     "text": [
      " 80%|████████  | 893/1115 [2:48:45<05:10,  1.40s/it]"
     ]
    },
    {
     "name": "stdout",
     "output_type": "stream",
     "text": [
      "2018 WSL\n",
      "Gathering match links.\n"
     ]
    },
    {
     "name": "stderr",
     "output_type": "stream",
     "text": [
      " 80%|████████  | 894/1115 [2:49:02<07:15,  1.97s/it]"
     ]
    },
    {
     "name": "stdout",
     "output_type": "stream",
     "text": [
      "2019 WSL\n",
      "Gathering match links.\n"
     ]
    },
    {
     "name": "stderr",
     "output_type": "stream",
     "text": [
      " 80%|████████  | 895/1115 [2:49:13<08:46,  2.40s/it]"
     ]
    },
    {
     "name": "stdout",
     "output_type": "stream",
     "text": [
      "No WSL 2019 season is available on FBRef.\n",
      "2020 WSL\n",
      "Gathering match links.\n"
     ]
    },
    {
     "name": "stderr",
     "output_type": "stream",
     "text": [
      " 80%|████████  | 896/1115 [2:49:23<10:41,  2.93s/it]"
     ]
    },
    {
     "name": "stdout",
     "output_type": "stream",
     "text": [
      "No WSL 2020 season is available on FBRef.\n",
      "2021 WSL\n",
      "Gathering match links.\n"
     ]
    },
    {
     "name": "stderr",
     "output_type": "stream",
     "text": [
      " 80%|████████  | 897/1115 [2:49:34<13:00,  3.58s/it]"
     ]
    },
    {
     "name": "stdout",
     "output_type": "stream",
     "text": [
      "No WSL 2021 season is available on FBRef.\n",
      "2022 WSL\n",
      "Gathering match links.\n"
     ]
    },
    {
     "name": "stderr",
     "output_type": "stream",
     "text": [
      " 81%|████████  | 898/1115 [2:49:44<15:38,  4.32s/it]"
     ]
    },
    {
     "name": "stdout",
     "output_type": "stream",
     "text": [
      "No WSL 2022 season is available on FBRef.\n",
      "2023 WSL\n",
      "Gathering match links.\n"
     ]
    },
    {
     "name": "stderr",
     "output_type": "stream",
     "text": [
      " 81%|████████  | 899/1115 [2:49:54<18:31,  5.15s/it]"
     ]
    },
    {
     "name": "stdout",
     "output_type": "stream",
     "text": [
      "No WSL 2023 season is available on FBRef.\n",
      "1988 D1 Feminine\n",
      "1988 invalid for source FBRef and league D1 Feminine. Must be 2018 or later.\n",
      "1988 invalid for source FBRef and league D1 Feminine. Must be 2018 or later.\n",
      "1989 D1 Feminine\n",
      "1989 invalid for source FBRef and league D1 Feminine. Must be 2018 or later.\n",
      "1989 invalid for source FBRef and league D1 Feminine. Must be 2018 or later.\n",
      "1990 D1 Feminine\n",
      "1990 invalid for source FBRef and league D1 Feminine. Must be 2018 or later.\n",
      "1990 invalid for source FBRef and league D1 Feminine. Must be 2018 or later.\n",
      "1991 D1 Feminine\n",
      "1991 invalid for source FBRef and league D1 Feminine. Must be 2018 or later.\n",
      "1991 invalid for source FBRef and league D1 Feminine. Must be 2018 or later.\n",
      "1992 D1 Feminine\n",
      "1992 invalid for source FBRef and league D1 Feminine. Must be 2018 or later.\n",
      "1992 invalid for source FBRef and league D1 Feminine. Must be 2018 or later.\n",
      "1993 D1 Feminine\n",
      "1993 invalid for source FBRef and league D1 Feminine. Must be 2018 or later.\n",
      "1993 invalid for source FBRef and league D1 Feminine. Must be 2018 or later.\n",
      "1994 D1 Feminine\n",
      "1994 invalid for source FBRef and league D1 Feminine. Must be 2018 or later.\n",
      "1994 invalid for source FBRef and league D1 Feminine. Must be 2018 or later.\n",
      "1995 D1 Feminine\n",
      "1995 invalid for source FBRef and league D1 Feminine. Must be 2018 or later.\n",
      "1995 invalid for source FBRef and league D1 Feminine. Must be 2018 or later.\n",
      "1996 D1 Feminine\n",
      "1996 invalid for source FBRef and league D1 Feminine. Must be 2018 or later.\n",
      "1996 invalid for source FBRef and league D1 Feminine. Must be 2018 or later.\n",
      "1997 D1 Feminine\n",
      "1997 invalid for source FBRef and league D1 Feminine. Must be 2018 or later.\n",
      "1997 invalid for source FBRef and league D1 Feminine. Must be 2018 or later.\n",
      "1998 D1 Feminine\n",
      "1998 invalid for source FBRef and league D1 Feminine. Must be 2018 or later.\n",
      "1998 invalid for source FBRef and league D1 Feminine. Must be 2018 or later.\n",
      "1999 D1 Feminine\n",
      "1999 invalid for source FBRef and league D1 Feminine. Must be 2018 or later.\n",
      "1999 invalid for source FBRef and league D1 Feminine. Must be 2018 or later.\n",
      "2000 D1 Feminine\n",
      "2000 invalid for source FBRef and league D1 Feminine. Must be 2018 or later.\n",
      "2000 invalid for source FBRef and league D1 Feminine. Must be 2018 or later.\n",
      "2001 D1 Feminine\n",
      "2001 invalid for source FBRef and league D1 Feminine. Must be 2018 or later.\n",
      "2001 invalid for source FBRef and league D1 Feminine. Must be 2018 or later.\n",
      "2002 D1 Feminine\n",
      "2002 invalid for source FBRef and league D1 Feminine. Must be 2018 or later.\n",
      "2002 invalid for source FBRef and league D1 Feminine. Must be 2018 or later.\n",
      "2003 D1 Feminine\n",
      "2003 invalid for source FBRef and league D1 Feminine. Must be 2018 or later.\n",
      "2003 invalid for source FBRef and league D1 Feminine. Must be 2018 or later.\n",
      "2004 D1 Feminine\n",
      "2004 invalid for source FBRef and league D1 Feminine. Must be 2018 or later.\n",
      "2004 invalid for source FBRef and league D1 Feminine. Must be 2018 or later.\n",
      "2005 D1 Feminine\n",
      "2005 invalid for source FBRef and league D1 Feminine. Must be 2018 or later.\n",
      "2005 invalid for source FBRef and league D1 Feminine. Must be 2018 or later.\n",
      "2006 D1 Feminine\n",
      "2006 invalid for source FBRef and league D1 Feminine. Must be 2018 or later.\n",
      "2006 invalid for source FBRef and league D1 Feminine. Must be 2018 or later.\n",
      "2007 D1 Feminine\n",
      "2007 invalid for source FBRef and league D1 Feminine. Must be 2018 or later.\n",
      "2007 invalid for source FBRef and league D1 Feminine. Must be 2018 or later.\n",
      "2008 D1 Feminine\n",
      "2008 invalid for source FBRef and league D1 Feminine. Must be 2018 or later.\n",
      "2008 invalid for source FBRef and league D1 Feminine. Must be 2018 or later.\n",
      "2009 D1 Feminine\n",
      "2009 invalid for source FBRef and league D1 Feminine. Must be 2018 or later.\n",
      "2009 invalid for source FBRef and league D1 Feminine. Must be 2018 or later.\n",
      "2010 D1 Feminine\n",
      "2010 invalid for source FBRef and league D1 Feminine. Must be 2018 or later.\n",
      "2010 invalid for source FBRef and league D1 Feminine. Must be 2018 or later.\n",
      "2011 D1 Feminine\n",
      "2011 invalid for source FBRef and league D1 Feminine. Must be 2018 or later.\n",
      "2011 invalid for source FBRef and league D1 Feminine. Must be 2018 or later.\n",
      "2012 D1 Feminine\n",
      "2012 invalid for source FBRef and league D1 Feminine. Must be 2018 or later.\n",
      "2012 invalid for source FBRef and league D1 Feminine. Must be 2018 or later.\n",
      "2013 D1 Feminine\n",
      "2013 invalid for source FBRef and league D1 Feminine. Must be 2018 or later.\n",
      "2013 invalid for source FBRef and league D1 Feminine. Must be 2018 or later.\n",
      "2014 D1 Feminine\n",
      "2014 invalid for source FBRef and league D1 Feminine. Must be 2018 or later.\n",
      "2014 invalid for source FBRef and league D1 Feminine. Must be 2018 or later.\n",
      "2015 D1 Feminine\n",
      "2015 invalid for source FBRef and league D1 Feminine. Must be 2018 or later.\n",
      "2015 invalid for source FBRef and league D1 Feminine. Must be 2018 or later.\n",
      "2016 D1 Feminine\n",
      "2016 invalid for source FBRef and league D1 Feminine. Must be 2018 or later.\n",
      "2016 invalid for source FBRef and league D1 Feminine. Must be 2018 or later.\n",
      "2017 D1 Feminine\n",
      "2017 invalid for source FBRef and league D1 Feminine. Must be 2018 or later.\n",
      "2017 invalid for source FBRef and league D1 Feminine. Must be 2018 or later.\n",
      "2018 D1 Feminine\n",
      "Gathering match links.\n"
     ]
    },
    {
     "name": "stderr",
     "output_type": "stream",
     "text": [
      " 83%|████████▎ | 930/1115 [2:50:14<03:54,  1.27s/it]"
     ]
    },
    {
     "name": "stdout",
     "output_type": "stream",
     "text": [
      "2019 D1 Feminine\n",
      "Gathering match links.\n"
     ]
    },
    {
     "name": "stderr",
     "output_type": "stream",
     "text": [
      " 83%|████████▎ | 931/1115 [2:50:32<05:51,  1.91s/it]"
     ]
    },
    {
     "name": "stdout",
     "output_type": "stream",
     "text": [
      "2020 D1 Feminine\n",
      "Gathering match links.\n"
     ]
    },
    {
     "name": "stderr",
     "output_type": "stream",
     "text": [
      " 84%|████████▎ | 932/1115 [2:50:49<08:17,  2.72s/it]"
     ]
    },
    {
     "name": "stdout",
     "output_type": "stream",
     "text": [
      "2021 D1 Feminine\n",
      "Gathering match links.\n"
     ]
    },
    {
     "name": "stderr",
     "output_type": "stream",
     "text": [
      " 84%|████████▎ | 933/1115 [2:51:07<11:22,  3.75s/it]"
     ]
    },
    {
     "name": "stdout",
     "output_type": "stream",
     "text": [
      "2022 D1 Feminine\n",
      "Gathering match links.\n"
     ]
    },
    {
     "name": "stderr",
     "output_type": "stream",
     "text": [
      " 84%|████████▍ | 934/1115 [2:51:25<15:10,  5.03s/it]"
     ]
    },
    {
     "name": "stdout",
     "output_type": "stream",
     "text": [
      "2023 D1 Feminine\n",
      "Gathering match links.\n"
     ]
    },
    {
     "name": "stderr",
     "output_type": "stream",
     "text": [
      " 84%|████████▍ | 935/1115 [2:51:42<19:13,  6.41s/it]"
     ]
    },
    {
     "name": "stdout",
     "output_type": "stream",
     "text": [
      "1988 Womens Bundesliga\n",
      "1988 invalid for source FBRef and league Womens Bundesliga. Must be 2017 or later.\n",
      "1988 invalid for source FBRef and league Womens Bundesliga. Must be 2017 or later.\n",
      "1989 Womens Bundesliga\n",
      "1989 invalid for source FBRef and league Womens Bundesliga. Must be 2017 or later.\n",
      "1989 invalid for source FBRef and league Womens Bundesliga. Must be 2017 or later.\n",
      "1990 Womens Bundesliga\n",
      "1990 invalid for source FBRef and league Womens Bundesliga. Must be 2017 or later.\n",
      "1990 invalid for source FBRef and league Womens Bundesliga. Must be 2017 or later.\n",
      "1991 Womens Bundesliga\n",
      "1991 invalid for source FBRef and league Womens Bundesliga. Must be 2017 or later.\n",
      "1991 invalid for source FBRef and league Womens Bundesliga. Must be 2017 or later.\n",
      "1992 Womens Bundesliga\n",
      "1992 invalid for source FBRef and league Womens Bundesliga. Must be 2017 or later.\n",
      "1992 invalid for source FBRef and league Womens Bundesliga. Must be 2017 or later.\n",
      "1993 Womens Bundesliga\n",
      "1993 invalid for source FBRef and league Womens Bundesliga. Must be 2017 or later.\n",
      "1993 invalid for source FBRef and league Womens Bundesliga. Must be 2017 or later.\n",
      "1994 Womens Bundesliga\n",
      "1994 invalid for source FBRef and league Womens Bundesliga. Must be 2017 or later.\n",
      "1994 invalid for source FBRef and league Womens Bundesliga. Must be 2017 or later.\n",
      "1995 Womens Bundesliga\n",
      "1995 invalid for source FBRef and league Womens Bundesliga. Must be 2017 or later.\n",
      "1995 invalid for source FBRef and league Womens Bundesliga. Must be 2017 or later.\n",
      "1996 Womens Bundesliga\n",
      "1996 invalid for source FBRef and league Womens Bundesliga. Must be 2017 or later.\n",
      "1996 invalid for source FBRef and league Womens Bundesliga. Must be 2017 or later.\n",
      "1997 Womens Bundesliga\n",
      "1997 invalid for source FBRef and league Womens Bundesliga. Must be 2017 or later.\n",
      "1997 invalid for source FBRef and league Womens Bundesliga. Must be 2017 or later.\n",
      "1998 Womens Bundesliga\n",
      "1998 invalid for source FBRef and league Womens Bundesliga. Must be 2017 or later.\n",
      "1998 invalid for source FBRef and league Womens Bundesliga. Must be 2017 or later.\n",
      "1999 Womens Bundesliga\n",
      "1999 invalid for source FBRef and league Womens Bundesliga. Must be 2017 or later.\n",
      "1999 invalid for source FBRef and league Womens Bundesliga. Must be 2017 or later.\n",
      "2000 Womens Bundesliga\n",
      "2000 invalid for source FBRef and league Womens Bundesliga. Must be 2017 or later.\n",
      "2000 invalid for source FBRef and league Womens Bundesliga. Must be 2017 or later.\n",
      "2001 Womens Bundesliga\n",
      "2001 invalid for source FBRef and league Womens Bundesliga. Must be 2017 or later.\n",
      "2001 invalid for source FBRef and league Womens Bundesliga. Must be 2017 or later.\n",
      "2002 Womens Bundesliga\n",
      "2002 invalid for source FBRef and league Womens Bundesliga. Must be 2017 or later.\n",
      "2002 invalid for source FBRef and league Womens Bundesliga. Must be 2017 or later.\n",
      "2003 Womens Bundesliga\n",
      "2003 invalid for source FBRef and league Womens Bundesliga. Must be 2017 or later.\n",
      "2003 invalid for source FBRef and league Womens Bundesliga. Must be 2017 or later.\n",
      "2004 Womens Bundesliga\n",
      "2004 invalid for source FBRef and league Womens Bundesliga. Must be 2017 or later.\n",
      "2004 invalid for source FBRef and league Womens Bundesliga. Must be 2017 or later.\n",
      "2005 Womens Bundesliga\n",
      "2005 invalid for source FBRef and league Womens Bundesliga. Must be 2017 or later.\n",
      "2005 invalid for source FBRef and league Womens Bundesliga. Must be 2017 or later.\n",
      "2006 Womens Bundesliga\n",
      "2006 invalid for source FBRef and league Womens Bundesliga. Must be 2017 or later.\n",
      "2006 invalid for source FBRef and league Womens Bundesliga. Must be 2017 or later.\n",
      "2007 Womens Bundesliga\n",
      "2007 invalid for source FBRef and league Womens Bundesliga. Must be 2017 or later.\n",
      "2007 invalid for source FBRef and league Womens Bundesliga. Must be 2017 or later.\n",
      "2008 Womens Bundesliga\n",
      "2008 invalid for source FBRef and league Womens Bundesliga. Must be 2017 or later.\n",
      "2008 invalid for source FBRef and league Womens Bundesliga. Must be 2017 or later.\n",
      "2009 Womens Bundesliga\n",
      "2009 invalid for source FBRef and league Womens Bundesliga. Must be 2017 or later.\n",
      "2009 invalid for source FBRef and league Womens Bundesliga. Must be 2017 or later.\n",
      "2010 Womens Bundesliga\n",
      "2010 invalid for source FBRef and league Womens Bundesliga. Must be 2017 or later.\n",
      "2010 invalid for source FBRef and league Womens Bundesliga. Must be 2017 or later.\n",
      "2011 Womens Bundesliga\n",
      "2011 invalid for source FBRef and league Womens Bundesliga. Must be 2017 or later.\n",
      "2011 invalid for source FBRef and league Womens Bundesliga. Must be 2017 or later.\n",
      "2012 Womens Bundesliga\n",
      "2012 invalid for source FBRef and league Womens Bundesliga. Must be 2017 or later.\n",
      "2012 invalid for source FBRef and league Womens Bundesliga. Must be 2017 or later.\n",
      "2013 Womens Bundesliga\n",
      "2013 invalid for source FBRef and league Womens Bundesliga. Must be 2017 or later.\n",
      "2013 invalid for source FBRef and league Womens Bundesliga. Must be 2017 or later.\n",
      "2014 Womens Bundesliga\n",
      "2014 invalid for source FBRef and league Womens Bundesliga. Must be 2017 or later.\n",
      "2014 invalid for source FBRef and league Womens Bundesliga. Must be 2017 or later.\n",
      "2015 Womens Bundesliga\n",
      "2015 invalid for source FBRef and league Womens Bundesliga. Must be 2017 or later.\n",
      "2015 invalid for source FBRef and league Womens Bundesliga. Must be 2017 or later.\n",
      "2016 Womens Bundesliga\n",
      "2016 invalid for source FBRef and league Womens Bundesliga. Must be 2017 or later.\n",
      "2016 invalid for source FBRef and league Womens Bundesliga. Must be 2017 or later.\n",
      "2017 Womens Bundesliga\n",
      "Gathering match links.\n"
     ]
    },
    {
     "name": "stderr",
     "output_type": "stream",
     "text": [
      " 87%|████████▋ | 965/1115 [2:52:01<04:00,  1.60s/it]"
     ]
    },
    {
     "name": "stdout",
     "output_type": "stream",
     "text": [
      "2018 Womens Bundesliga\n",
      "Gathering match links.\n"
     ]
    },
    {
     "name": "stderr",
     "output_type": "stream",
     "text": [
      " 87%|████████▋ | 966/1115 [2:52:18<05:29,  2.21s/it]"
     ]
    },
    {
     "name": "stdout",
     "output_type": "stream",
     "text": [
      "2019 Womens Bundesliga\n",
      "Gathering match links.\n"
     ]
    },
    {
     "name": "stderr",
     "output_type": "stream",
     "text": [
      " 87%|████████▋ | 967/1115 [2:52:36<07:25,  3.01s/it]"
     ]
    },
    {
     "name": "stdout",
     "output_type": "stream",
     "text": [
      "2020 Womens Bundesliga\n",
      "Gathering match links.\n"
     ]
    },
    {
     "name": "stderr",
     "output_type": "stream",
     "text": [
      " 87%|████████▋ | 968/1115 [2:52:54<09:54,  4.05s/it]"
     ]
    },
    {
     "name": "stdout",
     "output_type": "stream",
     "text": [
      "2021 Womens Bundesliga\n",
      "Gathering match links.\n"
     ]
    },
    {
     "name": "stderr",
     "output_type": "stream",
     "text": [
      " 87%|████████▋ | 969/1115 [2:53:12<12:53,  5.29s/it]"
     ]
    },
    {
     "name": "stdout",
     "output_type": "stream",
     "text": [
      "2022 Womens Bundesliga\n",
      "Gathering match links.\n"
     ]
    },
    {
     "name": "stderr",
     "output_type": "stream",
     "text": [
      " 87%|████████▋ | 970/1115 [2:53:30<16:10,  6.70s/it]"
     ]
    },
    {
     "name": "stdout",
     "output_type": "stream",
     "text": [
      "2023 Womens Bundesliga\n",
      "Gathering match links.\n"
     ]
    },
    {
     "name": "stderr",
     "output_type": "stream",
     "text": [
      " 87%|████████▋ | 971/1115 [2:53:47<19:38,  8.19s/it]"
     ]
    },
    {
     "name": "stdout",
     "output_type": "stream",
     "text": [
      "1988 Womens Serie A\n",
      "1988 invalid for source FBRef and league Womens Serie A. Must be 2019 or later.\n",
      "1988 invalid for source FBRef and league Womens Serie A. Must be 2019 or later.\n",
      "1989 Womens Serie A\n",
      "1989 invalid for source FBRef and league Womens Serie A. Must be 2019 or later.\n",
      "1989 invalid for source FBRef and league Womens Serie A. Must be 2019 or later.\n",
      "1990 Womens Serie A\n",
      "1990 invalid for source FBRef and league Womens Serie A. Must be 2019 or later.\n",
      "1990 invalid for source FBRef and league Womens Serie A. Must be 2019 or later.\n",
      "1991 Womens Serie A\n",
      "1991 invalid for source FBRef and league Womens Serie A. Must be 2019 or later.\n",
      "1991 invalid for source FBRef and league Womens Serie A. Must be 2019 or later.\n",
      "1992 Womens Serie A\n",
      "1992 invalid for source FBRef and league Womens Serie A. Must be 2019 or later.\n",
      "1992 invalid for source FBRef and league Womens Serie A. Must be 2019 or later.\n",
      "1993 Womens Serie A\n",
      "1993 invalid for source FBRef and league Womens Serie A. Must be 2019 or later.\n",
      "1993 invalid for source FBRef and league Womens Serie A. Must be 2019 or later.\n",
      "1994 Womens Serie A\n",
      "1994 invalid for source FBRef and league Womens Serie A. Must be 2019 or later.\n",
      "1994 invalid for source FBRef and league Womens Serie A. Must be 2019 or later.\n",
      "1995 Womens Serie A\n",
      "1995 invalid for source FBRef and league Womens Serie A. Must be 2019 or later.\n",
      "1995 invalid for source FBRef and league Womens Serie A. Must be 2019 or later.\n",
      "1996 Womens Serie A\n",
      "1996 invalid for source FBRef and league Womens Serie A. Must be 2019 or later.\n",
      "1996 invalid for source FBRef and league Womens Serie A. Must be 2019 or later.\n",
      "1997 Womens Serie A\n",
      "1997 invalid for source FBRef and league Womens Serie A. Must be 2019 or later.\n",
      "1997 invalid for source FBRef and league Womens Serie A. Must be 2019 or later.\n",
      "1998 Womens Serie A\n",
      "1998 invalid for source FBRef and league Womens Serie A. Must be 2019 or later.\n",
      "1998 invalid for source FBRef and league Womens Serie A. Must be 2019 or later.\n",
      "1999 Womens Serie A\n",
      "1999 invalid for source FBRef and league Womens Serie A. Must be 2019 or later.\n",
      "1999 invalid for source FBRef and league Womens Serie A. Must be 2019 or later.\n",
      "2000 Womens Serie A\n",
      "2000 invalid for source FBRef and league Womens Serie A. Must be 2019 or later.\n",
      "2000 invalid for source FBRef and league Womens Serie A. Must be 2019 or later.\n",
      "2001 Womens Serie A\n",
      "2001 invalid for source FBRef and league Womens Serie A. Must be 2019 or later.\n",
      "2001 invalid for source FBRef and league Womens Serie A. Must be 2019 or later.\n",
      "2002 Womens Serie A\n",
      "2002 invalid for source FBRef and league Womens Serie A. Must be 2019 or later.\n",
      "2002 invalid for source FBRef and league Womens Serie A. Must be 2019 or later.\n",
      "2003 Womens Serie A\n",
      "2003 invalid for source FBRef and league Womens Serie A. Must be 2019 or later.\n",
      "2003 invalid for source FBRef and league Womens Serie A. Must be 2019 or later.\n",
      "2004 Womens Serie A\n",
      "2004 invalid for source FBRef and league Womens Serie A. Must be 2019 or later.\n",
      "2004 invalid for source FBRef and league Womens Serie A. Must be 2019 or later.\n",
      "2005 Womens Serie A\n",
      "2005 invalid for source FBRef and league Womens Serie A. Must be 2019 or later.\n",
      "2005 invalid for source FBRef and league Womens Serie A. Must be 2019 or later.\n",
      "2006 Womens Serie A\n",
      "2006 invalid for source FBRef and league Womens Serie A. Must be 2019 or later.\n",
      "2006 invalid for source FBRef and league Womens Serie A. Must be 2019 or later.\n",
      "2007 Womens Serie A\n",
      "2007 invalid for source FBRef and league Womens Serie A. Must be 2019 or later.\n",
      "2007 invalid for source FBRef and league Womens Serie A. Must be 2019 or later.\n",
      "2008 Womens Serie A\n",
      "2008 invalid for source FBRef and league Womens Serie A. Must be 2019 or later.\n",
      "2008 invalid for source FBRef and league Womens Serie A. Must be 2019 or later.\n",
      "2009 Womens Serie A\n",
      "2009 invalid for source FBRef and league Womens Serie A. Must be 2019 or later.\n",
      "2009 invalid for source FBRef and league Womens Serie A. Must be 2019 or later.\n",
      "2010 Womens Serie A\n",
      "2010 invalid for source FBRef and league Womens Serie A. Must be 2019 or later.\n",
      "2010 invalid for source FBRef and league Womens Serie A. Must be 2019 or later.\n",
      "2011 Womens Serie A\n",
      "2011 invalid for source FBRef and league Womens Serie A. Must be 2019 or later.\n",
      "2011 invalid for source FBRef and league Womens Serie A. Must be 2019 or later.\n",
      "2012 Womens Serie A\n",
      "2012 invalid for source FBRef and league Womens Serie A. Must be 2019 or later.\n",
      "2012 invalid for source FBRef and league Womens Serie A. Must be 2019 or later.\n",
      "2013 Womens Serie A\n",
      "2013 invalid for source FBRef and league Womens Serie A. Must be 2019 or later.\n",
      "2013 invalid for source FBRef and league Womens Serie A. Must be 2019 or later.\n",
      "2014 Womens Serie A\n",
      "2014 invalid for source FBRef and league Womens Serie A. Must be 2019 or later.\n",
      "2014 invalid for source FBRef and league Womens Serie A. Must be 2019 or later.\n",
      "2015 Womens Serie A\n",
      "2015 invalid for source FBRef and league Womens Serie A. Must be 2019 or later.\n",
      "2015 invalid for source FBRef and league Womens Serie A. Must be 2019 or later.\n",
      "2016 Womens Serie A\n",
      "2016 invalid for source FBRef and league Womens Serie A. Must be 2019 or later.\n",
      "2016 invalid for source FBRef and league Womens Serie A. Must be 2019 or later.\n",
      "2017 Womens Serie A\n",
      "2017 invalid for source FBRef and league Womens Serie A. Must be 2019 or later.\n",
      "2017 invalid for source FBRef and league Womens Serie A. Must be 2019 or later.\n",
      "2018 Womens Serie A\n",
      "2018 invalid for source FBRef and league Womens Serie A. Must be 2019 or later.\n",
      "2018 invalid for source FBRef and league Womens Serie A. Must be 2019 or later.\n",
      "2019 Womens Serie A\n",
      "Gathering match links.\n"
     ]
    },
    {
     "name": "stderr",
     "output_type": "stream",
     "text": [
      " 90%|████████▉ | 1003/1115 [2:54:07<03:04,  1.64s/it]"
     ]
    },
    {
     "name": "stdout",
     "output_type": "stream",
     "text": [
      "2020 Womens Serie A\n",
      "Gathering match links.\n"
     ]
    },
    {
     "name": "stderr",
     "output_type": "stream",
     "text": [
      " 90%|█████████ | 1004/1115 [2:54:25<04:09,  2.25s/it]"
     ]
    },
    {
     "name": "stdout",
     "output_type": "stream",
     "text": [
      "2021 Womens Serie A\n",
      "Gathering match links.\n"
     ]
    },
    {
     "name": "stderr",
     "output_type": "stream",
     "text": [
      " 90%|█████████ | 1005/1115 [2:54:43<05:32,  3.03s/it]"
     ]
    },
    {
     "name": "stdout",
     "output_type": "stream",
     "text": [
      "2022 Womens Serie A\n",
      "Gathering match links.\n"
     ]
    },
    {
     "name": "stderr",
     "output_type": "stream",
     "text": [
      " 90%|█████████ | 1006/1115 [2:55:00<07:17,  4.01s/it]"
     ]
    },
    {
     "name": "stdout",
     "output_type": "stream",
     "text": [
      "2023 Womens Serie A\n",
      "Gathering match links.\n"
     ]
    },
    {
     "name": "stderr",
     "output_type": "stream",
     "text": [
      " 90%|█████████ | 1007/1115 [2:55:17<09:13,  5.13s/it]"
     ]
    },
    {
     "name": "stdout",
     "output_type": "stream",
     "text": [
      "1988 Liga F\n",
      "1988 invalid for source FBRef and league Liga F. Must be 2023 or later.\n",
      "1988 invalid for source FBRef and league Liga F. Must be 2023 or later.\n",
      "1989 Liga F\n",
      "1989 invalid for source FBRef and league Liga F. Must be 2023 or later.\n",
      "1989 invalid for source FBRef and league Liga F. Must be 2023 or later.\n",
      "1990 Liga F\n",
      "1990 invalid for source FBRef and league Liga F. Must be 2023 or later.\n",
      "1990 invalid for source FBRef and league Liga F. Must be 2023 or later.\n",
      "1991 Liga F\n",
      "1991 invalid for source FBRef and league Liga F. Must be 2023 or later.\n",
      "1991 invalid for source FBRef and league Liga F. Must be 2023 or later.\n",
      "1992 Liga F\n",
      "1992 invalid for source FBRef and league Liga F. Must be 2023 or later.\n",
      "1992 invalid for source FBRef and league Liga F. Must be 2023 or later.\n",
      "1993 Liga F\n",
      "1993 invalid for source FBRef and league Liga F. Must be 2023 or later.\n",
      "1993 invalid for source FBRef and league Liga F. Must be 2023 or later.\n",
      "1994 Liga F\n",
      "1994 invalid for source FBRef and league Liga F. Must be 2023 or later.\n",
      "1994 invalid for source FBRef and league Liga F. Must be 2023 or later.\n",
      "1995 Liga F\n",
      "1995 invalid for source FBRef and league Liga F. Must be 2023 or later.\n",
      "1995 invalid for source FBRef and league Liga F. Must be 2023 or later.\n",
      "1996 Liga F\n",
      "1996 invalid for source FBRef and league Liga F. Must be 2023 or later.\n",
      "1996 invalid for source FBRef and league Liga F. Must be 2023 or later.\n",
      "1997 Liga F\n",
      "1997 invalid for source FBRef and league Liga F. Must be 2023 or later.\n",
      "1997 invalid for source FBRef and league Liga F. Must be 2023 or later.\n",
      "1998 Liga F\n",
      "1998 invalid for source FBRef and league Liga F. Must be 2023 or later.\n",
      "1998 invalid for source FBRef and league Liga F. Must be 2023 or later.\n",
      "1999 Liga F\n",
      "1999 invalid for source FBRef and league Liga F. Must be 2023 or later.\n",
      "1999 invalid for source FBRef and league Liga F. Must be 2023 or later.\n",
      "2000 Liga F\n",
      "2000 invalid for source FBRef and league Liga F. Must be 2023 or later.\n",
      "2000 invalid for source FBRef and league Liga F. Must be 2023 or later.\n",
      "2001 Liga F\n",
      "2001 invalid for source FBRef and league Liga F. Must be 2023 or later.\n",
      "2001 invalid for source FBRef and league Liga F. Must be 2023 or later.\n",
      "2002 Liga F\n",
      "2002 invalid for source FBRef and league Liga F. Must be 2023 or later.\n",
      "2002 invalid for source FBRef and league Liga F. Must be 2023 or later.\n",
      "2003 Liga F\n",
      "2003 invalid for source FBRef and league Liga F. Must be 2023 or later.\n",
      "2003 invalid for source FBRef and league Liga F. Must be 2023 or later.\n",
      "2004 Liga F\n",
      "2004 invalid for source FBRef and league Liga F. Must be 2023 or later.\n",
      "2004 invalid for source FBRef and league Liga F. Must be 2023 or later.\n",
      "2005 Liga F\n",
      "2005 invalid for source FBRef and league Liga F. Must be 2023 or later.\n",
      "2005 invalid for source FBRef and league Liga F. Must be 2023 or later.\n",
      "2006 Liga F\n",
      "2006 invalid for source FBRef and league Liga F. Must be 2023 or later.\n",
      "2006 invalid for source FBRef and league Liga F. Must be 2023 or later.\n",
      "2007 Liga F\n",
      "2007 invalid for source FBRef and league Liga F. Must be 2023 or later.\n",
      "2007 invalid for source FBRef and league Liga F. Must be 2023 or later.\n",
      "2008 Liga F\n",
      "2008 invalid for source FBRef and league Liga F. Must be 2023 or later.\n",
      "2008 invalid for source FBRef and league Liga F. Must be 2023 or later.\n",
      "2009 Liga F\n",
      "2009 invalid for source FBRef and league Liga F. Must be 2023 or later.\n",
      "2009 invalid for source FBRef and league Liga F. Must be 2023 or later.\n",
      "2010 Liga F\n",
      "2010 invalid for source FBRef and league Liga F. Must be 2023 or later.\n",
      "2010 invalid for source FBRef and league Liga F. Must be 2023 or later.\n",
      "2011 Liga F\n",
      "2011 invalid for source FBRef and league Liga F. Must be 2023 or later.\n",
      "2011 invalid for source FBRef and league Liga F. Must be 2023 or later.\n",
      "2012 Liga F\n",
      "2012 invalid for source FBRef and league Liga F. Must be 2023 or later.\n",
      "2012 invalid for source FBRef and league Liga F. Must be 2023 or later.\n",
      "2013 Liga F\n",
      "2013 invalid for source FBRef and league Liga F. Must be 2023 or later.\n",
      "2013 invalid for source FBRef and league Liga F. Must be 2023 or later.\n",
      "2014 Liga F\n",
      "2014 invalid for source FBRef and league Liga F. Must be 2023 or later.\n",
      "2014 invalid for source FBRef and league Liga F. Must be 2023 or later.\n",
      "2015 Liga F\n",
      "2015 invalid for source FBRef and league Liga F. Must be 2023 or later.\n",
      "2015 invalid for source FBRef and league Liga F. Must be 2023 or later.\n",
      "2016 Liga F\n",
      "2016 invalid for source FBRef and league Liga F. Must be 2023 or later.\n",
      "2016 invalid for source FBRef and league Liga F. Must be 2023 or later.\n",
      "2017 Liga F\n",
      "2017 invalid for source FBRef and league Liga F. Must be 2023 or later.\n",
      "2017 invalid for source FBRef and league Liga F. Must be 2023 or later.\n",
      "2018 Liga F\n",
      "2018 invalid for source FBRef and league Liga F. Must be 2023 or later.\n",
      "2018 invalid for source FBRef and league Liga F. Must be 2023 or later.\n",
      "2019 Liga F\n",
      "2019 invalid for source FBRef and league Liga F. Must be 2023 or later.\n",
      "2019 invalid for source FBRef and league Liga F. Must be 2023 or later.\n",
      "2020 Liga F\n",
      "2020 invalid for source FBRef and league Liga F. Must be 2023 or later.\n",
      "2020 invalid for source FBRef and league Liga F. Must be 2023 or later.\n",
      "2021 Liga F\n",
      "2021 invalid for source FBRef and league Liga F. Must be 2023 or later.\n",
      "2021 invalid for source FBRef and league Liga F. Must be 2023 or later.\n",
      "2022 Liga F\n",
      "2022 invalid for source FBRef and league Liga F. Must be 2023 or later.\n",
      "2022 invalid for source FBRef and league Liga F. Must be 2023 or later.\n",
      "2023 Liga F\n",
      "Gathering match links.\n"
     ]
    },
    {
     "name": "stderr",
     "output_type": "stream",
     "text": [
      " 94%|█████████▎| 1043/1115 [2:55:36<01:37,  1.35s/it]"
     ]
    },
    {
     "name": "stdout",
     "output_type": "stream",
     "text": [
      "1988 NWSL Challenge Cup\n",
      "1988 invalid for source FBRef and league NWSL Challenge Cup. Must be 2020 or later.\n",
      "1988 invalid for source FBRef and league NWSL Challenge Cup. Must be 2020 or later.\n",
      "1989 NWSL Challenge Cup\n",
      "1989 invalid for source FBRef and league NWSL Challenge Cup. Must be 2020 or later.\n",
      "1989 invalid for source FBRef and league NWSL Challenge Cup. Must be 2020 or later.\n",
      "1990 NWSL Challenge Cup\n",
      "1990 invalid for source FBRef and league NWSL Challenge Cup. Must be 2020 or later.\n",
      "1990 invalid for source FBRef and league NWSL Challenge Cup. Must be 2020 or later.\n",
      "1991 NWSL Challenge Cup\n",
      "1991 invalid for source FBRef and league NWSL Challenge Cup. Must be 2020 or later.\n",
      "1991 invalid for source FBRef and league NWSL Challenge Cup. Must be 2020 or later.\n",
      "1992 NWSL Challenge Cup\n",
      "1992 invalid for source FBRef and league NWSL Challenge Cup. Must be 2020 or later.\n",
      "1992 invalid for source FBRef and league NWSL Challenge Cup. Must be 2020 or later.\n",
      "1993 NWSL Challenge Cup\n",
      "1993 invalid for source FBRef and league NWSL Challenge Cup. Must be 2020 or later.\n",
      "1993 invalid for source FBRef and league NWSL Challenge Cup. Must be 2020 or later.\n",
      "1994 NWSL Challenge Cup\n",
      "1994 invalid for source FBRef and league NWSL Challenge Cup. Must be 2020 or later.\n",
      "1994 invalid for source FBRef and league NWSL Challenge Cup. Must be 2020 or later.\n",
      "1995 NWSL Challenge Cup\n",
      "1995 invalid for source FBRef and league NWSL Challenge Cup. Must be 2020 or later.\n",
      "1995 invalid for source FBRef and league NWSL Challenge Cup. Must be 2020 or later.\n",
      "1996 NWSL Challenge Cup\n",
      "1996 invalid for source FBRef and league NWSL Challenge Cup. Must be 2020 or later.\n",
      "1996 invalid for source FBRef and league NWSL Challenge Cup. Must be 2020 or later.\n",
      "1997 NWSL Challenge Cup\n",
      "1997 invalid for source FBRef and league NWSL Challenge Cup. Must be 2020 or later.\n",
      "1997 invalid for source FBRef and league NWSL Challenge Cup. Must be 2020 or later.\n",
      "1998 NWSL Challenge Cup\n",
      "1998 invalid for source FBRef and league NWSL Challenge Cup. Must be 2020 or later.\n",
      "1998 invalid for source FBRef and league NWSL Challenge Cup. Must be 2020 or later.\n",
      "1999 NWSL Challenge Cup\n",
      "1999 invalid for source FBRef and league NWSL Challenge Cup. Must be 2020 or later.\n",
      "1999 invalid for source FBRef and league NWSL Challenge Cup. Must be 2020 or later.\n",
      "2000 NWSL Challenge Cup\n",
      "2000 invalid for source FBRef and league NWSL Challenge Cup. Must be 2020 or later.\n",
      "2000 invalid for source FBRef and league NWSL Challenge Cup. Must be 2020 or later.\n",
      "2001 NWSL Challenge Cup\n",
      "2001 invalid for source FBRef and league NWSL Challenge Cup. Must be 2020 or later.\n",
      "2001 invalid for source FBRef and league NWSL Challenge Cup. Must be 2020 or later.\n",
      "2002 NWSL Challenge Cup\n",
      "2002 invalid for source FBRef and league NWSL Challenge Cup. Must be 2020 or later.\n",
      "2002 invalid for source FBRef and league NWSL Challenge Cup. Must be 2020 or later.\n",
      "2003 NWSL Challenge Cup\n",
      "2003 invalid for source FBRef and league NWSL Challenge Cup. Must be 2020 or later.\n",
      "2003 invalid for source FBRef and league NWSL Challenge Cup. Must be 2020 or later.\n",
      "2004 NWSL Challenge Cup\n",
      "2004 invalid for source FBRef and league NWSL Challenge Cup. Must be 2020 or later.\n",
      "2004 invalid for source FBRef and league NWSL Challenge Cup. Must be 2020 or later.\n",
      "2005 NWSL Challenge Cup\n",
      "2005 invalid for source FBRef and league NWSL Challenge Cup. Must be 2020 or later.\n",
      "2005 invalid for source FBRef and league NWSL Challenge Cup. Must be 2020 or later.\n",
      "2006 NWSL Challenge Cup\n",
      "2006 invalid for source FBRef and league NWSL Challenge Cup. Must be 2020 or later.\n",
      "2006 invalid for source FBRef and league NWSL Challenge Cup. Must be 2020 or later.\n",
      "2007 NWSL Challenge Cup\n",
      "2007 invalid for source FBRef and league NWSL Challenge Cup. Must be 2020 or later.\n",
      "2007 invalid for source FBRef and league NWSL Challenge Cup. Must be 2020 or later.\n",
      "2008 NWSL Challenge Cup\n",
      "2008 invalid for source FBRef and league NWSL Challenge Cup. Must be 2020 or later.\n",
      "2008 invalid for source FBRef and league NWSL Challenge Cup. Must be 2020 or later.\n",
      "2009 NWSL Challenge Cup\n",
      "2009 invalid for source FBRef and league NWSL Challenge Cup. Must be 2020 or later.\n",
      "2009 invalid for source FBRef and league NWSL Challenge Cup. Must be 2020 or later.\n",
      "2010 NWSL Challenge Cup\n",
      "2010 invalid for source FBRef and league NWSL Challenge Cup. Must be 2020 or later.\n",
      "2010 invalid for source FBRef and league NWSL Challenge Cup. Must be 2020 or later.\n",
      "2011 NWSL Challenge Cup\n",
      "2011 invalid for source FBRef and league NWSL Challenge Cup. Must be 2020 or later.\n",
      "2011 invalid for source FBRef and league NWSL Challenge Cup. Must be 2020 or later.\n",
      "2012 NWSL Challenge Cup\n",
      "2012 invalid for source FBRef and league NWSL Challenge Cup. Must be 2020 or later.\n",
      "2012 invalid for source FBRef and league NWSL Challenge Cup. Must be 2020 or later.\n",
      "2013 NWSL Challenge Cup\n",
      "2013 invalid for source FBRef and league NWSL Challenge Cup. Must be 2020 or later.\n",
      "2013 invalid for source FBRef and league NWSL Challenge Cup. Must be 2020 or later.\n",
      "2014 NWSL Challenge Cup\n",
      "2014 invalid for source FBRef and league NWSL Challenge Cup. Must be 2020 or later.\n",
      "2014 invalid for source FBRef and league NWSL Challenge Cup. Must be 2020 or later.\n",
      "2015 NWSL Challenge Cup\n",
      "2015 invalid for source FBRef and league NWSL Challenge Cup. Must be 2020 or later.\n",
      "2015 invalid for source FBRef and league NWSL Challenge Cup. Must be 2020 or later.\n",
      "2016 NWSL Challenge Cup\n",
      "2016 invalid for source FBRef and league NWSL Challenge Cup. Must be 2020 or later.\n",
      "2016 invalid for source FBRef and league NWSL Challenge Cup. Must be 2020 or later.\n",
      "2017 NWSL Challenge Cup\n",
      "2017 invalid for source FBRef and league NWSL Challenge Cup. Must be 2020 or later.\n",
      "2017 invalid for source FBRef and league NWSL Challenge Cup. Must be 2020 or later.\n",
      "2018 NWSL Challenge Cup\n",
      "2018 invalid for source FBRef and league NWSL Challenge Cup. Must be 2020 or later.\n",
      "2018 invalid for source FBRef and league NWSL Challenge Cup. Must be 2020 or later.\n",
      "2019 NWSL Challenge Cup\n",
      "2019 invalid for source FBRef and league NWSL Challenge Cup. Must be 2020 or later.\n",
      "2019 invalid for source FBRef and league NWSL Challenge Cup. Must be 2020 or later.\n",
      "2020 NWSL Challenge Cup\n",
      "Gathering match links.\n"
     ]
    },
    {
     "name": "stderr",
     "output_type": "stream",
     "text": [
      " 97%|█████████▋| 1076/1115 [2:55:54<00:36,  1.07it/s]"
     ]
    },
    {
     "name": "stdout",
     "output_type": "stream",
     "text": [
      "2021 NWSL Challenge Cup\n",
      "Gathering match links.\n"
     ]
    },
    {
     "name": "stderr",
     "output_type": "stream",
     "text": [
      " 97%|█████████▋| 1077/1115 [2:56:10<00:48,  1.28s/it]"
     ]
    },
    {
     "name": "stdout",
     "output_type": "stream",
     "text": [
      "2022 NWSL Challenge Cup\n",
      "Gathering match links.\n"
     ]
    },
    {
     "name": "stderr",
     "output_type": "stream",
     "text": [
      " 97%|█████████▋| 1078/1115 [2:56:28<01:05,  1.77s/it]"
     ]
    },
    {
     "name": "stdout",
     "output_type": "stream",
     "text": [
      "2023 NWSL Challenge Cup\n",
      "Gathering match links.\n"
     ]
    },
    {
     "name": "stderr",
     "output_type": "stream",
     "text": [
      " 97%|█████████▋| 1079/1115 [2:56:38<01:16,  2.12s/it]"
     ]
    },
    {
     "name": "stdout",
     "output_type": "stream",
     "text": [
      "No NWSL Challenge Cup 2023 season is available on FBRef.\n",
      "1988 NWSL Fall Series\n",
      "1988 invalid for source FBRef and league NWSL Fall Series. Must be 2020 or later.\n",
      "1988 invalid for source FBRef and league NWSL Fall Series. Must be 2020 or later.\n",
      "1989 NWSL Fall Series\n",
      "1989 invalid for source FBRef and league NWSL Fall Series. Must be 2020 or later.\n",
      "1989 invalid for source FBRef and league NWSL Fall Series. Must be 2020 or later.\n",
      "1990 NWSL Fall Series\n",
      "1990 invalid for source FBRef and league NWSL Fall Series. Must be 2020 or later.\n",
      "1990 invalid for source FBRef and league NWSL Fall Series. Must be 2020 or later.\n",
      "1991 NWSL Fall Series\n",
      "1991 invalid for source FBRef and league NWSL Fall Series. Must be 2020 or later.\n",
      "1991 invalid for source FBRef and league NWSL Fall Series. Must be 2020 or later.\n",
      "1992 NWSL Fall Series\n",
      "1992 invalid for source FBRef and league NWSL Fall Series. Must be 2020 or later.\n",
      "1992 invalid for source FBRef and league NWSL Fall Series. Must be 2020 or later.\n",
      "1993 NWSL Fall Series\n",
      "1993 invalid for source FBRef and league NWSL Fall Series. Must be 2020 or later.\n",
      "1993 invalid for source FBRef and league NWSL Fall Series. Must be 2020 or later.\n",
      "1994 NWSL Fall Series\n",
      "1994 invalid for source FBRef and league NWSL Fall Series. Must be 2020 or later.\n",
      "1994 invalid for source FBRef and league NWSL Fall Series. Must be 2020 or later.\n",
      "1995 NWSL Fall Series\n",
      "1995 invalid for source FBRef and league NWSL Fall Series. Must be 2020 or later.\n",
      "1995 invalid for source FBRef and league NWSL Fall Series. Must be 2020 or later.\n",
      "1996 NWSL Fall Series\n",
      "1996 invalid for source FBRef and league NWSL Fall Series. Must be 2020 or later.\n",
      "1996 invalid for source FBRef and league NWSL Fall Series. Must be 2020 or later.\n",
      "1997 NWSL Fall Series\n",
      "1997 invalid for source FBRef and league NWSL Fall Series. Must be 2020 or later.\n",
      "1997 invalid for source FBRef and league NWSL Fall Series. Must be 2020 or later.\n",
      "1998 NWSL Fall Series\n",
      "1998 invalid for source FBRef and league NWSL Fall Series. Must be 2020 or later.\n",
      "1998 invalid for source FBRef and league NWSL Fall Series. Must be 2020 or later.\n",
      "1999 NWSL Fall Series\n",
      "1999 invalid for source FBRef and league NWSL Fall Series. Must be 2020 or later.\n",
      "1999 invalid for source FBRef and league NWSL Fall Series. Must be 2020 or later.\n",
      "2000 NWSL Fall Series\n",
      "2000 invalid for source FBRef and league NWSL Fall Series. Must be 2020 or later.\n",
      "2000 invalid for source FBRef and league NWSL Fall Series. Must be 2020 or later.\n",
      "2001 NWSL Fall Series\n",
      "2001 invalid for source FBRef and league NWSL Fall Series. Must be 2020 or later.\n",
      "2001 invalid for source FBRef and league NWSL Fall Series. Must be 2020 or later.\n",
      "2002 NWSL Fall Series\n",
      "2002 invalid for source FBRef and league NWSL Fall Series. Must be 2020 or later.\n",
      "2002 invalid for source FBRef and league NWSL Fall Series. Must be 2020 or later.\n",
      "2003 NWSL Fall Series\n",
      "2003 invalid for source FBRef and league NWSL Fall Series. Must be 2020 or later.\n",
      "2003 invalid for source FBRef and league NWSL Fall Series. Must be 2020 or later.\n",
      "2004 NWSL Fall Series\n",
      "2004 invalid for source FBRef and league NWSL Fall Series. Must be 2020 or later.\n",
      "2004 invalid for source FBRef and league NWSL Fall Series. Must be 2020 or later.\n",
      "2005 NWSL Fall Series\n",
      "2005 invalid for source FBRef and league NWSL Fall Series. Must be 2020 or later.\n",
      "2005 invalid for source FBRef and league NWSL Fall Series. Must be 2020 or later.\n",
      "2006 NWSL Fall Series\n",
      "2006 invalid for source FBRef and league NWSL Fall Series. Must be 2020 or later.\n",
      "2006 invalid for source FBRef and league NWSL Fall Series. Must be 2020 or later.\n",
      "2007 NWSL Fall Series\n",
      "2007 invalid for source FBRef and league NWSL Fall Series. Must be 2020 or later.\n",
      "2007 invalid for source FBRef and league NWSL Fall Series. Must be 2020 or later.\n",
      "2008 NWSL Fall Series\n",
      "2008 invalid for source FBRef and league NWSL Fall Series. Must be 2020 or later.\n",
      "2008 invalid for source FBRef and league NWSL Fall Series. Must be 2020 or later.\n",
      "2009 NWSL Fall Series\n",
      "2009 invalid for source FBRef and league NWSL Fall Series. Must be 2020 or later.\n",
      "2009 invalid for source FBRef and league NWSL Fall Series. Must be 2020 or later.\n",
      "2010 NWSL Fall Series\n",
      "2010 invalid for source FBRef and league NWSL Fall Series. Must be 2020 or later.\n",
      "2010 invalid for source FBRef and league NWSL Fall Series. Must be 2020 or later.\n",
      "2011 NWSL Fall Series\n",
      "2011 invalid for source FBRef and league NWSL Fall Series. Must be 2020 or later.\n",
      "2011 invalid for source FBRef and league NWSL Fall Series. Must be 2020 or later.\n",
      "2012 NWSL Fall Series\n",
      "2012 invalid for source FBRef and league NWSL Fall Series. Must be 2020 or later.\n",
      "2012 invalid for source FBRef and league NWSL Fall Series. Must be 2020 or later.\n",
      "2013 NWSL Fall Series\n",
      "2013 invalid for source FBRef and league NWSL Fall Series. Must be 2020 or later.\n",
      "2013 invalid for source FBRef and league NWSL Fall Series. Must be 2020 or later.\n",
      "2014 NWSL Fall Series\n",
      "2014 invalid for source FBRef and league NWSL Fall Series. Must be 2020 or later.\n",
      "2014 invalid for source FBRef and league NWSL Fall Series. Must be 2020 or later.\n",
      "2015 NWSL Fall Series\n",
      "2015 invalid for source FBRef and league NWSL Fall Series. Must be 2020 or later.\n",
      "2015 invalid for source FBRef and league NWSL Fall Series. Must be 2020 or later.\n",
      "2016 NWSL Fall Series\n",
      "2016 invalid for source FBRef and league NWSL Fall Series. Must be 2020 or later.\n",
      "2016 invalid for source FBRef and league NWSL Fall Series. Must be 2020 or later.\n",
      "2017 NWSL Fall Series\n",
      "2017 invalid for source FBRef and league NWSL Fall Series. Must be 2020 or later.\n",
      "2017 invalid for source FBRef and league NWSL Fall Series. Must be 2020 or later.\n",
      "2018 NWSL Fall Series\n",
      "2018 invalid for source FBRef and league NWSL Fall Series. Must be 2020 or later.\n",
      "2018 invalid for source FBRef and league NWSL Fall Series. Must be 2020 or later.\n",
      "2019 NWSL Fall Series\n",
      "2019 invalid for source FBRef and league NWSL Fall Series. Must be 2020 or later.\n",
      "2019 invalid for source FBRef and league NWSL Fall Series. Must be 2020 or later.\n",
      "2020 NWSL Fall Series\n",
      "Gathering match links.\n"
     ]
    },
    {
     "name": "stderr",
     "output_type": "stream",
     "text": [
      "100%|█████████▉| 1112/1115 [2:56:55<00:03,  1.05s/it]"
     ]
    },
    {
     "name": "stdout",
     "output_type": "stream",
     "text": [
      "2021 NWSL Fall Series\n",
      "Gathering match links.\n"
     ]
    },
    {
     "name": "stderr",
     "output_type": "stream",
     "text": [
      "100%|█████████▉| 1113/1115 [2:57:05<00:02,  1.31s/it]"
     ]
    },
    {
     "name": "stdout",
     "output_type": "stream",
     "text": [
      "No NWSL Fall Series 2021 season is available on FBRef.\n",
      "2022 NWSL Fall Series\n",
      "Gathering match links.\n"
     ]
    },
    {
     "name": "stderr",
     "output_type": "stream",
     "text": [
      "100%|█████████▉| 1114/1115 [2:57:15<00:01,  1.66s/it]"
     ]
    },
    {
     "name": "stdout",
     "output_type": "stream",
     "text": [
      "No NWSL Fall Series 2022 season is available on FBRef.\n",
      "2023 NWSL Fall Series\n",
      "Gathering match links.\n"
     ]
    },
    {
     "name": "stderr",
     "output_type": "stream",
     "text": [
      "100%|██████████| 1115/1115 [2:57:26<00:00,  9.55s/it]"
     ]
    },
    {
     "name": "stdout",
     "output_type": "stream",
     "text": [
      "No NWSL Fall Series 2023 season is available on FBRef.\n",
      "DONE\n"
     ]
    },
    {
     "name": "stderr",
     "output_type": "stream",
     "text": [
      "\n"
     ]
    }
   ],
   "source": [
    "scraper = sfc.FBRef()\n",
    "\n",
    "try:\n",
    "    leagues = sfc.shared_functions.sources[\"FBRef\"].keys()\n",
    "    years = range(1988, 2024)\n",
    "    iterator = list(itertools.product(leagues, years))\n",
    "    iterator.remove((\"MLS\",2023)) # does not exist\n",
    "\n",
    "    for (league, year) in tqdm(iterator):\n",
    "        year = int(year) # year became a string during random sampling?\n",
    "        league = str(league) # league also became a weird type of numpy string?\n",
    "        print(year, league)\n",
    "\n",
    "        err, valid = sfc.shared_functions.check_season(year, league, \"FBRef\")\n",
    "\n",
    "        season_link = scraper.get_season_link(year, league)\n",
    "        if valid:\n",
    "            if type(season_link) is int:\n",
    "                assert season_link == -1\n",
    "            elif type(season_link) is str:\n",
    "                assert \"https://fbref.com/en/comps\" in season_link\n",
    "        else:\n",
    "            assert season_link is None\n",
    "\n",
    "        match_links = scraper.get_match_links(year, league)\n",
    "        if valid:\n",
    "            if season_link == -1:\n",
    "                assert match_links is None\n",
    "            elif type(match_links) is list:\n",
    "                assert len(match_links) > 0\n",
    "            else:\n",
    "                assert match_links is None\n",
    "        else:\n",
    "            assert match_links is None\n",
    "\n",
    "    print(\"DONE\")\n",
    "except:\n",
    "    traceback.print_exc()\n",
    "finally:\n",
    "    scraper.close()"
   ]
  },
  {
   "cell_type": "code",
   "execution_count": 3,
   "id": "4a197f0e",
   "metadata": {},
   "outputs": [],
   "source": [
    "match_links"
   ]
  }
 ],
 "metadata": {
  "kernelspec": {
   "display_name": "Python 3.8.13 64-bit ('anaconda3')",
   "language": "python",
   "name": "python3"
  },
  "language_info": {
   "codemirror_mode": {
    "name": "ipython",
    "version": 3
   },
   "file_extension": ".py",
   "mimetype": "text/x-python",
   "name": "python",
   "nbconvert_exporter": "python",
   "pygments_lexer": "ipython3",
   "version": "3.8.13"
  },
  "vscode": {
   "interpreter": {
    "hash": "585a938ec471c889bf0cce0aed741a99eaf47ca09c0fa8393793bc5bfe77ba11"
   }
  }
 },
 "nbformat": 4,
 "nbformat_minor": 5
}
